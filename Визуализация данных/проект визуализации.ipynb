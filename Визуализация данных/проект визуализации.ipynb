{
 "cells": [
  {
   "cell_type": "markdown",
   "metadata": {},
   "source": [
    "## Вступление"
   ]
  },
  {
   "cell_type": "markdown",
   "metadata": {},
   "source": [
    "Заказчик: Фонд \"Shut Up and Take My Money\"\n",
    "\n",
    "Предистория: Инвесторы из фонда Shut Up and Take My Money хотят открыть заведение общепита в Москве, но не опредилились с типом заведения, местоположением, меню и ценами.\n",
    "\n",
    "Задача: Подготовить исследование рынка Москвы, найти интересные особенности и рассказать о них в презентации."
   ]
  },
  {
   "cell_type": "markdown",
   "metadata": {},
   "source": [
    "## Изучение данных"
   ]
  },
  {
   "cell_type": "code",
   "execution_count": 1,
   "metadata": {},
   "outputs": [],
   "source": [
    "#Импортируем библиотеки\n",
    "import pandas as pd\n",
    "import scipy.stats as stats\n",
    "import datetime as dt\n",
    "import numpy as np\n",
    "import matplotlib.pyplot as plt\n",
    "import datetime as dt\n",
    "import numpy as np\n",
    "import seaborn as sns\n",
    "import math as mth\n",
    "from scipy import stats as st\n",
    "import plotly\n",
    "from plotly import graph_objects as go\n",
    "import folium\n",
    "from folium import Marker, Map, Choropleth\n",
    "from folium.plugins import MarkerCluster\n",
    "import json"
   ]
  },
  {
   "cell_type": "code",
   "execution_count": 2,
   "metadata": {},
   "outputs": [],
   "source": [
    "#Задаем параметры\n",
    "pd.set_option('display.max_colwidth', None)\n",
    "pd.set_option('display.max_columns', None)\n",
    "pd.options.display.float_format = '{:,.2f}'.format"
   ]
  },
  {
   "cell_type": "code",
   "execution_count": 3,
   "metadata": {},
   "outputs": [
    {
     "name": "stdout",
     "output_type": "stream",
     "text": [
      "<class 'pandas.core.frame.DataFrame'>\n",
      "RangeIndex: 8406 entries, 0 to 8405\n",
      "Data columns (total 14 columns):\n",
      " #   Column             Non-Null Count  Dtype  \n",
      "---  ------             --------------  -----  \n",
      " 0   name               8406 non-null   object \n",
      " 1   category           8406 non-null   object \n",
      " 2   address            8406 non-null   object \n",
      " 3   district           8406 non-null   object \n",
      " 4   hours              7870 non-null   object \n",
      " 5   lat                8406 non-null   float64\n",
      " 6   lng                8406 non-null   float64\n",
      " 7   rating             8406 non-null   float64\n",
      " 8   price              3315 non-null   object \n",
      " 9   avg_bill           3816 non-null   object \n",
      " 10  middle_avg_bill    3149 non-null   float64\n",
      " 11  middle_coffee_cup  535 non-null    float64\n",
      " 12  chain              8406 non-null   int64  \n",
      " 13  seats              4795 non-null   float64\n",
      "dtypes: float64(6), int64(1), object(7)\n",
      "memory usage: 919.5+ KB\n"
     ]
    }
   ],
   "source": [
    "#Открываем и изучаем датасет\n",
    "data = pd.read_csv('/datasets/moscow_places.csv')\n",
    "data.info()"
   ]
  },
  {
   "cell_type": "code",
   "execution_count": 4,
   "metadata": {},
   "outputs": [
    {
     "data": {
      "text/html": [
       "<div>\n",
       "<style scoped>\n",
       "    .dataframe tbody tr th:only-of-type {\n",
       "        vertical-align: middle;\n",
       "    }\n",
       "\n",
       "    .dataframe tbody tr th {\n",
       "        vertical-align: top;\n",
       "    }\n",
       "\n",
       "    .dataframe thead th {\n",
       "        text-align: right;\n",
       "    }\n",
       "</style>\n",
       "<table border=\"1\" class=\"dataframe\">\n",
       "  <thead>\n",
       "    <tr style=\"text-align: right;\">\n",
       "      <th></th>\n",
       "      <th>name</th>\n",
       "      <th>category</th>\n",
       "      <th>address</th>\n",
       "      <th>district</th>\n",
       "      <th>hours</th>\n",
       "      <th>lat</th>\n",
       "      <th>lng</th>\n",
       "      <th>rating</th>\n",
       "      <th>price</th>\n",
       "      <th>avg_bill</th>\n",
       "      <th>middle_avg_bill</th>\n",
       "      <th>middle_coffee_cup</th>\n",
       "      <th>chain</th>\n",
       "      <th>seats</th>\n",
       "    </tr>\n",
       "  </thead>\n",
       "  <tbody>\n",
       "    <tr>\n",
       "      <th>0</th>\n",
       "      <td>WoWфли</td>\n",
       "      <td>кафе</td>\n",
       "      <td>Москва, улица Дыбенко, 7/1</td>\n",
       "      <td>Северный административный округ</td>\n",
       "      <td>ежедневно, 10:00–22:00</td>\n",
       "      <td>55.88</td>\n",
       "      <td>37.48</td>\n",
       "      <td>5.00</td>\n",
       "      <td>NaN</td>\n",
       "      <td>NaN</td>\n",
       "      <td>NaN</td>\n",
       "      <td>NaN</td>\n",
       "      <td>0</td>\n",
       "      <td>NaN</td>\n",
       "    </tr>\n",
       "    <tr>\n",
       "      <th>1</th>\n",
       "      <td>Четыре комнаты</td>\n",
       "      <td>ресторан</td>\n",
       "      <td>Москва, улица Дыбенко, 36, корп. 1</td>\n",
       "      <td>Северный административный округ</td>\n",
       "      <td>ежедневно, 10:00–22:00</td>\n",
       "      <td>55.88</td>\n",
       "      <td>37.48</td>\n",
       "      <td>4.50</td>\n",
       "      <td>выше среднего</td>\n",
       "      <td>Средний счёт:1500–1600 ₽</td>\n",
       "      <td>1,550.00</td>\n",
       "      <td>NaN</td>\n",
       "      <td>0</td>\n",
       "      <td>4.00</td>\n",
       "    </tr>\n",
       "    <tr>\n",
       "      <th>2</th>\n",
       "      <td>Хазри</td>\n",
       "      <td>кафе</td>\n",
       "      <td>Москва, Клязьминская улица, 15</td>\n",
       "      <td>Северный административный округ</td>\n",
       "      <td>пн-чт 11:00–02:00; пт,сб 11:00–05:00; вс 11:00–02:00</td>\n",
       "      <td>55.89</td>\n",
       "      <td>37.53</td>\n",
       "      <td>4.60</td>\n",
       "      <td>средние</td>\n",
       "      <td>Средний счёт:от 1000 ₽</td>\n",
       "      <td>1,000.00</td>\n",
       "      <td>NaN</td>\n",
       "      <td>0</td>\n",
       "      <td>45.00</td>\n",
       "    </tr>\n",
       "    <tr>\n",
       "      <th>3</th>\n",
       "      <td>Dormouse Coffee Shop</td>\n",
       "      <td>кофейня</td>\n",
       "      <td>Москва, улица Маршала Федоренко, 12</td>\n",
       "      <td>Северный административный округ</td>\n",
       "      <td>ежедневно, 09:00–22:00</td>\n",
       "      <td>55.88</td>\n",
       "      <td>37.49</td>\n",
       "      <td>5.00</td>\n",
       "      <td>NaN</td>\n",
       "      <td>Цена чашки капучино:155–185 ₽</td>\n",
       "      <td>NaN</td>\n",
       "      <td>170.00</td>\n",
       "      <td>0</td>\n",
       "      <td>NaN</td>\n",
       "    </tr>\n",
       "    <tr>\n",
       "      <th>4</th>\n",
       "      <td>Иль Марко</td>\n",
       "      <td>пиццерия</td>\n",
       "      <td>Москва, Правобережная улица, 1Б</td>\n",
       "      <td>Северный административный округ</td>\n",
       "      <td>ежедневно, 10:00–22:00</td>\n",
       "      <td>55.88</td>\n",
       "      <td>37.45</td>\n",
       "      <td>5.00</td>\n",
       "      <td>средние</td>\n",
       "      <td>Средний счёт:400–600 ₽</td>\n",
       "      <td>500.00</td>\n",
       "      <td>NaN</td>\n",
       "      <td>1</td>\n",
       "      <td>148.00</td>\n",
       "    </tr>\n",
       "  </tbody>\n",
       "</table>\n",
       "</div>"
      ],
      "text/plain": [
       "                   name  category                              address  \\\n",
       "0                WoWфли      кафе           Москва, улица Дыбенко, 7/1   \n",
       "1        Четыре комнаты  ресторан   Москва, улица Дыбенко, 36, корп. 1   \n",
       "2                 Хазри      кафе       Москва, Клязьминская улица, 15   \n",
       "3  Dormouse Coffee Shop   кофейня  Москва, улица Маршала Федоренко, 12   \n",
       "4             Иль Марко  пиццерия      Москва, Правобережная улица, 1Б   \n",
       "\n",
       "                          district  \\\n",
       "0  Северный административный округ   \n",
       "1  Северный административный округ   \n",
       "2  Северный административный округ   \n",
       "3  Северный административный округ   \n",
       "4  Северный административный округ   \n",
       "\n",
       "                                                  hours   lat   lng  rating  \\\n",
       "0                                ежедневно, 10:00–22:00 55.88 37.48    5.00   \n",
       "1                                ежедневно, 10:00–22:00 55.88 37.48    4.50   \n",
       "2  пн-чт 11:00–02:00; пт,сб 11:00–05:00; вс 11:00–02:00 55.89 37.53    4.60   \n",
       "3                                ежедневно, 09:00–22:00 55.88 37.49    5.00   \n",
       "4                                ежедневно, 10:00–22:00 55.88 37.45    5.00   \n",
       "\n",
       "           price                       avg_bill  middle_avg_bill  \\\n",
       "0            NaN                            NaN              NaN   \n",
       "1  выше среднего       Средний счёт:1500–1600 ₽         1,550.00   \n",
       "2        средние         Средний счёт:от 1000 ₽         1,000.00   \n",
       "3            NaN  Цена чашки капучино:155–185 ₽              NaN   \n",
       "4        средние         Средний счёт:400–600 ₽           500.00   \n",
       "\n",
       "   middle_coffee_cup  chain  seats  \n",
       "0                NaN      0    NaN  \n",
       "1                NaN      0   4.00  \n",
       "2                NaN      0  45.00  \n",
       "3             170.00      0    NaN  \n",
       "4                NaN      1 148.00  "
      ]
     },
     "metadata": {},
     "output_type": "display_data"
    }
   ],
   "source": [
    "display(data.head())"
   ]
  },
  {
   "cell_type": "markdown",
   "metadata": {},
   "source": [
    "Сразу можно увидеть пропуски в столбцах price, avg_bill и.т.п. которые мы заполнить не сможем, т.к. они могут исказить данные для исследования"
   ]
  },
  {
   "cell_type": "markdown",
   "metadata": {},
   "source": [
    "## Предобработка данных"
   ]
  },
  {
   "cell_type": "code",
   "execution_count": 5,
   "metadata": {},
   "outputs": [
    {
     "data": {
      "text/plain": [
       "name                    0\n",
       "category                0\n",
       "address                 0\n",
       "district                0\n",
       "hours                 536\n",
       "lat                     0\n",
       "lng                     0\n",
       "rating                  0\n",
       "price                5091\n",
       "avg_bill             4590\n",
       "middle_avg_bill      5257\n",
       "middle_coffee_cup    7871\n",
       "chain                   0\n",
       "seats                3611\n",
       "dtype: int64"
      ]
     },
     "execution_count": 5,
     "metadata": {},
     "output_type": "execute_result"
    }
   ],
   "source": [
    "data.isna().sum()"
   ]
  },
  {
   "cell_type": "code",
   "execution_count": 6,
   "metadata": {},
   "outputs": [
    {
     "data": {
      "text/plain": [
       "0"
      ]
     },
     "execution_count": 6,
     "metadata": {},
     "output_type": "execute_result"
    }
   ],
   "source": [
    "#проверяем дупликаты во всех строках\n",
    "data.duplicated().sum()"
   ]
  },
  {
   "cell_type": "code",
   "execution_count": 7,
   "metadata": {},
   "outputs": [
    {
     "data": {
      "text/plain": [
       "2792"
      ]
     },
     "execution_count": 7,
     "metadata": {},
     "output_type": "execute_result"
    }
   ],
   "source": [
    "#проверяем дубликаты в названиях заведений\n",
    "data['name'].duplicated().sum()"
   ]
  },
  {
   "cell_type": "code",
   "execution_count": 8,
   "metadata": {},
   "outputs": [
    {
     "data": {
      "text/plain": [
       "2894"
      ]
     },
     "execution_count": 8,
     "metadata": {},
     "output_type": "execute_result"
    }
   ],
   "source": [
    "#предполагаю что у нас есть одно и то же заведение, но записано по разному, поэтому приведём всё в нижний регистр\n",
    "data['name'] = data['name'].str.lower()\n",
    "data['name'] = data['name'].str.strip()\n",
    "data['name'].duplicated().sum()"
   ]
  },
  {
   "cell_type": "code",
   "execution_count": 9,
   "metadata": {},
   "outputs": [
    {
     "data": {
      "text/plain": [
       "5512"
      ]
     },
     "execution_count": 9,
     "metadata": {},
     "output_type": "execute_result"
    }
   ],
   "source": [
    "len(data['name'].unique())"
   ]
  },
  {
   "cell_type": "code",
   "execution_count": 10,
   "metadata": {},
   "outputs": [
    {
     "data": {
      "text/plain": [
       "3"
      ]
     },
     "execution_count": 10,
     "metadata": {},
     "output_type": "execute_result"
    }
   ],
   "source": [
    "data[['name', 'address']].duplicated().sum()"
   ]
  },
  {
   "cell_type": "code",
   "execution_count": 11,
   "metadata": {},
   "outputs": [
    {
     "data": {
      "text/html": [
       "<div>\n",
       "<style scoped>\n",
       "    .dataframe tbody tr th:only-of-type {\n",
       "        vertical-align: middle;\n",
       "    }\n",
       "\n",
       "    .dataframe tbody tr th {\n",
       "        vertical-align: top;\n",
       "    }\n",
       "\n",
       "    .dataframe thead th {\n",
       "        text-align: right;\n",
       "    }\n",
       "</style>\n",
       "<table border=\"1\" class=\"dataframe\">\n",
       "  <thead>\n",
       "    <tr style=\"text-align: right;\">\n",
       "      <th></th>\n",
       "      <th>name</th>\n",
       "      <th>category</th>\n",
       "      <th>address</th>\n",
       "      <th>district</th>\n",
       "      <th>hours</th>\n",
       "      <th>lat</th>\n",
       "      <th>lng</th>\n",
       "      <th>rating</th>\n",
       "      <th>price</th>\n",
       "      <th>avg_bill</th>\n",
       "      <th>middle_avg_bill</th>\n",
       "      <th>middle_coffee_cup</th>\n",
       "      <th>chain</th>\n",
       "      <th>seats</th>\n",
       "    </tr>\n",
       "  </thead>\n",
       "  <tbody>\n",
       "    <tr>\n",
       "      <th>1430</th>\n",
       "      <td>more poke</td>\n",
       "      <td>ресторан</td>\n",
       "      <td>Москва, Волоколамское шоссе, 11, стр. 2</td>\n",
       "      <td>Северный административный округ</td>\n",
       "      <td>ежедневно, 09:00–21:00</td>\n",
       "      <td>55.81</td>\n",
       "      <td>37.50</td>\n",
       "      <td>4.20</td>\n",
       "      <td>NaN</td>\n",
       "      <td>NaN</td>\n",
       "      <td>NaN</td>\n",
       "      <td>NaN</td>\n",
       "      <td>0</td>\n",
       "      <td>188.00</td>\n",
       "    </tr>\n",
       "    <tr>\n",
       "      <th>1511</th>\n",
       "      <td>more poke</td>\n",
       "      <td>ресторан</td>\n",
       "      <td>Москва, Волоколамское шоссе, 11, стр. 2</td>\n",
       "      <td>Северный административный округ</td>\n",
       "      <td>пн-чт 09:00–18:00; пт,сб 09:00–21:00; вс 09:00–18:00</td>\n",
       "      <td>55.81</td>\n",
       "      <td>37.50</td>\n",
       "      <td>4.20</td>\n",
       "      <td>NaN</td>\n",
       "      <td>NaN</td>\n",
       "      <td>NaN</td>\n",
       "      <td>NaN</td>\n",
       "      <td>1</td>\n",
       "      <td>188.00</td>\n",
       "    </tr>\n",
       "    <tr>\n",
       "      <th>2211</th>\n",
       "      <td>раковарня клешни и хвосты</td>\n",
       "      <td>ресторан</td>\n",
       "      <td>Москва, проспект Мира, 118</td>\n",
       "      <td>Северо-Восточный административный округ</td>\n",
       "      <td>ежедневно, 12:00–00:00</td>\n",
       "      <td>55.81</td>\n",
       "      <td>37.64</td>\n",
       "      <td>4.40</td>\n",
       "      <td>NaN</td>\n",
       "      <td>NaN</td>\n",
       "      <td>NaN</td>\n",
       "      <td>NaN</td>\n",
       "      <td>0</td>\n",
       "      <td>150.00</td>\n",
       "    </tr>\n",
       "    <tr>\n",
       "      <th>2420</th>\n",
       "      <td>раковарня клешни и хвосты</td>\n",
       "      <td>бар,паб</td>\n",
       "      <td>Москва, проспект Мира, 118</td>\n",
       "      <td>Северо-Восточный административный округ</td>\n",
       "      <td>пн-чт 12:00–00:00; пт,сб 12:00–01:00; вс 12:00–00:00</td>\n",
       "      <td>55.81</td>\n",
       "      <td>37.64</td>\n",
       "      <td>4.40</td>\n",
       "      <td>NaN</td>\n",
       "      <td>NaN</td>\n",
       "      <td>NaN</td>\n",
       "      <td>NaN</td>\n",
       "      <td>1</td>\n",
       "      <td>150.00</td>\n",
       "    </tr>\n",
       "    <tr>\n",
       "      <th>3091</th>\n",
       "      <td>хлеб да выпечка</td>\n",
       "      <td>булочная</td>\n",
       "      <td>Москва, Ярцевская улица, 19</td>\n",
       "      <td>Западный административный округ</td>\n",
       "      <td>ежедневно, 09:00–22:00</td>\n",
       "      <td>55.74</td>\n",
       "      <td>37.41</td>\n",
       "      <td>4.10</td>\n",
       "      <td>NaN</td>\n",
       "      <td>NaN</td>\n",
       "      <td>NaN</td>\n",
       "      <td>NaN</td>\n",
       "      <td>1</td>\n",
       "      <td>276.00</td>\n",
       "    </tr>\n",
       "    <tr>\n",
       "      <th>3109</th>\n",
       "      <td>хлеб да выпечка</td>\n",
       "      <td>кафе</td>\n",
       "      <td>Москва, Ярцевская улица, 19</td>\n",
       "      <td>Западный административный округ</td>\n",
       "      <td>NaN</td>\n",
       "      <td>55.74</td>\n",
       "      <td>37.41</td>\n",
       "      <td>4.10</td>\n",
       "      <td>NaN</td>\n",
       "      <td>NaN</td>\n",
       "      <td>NaN</td>\n",
       "      <td>NaN</td>\n",
       "      <td>0</td>\n",
       "      <td>276.00</td>\n",
       "    </tr>\n",
       "    <tr>\n",
       "      <th>6088</th>\n",
       "      <td>more poke</td>\n",
       "      <td>ресторан</td>\n",
       "      <td>Москва, Духовской переулок, 19</td>\n",
       "      <td>Южный административный округ</td>\n",
       "      <td>ежедневно, 10:00–22:00</td>\n",
       "      <td>55.70</td>\n",
       "      <td>37.61</td>\n",
       "      <td>4.40</td>\n",
       "      <td>NaN</td>\n",
       "      <td>NaN</td>\n",
       "      <td>NaN</td>\n",
       "      <td>NaN</td>\n",
       "      <td>1</td>\n",
       "      <td>NaN</td>\n",
       "    </tr>\n",
       "    <tr>\n",
       "      <th>7270</th>\n",
       "      <td>раковарня клешни и хвосты</td>\n",
       "      <td>бар,паб</td>\n",
       "      <td>Москва, Братиславская улица, 12</td>\n",
       "      <td>Юго-Восточный административный округ</td>\n",
       "      <td>пн-чт 12:00–00:00; пт,сб 12:00–01:00; вс 12:00–00:00</td>\n",
       "      <td>55.66</td>\n",
       "      <td>37.75</td>\n",
       "      <td>4.90</td>\n",
       "      <td>средние</td>\n",
       "      <td>Цена бокала пива:150–250 ₽</td>\n",
       "      <td>NaN</td>\n",
       "      <td>NaN</td>\n",
       "      <td>1</td>\n",
       "      <td>40.00</td>\n",
       "    </tr>\n",
       "    <tr>\n",
       "      <th>7937</th>\n",
       "      <td>хлеб да выпечка</td>\n",
       "      <td>кофейня</td>\n",
       "      <td>Москва, Каширское шоссе, 61Г</td>\n",
       "      <td>Южный административный округ</td>\n",
       "      <td>ежедневно, 09:00–22:00</td>\n",
       "      <td>55.62</td>\n",
       "      <td>37.71</td>\n",
       "      <td>4.50</td>\n",
       "      <td>NaN</td>\n",
       "      <td>NaN</td>\n",
       "      <td>NaN</td>\n",
       "      <td>NaN</td>\n",
       "      <td>1</td>\n",
       "      <td>NaN</td>\n",
       "    </tr>\n",
       "  </tbody>\n",
       "</table>\n",
       "</div>"
      ],
      "text/plain": [
       "                           name  category  \\\n",
       "1430                  more poke  ресторан   \n",
       "1511                  more poke  ресторан   \n",
       "2211  раковарня клешни и хвосты  ресторан   \n",
       "2420  раковарня клешни и хвосты   бар,паб   \n",
       "3091            хлеб да выпечка  булочная   \n",
       "3109            хлеб да выпечка      кафе   \n",
       "6088                  more poke  ресторан   \n",
       "7270  раковарня клешни и хвосты   бар,паб   \n",
       "7937            хлеб да выпечка   кофейня   \n",
       "\n",
       "                                      address  \\\n",
       "1430  Москва, Волоколамское шоссе, 11, стр. 2   \n",
       "1511  Москва, Волоколамское шоссе, 11, стр. 2   \n",
       "2211               Москва, проспект Мира, 118   \n",
       "2420               Москва, проспект Мира, 118   \n",
       "3091              Москва, Ярцевская улица, 19   \n",
       "3109              Москва, Ярцевская улица, 19   \n",
       "6088           Москва, Духовской переулок, 19   \n",
       "7270          Москва, Братиславская улица, 12   \n",
       "7937             Москва, Каширское шоссе, 61Г   \n",
       "\n",
       "                                     district  \\\n",
       "1430          Северный административный округ   \n",
       "1511          Северный административный округ   \n",
       "2211  Северо-Восточный административный округ   \n",
       "2420  Северо-Восточный административный округ   \n",
       "3091          Западный административный округ   \n",
       "3109          Западный административный округ   \n",
       "6088             Южный административный округ   \n",
       "7270     Юго-Восточный административный округ   \n",
       "7937             Южный административный округ   \n",
       "\n",
       "                                                     hours   lat   lng  \\\n",
       "1430                                ежедневно, 09:00–21:00 55.81 37.50   \n",
       "1511  пн-чт 09:00–18:00; пт,сб 09:00–21:00; вс 09:00–18:00 55.81 37.50   \n",
       "2211                                ежедневно, 12:00–00:00 55.81 37.64   \n",
       "2420  пн-чт 12:00–00:00; пт,сб 12:00–01:00; вс 12:00–00:00 55.81 37.64   \n",
       "3091                                ежедневно, 09:00–22:00 55.74 37.41   \n",
       "3109                                                   NaN 55.74 37.41   \n",
       "6088                                ежедневно, 10:00–22:00 55.70 37.61   \n",
       "7270  пн-чт 12:00–00:00; пт,сб 12:00–01:00; вс 12:00–00:00 55.66 37.75   \n",
       "7937                                ежедневно, 09:00–22:00 55.62 37.71   \n",
       "\n",
       "      rating    price                    avg_bill  middle_avg_bill  \\\n",
       "1430    4.20      NaN                         NaN              NaN   \n",
       "1511    4.20      NaN                         NaN              NaN   \n",
       "2211    4.40      NaN                         NaN              NaN   \n",
       "2420    4.40      NaN                         NaN              NaN   \n",
       "3091    4.10      NaN                         NaN              NaN   \n",
       "3109    4.10      NaN                         NaN              NaN   \n",
       "6088    4.40      NaN                         NaN              NaN   \n",
       "7270    4.90  средние  Цена бокала пива:150–250 ₽              NaN   \n",
       "7937    4.50      NaN                         NaN              NaN   \n",
       "\n",
       "      middle_coffee_cup  chain  seats  \n",
       "1430                NaN      0 188.00  \n",
       "1511                NaN      1 188.00  \n",
       "2211                NaN      0 150.00  \n",
       "2420                NaN      1 150.00  \n",
       "3091                NaN      1 276.00  \n",
       "3109                NaN      0 276.00  \n",
       "6088                NaN      1    NaN  \n",
       "7270                NaN      1  40.00  \n",
       "7937                NaN      1    NaN  "
      ]
     },
     "metadata": {},
     "output_type": "display_data"
    },
    {
     "data": {
      "text/plain": [
       "9"
      ]
     },
     "execution_count": 11,
     "metadata": {},
     "output_type": "execute_result"
    }
   ],
   "source": [
    "drows = data[data.duplicated(['name', 'address'])]\n",
    "draws_names = drows['name']\n",
    "drows_new = data.query('name in @draws_names')\n",
    "display(drows_new)\n",
    "len(drows_new)"
   ]
  },
  {
   "cell_type": "markdown",
   "metadata": {},
   "source": [
    "Я так понимаю у нас есть неявные дубликаты в названиях, но мы от них избавились, приведя все названия к нижнему регистру, потому что дубликатов у нас 2894, уникальных значений 5512, в сумме получаем количество наших строк - 8406\n",
    "\n",
    "Дубликатами могут являться те же названия заведений, но находиться они могут в разных местах"
   ]
  },
  {
   "cell_type": "markdown",
   "metadata": {},
   "source": [
    "Дубликаты нашёл, 9 строк. выглядят странно, как ошибка при выгрузке, но что если один из дупликатов это доставка ?"
   ]
  },
  {
   "cell_type": "code",
   "execution_count": 12,
   "metadata": {},
   "outputs": [
    {
     "name": "stdout",
     "output_type": "stream",
     "text": [
      "0               улица Дыбенко\n",
      "1               улица Дыбенко\n",
      "2          Клязьминская улица\n",
      "3     улица Маршала Федоренко\n",
      "4         Правобережная улица\n",
      "Name: street, dtype: object\n"
     ]
    }
   ],
   "source": [
    "#добавляем столбце с названием улицы\n",
    "data['street'] = data['address'].apply(lambda x: x.split(',')[1])\n",
    "print(data['street'].head())"
   ]
  },
  {
   "cell_type": "code",
   "execution_count": 13,
   "metadata": {},
   "outputs": [],
   "source": [
    "#добавляем столбец для отображения круглосуточных и ежедневных заведений\n",
    "data['is_24/7'] = data['hours'] == 'ежедневно, круглосуточно'"
   ]
  },
  {
   "cell_type": "markdown",
   "metadata": {},
   "source": [
    "Предобработка выполнена, добавили нужные столбцы, привели названия к нижнему регистру, с остальными пропусками ничего сделать не сможем, либо проблема с выгрузкой данных, либо заведения не предоставили какую-либо информацию о себе, в том числе ради сохранения конкурентноспособности, в том смысле что заведения не дадут удалённо изучить своё меню и цены, но на мой вгляд такой подход не клиентоориентированный.\n",
    "\n",
    "Как вариант у таких заведений есть собственный сайт на котором вся эта информация имеется и решили не дублировать её."
   ]
  },
  {
   "cell_type": "markdown",
   "metadata": {},
   "source": [
    "## Анализ данных"
   ]
  },
  {
   "cell_type": "code",
   "execution_count": 14,
   "metadata": {},
   "outputs": [
    {
     "name": "stdout",
     "output_type": "stream",
     "text": [
      "<class 'pandas.core.frame.DataFrame'>\n",
      "RangeIndex: 8406 entries, 0 to 8405\n",
      "Data columns (total 16 columns):\n",
      " #   Column             Non-Null Count  Dtype  \n",
      "---  ------             --------------  -----  \n",
      " 0   name               8406 non-null   object \n",
      " 1   category           8406 non-null   object \n",
      " 2   address            8406 non-null   object \n",
      " 3   district           8406 non-null   object \n",
      " 4   hours              7870 non-null   object \n",
      " 5   lat                8406 non-null   float64\n",
      " 6   lng                8406 non-null   float64\n",
      " 7   rating             8406 non-null   float64\n",
      " 8   price              3315 non-null   object \n",
      " 9   avg_bill           3816 non-null   object \n",
      " 10  middle_avg_bill    3149 non-null   float64\n",
      " 11  middle_coffee_cup  535 non-null    float64\n",
      " 12  chain              8406 non-null   int64  \n",
      " 13  seats              4795 non-null   float64\n",
      " 14  street             8406 non-null   object \n",
      " 15  is_24/7            8406 non-null   bool   \n",
      "dtypes: bool(1), float64(6), int64(1), object(8)\n",
      "memory usage: 993.4+ KB\n"
     ]
    }
   ],
   "source": [
    "data.info()"
   ]
  },
  {
   "cell_type": "code",
   "execution_count": 15,
   "metadata": {},
   "outputs": [
    {
     "data": {
      "text/html": [
       "<div>\n",
       "<style scoped>\n",
       "    .dataframe tbody tr th:only-of-type {\n",
       "        vertical-align: middle;\n",
       "    }\n",
       "\n",
       "    .dataframe tbody tr th {\n",
       "        vertical-align: top;\n",
       "    }\n",
       "\n",
       "    .dataframe thead th {\n",
       "        text-align: right;\n",
       "    }\n",
       "</style>\n",
       "<table border=\"1\" class=\"dataframe\">\n",
       "  <thead>\n",
       "    <tr style=\"text-align: right;\">\n",
       "      <th></th>\n",
       "      <th>category</th>\n",
       "      <th>count</th>\n",
       "      <th>percent</th>\n",
       "    </tr>\n",
       "  </thead>\n",
       "  <tbody>\n",
       "    <tr>\n",
       "      <th>3</th>\n",
       "      <td>кафе</td>\n",
       "      <td>2378</td>\n",
       "      <td>28.29</td>\n",
       "    </tr>\n",
       "    <tr>\n",
       "      <th>6</th>\n",
       "      <td>ресторан</td>\n",
       "      <td>2043</td>\n",
       "      <td>24.30</td>\n",
       "    </tr>\n",
       "    <tr>\n",
       "      <th>4</th>\n",
       "      <td>кофейня</td>\n",
       "      <td>1413</td>\n",
       "      <td>16.81</td>\n",
       "    </tr>\n",
       "    <tr>\n",
       "      <th>0</th>\n",
       "      <td>бар,паб</td>\n",
       "      <td>765</td>\n",
       "      <td>9.10</td>\n",
       "    </tr>\n",
       "    <tr>\n",
       "      <th>5</th>\n",
       "      <td>пиццерия</td>\n",
       "      <td>633</td>\n",
       "      <td>7.53</td>\n",
       "    </tr>\n",
       "    <tr>\n",
       "      <th>2</th>\n",
       "      <td>быстрое питание</td>\n",
       "      <td>603</td>\n",
       "      <td>7.17</td>\n",
       "    </tr>\n",
       "    <tr>\n",
       "      <th>7</th>\n",
       "      <td>столовая</td>\n",
       "      <td>315</td>\n",
       "      <td>3.75</td>\n",
       "    </tr>\n",
       "    <tr>\n",
       "      <th>1</th>\n",
       "      <td>булочная</td>\n",
       "      <td>256</td>\n",
       "      <td>3.05</td>\n",
       "    </tr>\n",
       "  </tbody>\n",
       "</table>\n",
       "</div>"
      ],
      "text/plain": [
       "          category  count  percent\n",
       "3             кафе   2378    28.29\n",
       "6         ресторан   2043    24.30\n",
       "4          кофейня   1413    16.81\n",
       "0          бар,паб    765     9.10\n",
       "5         пиццерия    633     7.53\n",
       "2  быстрое питание    603     7.17\n",
       "7         столовая    315     3.75\n",
       "1         булочная    256     3.05"
      ]
     },
     "metadata": {},
     "output_type": "display_data"
    }
   ],
   "source": [
    "data_by_category = (data.groupby('category').agg(count=('name', 'count')).reset_index().sort_values('count', ascending=False))\n",
    "data_by_category['percent'] = data_by_category['count'] / sum(data_by_category['count']) * 100\n",
    "display(data_by_category)"
   ]
  },
  {
   "cell_type": "code",
   "execution_count": 16,
   "metadata": {},
   "outputs": [
    {
     "data": {
      "image/png": "[encoded data removed]",
      "text/plain": [
       "<Figure size 1008x576 with 1 Axes>"
      ]
     },
     "metadata": {
      "needs_background": "light"
     },
     "output_type": "display_data"
    }
   ],
   "source": [
    "plt.figure(figsize=(14, 8))\n",
    "ax = sns.barplot(x='count', y='category',\n",
    "                data=data_by_category)\n",
    "ax.set_title('Соотношение категорий объектов питания')\n",
    "ax.set_xlabel('Количество')\n",
    "ax.set_ylabel('')\n",
    "plt.show()"
   ]
  },
  {
   "cell_type": "markdown",
   "metadata": {},
   "source": [
    "Всего в датасете 8406 заведений и по количеству расположились в таком порядке, на первом месте кафе, далее идут рестораны и кофейни"
   ]
  },
  {
   "cell_type": "code",
   "execution_count": 17,
   "metadata": {},
   "outputs": [
    {
     "data": {
      "text/html": [
       "<div>\n",
       "<style scoped>\n",
       "    .dataframe tbody tr th:only-of-type {\n",
       "        vertical-align: middle;\n",
       "    }\n",
       "\n",
       "    .dataframe tbody tr th {\n",
       "        vertical-align: top;\n",
       "    }\n",
       "\n",
       "    .dataframe thead th {\n",
       "        text-align: right;\n",
       "    }\n",
       "</style>\n",
       "<table border=\"1\" class=\"dataframe\">\n",
       "  <thead>\n",
       "    <tr style=\"text-align: right;\">\n",
       "      <th></th>\n",
       "      <th>category</th>\n",
       "      <th>median</th>\n",
       "    </tr>\n",
       "  </thead>\n",
       "  <tbody>\n",
       "    <tr>\n",
       "      <th>6</th>\n",
       "      <td>ресторан</td>\n",
       "      <td>86.00</td>\n",
       "    </tr>\n",
       "    <tr>\n",
       "      <th>0</th>\n",
       "      <td>бар,паб</td>\n",
       "      <td>82.50</td>\n",
       "    </tr>\n",
       "    <tr>\n",
       "      <th>4</th>\n",
       "      <td>кофейня</td>\n",
       "      <td>80.00</td>\n",
       "    </tr>\n",
       "    <tr>\n",
       "      <th>7</th>\n",
       "      <td>столовая</td>\n",
       "      <td>75.50</td>\n",
       "    </tr>\n",
       "    <tr>\n",
       "      <th>2</th>\n",
       "      <td>быстрое питание</td>\n",
       "      <td>65.00</td>\n",
       "    </tr>\n",
       "    <tr>\n",
       "      <th>3</th>\n",
       "      <td>кафе</td>\n",
       "      <td>60.00</td>\n",
       "    </tr>\n",
       "    <tr>\n",
       "      <th>5</th>\n",
       "      <td>пиццерия</td>\n",
       "      <td>55.00</td>\n",
       "    </tr>\n",
       "    <tr>\n",
       "      <th>1</th>\n",
       "      <td>булочная</td>\n",
       "      <td>50.00</td>\n",
       "    </tr>\n",
       "  </tbody>\n",
       "</table>\n",
       "</div>"
      ],
      "text/plain": [
       "          category  median\n",
       "6         ресторан   86.00\n",
       "0          бар,паб   82.50\n",
       "4          кофейня   80.00\n",
       "7         столовая   75.50\n",
       "2  быстрое питание   65.00\n",
       "3             кафе   60.00\n",
       "5         пиццерия   55.00\n",
       "1         булочная   50.00"
      ]
     },
     "metadata": {},
     "output_type": "display_data"
    }
   ],
   "source": [
    "data_by_seats = (data.groupby('category').agg(median=('seats', 'median')).reset_index().sort_values('median', ascending=False))\n",
    "display(data_by_seats)"
   ]
  },
  {
   "cell_type": "code",
   "execution_count": 18,
   "metadata": {},
   "outputs": [
    {
     "data": {
      "image/png": "[encoded data removed]",
      "text/plain": [
       "<Figure size 1008x576 with 1 Axes>"
      ]
     },
     "metadata": {
      "needs_background": "light"
     },
     "output_type": "display_data"
    }
   ],
   "source": [
    "plt.figure(figsize=(14, 8))\n",
    "ax = sns.barplot(x='median', y='category',\n",
    "                data=data_by_seats)\n",
    "ax.set_title('Медианное количество поседочных мест объектов питания')\n",
    "ax.set_xlabel('Количество посадочных мест')\n",
    "ax.set_ylabel('')\n",
    "plt.show()"
   ]
  },
  {
   "cell_type": "markdown",
   "metadata": {},
   "source": [
    "В среднем по количеству посадочных мест в заведениях лидируют ретсораны, далее за ними расположились бары/пабы и кофейни."
   ]
  },
  {
   "cell_type": "code",
   "execution_count": 19,
   "metadata": {},
   "outputs": [
    {
     "data": {
      "text/html": [
       "<div>\n",
       "<style scoped>\n",
       "    .dataframe tbody tr th:only-of-type {\n",
       "        vertical-align: middle;\n",
       "    }\n",
       "\n",
       "    .dataframe tbody tr th {\n",
       "        vertical-align: top;\n",
       "    }\n",
       "\n",
       "    .dataframe thead th {\n",
       "        text-align: right;\n",
       "    }\n",
       "</style>\n",
       "<table border=\"1\" class=\"dataframe\">\n",
       "  <thead>\n",
       "    <tr style=\"text-align: right;\">\n",
       "      <th></th>\n",
       "      <th>chain</th>\n",
       "      <th>count</th>\n",
       "    </tr>\n",
       "  </thead>\n",
       "  <tbody>\n",
       "    <tr>\n",
       "      <th>0</th>\n",
       "      <td>0</td>\n",
       "      <td>5201</td>\n",
       "    </tr>\n",
       "    <tr>\n",
       "      <th>1</th>\n",
       "      <td>1</td>\n",
       "      <td>3205</td>\n",
       "    </tr>\n",
       "  </tbody>\n",
       "</table>\n",
       "</div>"
      ],
      "text/plain": [
       "   chain  count\n",
       "0      0   5201\n",
       "1      1   3205"
      ]
     },
     "metadata": {},
     "output_type": "display_data"
    }
   ],
   "source": [
    "data_chain = data.groupby('chain').agg(count=('name', 'count')).reset_index().sort_values(by='count', ascending=False)\n",
    "#0 - не сетевое, 1 - сетевое\n",
    "display(data_chain)"
   ]
  },
  {
   "cell_type": "code",
   "execution_count": 20,
   "metadata": {},
   "outputs": [
    {
     "data": {
      "image/png": "[encoded data removed]",
      "text/plain": [
       "<Figure size 864x432 with 1 Axes>"
      ]
     },
     "metadata": {},
     "output_type": "display_data"
    }
   ],
   "source": [
    "name = ['Несетевые', 'Сетевые']\n",
    "labels = name\n",
    "sizes = data_chain['count']\n",
    "\n",
    "fig1, ax1 = plt.subplots(figsize = (12, 6))\n",
    "explode = (0.2, 0)\n",
    "ax1.pie(sizes, labels=name, autopct='%1.1f%%',\n",
    "        shadow=True, startangle=90,\n",
    "       explode=explode)\n",
    "ax1.axis('equal')\n",
    "ax1.set_title('Соотношение сетевых и несетевых заведений')\n",
    "\n",
    "plt.show()"
   ]
  },
  {
   "cell_type": "markdown",
   "metadata": {},
   "source": [
    "Чуть больше 1/3 трети заведений являются сетевыми."
   ]
  },
  {
   "cell_type": "code",
   "execution_count": 21,
   "metadata": {},
   "outputs": [
    {
     "data": {
      "text/html": [
       "<div>\n",
       "<style scoped>\n",
       "    .dataframe tbody tr th:only-of-type {\n",
       "        vertical-align: middle;\n",
       "    }\n",
       "\n",
       "    .dataframe tbody tr th {\n",
       "        vertical-align: top;\n",
       "    }\n",
       "\n",
       "    .dataframe thead th {\n",
       "        text-align: right;\n",
       "    }\n",
       "</style>\n",
       "<table border=\"1\" class=\"dataframe\">\n",
       "  <thead>\n",
       "    <tr style=\"text-align: right;\">\n",
       "      <th></th>\n",
       "      <th>category</th>\n",
       "      <th>count</th>\n",
       "    </tr>\n",
       "  </thead>\n",
       "  <tbody>\n",
       "    <tr>\n",
       "      <th>3</th>\n",
       "      <td>кафе</td>\n",
       "      <td>779</td>\n",
       "    </tr>\n",
       "    <tr>\n",
       "      <th>6</th>\n",
       "      <td>ресторан</td>\n",
       "      <td>730</td>\n",
       "    </tr>\n",
       "    <tr>\n",
       "      <th>4</th>\n",
       "      <td>кофейня</td>\n",
       "      <td>720</td>\n",
       "    </tr>\n",
       "    <tr>\n",
       "      <th>5</th>\n",
       "      <td>пиццерия</td>\n",
       "      <td>330</td>\n",
       "    </tr>\n",
       "    <tr>\n",
       "      <th>2</th>\n",
       "      <td>быстрое питание</td>\n",
       "      <td>232</td>\n",
       "    </tr>\n",
       "    <tr>\n",
       "      <th>0</th>\n",
       "      <td>бар,паб</td>\n",
       "      <td>169</td>\n",
       "    </tr>\n",
       "    <tr>\n",
       "      <th>1</th>\n",
       "      <td>булочная</td>\n",
       "      <td>157</td>\n",
       "    </tr>\n",
       "    <tr>\n",
       "      <th>7</th>\n",
       "      <td>столовая</td>\n",
       "      <td>88</td>\n",
       "    </tr>\n",
       "  </tbody>\n",
       "</table>\n",
       "</div>"
      ],
      "text/plain": [
       "          category  count\n",
       "3             кафе    779\n",
       "6         ресторан    730\n",
       "4          кофейня    720\n",
       "5         пиццерия    330\n",
       "2  быстрое питание    232\n",
       "0          бар,паб    169\n",
       "1         булочная    157\n",
       "7         столовая     88"
      ]
     },
     "metadata": {},
     "output_type": "display_data"
    },
    {
     "data": {
      "image/png": "[encoded data removed]",
      "text/plain": [
       "<Figure size 1008x576 with 1 Axes>"
      ]
     },
     "metadata": {
      "needs_background": "light"
     },
     "output_type": "display_data"
    }
   ],
   "source": [
    "data_one = (data.query('chain == 1')\n",
    ".groupby('category')\n",
    ".agg(count=('name', 'count'))\n",
    ".reset_index()\n",
    ".sort_values('count', ascending=False))\n",
    "display(data_one)\n",
    "\n",
    "plt.figure(figsize=(14, 8))\n",
    "ax = sns.barplot(x='count', y='category',\n",
    "                data=data_one)\n",
    "ax.set_title('Соотношение категорий сетевых объектов питания')\n",
    "ax.set_xlabel('Количество')\n",
    "ax.set_ylabel('')\n",
    "plt.show()"
   ]
  },
  {
   "cell_type": "markdown",
   "metadata": {},
   "source": [
    "На данном графике мы видим количество сетевых заведений в разрезе категорий.\n",
    "\n",
    "Топ-3 категорий заведений остаются кафе, рестораны и кофейни"
   ]
  },
  {
   "cell_type": "code",
   "execution_count": 22,
   "metadata": {},
   "outputs": [
    {
     "data": {
      "text/html": [
       "<div>\n",
       "<style scoped>\n",
       "    .dataframe tbody tr th:only-of-type {\n",
       "        vertical-align: middle;\n",
       "    }\n",
       "\n",
       "    .dataframe tbody tr th {\n",
       "        vertical-align: top;\n",
       "    }\n",
       "\n",
       "    .dataframe thead th {\n",
       "        text-align: right;\n",
       "    }\n",
       "</style>\n",
       "<table border=\"1\" class=\"dataframe\">\n",
       "  <thead>\n",
       "    <tr style=\"text-align: right;\">\n",
       "      <th></th>\n",
       "      <th>name</th>\n",
       "      <th>count</th>\n",
       "    </tr>\n",
       "  </thead>\n",
       "  <tbody>\n",
       "    <tr>\n",
       "      <th>2825</th>\n",
       "      <td>кафе</td>\n",
       "      <td>189</td>\n",
       "    </tr>\n",
       "    <tr>\n",
       "      <th>5418</th>\n",
       "      <td>шоколадница</td>\n",
       "      <td>120</td>\n",
       "    </tr>\n",
       "    <tr>\n",
       "      <th>2532</th>\n",
       "      <td>домино'с пицца</td>\n",
       "      <td>77</td>\n",
       "    </tr>\n",
       "    <tr>\n",
       "      <th>2500</th>\n",
       "      <td>додо пицца</td>\n",
       "      <td>74</td>\n",
       "    </tr>\n",
       "    <tr>\n",
       "      <th>1137</th>\n",
       "      <td>one price coffee</td>\n",
       "      <td>72</td>\n",
       "    </tr>\n",
       "    <tr>\n",
       "      <th>5491</th>\n",
       "      <td>яндекс лавка</td>\n",
       "      <td>69</td>\n",
       "    </tr>\n",
       "    <tr>\n",
       "      <th>413</th>\n",
       "      <td>cofix</td>\n",
       "      <td>65</td>\n",
       "    </tr>\n",
       "    <tr>\n",
       "      <th>1263</th>\n",
       "      <td>prime</td>\n",
       "      <td>50</td>\n",
       "    </tr>\n",
       "    <tr>\n",
       "      <th>4993</th>\n",
       "      <td>хинкальная</td>\n",
       "      <td>44</td>\n",
       "    </tr>\n",
       "    <tr>\n",
       "      <th>5319</th>\n",
       "      <td>шаурма</td>\n",
       "      <td>43</td>\n",
       "    </tr>\n",
       "    <tr>\n",
       "      <th>3178</th>\n",
       "      <td>кофепорт</td>\n",
       "      <td>42</td>\n",
       "    </tr>\n",
       "    <tr>\n",
       "      <th>3236</th>\n",
       "      <td>кулинарная лавка братьев караваевых</td>\n",
       "      <td>39</td>\n",
       "    </tr>\n",
       "    <tr>\n",
       "      <th>4700</th>\n",
       "      <td>теремок</td>\n",
       "      <td>38</td>\n",
       "    </tr>\n",
       "    <tr>\n",
       "      <th>5112</th>\n",
       "      <td>чайхана</td>\n",
       "      <td>37</td>\n",
       "    </tr>\n",
       "    <tr>\n",
       "      <th>4172</th>\n",
       "      <td>ресторан</td>\n",
       "      <td>34</td>\n",
       "    </tr>\n",
       "  </tbody>\n",
       "</table>\n",
       "</div>"
      ],
      "text/plain": [
       "                                     name  count\n",
       "2825                                 кафе    189\n",
       "5418                          шоколадница    120\n",
       "2532                       домино'с пицца     77\n",
       "2500                           додо пицца     74\n",
       "1137                     one price coffee     72\n",
       "5491                         яндекс лавка     69\n",
       "413                                 cofix     65\n",
       "1263                                prime     50\n",
       "4993                           хинкальная     44\n",
       "5319                               шаурма     43\n",
       "3178                             кофепорт     42\n",
       "3236  кулинарная лавка братьев караваевых     39\n",
       "4700                              теремок     38\n",
       "5112                              чайхана     37\n",
       "4172                             ресторан     34"
      ]
     },
     "metadata": {},
     "output_type": "display_data"
    }
   ],
   "source": [
    "data_top = data.groupby('name').agg(count=('name', 'count')).reset_index().sort_values(by='count', ascending=False)\n",
    "display(data_top.head(15))"
   ]
  },
  {
   "cell_type": "markdown",
   "metadata": {},
   "source": [
    "Нашли топ-15 заведений, но меня смущает первая позиция, возможно это разные заведения, но с одним названием \"Кафе\", аналогичная ситуация с хинкальной, шаурма и ресторан, возможно названия заведений так же повредились при выгрузке и остались обобщены."
   ]
  },
  {
   "cell_type": "markdown",
   "metadata": {},
   "source": [
    "<div class=\"alert alert-block alert-warning\">\n",
    "\n",
    "**Комментарий ревьювера (что можно улучшить)**\n",
    "    \n",
    "Простые названия обычно распространены, как правило это маленькие, несетевые заведения.\n",
    "</div>"
   ]
  },
  {
   "cell_type": "code",
   "execution_count": 23,
   "metadata": {},
   "outputs": [
    {
     "data": {
      "image/png": "[encoded data removed]",
      "text/plain": [
       "<Figure size 1008x576 with 1 Axes>"
      ]
     },
     "metadata": {
      "needs_background": "light"
     },
     "output_type": "display_data"
    }
   ],
   "source": [
    "data_top_two = data_top.query('count >= 34')\n",
    "plt.figure(figsize=(14, 8))\n",
    "ax = sns.barplot(x='count', y='name',\n",
    "                data=data_top_two)\n",
    "ax.set_title('Соотношение категорий объектов питания')\n",
    "ax.set_xlabel('Количество')\n",
    "ax.set_ylabel('')\n",
    "plt.show()"
   ]
  },
  {
   "cell_type": "code",
   "execution_count": 24,
   "metadata": {},
   "outputs": [
    {
     "data": {
      "text/html": [
       "<div>\n",
       "<style scoped>\n",
       "    .dataframe tbody tr th:only-of-type {\n",
       "        vertical-align: middle;\n",
       "    }\n",
       "\n",
       "    .dataframe tbody tr th {\n",
       "        vertical-align: top;\n",
       "    }\n",
       "\n",
       "    .dataframe thead th {\n",
       "        text-align: right;\n",
       "    }\n",
       "</style>\n",
       "<table border=\"1\" class=\"dataframe\">\n",
       "  <thead>\n",
       "    <tr style=\"text-align: right;\">\n",
       "      <th></th>\n",
       "      <th>name</th>\n",
       "      <th>count</th>\n",
       "    </tr>\n",
       "  </thead>\n",
       "  <tbody>\n",
       "    <tr>\n",
       "      <th>5418</th>\n",
       "      <td>шоколадница</td>\n",
       "      <td>120</td>\n",
       "    </tr>\n",
       "    <tr>\n",
       "      <th>2532</th>\n",
       "      <td>домино'с пицца</td>\n",
       "      <td>77</td>\n",
       "    </tr>\n",
       "    <tr>\n",
       "      <th>2500</th>\n",
       "      <td>додо пицца</td>\n",
       "      <td>74</td>\n",
       "    </tr>\n",
       "    <tr>\n",
       "      <th>1137</th>\n",
       "      <td>one price coffee</td>\n",
       "      <td>72</td>\n",
       "    </tr>\n",
       "    <tr>\n",
       "      <th>5491</th>\n",
       "      <td>яндекс лавка</td>\n",
       "      <td>69</td>\n",
       "    </tr>\n",
       "    <tr>\n",
       "      <th>413</th>\n",
       "      <td>cofix</td>\n",
       "      <td>65</td>\n",
       "    </tr>\n",
       "    <tr>\n",
       "      <th>1263</th>\n",
       "      <td>prime</td>\n",
       "      <td>50</td>\n",
       "    </tr>\n",
       "    <tr>\n",
       "      <th>3178</th>\n",
       "      <td>кофепорт</td>\n",
       "      <td>42</td>\n",
       "    </tr>\n",
       "    <tr>\n",
       "      <th>3236</th>\n",
       "      <td>кулинарная лавка братьев караваевых</td>\n",
       "      <td>39</td>\n",
       "    </tr>\n",
       "    <tr>\n",
       "      <th>4700</th>\n",
       "      <td>теремок</td>\n",
       "      <td>38</td>\n",
       "    </tr>\n",
       "    <tr>\n",
       "      <th>5112</th>\n",
       "      <td>чайхана</td>\n",
       "      <td>37</td>\n",
       "    </tr>\n",
       "    <tr>\n",
       "      <th>2088</th>\n",
       "      <td>буханка</td>\n",
       "      <td>32</td>\n",
       "    </tr>\n",
       "    <tr>\n",
       "      <th>344</th>\n",
       "      <td>cofefest</td>\n",
       "      <td>32</td>\n",
       "    </tr>\n",
       "    <tr>\n",
       "      <th>3632</th>\n",
       "      <td>му-му</td>\n",
       "      <td>27</td>\n",
       "    </tr>\n",
       "    <tr>\n",
       "      <th>508</th>\n",
       "      <td>drive café</td>\n",
       "      <td>24</td>\n",
       "    </tr>\n",
       "  </tbody>\n",
       "</table>\n",
       "</div>"
      ],
      "text/plain": [
       "                                     name  count\n",
       "5418                          шоколадница    120\n",
       "2532                       домино'с пицца     77\n",
       "2500                           додо пицца     74\n",
       "1137                     one price coffee     72\n",
       "5491                         яндекс лавка     69\n",
       "413                                 cofix     65\n",
       "1263                                prime     50\n",
       "3178                             кофепорт     42\n",
       "3236  кулинарная лавка братьев караваевых     39\n",
       "4700                              теремок     38\n",
       "5112                              чайхана     37\n",
       "2088                              буханка     32\n",
       "344                              cofefest     32\n",
       "3632                                му-му     27\n",
       "508                            drive café     24"
      ]
     },
     "metadata": {},
     "output_type": "display_data"
    }
   ],
   "source": [
    "data_top_wo = data_top.query('name != \"кафе\" and name != \"хинкальная\" and name != \"шаурма\" and name != \"ресторан\" and name != \"столовая\"')\n",
    "display(data_top_wo.head(15))"
   ]
  },
  {
   "cell_type": "code",
   "execution_count": 25,
   "metadata": {},
   "outputs": [
    {
     "data": {
      "image/png": "[encoded data removed]",
      "text/plain": [
       "<Figure size 1008x576 with 1 Axes>"
      ]
     },
     "metadata": {
      "needs_background": "light"
     },
     "output_type": "display_data"
    }
   ],
   "source": [
    "plt.figure(figsize=(14, 8))\n",
    "ax = sns.barplot(x='count', y='name',\n",
    "                data=data_top_wo.query('count >= 24'))\n",
    "ax.set_title('Соотношение категорий объектов питания')\n",
    "ax.set_xlabel('Количество')\n",
    "ax.set_ylabel('')\n",
    "plt.show()"
   ]
  },
  {
   "cell_type": "markdown",
   "metadata": {},
   "source": [
    "А вот так у нас будет выглядеть топ-15 заведений без обобщенных названий.\n",
    "\n",
    "Слышал про такие заведения как чайхана, домино'с пицца, Яндекс лавка, но делал заказы только в Додо пицце."
   ]
  },
  {
   "cell_type": "code",
   "execution_count": 26,
   "metadata": {},
   "outputs": [
    {
     "data": {
      "text/html": [
       "<div>\n",
       "<style scoped>\n",
       "    .dataframe tbody tr th:only-of-type {\n",
       "        vertical-align: middle;\n",
       "    }\n",
       "\n",
       "    .dataframe tbody tr th {\n",
       "        vertical-align: top;\n",
       "    }\n",
       "\n",
       "    .dataframe thead th {\n",
       "        text-align: right;\n",
       "    }\n",
       "</style>\n",
       "<table border=\"1\" class=\"dataframe\">\n",
       "  <thead>\n",
       "    <tr style=\"text-align: right;\">\n",
       "      <th></th>\n",
       "      <th>district</th>\n",
       "      <th>count</th>\n",
       "    </tr>\n",
       "  </thead>\n",
       "  <tbody>\n",
       "    <tr>\n",
       "      <th>5</th>\n",
       "      <td>Центральный административный округ</td>\n",
       "      <td>2242</td>\n",
       "    </tr>\n",
       "    <tr>\n",
       "      <th>2</th>\n",
       "      <td>Северный административный округ</td>\n",
       "      <td>900</td>\n",
       "    </tr>\n",
       "    <tr>\n",
       "      <th>8</th>\n",
       "      <td>Южный административный округ</td>\n",
       "      <td>892</td>\n",
       "    </tr>\n",
       "    <tr>\n",
       "      <th>3</th>\n",
       "      <td>Северо-Восточный административный округ</td>\n",
       "      <td>891</td>\n",
       "    </tr>\n",
       "    <tr>\n",
       "      <th>1</th>\n",
       "      <td>Западный административный округ</td>\n",
       "      <td>851</td>\n",
       "    </tr>\n",
       "    <tr>\n",
       "      <th>0</th>\n",
       "      <td>Восточный административный округ</td>\n",
       "      <td>798</td>\n",
       "    </tr>\n",
       "    <tr>\n",
       "      <th>6</th>\n",
       "      <td>Юго-Восточный административный округ</td>\n",
       "      <td>714</td>\n",
       "    </tr>\n",
       "    <tr>\n",
       "      <th>7</th>\n",
       "      <td>Юго-Западный административный округ</td>\n",
       "      <td>709</td>\n",
       "    </tr>\n",
       "    <tr>\n",
       "      <th>4</th>\n",
       "      <td>Северо-Западный административный округ</td>\n",
       "      <td>409</td>\n",
       "    </tr>\n",
       "  </tbody>\n",
       "</table>\n",
       "</div>"
      ],
      "text/plain": [
       "                                  district  count\n",
       "5       Центральный административный округ   2242\n",
       "2          Северный административный округ    900\n",
       "8             Южный административный округ    892\n",
       "3  Северо-Восточный административный округ    891\n",
       "1          Западный административный округ    851\n",
       "0         Восточный административный округ    798\n",
       "6     Юго-Восточный административный округ    714\n",
       "7      Юго-Западный административный округ    709\n",
       "4   Северо-Западный административный округ    409"
      ]
     },
     "metadata": {},
     "output_type": "display_data"
    }
   ],
   "source": [
    "data_region = data.groupby('district').agg(count=('name', 'count')).reset_index().sort_values('count', ascending=False)\n",
    "display(data_region)"
   ]
  },
  {
   "cell_type": "code",
   "execution_count": 27,
   "metadata": {
    "scrolled": false
   },
   "outputs": [
    {
     "data": {
      "image/png": "[encoded data removed]",
      "text/plain": [
       "<Figure size 864x576 with 1 Axes>"
      ]
     },
     "metadata": {
      "needs_background": "light"
     },
     "output_type": "display_data"
    }
   ],
   "source": [
    "check = data.pivot_table(\n",
    "index='category',\n",
    "columns='district',\n",
    "values='name',\n",
    "aggfunc='count')\n",
    "sorting = check.sum().sort_values(ascending=False)\n",
    "check[sorting.index].T.plot.bar(stacked=True, figsize=(12,8))\n",
    "plt.title('Распределение типов заведений по округам')\n",
    "plt.ylabel('Количество заведений')\n",
    "plt.xlabel('Административные округа')\n",
    "plt.show()"
   ]
  },
  {
   "cell_type": "markdown",
   "metadata": {},
   "source": [
    "Так у нас распределены категории заведений по административным округам.\n",
    "\n",
    "В каждом разрезе лидирует Центральный административный округ.\n",
    "\n",
    "Административные округа включают в себя районы, которые образуются с учётом исторических, географических, градостроительных особенностей соответствующих территорий, численности населения, социально-экономических характеристик, расположения транспортных коммуникаций, наличия инженерной инфраструктуры и других особенностей территории."
   ]
  },
  {
   "cell_type": "code",
   "execution_count": 28,
   "metadata": {},
   "outputs": [
    {
     "data": {
      "text/html": [
       "<div>\n",
       "<style scoped>\n",
       "    .dataframe tbody tr th:only-of-type {\n",
       "        vertical-align: middle;\n",
       "    }\n",
       "\n",
       "    .dataframe tbody tr th {\n",
       "        vertical-align: top;\n",
       "    }\n",
       "\n",
       "    .dataframe thead th {\n",
       "        text-align: right;\n",
       "    }\n",
       "</style>\n",
       "<table border=\"1\" class=\"dataframe\">\n",
       "  <thead>\n",
       "    <tr style=\"text-align: right;\">\n",
       "      <th></th>\n",
       "      <th>index</th>\n",
       "      <th>category</th>\n",
       "      <th>median</th>\n",
       "    </tr>\n",
       "  </thead>\n",
       "  <tbody>\n",
       "    <tr>\n",
       "      <th>0</th>\n",
       "      <td>0</td>\n",
       "      <td>бар,паб</td>\n",
       "      <td>4.40</td>\n",
       "    </tr>\n",
       "    <tr>\n",
       "      <th>1</th>\n",
       "      <td>1</td>\n",
       "      <td>булочная</td>\n",
       "      <td>4.30</td>\n",
       "    </tr>\n",
       "    <tr>\n",
       "      <th>4</th>\n",
       "      <td>4</td>\n",
       "      <td>кофейня</td>\n",
       "      <td>4.30</td>\n",
       "    </tr>\n",
       "    <tr>\n",
       "      <th>5</th>\n",
       "      <td>5</td>\n",
       "      <td>пиццерия</td>\n",
       "      <td>4.30</td>\n",
       "    </tr>\n",
       "    <tr>\n",
       "      <th>6</th>\n",
       "      <td>6</td>\n",
       "      <td>ресторан</td>\n",
       "      <td>4.30</td>\n",
       "    </tr>\n",
       "    <tr>\n",
       "      <th>7</th>\n",
       "      <td>7</td>\n",
       "      <td>столовая</td>\n",
       "      <td>4.30</td>\n",
       "    </tr>\n",
       "    <tr>\n",
       "      <th>2</th>\n",
       "      <td>2</td>\n",
       "      <td>быстрое питание</td>\n",
       "      <td>4.20</td>\n",
       "    </tr>\n",
       "    <tr>\n",
       "      <th>3</th>\n",
       "      <td>3</td>\n",
       "      <td>кафе</td>\n",
       "      <td>4.20</td>\n",
       "    </tr>\n",
       "  </tbody>\n",
       "</table>\n",
       "</div>"
      ],
      "text/plain": [
       "   index         category  median\n",
       "0      0          бар,паб    4.40\n",
       "1      1         булочная    4.30\n",
       "4      4          кофейня    4.30\n",
       "5      5         пиццерия    4.30\n",
       "6      6         ресторан    4.30\n",
       "7      7         столовая    4.30\n",
       "2      2  быстрое питание    4.20\n",
       "3      3             кафе    4.20"
      ]
     },
     "metadata": {},
     "output_type": "display_data"
    }
   ],
   "source": [
    "data_by_rating = data.groupby('category', as_index=False).agg(median=('rating', 'median')).reset_index().sort_values('median', ascending=False)\n",
    "display(data_by_rating)"
   ]
  },
  {
   "cell_type": "code",
   "execution_count": 29,
   "metadata": {},
   "outputs": [
    {
     "data": {
      "image/png": "[encoded data removed]",
      "text/plain": [
       "<Figure size 1008x576 with 1 Axes>"
      ]
     },
     "metadata": {
      "needs_background": "light"
     },
     "output_type": "display_data"
    }
   ],
   "source": [
    "plt.figure(figsize=(14, 8))\n",
    "ax = sns.barplot(x='category', y='median',\n",
    "                data=data_by_rating)\n",
    "ax.set_title('Соотношение рейтинга категорий объектов питания')\n",
    "ax.set_xlabel('')\n",
    "ax.set_ylabel('Рейтинг')\n",
    "plt.show()"
   ]
  },
  {
   "cell_type": "code",
   "execution_count": 30,
   "metadata": {},
   "outputs": [
    {
     "data": {
      "text/html": [
       "<div>\n",
       "<style scoped>\n",
       "    .dataframe tbody tr th:only-of-type {\n",
       "        vertical-align: middle;\n",
       "    }\n",
       "\n",
       "    .dataframe tbody tr th {\n",
       "        vertical-align: top;\n",
       "    }\n",
       "\n",
       "    .dataframe thead th {\n",
       "        text-align: right;\n",
       "    }\n",
       "</style>\n",
       "<table border=\"1\" class=\"dataframe\">\n",
       "  <thead>\n",
       "    <tr style=\"text-align: right;\">\n",
       "      <th></th>\n",
       "      <th>index</th>\n",
       "      <th>category</th>\n",
       "      <th>mean</th>\n",
       "    </tr>\n",
       "  </thead>\n",
       "  <tbody>\n",
       "    <tr>\n",
       "      <th>0</th>\n",
       "      <td>0</td>\n",
       "      <td>бар,паб</td>\n",
       "      <td>4.39</td>\n",
       "    </tr>\n",
       "    <tr>\n",
       "      <th>5</th>\n",
       "      <td>5</td>\n",
       "      <td>пиццерия</td>\n",
       "      <td>4.30</td>\n",
       "    </tr>\n",
       "    <tr>\n",
       "      <th>6</th>\n",
       "      <td>6</td>\n",
       "      <td>ресторан</td>\n",
       "      <td>4.29</td>\n",
       "    </tr>\n",
       "    <tr>\n",
       "      <th>4</th>\n",
       "      <td>4</td>\n",
       "      <td>кофейня</td>\n",
       "      <td>4.28</td>\n",
       "    </tr>\n",
       "    <tr>\n",
       "      <th>1</th>\n",
       "      <td>1</td>\n",
       "      <td>булочная</td>\n",
       "      <td>4.27</td>\n",
       "    </tr>\n",
       "    <tr>\n",
       "      <th>7</th>\n",
       "      <td>7</td>\n",
       "      <td>столовая</td>\n",
       "      <td>4.21</td>\n",
       "    </tr>\n",
       "    <tr>\n",
       "      <th>3</th>\n",
       "      <td>3</td>\n",
       "      <td>кафе</td>\n",
       "      <td>4.12</td>\n",
       "    </tr>\n",
       "    <tr>\n",
       "      <th>2</th>\n",
       "      <td>2</td>\n",
       "      <td>быстрое питание</td>\n",
       "      <td>4.05</td>\n",
       "    </tr>\n",
       "  </tbody>\n",
       "</table>\n",
       "</div>"
      ],
      "text/plain": [
       "   index         category  mean\n",
       "0      0          бар,паб  4.39\n",
       "5      5         пиццерия  4.30\n",
       "6      6         ресторан  4.29\n",
       "4      4          кофейня  4.28\n",
       "1      1         булочная  4.27\n",
       "7      7         столовая  4.21\n",
       "3      3             кафе  4.12\n",
       "2      2  быстрое питание  4.05"
      ]
     },
     "metadata": {},
     "output_type": "display_data"
    }
   ],
   "source": [
    "data_by_rating_new = data.groupby('category', as_index=False).agg(mean=('rating', 'mean')).reset_index().sort_values('mean', ascending=False)\n",
    "display(data_by_rating_new)"
   ]
  },
  {
   "cell_type": "code",
   "execution_count": 31,
   "metadata": {},
   "outputs": [
    {
     "data": {
      "image/png": "[encoded data removed]",
      "text/plain": [
       "<Figure size 1008x576 with 1 Axes>"
      ]
     },
     "metadata": {
      "needs_background": "light"
     },
     "output_type": "display_data"
    }
   ],
   "source": [
    "plt.figure(figsize=(14, 8))\n",
    "ax = sns.barplot(x='category', y='mean',\n",
    "                data=data_by_rating_new)\n",
    "ax.set_title('Соотношение рейтинга категорий объектов питания')\n",
    "ax.set_xlabel('')\n",
    "ax.set_ylabel('Рейтинг')\n",
    "plt.show()"
   ]
  },
  {
   "cell_type": "markdown",
   "metadata": {},
   "source": [
    "В средних рейтингах по категориям и округам различий почти нету.\n",
    "\n",
    "Предполагаю, что самый высокий рейтинг в центре Москвы обусловлен туристическим фактором и фактором ожидания:\n",
    "\n",
    "Туристический фактор - ранее не бывавший в центре Москвы турист точно захочет покушать, откроет карту и первое что увидит, это рейтинг заведения, первое впечатление очень важно чтобы даже в теории зацепить пользователя и повысить его шансы посетить заведение и, в идеале, совершить покупку.\n",
    "\n",
    "Фактор ожидания - соответствие заведения и его рейтинга, он складывается от многих других подфакторов, например работы персонала, ожидания приготовления блюд, их вида, цена меню, а особенно выживание в жестких условиях конкуренции."
   ]
  },
  {
   "cell_type": "code",
   "execution_count": 34,
   "metadata": {
    "scrolled": true
   },
   "outputs": [
    {
     "data": {
      "text/html": [
       "<div>\n",
       "<style scoped>\n",
       "    .dataframe tbody tr th:only-of-type {\n",
       "        vertical-align: middle;\n",
       "    }\n",
       "\n",
       "    .dataframe tbody tr th {\n",
       "        vertical-align: top;\n",
       "    }\n",
       "\n",
       "    .dataframe thead th {\n",
       "        text-align: right;\n",
       "    }\n",
       "</style>\n",
       "<table border=\"1\" class=\"dataframe\">\n",
       "  <thead>\n",
       "    <tr style=\"text-align: right;\">\n",
       "      <th></th>\n",
       "      <th>street</th>\n",
       "      <th>name</th>\n",
       "    </tr>\n",
       "  </thead>\n",
       "  <tbody>\n",
       "    <tr>\n",
       "      <th>1090</th>\n",
       "      <td>проспект Мира</td>\n",
       "      <td>184</td>\n",
       "    </tr>\n",
       "    <tr>\n",
       "      <th>773</th>\n",
       "      <td>Профсоюзная улица</td>\n",
       "      <td>122</td>\n",
       "    </tr>\n",
       "    <tr>\n",
       "      <th>1087</th>\n",
       "      <td>проспект Вернадского</td>\n",
       "      <td>108</td>\n",
       "    </tr>\n",
       "    <tr>\n",
       "      <th>525</th>\n",
       "      <td>Ленинский проспект</td>\n",
       "      <td>107</td>\n",
       "    </tr>\n",
       "    <tr>\n",
       "      <th>523</th>\n",
       "      <td>Ленинградский проспект</td>\n",
       "      <td>95</td>\n",
       "    </tr>\n",
       "    <tr>\n",
       "      <th>373</th>\n",
       "      <td>Дмитровское шоссе</td>\n",
       "      <td>88</td>\n",
       "    </tr>\n",
       "    <tr>\n",
       "      <th>455</th>\n",
       "      <td>Каширское шоссе</td>\n",
       "      <td>77</td>\n",
       "    </tr>\n",
       "    <tr>\n",
       "      <th>298</th>\n",
       "      <td>Варшавское шоссе</td>\n",
       "      <td>76</td>\n",
       "    </tr>\n",
       "    <tr>\n",
       "      <th>524</th>\n",
       "      <td>Ленинградское шоссе</td>\n",
       "      <td>70</td>\n",
       "    </tr>\n",
       "    <tr>\n",
       "      <th>550</th>\n",
       "      <td>МКАД</td>\n",
       "      <td>65</td>\n",
       "    </tr>\n",
       "    <tr>\n",
       "      <th>547</th>\n",
       "      <td>Люблинская улица</td>\n",
       "      <td>60</td>\n",
       "    </tr>\n",
       "    <tr>\n",
       "      <th>1154</th>\n",
       "      <td>улица Вавилова</td>\n",
       "      <td>55</td>\n",
       "    </tr>\n",
       "    <tr>\n",
       "      <th>517</th>\n",
       "      <td>Кутузовский проспект</td>\n",
       "      <td>54</td>\n",
       "    </tr>\n",
       "    <tr>\n",
       "      <th>1309</th>\n",
       "      <td>улица Миклухо-Маклая</td>\n",
       "      <td>49</td>\n",
       "    </tr>\n",
       "    <tr>\n",
       "      <th>781</th>\n",
       "      <td>Пятницкая улица</td>\n",
       "      <td>48</td>\n",
       "    </tr>\n",
       "  </tbody>\n",
       "</table>\n",
       "</div>"
      ],
      "text/plain": [
       "                       street  name\n",
       "1090            проспект Мира   184\n",
       "773         Профсоюзная улица   122\n",
       "1087     проспект Вернадского   108\n",
       "525        Ленинский проспект   107\n",
       "523    Ленинградский проспект    95\n",
       "373         Дмитровское шоссе    88\n",
       "455           Каширское шоссе    77\n",
       "298          Варшавское шоссе    76\n",
       "524       Ленинградское шоссе    70\n",
       "550                      МКАД    65\n",
       "547          Люблинская улица    60\n",
       "1154           улица Вавилова    55\n",
       "517      Кутузовский проспект    54\n",
       "1309     улица Миклухо-Маклая    49\n",
       "781           Пятницкая улица    48"
      ]
     },
     "metadata": {},
     "output_type": "display_data"
    }
   ],
   "source": [
    "data_by_street = data.groupby('street', as_index=False)['name'].agg('count').sort_values('name', ascending=False)\n",
    "display(data_by_street.head(15))"
   ]
  },
  {
   "cell_type": "code",
   "execution_count": 35,
   "metadata": {},
   "outputs": [
    {
     "data": {
      "image/png": "[encoded data removed]",
      "text/plain": [
       "<Figure size 1008x576 with 1 Axes>"
      ]
     },
     "metadata": {
      "needs_background": "light"
     },
     "output_type": "display_data"
    }
   ],
   "source": [
    "data_by_street = data_by_street.query('name >= 48')\n",
    "\n",
    "plt.figure(figsize=(14, 8))\n",
    "ax = sns.barplot(x='name', y='street',\n",
    "                data=data_by_street)\n",
    "ax.set_title('Количество заведений по улицам')\n",
    "ax.set_xlabel('Количество заведений')\n",
    "ax.set_ylabel('')\n",
    "plt.show()"
   ]
  },
  {
   "cell_type": "markdown",
   "metadata": {},
   "source": [
    "Больше всего заведений открыто на проспекте Мира, далее идёт Профсоюзная улица и проспект Вернадского.\n",
    "\n",
    "Наибольшее число заведений в Цетральном административном округе, скорее всего это связано с туристическими местами и местами с высоким трафиком людей."
   ]
  },
  {
   "cell_type": "code",
   "execution_count": 36,
   "metadata": {},
   "outputs": [],
   "source": [
    "data_by_streett = data.groupby('street', as_index=False)['name'].agg('count').sort_values('name', ascending=True)\n",
    "\n",
    "data_by_streett = data_by_streett.query('name == 1')"
   ]
  },
  {
   "cell_type": "code",
   "execution_count": 37,
   "metadata": {},
   "outputs": [
    {
     "data": {
      "text/html": [
       "<div>\n",
       "<style scoped>\n",
       "    .dataframe tbody tr th:only-of-type {\n",
       "        vertical-align: middle;\n",
       "    }\n",
       "\n",
       "    .dataframe tbody tr th {\n",
       "        vertical-align: top;\n",
       "    }\n",
       "\n",
       "    .dataframe thead th {\n",
       "        text-align: right;\n",
       "    }\n",
       "</style>\n",
       "<table border=\"1\" class=\"dataframe\">\n",
       "  <thead>\n",
       "    <tr style=\"text-align: right;\">\n",
       "      <th></th>\n",
       "      <th>name</th>\n",
       "      <th>category</th>\n",
       "      <th>address</th>\n",
       "      <th>district</th>\n",
       "      <th>hours</th>\n",
       "      <th>lat</th>\n",
       "      <th>lng</th>\n",
       "      <th>rating</th>\n",
       "      <th>price</th>\n",
       "      <th>avg_bill</th>\n",
       "      <th>middle_avg_bill</th>\n",
       "      <th>middle_coffee_cup</th>\n",
       "      <th>chain</th>\n",
       "      <th>seats</th>\n",
       "      <th>street</th>\n",
       "      <th>is_24/7</th>\n",
       "    </tr>\n",
       "  </thead>\n",
       "  <tbody>\n",
       "    <tr>\n",
       "      <th>15</th>\n",
       "      <td>дом обеда</td>\n",
       "      <td>столовая</td>\n",
       "      <td>Москва, улица Бусиновская Горка, 2</td>\n",
       "      <td>Северный административный округ</td>\n",
       "      <td>пн-пт 08:30–18:30; сб 10:00–20:00</td>\n",
       "      <td>55.89</td>\n",
       "      <td>37.49</td>\n",
       "      <td>4.10</td>\n",
       "      <td>средние</td>\n",
       "      <td>Средний счёт:300–500 ₽</td>\n",
       "      <td>400.00</td>\n",
       "      <td>NaN</td>\n",
       "      <td>0</td>\n",
       "      <td>180.00</td>\n",
       "      <td>улица Бусиновская Горка</td>\n",
       "      <td>False</td>\n",
       "    </tr>\n",
       "    <tr>\n",
       "      <th>21</th>\n",
       "      <td>7/12</td>\n",
       "      <td>кафе</td>\n",
       "      <td>Москва, Прибрежный проезд, 7</td>\n",
       "      <td>Северный административный округ</td>\n",
       "      <td>ежедневно, 10:00–22:00</td>\n",
       "      <td>55.88</td>\n",
       "      <td>37.46</td>\n",
       "      <td>4.50</td>\n",
       "      <td>NaN</td>\n",
       "      <td>NaN</td>\n",
       "      <td>NaN</td>\n",
       "      <td>NaN</td>\n",
       "      <td>0</td>\n",
       "      <td>NaN</td>\n",
       "      <td>Прибрежный проезд</td>\n",
       "      <td>False</td>\n",
       "    </tr>\n",
       "    <tr>\n",
       "      <th>25</th>\n",
       "      <td>в парке вкуснее</td>\n",
       "      <td>кофейня</td>\n",
       "      <td>Москва, парк Левобережный</td>\n",
       "      <td>Северный административный округ</td>\n",
       "      <td>ежедневно, 10:00–21:00</td>\n",
       "      <td>55.88</td>\n",
       "      <td>37.46</td>\n",
       "      <td>4.30</td>\n",
       "      <td>NaN</td>\n",
       "      <td>NaN</td>\n",
       "      <td>NaN</td>\n",
       "      <td>NaN</td>\n",
       "      <td>1</td>\n",
       "      <td>NaN</td>\n",
       "      <td>парк Левобережный</td>\n",
       "      <td>False</td>\n",
       "    </tr>\n",
       "    <tr>\n",
       "      <th>58</th>\n",
       "      <td>coffeekaldi's</td>\n",
       "      <td>кофейня</td>\n",
       "      <td>Москва, Угличская улица, 13, стр. 8</td>\n",
       "      <td>Северо-Восточный административный округ</td>\n",
       "      <td>ежедневно, 09:00–22:00</td>\n",
       "      <td>55.90</td>\n",
       "      <td>37.57</td>\n",
       "      <td>4.10</td>\n",
       "      <td>средние</td>\n",
       "      <td>Средний счёт:500–800 ₽</td>\n",
       "      <td>650.00</td>\n",
       "      <td>NaN</td>\n",
       "      <td>1</td>\n",
       "      <td>NaN</td>\n",
       "      <td>Угличская улица</td>\n",
       "      <td>False</td>\n",
       "    </tr>\n",
       "    <tr>\n",
       "      <th>60</th>\n",
       "      <td>чебуречная история</td>\n",
       "      <td>кофейня</td>\n",
       "      <td>Москва, ландшафтный заказник Лианозовский</td>\n",
       "      <td>Северо-Восточный административный округ</td>\n",
       "      <td>ежедневно, 10:00–22:00</td>\n",
       "      <td>55.90</td>\n",
       "      <td>37.57</td>\n",
       "      <td>4.90</td>\n",
       "      <td>NaN</td>\n",
       "      <td>NaN</td>\n",
       "      <td>NaN</td>\n",
       "      <td>NaN</td>\n",
       "      <td>1</td>\n",
       "      <td>NaN</td>\n",
       "      <td>ландшафтный заказник Лианозовский</td>\n",
       "      <td>False</td>\n",
       "    </tr>\n",
       "  </tbody>\n",
       "</table>\n",
       "</div>"
      ],
      "text/plain": [
       "                  name  category                                    address  \\\n",
       "15           дом обеда  столовая         Москва, улица Бусиновская Горка, 2   \n",
       "21                7/12      кафе               Москва, Прибрежный проезд, 7   \n",
       "25     в парке вкуснее   кофейня                  Москва, парк Левобережный   \n",
       "58       coffeekaldi's   кофейня        Москва, Угличская улица, 13, стр. 8   \n",
       "60  чебуречная история   кофейня  Москва, ландшафтный заказник Лианозовский   \n",
       "\n",
       "                                   district  \\\n",
       "15          Северный административный округ   \n",
       "21          Северный административный округ   \n",
       "25          Северный административный округ   \n",
       "58  Северо-Восточный административный округ   \n",
       "60  Северо-Восточный административный округ   \n",
       "\n",
       "                                hours   lat   lng  rating    price  \\\n",
       "15  пн-пт 08:30–18:30; сб 10:00–20:00 55.89 37.49    4.10  средние   \n",
       "21             ежедневно, 10:00–22:00 55.88 37.46    4.50      NaN   \n",
       "25             ежедневно, 10:00–21:00 55.88 37.46    4.30      NaN   \n",
       "58             ежедневно, 09:00–22:00 55.90 37.57    4.10  средние   \n",
       "60             ежедневно, 10:00–22:00 55.90 37.57    4.90      NaN   \n",
       "\n",
       "                  avg_bill  middle_avg_bill  middle_coffee_cup  chain  seats  \\\n",
       "15  Средний счёт:300–500 ₽           400.00                NaN      0 180.00   \n",
       "21                     NaN              NaN                NaN      0    NaN   \n",
       "25                     NaN              NaN                NaN      1    NaN   \n",
       "58  Средний счёт:500–800 ₽           650.00                NaN      1    NaN   \n",
       "60                     NaN              NaN                NaN      1    NaN   \n",
       "\n",
       "                                street  is_24/7  \n",
       "15             улица Бусиновская Горка    False  \n",
       "21                   Прибрежный проезд    False  \n",
       "25                   парк Левобережный    False  \n",
       "58                     Угличская улица    False  \n",
       "60   ландшафтный заказник Лианозовский    False  "
      ]
     },
     "metadata": {},
     "output_type": "display_data"
    },
    {
     "data": {
      "text/plain": [
       "458"
      ]
     },
     "metadata": {},
     "output_type": "display_data"
    }
   ],
   "source": [
    "data_by_street_test = data_by_streett['street']\n",
    "by_street = data.query('street in @data_by_street_test')\n",
    "display(by_street.head(5))\n",
    "display(len(by_street))"
   ]
  },
  {
   "cell_type": "code",
   "execution_count": 38,
   "metadata": {},
   "outputs": [
    {
     "data": {
      "text/html": [
       "<div>\n",
       "<style scoped>\n",
       "    .dataframe tbody tr th:only-of-type {\n",
       "        vertical-align: middle;\n",
       "    }\n",
       "\n",
       "    .dataframe tbody tr th {\n",
       "        vertical-align: top;\n",
       "    }\n",
       "\n",
       "    .dataframe thead th {\n",
       "        text-align: right;\n",
       "    }\n",
       "</style>\n",
       "<table border=\"1\" class=\"dataframe\">\n",
       "  <thead>\n",
       "    <tr style=\"text-align: right;\">\n",
       "      <th></th>\n",
       "      <th>category</th>\n",
       "      <th>name</th>\n",
       "    </tr>\n",
       "  </thead>\n",
       "  <tbody>\n",
       "    <tr>\n",
       "      <th>3</th>\n",
       "      <td>кафе</td>\n",
       "      <td>160</td>\n",
       "    </tr>\n",
       "    <tr>\n",
       "      <th>6</th>\n",
       "      <td>ресторан</td>\n",
       "      <td>93</td>\n",
       "    </tr>\n",
       "    <tr>\n",
       "      <th>4</th>\n",
       "      <td>кофейня</td>\n",
       "      <td>84</td>\n",
       "    </tr>\n",
       "    <tr>\n",
       "      <th>0</th>\n",
       "      <td>бар,паб</td>\n",
       "      <td>39</td>\n",
       "    </tr>\n",
       "    <tr>\n",
       "      <th>7</th>\n",
       "      <td>столовая</td>\n",
       "      <td>36</td>\n",
       "    </tr>\n",
       "    <tr>\n",
       "      <th>2</th>\n",
       "      <td>быстрое питание</td>\n",
       "      <td>23</td>\n",
       "    </tr>\n",
       "    <tr>\n",
       "      <th>5</th>\n",
       "      <td>пиццерия</td>\n",
       "      <td>15</td>\n",
       "    </tr>\n",
       "    <tr>\n",
       "      <th>1</th>\n",
       "      <td>булочная</td>\n",
       "      <td>8</td>\n",
       "    </tr>\n",
       "  </tbody>\n",
       "</table>\n",
       "</div>"
      ],
      "text/plain": [
       "          category  name\n",
       "3             кафе   160\n",
       "6         ресторан    93\n",
       "4          кофейня    84\n",
       "0          бар,паб    39\n",
       "7         столовая    36\n",
       "2  быстрое питание    23\n",
       "5         пиццерия    15\n",
       "1         булочная     8"
      ]
     },
     "metadata": {},
     "output_type": "display_data"
    }
   ],
   "source": [
    "by_street_new = by_street.groupby('category', as_index=False)['name'].agg('count').sort_values('name', ascending=False)\n",
    "display(by_street_new)"
   ]
  },
  {
   "cell_type": "code",
   "execution_count": 39,
   "metadata": {},
   "outputs": [
    {
     "data": {
      "text/html": [
       "<div>\n",
       "<style scoped>\n",
       "    .dataframe tbody tr th:only-of-type {\n",
       "        vertical-align: middle;\n",
       "    }\n",
       "\n",
       "    .dataframe tbody tr th {\n",
       "        vertical-align: top;\n",
       "    }\n",
       "\n",
       "    .dataframe thead th {\n",
       "        text-align: right;\n",
       "    }\n",
       "</style>\n",
       "<table border=\"1\" class=\"dataframe\">\n",
       "  <thead>\n",
       "    <tr style=\"text-align: right;\">\n",
       "      <th></th>\n",
       "      <th>name</th>\n",
       "      <th>count</th>\n",
       "    </tr>\n",
       "  </thead>\n",
       "  <tbody>\n",
       "    <tr>\n",
       "      <th>188</th>\n",
       "      <td>кафе</td>\n",
       "      <td>19</td>\n",
       "    </tr>\n",
       "    <tr>\n",
       "      <th>402</th>\n",
       "      <td>яндекс лавка</td>\n",
       "      <td>6</td>\n",
       "    </tr>\n",
       "    <tr>\n",
       "      <th>24</th>\n",
       "      <td>cofefest</td>\n",
       "      <td>6</td>\n",
       "    </tr>\n",
       "    <tr>\n",
       "      <th>390</th>\n",
       "      <td>шаурма</td>\n",
       "      <td>3</td>\n",
       "    </tr>\n",
       "    <tr>\n",
       "      <th>256</th>\n",
       "      <td>монастырская трапеза</td>\n",
       "      <td>3</td>\n",
       "    </tr>\n",
       "    <tr>\n",
       "      <th>...</th>\n",
       "      <td>...</td>\n",
       "      <td>...</td>\n",
       "    </tr>\n",
       "    <tr>\n",
       "      <th>143</th>\n",
       "      <td>время чудес</td>\n",
       "      <td>1</td>\n",
       "    </tr>\n",
       "    <tr>\n",
       "      <th>142</th>\n",
       "      <td>восточная кухня</td>\n",
       "      <td>1</td>\n",
       "    </tr>\n",
       "    <tr>\n",
       "      <th>141</th>\n",
       "      <td>вкусное</td>\n",
       "      <td>1</td>\n",
       "    </tr>\n",
       "    <tr>\n",
       "      <th>140</th>\n",
       "      <td>вкус кофе</td>\n",
       "      <td>1</td>\n",
       "    </tr>\n",
       "    <tr>\n",
       "      <th>0</th>\n",
       "      <td>1 этаж</td>\n",
       "      <td>1</td>\n",
       "    </tr>\n",
       "  </tbody>\n",
       "</table>\n",
       "<p>403 rows × 2 columns</p>\n",
       "</div>"
      ],
      "text/plain": [
       "                     name  count\n",
       "188                  кафе     19\n",
       "402          яндекс лавка      6\n",
       "24               cofefest      6\n",
       "390                шаурма      3\n",
       "256  монастырская трапеза      3\n",
       "..                    ...    ...\n",
       "143           время чудес      1\n",
       "142       восточная кухня      1\n",
       "141               вкусное      1\n",
       "140             вкус кофе      1\n",
       "0                  1 этаж      1\n",
       "\n",
       "[403 rows x 2 columns]"
      ]
     },
     "metadata": {},
     "output_type": "display_data"
    }
   ],
   "source": [
    "by_street_new = by_street.groupby('name').agg(count=('name', 'count')).reset_index().sort_values(by='count', ascending=False)\n",
    "display(by_street_new)"
   ]
  },
  {
   "cell_type": "markdown",
   "metadata": {},
   "source": [
    "Часть заведений находится в \"спальных\" райоах, либо недалеко расположенные от них, так же присутствуют заведения рядом с прогулочными местами - парками.\n",
    "\n",
    "6 заведений Яндекс лавки скорее всего склады, которые были открыты для большего охвата районов, удобной логистики и быстрой доставки.\n",
    "\n",
    "Заметил, что часть заведений расположены в переулках - чаще всего короткая улица, которая соединяет две большие улицы между собой.\n",
    "\n",
    "Скорее всего множество заведенй расположены в центре из-за высокого трафика людей, например рядом с учебными заведениями - университетами, так же присутствует исторический фактор, много туристических мест и путей расположено рядом, в центре МОсквы могут располагаться бизнес центры, которые генерируют трафик посетителей."
   ]
  },
  {
   "cell_type": "code",
   "execution_count": 41,
   "metadata": {},
   "outputs": [
    {
     "data": {
      "text/html": [
       "<div>\n",
       "<style scoped>\n",
       "    .dataframe tbody tr th:only-of-type {\n",
       "        vertical-align: middle;\n",
       "    }\n",
       "\n",
       "    .dataframe tbody tr th {\n",
       "        vertical-align: top;\n",
       "    }\n",
       "\n",
       "    .dataframe thead th {\n",
       "        text-align: right;\n",
       "    }\n",
       "</style>\n",
       "<table border=\"1\" class=\"dataframe\">\n",
       "  <thead>\n",
       "    <tr style=\"text-align: right;\">\n",
       "      <th></th>\n",
       "      <th>district</th>\n",
       "      <th>middle_avg_bill</th>\n",
       "    </tr>\n",
       "  </thead>\n",
       "  <tbody>\n",
       "    <tr>\n",
       "      <th>1</th>\n",
       "      <td>Западный административный округ</td>\n",
       "      <td>1,000.00</td>\n",
       "    </tr>\n",
       "    <tr>\n",
       "      <th>5</th>\n",
       "      <td>Центральный административный округ</td>\n",
       "      <td>1,000.00</td>\n",
       "    </tr>\n",
       "    <tr>\n",
       "      <th>4</th>\n",
       "      <td>Северо-Западный административный округ</td>\n",
       "      <td>700.00</td>\n",
       "    </tr>\n",
       "    <tr>\n",
       "      <th>2</th>\n",
       "      <td>Северный административный округ</td>\n",
       "      <td>650.00</td>\n",
       "    </tr>\n",
       "    <tr>\n",
       "      <th>7</th>\n",
       "      <td>Юго-Западный административный округ</td>\n",
       "      <td>600.00</td>\n",
       "    </tr>\n",
       "    <tr>\n",
       "      <th>0</th>\n",
       "      <td>Восточный административный округ</td>\n",
       "      <td>575.00</td>\n",
       "    </tr>\n",
       "    <tr>\n",
       "      <th>3</th>\n",
       "      <td>Северо-Восточный административный округ</td>\n",
       "      <td>500.00</td>\n",
       "    </tr>\n",
       "    <tr>\n",
       "      <th>8</th>\n",
       "      <td>Южный административный округ</td>\n",
       "      <td>500.00</td>\n",
       "    </tr>\n",
       "    <tr>\n",
       "      <th>6</th>\n",
       "      <td>Юго-Восточный административный округ</td>\n",
       "      <td>450.00</td>\n",
       "    </tr>\n",
       "  </tbody>\n",
       "</table>\n",
       "</div>"
      ],
      "text/plain": [
       "                                  district  middle_avg_bill\n",
       "1          Западный административный округ         1,000.00\n",
       "5       Центральный административный округ         1,000.00\n",
       "4   Северо-Западный административный округ           700.00\n",
       "2          Северный административный округ           650.00\n",
       "7      Юго-Западный административный округ           600.00\n",
       "0         Восточный административный округ           575.00\n",
       "3  Северо-Восточный административный округ           500.00\n",
       "8             Южный административный округ           500.00\n",
       "6     Юго-Восточный административный округ           450.00"
      ]
     },
     "metadata": {},
     "output_type": "display_data"
    }
   ],
   "source": [
    "data_median_bill = data.groupby('district', as_index=False)['middle_avg_bill'].agg('median').sort_values('middle_avg_bill', ascending=False)\n",
    "display(data_median_bill)"
   ]
  },
  {
   "cell_type": "markdown",
   "metadata": {},
   "source": [
    "Выводы:\n",
    "\n",
    "    Топ-3 категорий заведений по количеству заведений и количеству посадочных мест: кафе, кофейни и рестораны.\n",
    "    Самым большим по количеству заведений является Центральный административный округ.\n",
    "    В ретингах заведений и рейтингах по округам разницы практически нет.\n",
    "    Наибольший средний чек в Западном и Центральном административных округах."
   ]
  },
  {
   "cell_type": "markdown",
   "metadata": {},
   "source": [
    "## Исследование: открытие кофейни"
   ]
  },
  {
   "cell_type": "markdown",
   "metadata": {},
   "source": [
    "Задача: проанализировать кофейни в датасете и дать рекомендации инвесторам фонда Shut Up and Take My Money которые решили открыть такую же крутую кофейню как \"Central Perk\"."
   ]
  },
  {
   "cell_type": "code",
   "execution_count": 43,
   "metadata": {},
   "outputs": [
    {
     "data": {
      "text/html": [
       "<div>\n",
       "<style scoped>\n",
       "    .dataframe tbody tr th:only-of-type {\n",
       "        vertical-align: middle;\n",
       "    }\n",
       "\n",
       "    .dataframe tbody tr th {\n",
       "        vertical-align: top;\n",
       "    }\n",
       "\n",
       "    .dataframe thead th {\n",
       "        text-align: right;\n",
       "    }\n",
       "</style>\n",
       "<table border=\"1\" class=\"dataframe\">\n",
       "  <thead>\n",
       "    <tr style=\"text-align: right;\">\n",
       "      <th></th>\n",
       "      <th>category</th>\n",
       "      <th>name</th>\n",
       "    </tr>\n",
       "  </thead>\n",
       "  <tbody>\n",
       "    <tr>\n",
       "      <th>3</th>\n",
       "      <td>кафе</td>\n",
       "      <td>2378</td>\n",
       "    </tr>\n",
       "    <tr>\n",
       "      <th>6</th>\n",
       "      <td>ресторан</td>\n",
       "      <td>2043</td>\n",
       "    </tr>\n",
       "    <tr>\n",
       "      <th>4</th>\n",
       "      <td>кофейня</td>\n",
       "      <td>1413</td>\n",
       "    </tr>\n",
       "    <tr>\n",
       "      <th>0</th>\n",
       "      <td>бар,паб</td>\n",
       "      <td>765</td>\n",
       "    </tr>\n",
       "    <tr>\n",
       "      <th>5</th>\n",
       "      <td>пиццерия</td>\n",
       "      <td>633</td>\n",
       "    </tr>\n",
       "    <tr>\n",
       "      <th>2</th>\n",
       "      <td>быстрое питание</td>\n",
       "      <td>603</td>\n",
       "    </tr>\n",
       "    <tr>\n",
       "      <th>7</th>\n",
       "      <td>столовая</td>\n",
       "      <td>315</td>\n",
       "    </tr>\n",
       "    <tr>\n",
       "      <th>1</th>\n",
       "      <td>булочная</td>\n",
       "      <td>256</td>\n",
       "    </tr>\n",
       "  </tbody>\n",
       "</table>\n",
       "</div>"
      ],
      "text/plain": [
       "          category  name\n",
       "3             кафе  2378\n",
       "6         ресторан  2043\n",
       "4          кофейня  1413\n",
       "0          бар,паб   765\n",
       "5         пиццерия   633\n",
       "2  быстрое питание   603\n",
       "7         столовая   315\n",
       "1         булочная   256"
      ]
     },
     "metadata": {},
     "output_type": "display_data"
    }
   ],
   "source": [
    "#Вывел общее количество заведений, в презентации сделал акцент на то, что кофейня занимает лишь 3 место среди всех заведений\n",
    "data_coffee = data.groupby('category', as_index=False)['name'].agg('count').sort_values('name', ascending=False)\n",
    "display(data_coffee)"
   ]
  },
  {
   "cell_type": "code",
   "execution_count": 44,
   "metadata": {},
   "outputs": [
    {
     "data": {
      "image/png": "[encoded data removed]",
      "text/plain": [
       "<Figure size 1008x576 with 1 Axes>"
      ]
     },
     "metadata": {
      "needs_background": "light"
     },
     "output_type": "display_data"
    }
   ],
   "source": [
    "#Строим график соотношения категорий объектов питания\n",
    "plt.figure(figsize=(14, 8))\n",
    "ax = sns.barplot(x='name', y='category',\n",
    "                data=data_coffee)\n",
    "ax.set_title('Соотношение категорий объектов питания')\n",
    "ax.set_xlabel('Количество')\n",
    "ax.set_ylabel('')\n",
    "plt.show()"
   ]
  },
  {
   "cell_type": "markdown",
   "metadata": {},
   "source": [
    "Снова выводим количество заведений по всем категориям и видим что кофейни занимают лишь 3 место среди всех категорий по количеству заведений, конкуренцию никто не отменял, но в нашей категории она будет меньше из-за количества кофеен."
   ]
  },
  {
   "cell_type": "code",
   "execution_count": 45,
   "metadata": {},
   "outputs": [
    {
     "data": {
      "text/html": [
       "<div>\n",
       "<style scoped>\n",
       "    .dataframe tbody tr th:only-of-type {\n",
       "        vertical-align: middle;\n",
       "    }\n",
       "\n",
       "    .dataframe tbody tr th {\n",
       "        vertical-align: top;\n",
       "    }\n",
       "\n",
       "    .dataframe thead th {\n",
       "        text-align: right;\n",
       "    }\n",
       "</style>\n",
       "<table border=\"1\" class=\"dataframe\">\n",
       "  <thead>\n",
       "    <tr style=\"text-align: right;\">\n",
       "      <th></th>\n",
       "      <th>district</th>\n",
       "      <th>name</th>\n",
       "    </tr>\n",
       "  </thead>\n",
       "  <tbody>\n",
       "    <tr>\n",
       "      <th>5</th>\n",
       "      <td>Центральный административный округ</td>\n",
       "      <td>428</td>\n",
       "    </tr>\n",
       "    <tr>\n",
       "      <th>2</th>\n",
       "      <td>Северный административный округ</td>\n",
       "      <td>193</td>\n",
       "    </tr>\n",
       "    <tr>\n",
       "      <th>3</th>\n",
       "      <td>Северо-Восточный административный округ</td>\n",
       "      <td>159</td>\n",
       "    </tr>\n",
       "    <tr>\n",
       "      <th>1</th>\n",
       "      <td>Западный административный округ</td>\n",
       "      <td>150</td>\n",
       "    </tr>\n",
       "    <tr>\n",
       "      <th>8</th>\n",
       "      <td>Южный административный округ</td>\n",
       "      <td>131</td>\n",
       "    </tr>\n",
       "    <tr>\n",
       "      <th>0</th>\n",
       "      <td>Восточный административный округ</td>\n",
       "      <td>105</td>\n",
       "    </tr>\n",
       "    <tr>\n",
       "      <th>7</th>\n",
       "      <td>Юго-Западный административный округ</td>\n",
       "      <td>96</td>\n",
       "    </tr>\n",
       "    <tr>\n",
       "      <th>6</th>\n",
       "      <td>Юго-Восточный административный округ</td>\n",
       "      <td>89</td>\n",
       "    </tr>\n",
       "    <tr>\n",
       "      <th>4</th>\n",
       "      <td>Северо-Западный административный округ</td>\n",
       "      <td>62</td>\n",
       "    </tr>\n",
       "  </tbody>\n",
       "</table>\n",
       "</div>"
      ],
      "text/plain": [
       "                                  district  name\n",
       "5       Центральный административный округ   428\n",
       "2          Северный административный округ   193\n",
       "3  Северо-Восточный административный округ   159\n",
       "1          Западный административный округ   150\n",
       "8             Южный административный округ   131\n",
       "0         Восточный административный округ   105\n",
       "7      Юго-Западный административный округ    96\n",
       "6     Юго-Восточный административный округ    89\n",
       "4   Северо-Западный административный округ    62"
      ]
     },
     "metadata": {},
     "output_type": "display_data"
    }
   ],
   "source": [
    "#Далее иллюстрирую распределение по административным округам\n",
    "data_coffee_district = data.query('category == \"кофейня\"').groupby('district', as_index=False)['name'].agg('count').sort_values('name', ascending=False)\n",
    "display(data_coffee_district)"
   ]
  },
  {
   "cell_type": "code",
   "execution_count": 46,
   "metadata": {},
   "outputs": [
    {
     "data": {
      "image/png": "[encoded data removed]",
      "text/plain": [
       "<Figure size 1008x576 with 1 Axes>"
      ]
     },
     "metadata": {
      "needs_background": "light"
     },
     "output_type": "display_data"
    }
   ],
   "source": [
    "#Строим график распределения кофеен по округам\n",
    "plt.figure(figsize=(14, 8))\n",
    "ax = sns.barplot(x='name', y='district',\n",
    "                data=data_coffee_district)\n",
    "ax.set_title('Распределение кофеен по округам')\n",
    "ax.set_xlabel('Количество')\n",
    "ax.set_ylabel('')\n",
    "plt.show()"
   ]
  },
  {
   "cell_type": "markdown",
   "metadata": {},
   "source": [
    "Боольше всего кофеен в ЦАО - центр города, туристические маршруты, университеты, бизнес-центры, всё это генерирует большой трафик людей."
   ]
  },
  {
   "cell_type": "code",
   "execution_count": 47,
   "metadata": {},
   "outputs": [
    {
     "data": {
      "text/html": [
       "<div>\n",
       "<style scoped>\n",
       "    .dataframe tbody tr th:only-of-type {\n",
       "        vertical-align: middle;\n",
       "    }\n",
       "\n",
       "    .dataframe tbody tr th {\n",
       "        vertical-align: top;\n",
       "    }\n",
       "\n",
       "    .dataframe thead th {\n",
       "        text-align: right;\n",
       "    }\n",
       "</style>\n",
       "<table border=\"1\" class=\"dataframe\">\n",
       "  <thead>\n",
       "    <tr style=\"text-align: right;\">\n",
       "      <th></th>\n",
       "      <th>is_24/7</th>\n",
       "      <th>name</th>\n",
       "    </tr>\n",
       "  </thead>\n",
       "  <tbody>\n",
       "    <tr>\n",
       "      <th>0</th>\n",
       "      <td>False</td>\n",
       "      <td>1354</td>\n",
       "    </tr>\n",
       "    <tr>\n",
       "      <th>1</th>\n",
       "      <td>True</td>\n",
       "      <td>59</td>\n",
       "    </tr>\n",
       "  </tbody>\n",
       "</table>\n",
       "</div>"
      ],
      "text/plain": [
       "   is_24/7  name\n",
       "0    False  1354\n",
       "1     True    59"
      ]
     },
     "metadata": {},
     "output_type": "display_data"
    }
   ],
   "source": [
    "#Сортируем кофейни по столбцу 24/7 который отвечает за круглосуточную работу заведения.\n",
    "data_coffee_alltime = data.query('category == \"кофейня\"').groupby('is_24/7', as_index=False)['name'].agg('count')\n",
    "\n",
    "display(data_coffee_alltime)\n",
    "\n",
    "labels = ['Не работают круглосуточно и ежедневно','Работают круглосуточно и ежедневно']"
   ]
  },
  {
   "cell_type": "code",
   "execution_count": 48,
   "metadata": {},
   "outputs": [
    {
     "data": {
      "image/png": "[encoded data removed]",
      "text/plain": [
       "<Figure size 1080x720 with 1 Axes>"
      ]
     },
     "metadata": {},
     "output_type": "display_data"
    }
   ],
   "source": [
    "#Строим график количества кофеен работающих и не работающих круглосуточно\n",
    "plt.figure(figsize=(15,10))\n",
    "plt.pie(data_coffee_alltime['name'],\n",
    "       labels=labels,\n",
    "       autopct='%1.1f%%',\n",
    "       shadow=True)\n",
    "plt.title('Количество кофеен работающих круглосуточно')\n",
    "plt.show()"
   ]
  },
  {
   "cell_type": "markdown",
   "metadata": {},
   "source": [
    "лишь 4.2% кофеен работает круглосуточно и ежедневно, тут есть плюсы и минусы\n",
    "\n",
    "Плюсы: мы всегда открыты и готовы продавать кофе всем посетителям, тем более количество круглосуточных и ежедневных кофеен очень маленькое.\n",
    "\n",
    "Минусы: ночью низкий трафик людей, но есть такая прослойка людей которые любят ночную жизнь, вопрос: будет ли прибыль превышать затраты на ночную работу ? Тут нужно дополнительно исследовать генерацию прибыли в ночные часы чтобы дать точный ответ."
   ]
  },
  {
   "cell_type": "code",
   "execution_count": 49,
   "metadata": {},
   "outputs": [
    {
     "data": {
      "text/html": [
       "<div>\n",
       "<style scoped>\n",
       "    .dataframe tbody tr th:only-of-type {\n",
       "        vertical-align: middle;\n",
       "    }\n",
       "\n",
       "    .dataframe tbody tr th {\n",
       "        vertical-align: top;\n",
       "    }\n",
       "\n",
       "    .dataframe thead th {\n",
       "        text-align: right;\n",
       "    }\n",
       "</style>\n",
       "<table border=\"1\" class=\"dataframe\">\n",
       "  <thead>\n",
       "    <tr style=\"text-align: right;\">\n",
       "      <th></th>\n",
       "      <th>district</th>\n",
       "      <th>rating</th>\n",
       "    </tr>\n",
       "  </thead>\n",
       "  <tbody>\n",
       "    <tr>\n",
       "      <th>0</th>\n",
       "      <td>Восточный административный округ</td>\n",
       "      <td>4.30</td>\n",
       "    </tr>\n",
       "    <tr>\n",
       "      <th>1</th>\n",
       "      <td>Западный административный округ</td>\n",
       "      <td>4.20</td>\n",
       "    </tr>\n",
       "    <tr>\n",
       "      <th>2</th>\n",
       "      <td>Северный административный округ</td>\n",
       "      <td>4.30</td>\n",
       "    </tr>\n",
       "    <tr>\n",
       "      <th>3</th>\n",
       "      <td>Северо-Восточный административный округ</td>\n",
       "      <td>4.30</td>\n",
       "    </tr>\n",
       "    <tr>\n",
       "      <th>4</th>\n",
       "      <td>Северо-Западный административный округ</td>\n",
       "      <td>4.30</td>\n",
       "    </tr>\n",
       "    <tr>\n",
       "      <th>5</th>\n",
       "      <td>Центральный административный округ</td>\n",
       "      <td>4.30</td>\n",
       "    </tr>\n",
       "    <tr>\n",
       "      <th>6</th>\n",
       "      <td>Юго-Восточный административный округ</td>\n",
       "      <td>4.30</td>\n",
       "    </tr>\n",
       "    <tr>\n",
       "      <th>7</th>\n",
       "      <td>Юго-Западный административный округ</td>\n",
       "      <td>4.30</td>\n",
       "    </tr>\n",
       "    <tr>\n",
       "      <th>8</th>\n",
       "      <td>Южный административный округ</td>\n",
       "      <td>4.30</td>\n",
       "    </tr>\n",
       "  </tbody>\n",
       "</table>\n",
       "</div>"
      ],
      "text/plain": [
       "                                  district  rating\n",
       "0         Восточный административный округ    4.30\n",
       "1          Западный административный округ    4.20\n",
       "2          Северный административный округ    4.30\n",
       "3  Северо-Восточный административный округ    4.30\n",
       "4   Северо-Западный административный округ    4.30\n",
       "5       Центральный административный округ    4.30\n",
       "6     Юго-Восточный административный округ    4.30\n",
       "7      Юго-Западный административный округ    4.30\n",
       "8             Южный административный округ    4.30"
      ]
     },
     "metadata": {},
     "output_type": "display_data"
    },
    {
     "data": {
      "text/plain": [
       "count   8,406.00\n",
       "mean        4.23\n",
       "std         0.47\n",
       "min         1.00\n",
       "25%         4.10\n",
       "50%         4.30\n",
       "75%         4.40\n",
       "max         5.00\n",
       "Name: rating, dtype: float64"
      ]
     },
     "metadata": {},
     "output_type": "display_data"
    }
   ],
   "source": [
    "#Смотрим рейтинг по медиане\n",
    "data_coffee_rating = data.query('category == \"кофейня\"').groupby('district', as_index=False)['rating'].agg('median')\n",
    "display(data_coffee_rating)\n",
    "display(data['rating'].describe())"
   ]
  },
  {
   "cell_type": "code",
   "execution_count": 50,
   "metadata": {},
   "outputs": [
    {
     "data": {
      "text/html": [
       "<div>\n",
       "<style scoped>\n",
       "    .dataframe tbody tr th:only-of-type {\n",
       "        vertical-align: middle;\n",
       "    }\n",
       "\n",
       "    .dataframe tbody tr th {\n",
       "        vertical-align: top;\n",
       "    }\n",
       "\n",
       "    .dataframe thead th {\n",
       "        text-align: right;\n",
       "    }\n",
       "</style>\n",
       "<table border=\"1\" class=\"dataframe\">\n",
       "  <thead>\n",
       "    <tr style=\"text-align: right;\">\n",
       "      <th></th>\n",
       "      <th>index</th>\n",
       "      <th>district</th>\n",
       "      <th>mean</th>\n",
       "    </tr>\n",
       "  </thead>\n",
       "  <tbody>\n",
       "    <tr>\n",
       "      <th>5</th>\n",
       "      <td>5</td>\n",
       "      <td>Центральный административный округ</td>\n",
       "      <td>4.34</td>\n",
       "    </tr>\n",
       "    <tr>\n",
       "      <th>4</th>\n",
       "      <td>4</td>\n",
       "      <td>Северо-Западный административный округ</td>\n",
       "      <td>4.33</td>\n",
       "    </tr>\n",
       "    <tr>\n",
       "      <th>2</th>\n",
       "      <td>2</td>\n",
       "      <td>Северный административный округ</td>\n",
       "      <td>4.29</td>\n",
       "    </tr>\n",
       "    <tr>\n",
       "      <th>7</th>\n",
       "      <td>7</td>\n",
       "      <td>Юго-Западный административный округ</td>\n",
       "      <td>4.28</td>\n",
       "    </tr>\n",
       "    <tr>\n",
       "      <th>0</th>\n",
       "      <td>0</td>\n",
       "      <td>Восточный административный округ</td>\n",
       "      <td>4.28</td>\n",
       "    </tr>\n",
       "    <tr>\n",
       "      <th>8</th>\n",
       "      <td>8</td>\n",
       "      <td>Южный административный округ</td>\n",
       "      <td>4.23</td>\n",
       "    </tr>\n",
       "    <tr>\n",
       "      <th>6</th>\n",
       "      <td>6</td>\n",
       "      <td>Юго-Восточный административный округ</td>\n",
       "      <td>4.23</td>\n",
       "    </tr>\n",
       "    <tr>\n",
       "      <th>3</th>\n",
       "      <td>3</td>\n",
       "      <td>Северо-Восточный административный округ</td>\n",
       "      <td>4.22</td>\n",
       "    </tr>\n",
       "    <tr>\n",
       "      <th>1</th>\n",
       "      <td>1</td>\n",
       "      <td>Западный административный округ</td>\n",
       "      <td>4.20</td>\n",
       "    </tr>\n",
       "  </tbody>\n",
       "</table>\n",
       "</div>"
      ],
      "text/plain": [
       "   index                                 district  mean\n",
       "5      5       Центральный административный округ  4.34\n",
       "4      4   Северо-Западный административный округ  4.33\n",
       "2      2          Северный административный округ  4.29\n",
       "7      7      Юго-Западный административный округ  4.28\n",
       "0      0         Восточный административный округ  4.28\n",
       "8      8             Южный административный округ  4.23\n",
       "6      6     Юго-Восточный административный округ  4.23\n",
       "3      3  Северо-Восточный административный округ  4.22\n",
       "1      1          Западный административный округ  4.20"
      ]
     },
     "metadata": {},
     "output_type": "display_data"
    }
   ],
   "source": [
    "#Строим график рейтинга кофеен по округам по медиане\n",
    "data_coffee_rating = (data.query('category == \"кофейня\"')\n",
    "                      .groupby('district', as_index=False)\n",
    "                      .agg(mean=('rating', 'mean'))\n",
    "                      .reset_index()\n",
    "                      .sort_values('mean', ascending=False))\n",
    "display(data_coffee_rating)"
   ]
  },
  {
   "cell_type": "markdown",
   "metadata": {},
   "source": [
    "Медианный и средний рейтинги почти ничем не отличаются, как минимум можно поставить планку выйти на рейтинг не ниже медианного после открытия кофейни, думаю это можно будет считать за успех и стремиться к рейтингу 5.0"
   ]
  },
  {
   "cell_type": "code",
   "execution_count": 51,
   "metadata": {},
   "outputs": [
    {
     "data": {
      "text/html": [
       "<div>\n",
       "<style scoped>\n",
       "    .dataframe tbody tr th:only-of-type {\n",
       "        vertical-align: middle;\n",
       "    }\n",
       "\n",
       "    .dataframe tbody tr th {\n",
       "        vertical-align: top;\n",
       "    }\n",
       "\n",
       "    .dataframe thead th {\n",
       "        text-align: right;\n",
       "    }\n",
       "</style>\n",
       "<table border=\"1\" class=\"dataframe\">\n",
       "  <thead>\n",
       "    <tr style=\"text-align: right;\">\n",
       "      <th></th>\n",
       "      <th>district</th>\n",
       "      <th>middle_coffee_cup</th>\n",
       "    </tr>\n",
       "  </thead>\n",
       "  <tbody>\n",
       "    <tr>\n",
       "      <th>7</th>\n",
       "      <td>Юго-Западный административный округ</td>\n",
       "      <td>198.00</td>\n",
       "    </tr>\n",
       "    <tr>\n",
       "      <th>5</th>\n",
       "      <td>Центральный административный округ</td>\n",
       "      <td>190.00</td>\n",
       "    </tr>\n",
       "    <tr>\n",
       "      <th>1</th>\n",
       "      <td>Западный административный округ</td>\n",
       "      <td>189.00</td>\n",
       "    </tr>\n",
       "    <tr>\n",
       "      <th>4</th>\n",
       "      <td>Северо-Западный административный округ</td>\n",
       "      <td>165.00</td>\n",
       "    </tr>\n",
       "    <tr>\n",
       "      <th>3</th>\n",
       "      <td>Северо-Восточный административный округ</td>\n",
       "      <td>162.50</td>\n",
       "    </tr>\n",
       "    <tr>\n",
       "      <th>2</th>\n",
       "      <td>Северный административный округ</td>\n",
       "      <td>159.00</td>\n",
       "    </tr>\n",
       "    <tr>\n",
       "      <th>8</th>\n",
       "      <td>Южный административный округ</td>\n",
       "      <td>150.00</td>\n",
       "    </tr>\n",
       "    <tr>\n",
       "      <th>6</th>\n",
       "      <td>Юго-Восточный административный округ</td>\n",
       "      <td>147.50</td>\n",
       "    </tr>\n",
       "    <tr>\n",
       "      <th>0</th>\n",
       "      <td>Восточный административный округ</td>\n",
       "      <td>135.00</td>\n",
       "    </tr>\n",
       "  </tbody>\n",
       "</table>\n",
       "</div>"
      ],
      "text/plain": [
       "                                  district  middle_coffee_cup\n",
       "7      Юго-Западный административный округ             198.00\n",
       "5       Центральный административный округ             190.00\n",
       "1          Западный административный округ             189.00\n",
       "4   Северо-Западный административный округ             165.00\n",
       "3  Северо-Восточный административный округ             162.50\n",
       "2          Северный административный округ             159.00\n",
       "8             Южный административный округ             150.00\n",
       "6     Юго-Восточный административный округ             147.50\n",
       "0         Восточный административный округ             135.00"
      ]
     },
     "metadata": {},
     "output_type": "display_data"
    },
    {
     "data": {
      "text/html": [
       "<div>\n",
       "<style scoped>\n",
       "    .dataframe tbody tr th:only-of-type {\n",
       "        vertical-align: middle;\n",
       "    }\n",
       "\n",
       "    .dataframe tbody tr th {\n",
       "        vertical-align: top;\n",
       "    }\n",
       "\n",
       "    .dataframe thead th {\n",
       "        text-align: right;\n",
       "    }\n",
       "</style>\n",
       "<table border=\"1\" class=\"dataframe\">\n",
       "  <thead>\n",
       "    <tr style=\"text-align: right;\">\n",
       "      <th></th>\n",
       "      <th>middle_coffee_cup</th>\n",
       "    </tr>\n",
       "  </thead>\n",
       "  <tbody>\n",
       "    <tr>\n",
       "      <th>count</th>\n",
       "      <td>9.00</td>\n",
       "    </tr>\n",
       "    <tr>\n",
       "      <th>mean</th>\n",
       "      <td>166.22</td>\n",
       "    </tr>\n",
       "    <tr>\n",
       "      <th>std</th>\n",
       "      <td>21.65</td>\n",
       "    </tr>\n",
       "    <tr>\n",
       "      <th>min</th>\n",
       "      <td>135.00</td>\n",
       "    </tr>\n",
       "    <tr>\n",
       "      <th>25%</th>\n",
       "      <td>150.00</td>\n",
       "    </tr>\n",
       "    <tr>\n",
       "      <th>50%</th>\n",
       "      <td>162.50</td>\n",
       "    </tr>\n",
       "    <tr>\n",
       "      <th>75%</th>\n",
       "      <td>189.00</td>\n",
       "    </tr>\n",
       "    <tr>\n",
       "      <th>max</th>\n",
       "      <td>198.00</td>\n",
       "    </tr>\n",
       "  </tbody>\n",
       "</table>\n",
       "</div>"
      ],
      "text/plain": [
       "       middle_coffee_cup\n",
       "count               9.00\n",
       "mean              166.22\n",
       "std                21.65\n",
       "min               135.00\n",
       "25%               150.00\n",
       "50%               162.50\n",
       "75%               189.00\n",
       "max               198.00"
      ]
     },
     "execution_count": 51,
     "metadata": {},
     "output_type": "execute_result"
    }
   ],
   "source": [
    "#Смотрим на цену чашки каппучино по медиане\n",
    "data_coffee_price = (data.query('category == \"кофейня\"').groupby('district', as_index=False)['middle_coffee_cup'].agg('median')\n",
    ".sort_values('middle_coffee_cup', ascending=False))\n",
    "display(data_coffee_price)\n",
    "data_coffee_price.describe()"
   ]
  },
  {
   "cell_type": "code",
   "execution_count": 52,
   "metadata": {},
   "outputs": [
    {
     "data": {
      "image/png": "[encoded data removed]",
      "text/plain": [
       "<Figure size 1008x576 with 1 Axes>"
      ]
     },
     "metadata": {
      "needs_background": "light"
     },
     "output_type": "display_data"
    }
   ],
   "source": [
    "#Строим график распределения цены кружки каппучино по округам\n",
    "plt.figure(figsize=(14, 8))\n",
    "ax = sns.barplot(x='middle_coffee_cup', y='district',\n",
    "                data=data_coffee_price)\n",
    "ax.set_title('Распределение цены кружки каппучино по округам')\n",
    "ax.set_xlabel('Средняя цена кружки капучино')\n",
    "ax.set_ylabel('')\n",
    "plt.show()"
   ]
  },
  {
   "cell_type": "code",
   "execution_count": 53,
   "metadata": {},
   "outputs": [
    {
     "data": {
      "text/html": [
       "<div>\n",
       "<style scoped>\n",
       "    .dataframe tbody tr th:only-of-type {\n",
       "        vertical-align: middle;\n",
       "    }\n",
       "\n",
       "    .dataframe tbody tr th {\n",
       "        vertical-align: top;\n",
       "    }\n",
       "\n",
       "    .dataframe thead th {\n",
       "        text-align: right;\n",
       "    }\n",
       "</style>\n",
       "<table border=\"1\" class=\"dataframe\">\n",
       "  <thead>\n",
       "    <tr style=\"text-align: right;\">\n",
       "      <th></th>\n",
       "      <th>index</th>\n",
       "      <th>district</th>\n",
       "      <th>mean</th>\n",
       "    </tr>\n",
       "  </thead>\n",
       "  <tbody>\n",
       "    <tr>\n",
       "      <th>1</th>\n",
       "      <td>1</td>\n",
       "      <td>Западный административный округ</td>\n",
       "      <td>189.94</td>\n",
       "    </tr>\n",
       "    <tr>\n",
       "      <th>5</th>\n",
       "      <td>5</td>\n",
       "      <td>Центральный административный округ</td>\n",
       "      <td>187.52</td>\n",
       "    </tr>\n",
       "    <tr>\n",
       "      <th>7</th>\n",
       "      <td>7</td>\n",
       "      <td>Юго-Западный административный округ</td>\n",
       "      <td>184.18</td>\n",
       "    </tr>\n",
       "    <tr>\n",
       "      <th>0</th>\n",
       "      <td>0</td>\n",
       "      <td>Восточный административный округ</td>\n",
       "      <td>174.02</td>\n",
       "    </tr>\n",
       "    <tr>\n",
       "      <th>2</th>\n",
       "      <td>2</td>\n",
       "      <td>Северный административный округ</td>\n",
       "      <td>165.79</td>\n",
       "    </tr>\n",
       "    <tr>\n",
       "      <th>4</th>\n",
       "      <td>4</td>\n",
       "      <td>Северо-Западный административный округ</td>\n",
       "      <td>165.52</td>\n",
       "    </tr>\n",
       "    <tr>\n",
       "      <th>3</th>\n",
       "      <td>3</td>\n",
       "      <td>Северо-Восточный административный округ</td>\n",
       "      <td>165.33</td>\n",
       "    </tr>\n",
       "    <tr>\n",
       "      <th>8</th>\n",
       "      <td>8</td>\n",
       "      <td>Южный административный округ</td>\n",
       "      <td>158.49</td>\n",
       "    </tr>\n",
       "    <tr>\n",
       "      <th>6</th>\n",
       "      <td>6</td>\n",
       "      <td>Юго-Восточный административный округ</td>\n",
       "      <td>151.09</td>\n",
       "    </tr>\n",
       "  </tbody>\n",
       "</table>\n",
       "</div>"
      ],
      "text/plain": [
       "   index                                 district   mean\n",
       "1      1          Западный административный округ 189.94\n",
       "5      5       Центральный административный округ 187.52\n",
       "7      7      Юго-Западный административный округ 184.18\n",
       "0      0         Восточный административный округ 174.02\n",
       "2      2          Северный административный округ 165.79\n",
       "4      4   Северо-Западный административный округ 165.52\n",
       "3      3  Северо-Восточный административный округ 165.33\n",
       "8      8             Южный административный округ 158.49\n",
       "6      6     Юго-Восточный административный округ 151.09"
      ]
     },
     "metadata": {},
     "output_type": "display_data"
    },
    {
     "data": {
      "text/html": [
       "<div>\n",
       "<style scoped>\n",
       "    .dataframe tbody tr th:only-of-type {\n",
       "        vertical-align: middle;\n",
       "    }\n",
       "\n",
       "    .dataframe tbody tr th {\n",
       "        vertical-align: top;\n",
       "    }\n",
       "\n",
       "    .dataframe thead th {\n",
       "        text-align: right;\n",
       "    }\n",
       "</style>\n",
       "<table border=\"1\" class=\"dataframe\">\n",
       "  <thead>\n",
       "    <tr style=\"text-align: right;\">\n",
       "      <th></th>\n",
       "      <th>index</th>\n",
       "      <th>mean</th>\n",
       "    </tr>\n",
       "  </thead>\n",
       "  <tbody>\n",
       "    <tr>\n",
       "      <th>count</th>\n",
       "      <td>9.00</td>\n",
       "      <td>9.00</td>\n",
       "    </tr>\n",
       "    <tr>\n",
       "      <th>mean</th>\n",
       "      <td>4.00</td>\n",
       "      <td>171.32</td>\n",
       "    </tr>\n",
       "    <tr>\n",
       "      <th>std</th>\n",
       "      <td>2.74</td>\n",
       "      <td>13.49</td>\n",
       "    </tr>\n",
       "    <tr>\n",
       "      <th>min</th>\n",
       "      <td>0.00</td>\n",
       "      <td>151.09</td>\n",
       "    </tr>\n",
       "    <tr>\n",
       "      <th>25%</th>\n",
       "      <td>2.00</td>\n",
       "      <td>165.33</td>\n",
       "    </tr>\n",
       "    <tr>\n",
       "      <th>50%</th>\n",
       "      <td>4.00</td>\n",
       "      <td>165.79</td>\n",
       "    </tr>\n",
       "    <tr>\n",
       "      <th>75%</th>\n",
       "      <td>6.00</td>\n",
       "      <td>184.18</td>\n",
       "    </tr>\n",
       "    <tr>\n",
       "      <th>max</th>\n",
       "      <td>8.00</td>\n",
       "      <td>189.94</td>\n",
       "    </tr>\n",
       "  </tbody>\n",
       "</table>\n",
       "</div>"
      ],
      "text/plain": [
       "       index   mean\n",
       "count   9.00   9.00\n",
       "mean    4.00 171.32\n",
       "std     2.74  13.49\n",
       "min     0.00 151.09\n",
       "25%     2.00 165.33\n",
       "50%     4.00 165.79\n",
       "75%     6.00 184.18\n",
       "max     8.00 189.94"
      ]
     },
     "execution_count": 53,
     "metadata": {},
     "output_type": "execute_result"
    }
   ],
   "source": [
    "#Смотрим на среднюю цену чашки каппучино\n",
    "data_coffee_price = (data.query('category == \"кофейня\"')\n",
    "                      .groupby('district', as_index=False)\n",
    "                      .agg(mean=('middle_coffee_cup', 'mean'))\n",
    "                      .reset_index()\n",
    "                      .sort_values('mean', ascending=False))\n",
    "display(data_coffee_price)\n",
    "data_coffee_price.describe()"
   ]
  },
  {
   "cell_type": "code",
   "execution_count": 54,
   "metadata": {},
   "outputs": [
    {
     "data": {
      "image/png": "[encoded data removed]",
      "text/plain": [
       "<Figure size 1008x576 with 1 Axes>"
      ]
     },
     "metadata": {
      "needs_background": "light"
     },
     "output_type": "display_data"
    }
   ],
   "source": [
    "#Строим график распределения цены кружки каппучино по округам\n",
    "plt.figure(figsize=(14, 8))\n",
    "ax = sns.barplot(x='mean', y='district',\n",
    "                data=data_coffee_price)\n",
    "ax.set_title('Распределение цены кружки каппучино по округам')\n",
    "ax.set_xlabel('Средняя цена кружки капучино')\n",
    "ax.set_ylabel('')\n",
    "plt.show()"
   ]
  },
  {
   "cell_type": "markdown",
   "metadata": {},
   "source": [
    "Самые высокие цены на кружку каппучино в ЗАО и ЦАО."
   ]
  },
  {
   "cell_type": "code",
   "execution_count": 55,
   "metadata": {},
   "outputs": [
    {
     "data": {
      "text/html": [
       "<div>\n",
       "<style scoped>\n",
       "    .dataframe tbody tr th:only-of-type {\n",
       "        vertical-align: middle;\n",
       "    }\n",
       "\n",
       "    .dataframe tbody tr th {\n",
       "        vertical-align: top;\n",
       "    }\n",
       "\n",
       "    .dataframe thead th {\n",
       "        text-align: right;\n",
       "    }\n",
       "</style>\n",
       "<table border=\"1\" class=\"dataframe\">\n",
       "  <thead>\n",
       "    <tr style=\"text-align: right;\">\n",
       "      <th></th>\n",
       "      <th>district</th>\n",
       "      <th>middle_avg_bill</th>\n",
       "    </tr>\n",
       "  </thead>\n",
       "  <tbody>\n",
       "    <tr>\n",
       "      <th>1</th>\n",
       "      <td>Западный административный округ</td>\n",
       "      <td>600.00</td>\n",
       "    </tr>\n",
       "    <tr>\n",
       "      <th>5</th>\n",
       "      <td>Центральный административный округ</td>\n",
       "      <td>500.00</td>\n",
       "    </tr>\n",
       "    <tr>\n",
       "      <th>0</th>\n",
       "      <td>Восточный административный округ</td>\n",
       "      <td>400.00</td>\n",
       "    </tr>\n",
       "    <tr>\n",
       "      <th>8</th>\n",
       "      <td>Южный административный округ</td>\n",
       "      <td>387.50</td>\n",
       "    </tr>\n",
       "    <tr>\n",
       "      <th>7</th>\n",
       "      <td>Юго-Западный административный округ</td>\n",
       "      <td>375.00</td>\n",
       "    </tr>\n",
       "    <tr>\n",
       "      <th>2</th>\n",
       "      <td>Северный административный округ</td>\n",
       "      <td>325.00</td>\n",
       "    </tr>\n",
       "    <tr>\n",
       "      <th>3</th>\n",
       "      <td>Северо-Восточный административный округ</td>\n",
       "      <td>325.00</td>\n",
       "    </tr>\n",
       "    <tr>\n",
       "      <th>4</th>\n",
       "      <td>Северо-Западный административный округ</td>\n",
       "      <td>325.00</td>\n",
       "    </tr>\n",
       "    <tr>\n",
       "      <th>6</th>\n",
       "      <td>Юго-Восточный административный округ</td>\n",
       "      <td>250.00</td>\n",
       "    </tr>\n",
       "  </tbody>\n",
       "</table>\n",
       "</div>"
      ],
      "text/plain": [
       "                                  district  middle_avg_bill\n",
       "1          Западный административный округ           600.00\n",
       "5       Центральный административный округ           500.00\n",
       "0         Восточный административный округ           400.00\n",
       "8             Южный административный округ           387.50\n",
       "7      Юго-Западный административный округ           375.00\n",
       "2          Северный административный округ           325.00\n",
       "3  Северо-Восточный административный округ           325.00\n",
       "4   Северо-Западный административный округ           325.00\n",
       "6     Юго-Восточный административный округ           250.00"
      ]
     },
     "metadata": {},
     "output_type": "display_data"
    },
    {
     "data": {
      "text/plain": [
       "count     9.00\n",
       "mean    387.50\n",
       "std     105.33\n",
       "min     250.00\n",
       "25%     325.00\n",
       "50%     375.00\n",
       "75%     400.00\n",
       "max     600.00\n",
       "Name: middle_avg_bill, dtype: float64"
      ]
     },
     "metadata": {},
     "output_type": "display_data"
    }
   ],
   "source": [
    "#Смотрим на средний чек по округам\n",
    "data_coffee_avgbill = (data.query('category == \"кофейня\"').groupby('district', as_index=False)['middle_avg_bill'].agg('median')\n",
    ".sort_values('middle_avg_bill', ascending=False))\n",
    "display(data_coffee_avgbill)\n",
    "display(data_coffee_avgbill['middle_avg_bill'].describe())"
   ]
  },
  {
   "cell_type": "code",
   "execution_count": 56,
   "metadata": {},
   "outputs": [
    {
     "data": {
      "image/png": "[encoded data removed]",
      "text/plain": [
       "<Figure size 1008x576 with 1 Axes>"
      ]
     },
     "metadata": {
      "needs_background": "light"
     },
     "output_type": "display_data"
    }
   ],
   "source": [
    "#Строим график распределения среднего чека по округам\n",
    "plt.figure(figsize=(14,8))\n",
    "ax = sns.barplot(x='middle_avg_bill', y='district',\n",
    "                data=data_coffee_avgbill)\n",
    "ax.set_title('Распределение среднего чека по округам')\n",
    "ax.set_xlabel('Средний чек')\n",
    "ax.set_ylabel('')\n",
    "plt.show()"
   ]
  },
  {
   "cell_type": "code",
   "execution_count": 57,
   "metadata": {},
   "outputs": [
    {
     "data": {
      "text/html": [
       "<div>\n",
       "<style scoped>\n",
       "    .dataframe tbody tr th:only-of-type {\n",
       "        vertical-align: middle;\n",
       "    }\n",
       "\n",
       "    .dataframe tbody tr th {\n",
       "        vertical-align: top;\n",
       "    }\n",
       "\n",
       "    .dataframe thead th {\n",
       "        text-align: right;\n",
       "    }\n",
       "</style>\n",
       "<table border=\"1\" class=\"dataframe\">\n",
       "  <thead>\n",
       "    <tr style=\"text-align: right;\">\n",
       "      <th></th>\n",
       "      <th>index</th>\n",
       "      <th>district</th>\n",
       "      <th>mean</th>\n",
       "    </tr>\n",
       "  </thead>\n",
       "  <tbody>\n",
       "    <tr>\n",
       "      <th>5</th>\n",
       "      <td>5</td>\n",
       "      <td>Центральный административный округ</td>\n",
       "      <td>794.76</td>\n",
       "    </tr>\n",
       "    <tr>\n",
       "      <th>1</th>\n",
       "      <td>1</td>\n",
       "      <td>Западный административный округ</td>\n",
       "      <td>694.44</td>\n",
       "    </tr>\n",
       "    <tr>\n",
       "      <th>8</th>\n",
       "      <td>8</td>\n",
       "      <td>Южный административный округ</td>\n",
       "      <td>504.78</td>\n",
       "    </tr>\n",
       "    <tr>\n",
       "      <th>2</th>\n",
       "      <td>2</td>\n",
       "      <td>Северный административный округ</td>\n",
       "      <td>495.74</td>\n",
       "    </tr>\n",
       "    <tr>\n",
       "      <th>0</th>\n",
       "      <td>0</td>\n",
       "      <td>Восточный административный округ</td>\n",
       "      <td>486.11</td>\n",
       "    </tr>\n",
       "    <tr>\n",
       "      <th>4</th>\n",
       "      <td>4</td>\n",
       "      <td>Северо-Западный административный округ</td>\n",
       "      <td>440.64</td>\n",
       "    </tr>\n",
       "    <tr>\n",
       "      <th>3</th>\n",
       "      <td>3</td>\n",
       "      <td>Северо-Восточный административный округ</td>\n",
       "      <td>433.16</td>\n",
       "    </tr>\n",
       "    <tr>\n",
       "      <th>7</th>\n",
       "      <td>7</td>\n",
       "      <td>Юго-Западный административный округ</td>\n",
       "      <td>381.82</td>\n",
       "    </tr>\n",
       "    <tr>\n",
       "      <th>6</th>\n",
       "      <td>6</td>\n",
       "      <td>Юго-Восточный административный округ</td>\n",
       "      <td>263.00</td>\n",
       "    </tr>\n",
       "  </tbody>\n",
       "</table>\n",
       "</div>"
      ],
      "text/plain": [
       "   index                                 district   mean\n",
       "5      5       Центральный административный округ 794.76\n",
       "1      1          Западный административный округ 694.44\n",
       "8      8             Южный административный округ 504.78\n",
       "2      2          Северный административный округ 495.74\n",
       "0      0         Восточный административный округ 486.11\n",
       "4      4   Северо-Западный административный округ 440.64\n",
       "3      3  Северо-Восточный административный округ 433.16\n",
       "7      7      Юго-Западный административный округ 381.82\n",
       "6      6     Юго-Восточный административный округ 263.00"
      ]
     },
     "metadata": {},
     "output_type": "display_data"
    }
   ],
   "source": [
    "#Строим таблицу медианного среднего чека\n",
    "data_coffee_avgbill = (data.query('category == \"кофейня\"')\n",
    "                      .groupby('district', as_index=False)\n",
    "                      .agg(mean=('middle_avg_bill', 'mean'))\n",
    "                      .reset_index()\n",
    "                      .sort_values('mean', ascending=False))\n",
    "display(data_coffee_avgbill)"
   ]
  },
  {
   "cell_type": "code",
   "execution_count": 58,
   "metadata": {},
   "outputs": [
    {
     "data": {
      "image/png": "[encoded data removed]",
      "text/plain": [
       "<Figure size 1008x576 with 1 Axes>"
      ]
     },
     "metadata": {
      "needs_background": "light"
     },
     "output_type": "display_data"
    }
   ],
   "source": [
    "#Строим график медианного среднего чека\n",
    "plt.figure(figsize=(14,8))\n",
    "ax = sns.barplot(x='mean', y='district',\n",
    "                data=data_coffee_avgbill)\n",
    "ax.set_title('Распределение среднего чека по округам')\n",
    "ax.set_xlabel('Средний чек')\n",
    "ax.set_ylabel('')\n",
    "plt.show()"
   ]
  },
  {
   "cell_type": "markdown",
   "metadata": {},
   "source": [
    "С ощутимым отрывом по среднему чеку лидируют ЦАО и ЗАО"
   ]
  },
  {
   "cell_type": "code",
   "execution_count": 59,
   "metadata": {},
   "outputs": [
    {
     "data": {
      "text/html": [
       "<div>\n",
       "<style scoped>\n",
       "    .dataframe tbody tr th:only-of-type {\n",
       "        vertical-align: middle;\n",
       "    }\n",
       "\n",
       "    .dataframe tbody tr th {\n",
       "        vertical-align: top;\n",
       "    }\n",
       "\n",
       "    .dataframe thead th {\n",
       "        text-align: right;\n",
       "    }\n",
       "</style>\n",
       "<table border=\"1\" class=\"dataframe\">\n",
       "  <thead>\n",
       "    <tr style=\"text-align: right;\">\n",
       "      <th></th>\n",
       "      <th>index</th>\n",
       "      <th>district</th>\n",
       "      <th>mean</th>\n",
       "    </tr>\n",
       "  </thead>\n",
       "  <tbody>\n",
       "    <tr>\n",
       "      <th>1</th>\n",
       "      <td>1</td>\n",
       "      <td>Западный административный округ</td>\n",
       "      <td>153.33</td>\n",
       "    </tr>\n",
       "    <tr>\n",
       "      <th>8</th>\n",
       "      <td>8</td>\n",
       "      <td>Южный административный округ</td>\n",
       "      <td>124.97</td>\n",
       "    </tr>\n",
       "    <tr>\n",
       "      <th>2</th>\n",
       "      <td>2</td>\n",
       "      <td>Северный административный округ</td>\n",
       "      <td>117.28</td>\n",
       "    </tr>\n",
       "    <tr>\n",
       "      <th>5</th>\n",
       "      <td>5</td>\n",
       "      <td>Центральный административный округ</td>\n",
       "      <td>113.15</td>\n",
       "    </tr>\n",
       "    <tr>\n",
       "      <th>0</th>\n",
       "      <td>0</td>\n",
       "      <td>Восточный административный округ</td>\n",
       "      <td>97.44</td>\n",
       "    </tr>\n",
       "    <tr>\n",
       "      <th>3</th>\n",
       "      <td>3</td>\n",
       "      <td>Северо-Восточный административный округ</td>\n",
       "      <td>92.13</td>\n",
       "    </tr>\n",
       "    <tr>\n",
       "      <th>4</th>\n",
       "      <td>4</td>\n",
       "      <td>Северо-Западный административный округ</td>\n",
       "      <td>87.35</td>\n",
       "    </tr>\n",
       "    <tr>\n",
       "      <th>7</th>\n",
       "      <td>7</td>\n",
       "      <td>Юго-Западный административный округ</td>\n",
       "      <td>86.61</td>\n",
       "    </tr>\n",
       "    <tr>\n",
       "      <th>6</th>\n",
       "      <td>6</td>\n",
       "      <td>Юго-Восточный административный округ</td>\n",
       "      <td>70.92</td>\n",
       "    </tr>\n",
       "  </tbody>\n",
       "</table>\n",
       "</div>"
      ],
      "text/plain": [
       "   index                                 district   mean\n",
       "1      1          Западный административный округ 153.33\n",
       "8      8             Южный административный округ 124.97\n",
       "2      2          Северный административный округ 117.28\n",
       "5      5       Центральный административный округ 113.15\n",
       "0      0         Восточный административный округ  97.44\n",
       "3      3  Северо-Восточный административный округ  92.13\n",
       "4      4   Северо-Западный административный округ  87.35\n",
       "7      7      Юго-Западный административный округ  86.61\n",
       "6      6     Юго-Восточный административный округ  70.92"
      ]
     },
     "metadata": {},
     "output_type": "display_data"
    }
   ],
   "source": [
    "#Смотрим распределение посадочных мест по округам\n",
    "data_coffee_seats = (data.query('category == \"кофейня\"')\n",
    "                      .groupby('district', as_index=False)\n",
    "                      .agg(mean=('seats', 'mean'))\n",
    "                      .reset_index()\n",
    "                      .sort_values('mean', ascending=False))\n",
    "display(data_coffee_seats)"
   ]
  },
  {
   "cell_type": "code",
   "execution_count": 60,
   "metadata": {},
   "outputs": [
    {
     "data": {
      "image/png": "[encoded data removed]",
      "text/plain": [
       "<Figure size 864x576 with 1 Axes>"
      ]
     },
     "metadata": {
      "needs_background": "light"
     },
     "output_type": "display_data"
    }
   ],
   "source": [
    "#Строим график распределения посадочных мест по округам\n",
    "plt.figure(figsize=(12,8))\n",
    "ax = sns.barplot(x='mean', y='district',\n",
    "                data=data_coffee_seats)\n",
    "ax.set_title('Распределение посадочных мест по округам')\n",
    "ax.set_xlabel('Количество посадочных мест')\n",
    "ax.set_ylabel('')\n",
    "plt.show()"
   ]
  },
  {
   "cell_type": "markdown",
   "metadata": {},
   "source": [
    "Больше всего посадочных мест в ЗАО."
   ]
  },
  {
   "cell_type": "code",
   "execution_count": 61,
   "metadata": {},
   "outputs": [
    {
     "data": {
      "text/plain": [
       "array([nan, 'выше среднего', 'средние', 'высокие', 'низкие'], dtype=object)"
      ]
     },
     "metadata": {},
     "output_type": "display_data"
    },
    {
     "data": {
      "text/html": [
       "<div>\n",
       "<style scoped>\n",
       "    .dataframe tbody tr th:only-of-type {\n",
       "        vertical-align: middle;\n",
       "    }\n",
       "\n",
       "    .dataframe tbody tr th {\n",
       "        vertical-align: top;\n",
       "    }\n",
       "\n",
       "    .dataframe thead th {\n",
       "        text-align: right;\n",
       "    }\n",
       "</style>\n",
       "<table border=\"1\" class=\"dataframe\">\n",
       "  <thead>\n",
       "    <tr style=\"text-align: right;\">\n",
       "      <th></th>\n",
       "      <th>price</th>\n",
       "      <th>name</th>\n",
       "    </tr>\n",
       "  </thead>\n",
       "  <tbody>\n",
       "    <tr>\n",
       "      <th>3</th>\n",
       "      <td>средние</td>\n",
       "      <td>377</td>\n",
       "    </tr>\n",
       "    <tr>\n",
       "      <th>2</th>\n",
       "      <td>низкие</td>\n",
       "      <td>68</td>\n",
       "    </tr>\n",
       "    <tr>\n",
       "      <th>0</th>\n",
       "      <td>высокие</td>\n",
       "      <td>17</td>\n",
       "    </tr>\n",
       "    <tr>\n",
       "      <th>1</th>\n",
       "      <td>выше среднего</td>\n",
       "      <td>14</td>\n",
       "    </tr>\n",
       "  </tbody>\n",
       "</table>\n",
       "</div>"
      ],
      "text/plain": [
       "           price  name\n",
       "3        средние   377\n",
       "2         низкие    68\n",
       "0        высокие    17\n",
       "1  выше среднего    14"
      ]
     },
     "metadata": {},
     "output_type": "display_data"
    }
   ],
   "source": [
    "#Смотрим распределение кофеен по категориям цен\n",
    "display(data['price'].unique())\n",
    "data_coffee_pricet = (data.query('category == \"кофейня\"').groupby('price', as_index=False)['name'].agg('count')\n",
    "                     .sort_values('name', ascending=False))\n",
    "display(data_coffee_pricet)"
   ]
  },
  {
   "cell_type": "code",
   "execution_count": 62,
   "metadata": {},
   "outputs": [
    {
     "data": {
      "image/png": "[encoded data removed]",
      "text/plain": [
       "<Figure size 1080x720 with 1 Axes>"
      ]
     },
     "metadata": {},
     "output_type": "display_data"
    }
   ],
   "source": [
    "#Строим график распределения кофеин по категориям цен\n",
    "plt.figure(figsize=(15,10))\n",
    "plt.pie(data_coffee_pricet['name'],\n",
    "       labels=data_coffee_pricet['price'],\n",
    "       autopct='%1.1f%%',\n",
    "       shadow=True)\n",
    "plt.title('Распределение кофеин по категориям цен')\n",
    "plt.show()"
   ]
  },
  {
   "cell_type": "markdown",
   "metadata": {},
   "source": [
    "Большинство заведений поддерживают среднюю ценовую политику."
   ]
  },
  {
   "cell_type": "code",
   "execution_count": 63,
   "metadata": {},
   "outputs": [
    {
     "data": {
      "text/html": [
       "<div>\n",
       "<style scoped>\n",
       "    .dataframe tbody tr th:only-of-type {\n",
       "        vertical-align: middle;\n",
       "    }\n",
       "\n",
       "    .dataframe tbody tr th {\n",
       "        vertical-align: top;\n",
       "    }\n",
       "\n",
       "    .dataframe thead th {\n",
       "        text-align: right;\n",
       "    }\n",
       "</style>\n",
       "<table border=\"1\" class=\"dataframe\">\n",
       "  <thead>\n",
       "    <tr style=\"text-align: right;\">\n",
       "      <th></th>\n",
       "      <th>chain</th>\n",
       "      <th>name</th>\n",
       "    </tr>\n",
       "  </thead>\n",
       "  <tbody>\n",
       "    <tr>\n",
       "      <th>1</th>\n",
       "      <td>1</td>\n",
       "      <td>720</td>\n",
       "    </tr>\n",
       "    <tr>\n",
       "      <th>0</th>\n",
       "      <td>0</td>\n",
       "      <td>693</td>\n",
       "    </tr>\n",
       "  </tbody>\n",
       "</table>\n",
       "</div>"
      ],
      "text/plain": [
       "   chain  name\n",
       "1      1   720\n",
       "0      0   693"
      ]
     },
     "metadata": {},
     "output_type": "display_data"
    }
   ],
   "source": [
    "#Смотрим распределение сетевых и не сетевых кофеен\n",
    "data_coffee_chain = (data.query('category == \"кофейня\"').groupby('chain', as_index=False)['name'].agg('count')\n",
    "                     .sort_values('name', ascending=False))\n",
    "display(data_coffee_chain)"
   ]
  },
  {
   "cell_type": "code",
   "execution_count": 64,
   "metadata": {},
   "outputs": [
    {
     "data": {
      "image/png": "[encoded data removed]",
      "text/plain": [
       "<Figure size 1080x720 with 1 Axes>"
      ]
     },
     "metadata": {},
     "output_type": "display_data"
    }
   ],
   "source": [
    "#Строим график распределения сетевых и не сетевых кофеин\n",
    "labels_chain = ['Сетевые кофейни', 'Не сетевые кофейни']\n",
    "plt.figure(figsize=(15,10))\n",
    "plt.pie(data_coffee_chain['name'],\n",
    "       labels=labels_chain,\n",
    "       autopct='%1.1f%%',\n",
    "       shadow=True)\n",
    "plt.title('Количество сетевых кофейн')\n",
    "plt.show()"
   ]
  },
  {
   "cell_type": "markdown",
   "metadata": {},
   "source": [
    "Сетевых заведений немногим больше, чем не сетевых, это может означать что как сетевые так и не сетевые заведения пользуются своими преимуществами и могут конкурировать между собой."
   ]
  },
  {
   "cell_type": "markdown",
   "metadata": {},
   "source": [
    "Рекомендации:\n",
    "\n",
    "    Выбрать для открытия кофейни Западный или Центральный административные округа как самые прибыльные по среднему чеку - 795 и 694 рубля за средний чек соответственно.\n",
    "    \n",
    "    Открыть не сетевую кофейню - создать уникальную и запоминающуюся атмосферу, создать уникальное меню, с дальнейшим рассмотрением возможности открыть целую сеть кофеен в различных округах.\n",
    "   \n",
    "    Выбрать среднюю ценовую политику на открытии кофейни, далее потребуется дальнейшее изучение поступающих данных для корректировки ценовой политики.\n",
    "   \n",
    "    Сделать круглосуточную и ежедневную кофейню.\n",
    "    \n",
    "    Изучить возможность доставки на дом, используя возможности больших компаний, например Яндекс.Доставка, Деливери Клаб и прочих компаний по доставке."
   ]
  },
  {
   "cell_type": "markdown",
   "metadata": {},
   "source": [
    "Отчёт по разделу:\n",
    "    \n",
    "    1) Кофейни занимают 3 место по количеству заведений, конкуренция будет немногим ниже, но всё еще ощутимой\n",
    "    \n",
    "    2) Видмм что сетевых и не сетевых заведений много, разница небольшая, можно будет далее изучить отдельно сетевые и не сетевые заведения чтобы понять, какой тип заведения мы хотим открыть, но на мой взгляд стоит начать с не сетевого заведения с возможным расширением.\n",
    "    \n",
    "    3) По среднему чеку выделяются ЦАО и ЗАО, если мы хотим высокий средний чек, нужно изучить конкурентов более детально.\n",
    "    \n",
    "    4) Средняя ценовая категория самая массовая среди заведений.\n",
    "    \n",
    "    5) Самая высокая медианная цена кружки каппучино - 190 рублей, но ориентироваться на эту цену не стоит, стоит учитывать много ньюансов, например затраты на изготовление одной чашки каппучино, прибыль с неё, которая будет оптимальной для заведения и посетителей."
   ]
  },
  {
   "cell_type": "markdown",
   "metadata": {},
   "source": [
    "ссылка на презентацию: https://disk.yandex.ru/i/XmgG-sBjnMSQzQ"
   ]
  },
  {
   "cell_type": "markdown",
   "metadata": {},
   "source": [
    "## Заключение"
   ]
  },
  {
   "cell_type": "markdown",
   "metadata": {},
   "source": [
    "В проекте спринта \"Как рассказать историю с помощью данных\" мы выполнили следующие задачи:\n",
    "    \n",
    "    Изучили данный нам датасет.\n",
    "    \n",
    "    Выполнили предобработку данных: дубликатов нет, но исправили дубликаты названий заведений, пропуски в столбцах не трогали, добавили столбец с названием улиц и указали, какие заведения работают круглосуточно, а какие нет.\n",
    "    \n",
    "    Проанализировали данные: топ-3 по количеству заведений - кафе, рестораны и кофейни, в среднем больше всего посадочных мест в ресторанах, барах/пабах и кофейнях, почти 2/3 заведений составляют не сетевые заведения, топ-3 сетевых заведений по категорям не изменились, всё так же лидируют кафе, ресторан и кофейни, с большим отрывом по общему количеству заведений лидирует Центральный административный округ, он же дилирует в разрезе категорий заведений, топ 3 рейтинга по заведению составляют бар/паб, пиццерия и рестораны, больше всего заведений на проспекте Мира, изучили улицы на которых находятся 1 заведение, в основном они расположены в спальных районах, рядом с ними и так же с прогулочными местами - парками.\n",
    "    \n",
    "    Провели исследование по заказу инвестиционного фонда, всю информацию изложил в презентации."
   ]
  }
 ],
 "metadata": {
  "ExecuteTimeLog": [
   {
    "duration": 376,
    "start_time": "2023-01-23T06:19:08.903Z"
   },
   {
    "duration": 68,
    "start_time": "2023-01-23T06:19:45.801Z"
   },
   {
    "duration": 283,
    "start_time": "2023-01-23T06:19:55.006Z"
   },
   {
    "duration": 73,
    "start_time": "2023-01-23T06:20:06.493Z"
   },
   {
    "duration": 77,
    "start_time": "2023-01-23T06:23:00.190Z"
   },
   {
    "duration": 9,
    "start_time": "2023-01-23T06:23:17.067Z"
   },
   {
    "duration": 79,
    "start_time": "2023-01-23T06:23:32.830Z"
   },
   {
    "duration": 884,
    "start_time": "2023-01-23T06:25:51.268Z"
   },
   {
    "duration": 78,
    "start_time": "2023-01-23T06:25:52.154Z"
   },
   {
    "duration": 9,
    "start_time": "2023-01-23T06:25:52.684Z"
   },
   {
    "duration": 3,
    "start_time": "2023-01-23T06:26:32.153Z"
   },
   {
    "duration": 3,
    "start_time": "2023-01-23T06:26:37.805Z"
   },
   {
    "duration": 6,
    "start_time": "2023-01-23T06:26:37.812Z"
   },
   {
    "duration": 81,
    "start_time": "2023-01-23T06:26:37.819Z"
   },
   {
    "duration": 9,
    "start_time": "2023-01-23T06:26:37.901Z"
   },
   {
    "duration": 9,
    "start_time": "2023-01-23T06:28:18.068Z"
   },
   {
    "duration": 6,
    "start_time": "2023-01-23T07:38:18.040Z"
   },
   {
    "duration": 5,
    "start_time": "2023-01-23T07:38:31.787Z"
   },
   {
    "duration": 38,
    "start_time": "2023-01-23T07:38:44.385Z"
   },
   {
    "duration": 5,
    "start_time": "2023-01-23T07:40:39.383Z"
   },
   {
    "duration": 6,
    "start_time": "2023-01-23T07:44:36.437Z"
   },
   {
    "duration": 22,
    "start_time": "2023-01-23T07:54:09.406Z"
   },
   {
    "duration": 43,
    "start_time": "2023-01-23T08:03:26.145Z"
   },
   {
    "duration": 5,
    "start_time": "2023-01-23T08:20:18.437Z"
   },
   {
    "duration": 10,
    "start_time": "2023-01-23T08:55:12.520Z"
   },
   {
    "duration": 10,
    "start_time": "2023-01-23T09:02:58.527Z"
   },
   {
    "duration": 6,
    "start_time": "2023-01-23T09:03:18.979Z"
   },
   {
    "duration": 4,
    "start_time": "2023-01-23T09:03:41.684Z"
   },
   {
    "duration": 30,
    "start_time": "2023-01-23T09:03:41.690Z"
   },
   {
    "duration": 186,
    "start_time": "2023-01-23T09:03:41.722Z"
   },
   {
    "duration": 8,
    "start_time": "2023-01-23T09:03:41.911Z"
   },
   {
    "duration": 38,
    "start_time": "2023-01-23T09:03:41.921Z"
   },
   {
    "duration": 21,
    "start_time": "2023-01-23T09:03:41.960Z"
   },
   {
    "duration": 13,
    "start_time": "2023-01-23T09:03:41.983Z"
   },
   {
    "duration": 14,
    "start_time": "2023-01-23T09:03:41.998Z"
   },
   {
    "duration": 19,
    "start_time": "2023-01-23T09:03:42.014Z"
   },
   {
    "duration": 3,
    "start_time": "2023-01-23T09:03:54.776Z"
   },
   {
    "duration": 3,
    "start_time": "2023-01-23T09:03:54.785Z"
   },
   {
    "duration": 69,
    "start_time": "2023-01-23T09:03:54.797Z"
   },
   {
    "duration": 11,
    "start_time": "2023-01-23T09:03:54.868Z"
   },
   {
    "duration": 19,
    "start_time": "2023-01-23T09:03:54.881Z"
   },
   {
    "duration": 27,
    "start_time": "2023-01-23T09:03:54.902Z"
   },
   {
    "duration": 6,
    "start_time": "2023-01-23T09:03:54.931Z"
   },
   {
    "duration": 16,
    "start_time": "2023-01-23T09:03:54.939Z"
   },
   {
    "duration": 22,
    "start_time": "2023-01-23T09:03:54.956Z"
   },
   {
    "duration": 4,
    "start_time": "2023-01-23T09:04:18.956Z"
   },
   {
    "duration": 9,
    "start_time": "2023-01-23T09:04:18.962Z"
   },
   {
    "duration": 79,
    "start_time": "2023-01-23T09:04:18.973Z"
   },
   {
    "duration": 12,
    "start_time": "2023-01-23T09:04:19.054Z"
   },
   {
    "duration": 12,
    "start_time": "2023-01-23T09:04:19.069Z"
   },
   {
    "duration": 23,
    "start_time": "2023-01-23T09:04:19.083Z"
   },
   {
    "duration": 6,
    "start_time": "2023-01-23T09:04:19.108Z"
   },
   {
    "duration": 36,
    "start_time": "2023-01-23T09:04:19.116Z"
   },
   {
    "duration": 6,
    "start_time": "2023-01-23T09:04:19.154Z"
   },
   {
    "duration": 19,
    "start_time": "2023-01-23T09:04:40.074Z"
   },
   {
    "duration": 10,
    "start_time": "2023-01-23T09:04:53.923Z"
   },
   {
    "duration": 5,
    "start_time": "2023-01-23T09:05:03.002Z"
   },
   {
    "duration": 4,
    "start_time": "2023-01-23T09:05:17.554Z"
   },
   {
    "duration": 5,
    "start_time": "2023-01-23T09:05:29.448Z"
   },
   {
    "duration": 8,
    "start_time": "2023-01-23T09:10:53.692Z"
   },
   {
    "duration": 3,
    "start_time": "2023-01-23T09:42:24.385Z"
   },
   {
    "duration": 3,
    "start_time": "2023-01-23T09:42:24.399Z"
   },
   {
    "duration": 87,
    "start_time": "2023-01-23T09:42:24.408Z"
   },
   {
    "duration": 11,
    "start_time": "2023-01-23T09:42:24.498Z"
   },
   {
    "duration": 13,
    "start_time": "2023-01-23T09:42:24.511Z"
   },
   {
    "duration": 34,
    "start_time": "2023-01-23T09:42:24.526Z"
   },
   {
    "duration": 6,
    "start_time": "2023-01-23T09:42:24.562Z"
   },
   {
    "duration": 12,
    "start_time": "2023-01-23T09:42:24.570Z"
   },
   {
    "duration": 10,
    "start_time": "2023-01-23T09:49:21.007Z"
   },
   {
    "duration": 5,
    "start_time": "2023-01-23T09:49:37.335Z"
   },
   {
    "duration": 14,
    "start_time": "2023-01-23T09:52:24.653Z"
   },
   {
    "duration": 25,
    "start_time": "2023-01-23T09:53:11.245Z"
   },
   {
    "duration": 21,
    "start_time": "2023-01-23T09:53:18.768Z"
   },
   {
    "duration": 18,
    "start_time": "2023-01-23T09:56:57.470Z"
   },
   {
    "duration": 7,
    "start_time": "2023-01-23T09:58:18.805Z"
   },
   {
    "duration": 12,
    "start_time": "2023-01-23T10:08:32.265Z"
   },
   {
    "duration": 4,
    "start_time": "2023-01-23T10:31:46.952Z"
   },
   {
    "duration": 10,
    "start_time": "2023-01-23T10:31:46.960Z"
   },
   {
    "duration": 92,
    "start_time": "2023-01-23T10:31:46.972Z"
   },
   {
    "duration": 12,
    "start_time": "2023-01-23T10:31:47.066Z"
   },
   {
    "duration": 17,
    "start_time": "2023-01-23T10:31:47.080Z"
   },
   {
    "duration": 18,
    "start_time": "2023-01-23T10:31:47.099Z"
   },
   {
    "duration": 6,
    "start_time": "2023-01-23T10:31:47.119Z"
   },
   {
    "duration": 18,
    "start_time": "2023-01-23T10:31:47.150Z"
   },
   {
    "duration": 9,
    "start_time": "2023-01-23T10:48:25.135Z"
   },
   {
    "duration": 9,
    "start_time": "2023-01-23T10:48:38.530Z"
   },
   {
    "duration": 16,
    "start_time": "2023-01-23T10:49:06.066Z"
   },
   {
    "duration": 7,
    "start_time": "2023-01-23T10:49:20.054Z"
   },
   {
    "duration": 8,
    "start_time": "2023-01-23T10:49:37.161Z"
   },
   {
    "duration": 8,
    "start_time": "2023-01-23T10:49:45.786Z"
   },
   {
    "duration": 8,
    "start_time": "2023-01-23T10:50:00.495Z"
   },
   {
    "duration": 8,
    "start_time": "2023-01-23T10:50:09.226Z"
   },
   {
    "duration": 15,
    "start_time": "2023-01-23T10:50:41.923Z"
   },
   {
    "duration": 6,
    "start_time": "2023-01-23T10:51:03.061Z"
   },
   {
    "duration": 7,
    "start_time": "2023-01-23T10:51:13.373Z"
   },
   {
    "duration": 4,
    "start_time": "2023-01-23T11:03:37.496Z"
   },
   {
    "duration": 8,
    "start_time": "2023-01-23T11:03:37.502Z"
   },
   {
    "duration": 89,
    "start_time": "2023-01-23T11:03:37.512Z"
   },
   {
    "duration": 11,
    "start_time": "2023-01-23T11:03:37.602Z"
   },
   {
    "duration": 10,
    "start_time": "2023-01-23T11:03:37.615Z"
   },
   {
    "duration": 38,
    "start_time": "2023-01-23T11:03:37.627Z"
   },
   {
    "duration": 5,
    "start_time": "2023-01-23T11:03:37.668Z"
   },
   {
    "duration": 14,
    "start_time": "2023-01-23T11:03:37.675Z"
   },
   {
    "duration": 7,
    "start_time": "2023-01-23T11:11:24.547Z"
   },
   {
    "duration": 10,
    "start_time": "2023-01-23T11:11:31.574Z"
   },
   {
    "duration": 5,
    "start_time": "2023-01-23T11:11:43.230Z"
   },
   {
    "duration": 18,
    "start_time": "2023-01-23T11:11:52.366Z"
   },
   {
    "duration": 5,
    "start_time": "2023-01-23T11:11:59.229Z"
   },
   {
    "duration": 10,
    "start_time": "2023-01-23T11:12:15.910Z"
   },
   {
    "duration": 3,
    "start_time": "2023-01-23T11:14:40.902Z"
   },
   {
    "duration": 5,
    "start_time": "2023-01-23T11:16:09.714Z"
   },
   {
    "duration": 1047,
    "start_time": "2023-01-23T11:26:33.732Z"
   },
   {
    "duration": 13,
    "start_time": "2023-01-23T11:26:57.622Z"
   },
   {
    "duration": 11,
    "start_time": "2023-01-23T12:05:02.137Z"
   },
   {
    "duration": 6,
    "start_time": "2023-01-23T12:05:41.727Z"
   },
   {
    "duration": 4,
    "start_time": "2023-01-23T12:06:48.876Z"
   },
   {
    "duration": 9,
    "start_time": "2023-01-23T12:07:01.636Z"
   },
   {
    "duration": 12,
    "start_time": "2023-01-23T12:08:28.987Z"
   },
   {
    "duration": 5,
    "start_time": "2023-01-23T12:08:43.096Z"
   },
   {
    "duration": 9,
    "start_time": "2023-01-23T12:09:29.305Z"
   },
   {
    "duration": 19,
    "start_time": "2023-01-23T12:10:34.466Z"
   },
   {
    "duration": 18,
    "start_time": "2023-01-23T12:10:52.806Z"
   },
   {
    "duration": 20,
    "start_time": "2023-01-23T12:11:05.186Z"
   },
   {
    "duration": 16,
    "start_time": "2023-01-23T12:11:17.598Z"
   },
   {
    "duration": 15,
    "start_time": "2023-01-23T12:11:25.520Z"
   },
   {
    "duration": 16,
    "start_time": "2023-01-23T12:11:33.138Z"
   },
   {
    "duration": 12,
    "start_time": "2023-01-23T12:11:56.136Z"
   },
   {
    "duration": 5,
    "start_time": "2023-01-23T12:12:31.219Z"
   },
   {
    "duration": 15,
    "start_time": "2023-01-23T12:15:15.298Z"
   },
   {
    "duration": 15,
    "start_time": "2023-01-23T12:48:31.878Z"
   },
   {
    "duration": 17,
    "start_time": "2023-01-23T12:49:02.371Z"
   },
   {
    "duration": 17,
    "start_time": "2023-01-23T12:49:20.456Z"
   },
   {
    "duration": 20,
    "start_time": "2023-01-23T12:49:39.089Z"
   },
   {
    "duration": 16,
    "start_time": "2023-01-23T12:50:27.018Z"
   },
   {
    "duration": 13,
    "start_time": "2023-01-23T12:50:34.976Z"
   },
   {
    "duration": 11,
    "start_time": "2023-01-23T12:51:05.969Z"
   },
   {
    "duration": 16,
    "start_time": "2023-01-23T12:51:25.596Z"
   },
   {
    "duration": 14,
    "start_time": "2023-01-23T12:57:23.634Z"
   },
   {
    "duration": 14,
    "start_time": "2023-01-23T13:03:30.300Z"
   },
   {
    "duration": 15,
    "start_time": "2023-01-23T13:03:47.330Z"
   },
   {
    "duration": 15,
    "start_time": "2023-01-23T13:04:04.724Z"
   },
   {
    "duration": 19,
    "start_time": "2023-01-23T13:05:32.744Z"
   },
   {
    "duration": 16,
    "start_time": "2023-01-23T13:05:51.404Z"
   },
   {
    "duration": 16,
    "start_time": "2023-01-23T13:07:09.894Z"
   },
   {
    "duration": 21,
    "start_time": "2023-01-23T13:08:05.127Z"
   },
   {
    "duration": 14,
    "start_time": "2023-01-23T13:08:22.195Z"
   },
   {
    "duration": 16,
    "start_time": "2023-01-23T13:08:54.489Z"
   },
   {
    "duration": 11,
    "start_time": "2023-01-23T13:09:05.742Z"
   },
   {
    "duration": 15,
    "start_time": "2023-01-23T13:09:12.759Z"
   },
   {
    "duration": 11,
    "start_time": "2023-01-23T13:09:24.453Z"
   },
   {
    "duration": 14,
    "start_time": "2023-01-23T13:17:50.283Z"
   },
   {
    "duration": 10,
    "start_time": "2023-01-23T13:18:19.682Z"
   },
   {
    "duration": 16,
    "start_time": "2023-01-23T13:18:45.547Z"
   },
   {
    "duration": 15,
    "start_time": "2023-01-23T13:18:58.632Z"
   },
   {
    "duration": 14,
    "start_time": "2023-01-23T13:19:30.353Z"
   },
   {
    "duration": 1260,
    "start_time": "2023-01-23T13:46:41.085Z"
   },
   {
    "duration": 3,
    "start_time": "2023-01-23T13:46:42.347Z"
   },
   {
    "duration": 129,
    "start_time": "2023-01-23T13:46:42.351Z"
   },
   {
    "duration": 10,
    "start_time": "2023-01-23T13:46:42.482Z"
   },
   {
    "duration": 10,
    "start_time": "2023-01-23T13:46:42.494Z"
   },
   {
    "duration": 23,
    "start_time": "2023-01-23T13:46:42.505Z"
   },
   {
    "duration": 6,
    "start_time": "2023-01-23T13:46:42.529Z"
   },
   {
    "duration": 19,
    "start_time": "2023-01-23T13:46:42.536Z"
   },
   {
    "duration": 6,
    "start_time": "2023-01-23T13:46:42.557Z"
   },
   {
    "duration": 10,
    "start_time": "2023-01-23T13:46:42.566Z"
   },
   {
    "duration": 15,
    "start_time": "2023-01-23T13:46:42.578Z"
   },
   {
    "duration": 38,
    "start_time": "2023-01-23T13:46:42.595Z"
   },
   {
    "duration": 4,
    "start_time": "2023-01-23T13:46:42.635Z"
   },
   {
    "duration": 20,
    "start_time": "2023-01-23T13:46:42.641Z"
   },
   {
    "duration": 211,
    "start_time": "2023-01-23T13:46:42.664Z"
   },
   {
    "duration": 14,
    "start_time": "2023-01-23T13:47:28.405Z"
   },
   {
    "duration": 3,
    "start_time": "2023-01-23T13:48:23.335Z"
   },
   {
    "duration": 7,
    "start_time": "2023-01-23T13:48:23.342Z"
   },
   {
    "duration": 85,
    "start_time": "2023-01-23T13:48:23.351Z"
   },
   {
    "duration": 9,
    "start_time": "2023-01-23T13:48:23.437Z"
   },
   {
    "duration": 14,
    "start_time": "2023-01-23T13:48:23.448Z"
   },
   {
    "duration": 15,
    "start_time": "2023-01-23T13:48:23.463Z"
   },
   {
    "duration": 5,
    "start_time": "2023-01-23T13:48:23.480Z"
   },
   {
    "duration": 17,
    "start_time": "2023-01-23T13:48:23.487Z"
   },
   {
    "duration": 24,
    "start_time": "2023-01-23T13:48:23.506Z"
   },
   {
    "duration": 11,
    "start_time": "2023-01-23T13:48:23.532Z"
   },
   {
    "duration": 8,
    "start_time": "2023-01-23T13:48:23.544Z"
   },
   {
    "duration": 29,
    "start_time": "2023-01-23T13:48:23.553Z"
   },
   {
    "duration": 3,
    "start_time": "2023-01-23T13:48:23.584Z"
   },
   {
    "duration": 22,
    "start_time": "2023-01-23T13:48:23.589Z"
   },
   {
    "duration": 14,
    "start_time": "2023-01-23T13:48:23.613Z"
   },
   {
    "duration": 196,
    "start_time": "2023-01-23T13:48:23.629Z"
   },
   {
    "duration": 1306,
    "start_time": "2023-01-24T07:50:11.325Z"
   },
   {
    "duration": 4,
    "start_time": "2023-01-24T07:50:12.633Z"
   },
   {
    "duration": 259,
    "start_time": "2023-01-24T07:50:12.639Z"
   },
   {
    "duration": 13,
    "start_time": "2023-01-24T07:50:12.900Z"
   },
   {
    "duration": 16,
    "start_time": "2023-01-24T07:50:12.914Z"
   },
   {
    "duration": 17,
    "start_time": "2023-01-24T07:50:12.932Z"
   },
   {
    "duration": 5,
    "start_time": "2023-01-24T07:50:12.950Z"
   },
   {
    "duration": 13,
    "start_time": "2023-01-24T07:50:12.982Z"
   },
   {
    "duration": 8,
    "start_time": "2023-01-24T07:50:12.997Z"
   },
   {
    "duration": 14,
    "start_time": "2023-01-24T07:50:13.008Z"
   },
   {
    "duration": 30,
    "start_time": "2023-01-24T07:50:13.024Z"
   },
   {
    "duration": 29,
    "start_time": "2023-01-24T07:50:13.057Z"
   },
   {
    "duration": 17,
    "start_time": "2023-01-24T07:50:13.088Z"
   },
   {
    "duration": 219,
    "start_time": "2023-01-24T07:50:13.106Z"
   },
   {
    "duration": 175,
    "start_time": "2023-01-24T07:51:14.992Z"
   },
   {
    "duration": 114,
    "start_time": "2023-01-24T10:00:14.316Z"
   },
   {
    "duration": 16,
    "start_time": "2023-01-24T10:15:05.071Z"
   },
   {
    "duration": 35,
    "start_time": "2023-01-24T10:52:50.399Z"
   },
   {
    "duration": 4,
    "start_time": "2023-01-24T10:54:12.255Z"
   },
   {
    "duration": 9,
    "start_time": "2023-01-24T10:54:12.264Z"
   },
   {
    "duration": 75,
    "start_time": "2023-01-24T10:54:12.275Z"
   },
   {
    "duration": 24,
    "start_time": "2023-01-24T10:54:12.352Z"
   },
   {
    "duration": 0,
    "start_time": "2023-01-24T10:54:12.378Z"
   },
   {
    "duration": 0,
    "start_time": "2023-01-24T10:54:12.380Z"
   },
   {
    "duration": 0,
    "start_time": "2023-01-24T10:54:12.381Z"
   },
   {
    "duration": 0,
    "start_time": "2023-01-24T10:54:12.383Z"
   },
   {
    "duration": 0,
    "start_time": "2023-01-24T10:54:12.384Z"
   },
   {
    "duration": 0,
    "start_time": "2023-01-24T10:54:12.385Z"
   },
   {
    "duration": 0,
    "start_time": "2023-01-24T10:54:12.386Z"
   },
   {
    "duration": 0,
    "start_time": "2023-01-24T10:54:12.386Z"
   },
   {
    "duration": 0,
    "start_time": "2023-01-24T10:54:12.388Z"
   },
   {
    "duration": 0,
    "start_time": "2023-01-24T10:54:12.389Z"
   },
   {
    "duration": 0,
    "start_time": "2023-01-24T10:54:12.390Z"
   },
   {
    "duration": 4,
    "start_time": "2023-01-24T10:54:46.890Z"
   },
   {
    "duration": 4,
    "start_time": "2023-01-24T10:54:46.900Z"
   },
   {
    "duration": 69,
    "start_time": "2023-01-24T10:54:46.908Z"
   },
   {
    "duration": 22,
    "start_time": "2023-01-24T10:54:46.979Z"
   },
   {
    "duration": 0,
    "start_time": "2023-01-24T10:54:47.004Z"
   },
   {
    "duration": 0,
    "start_time": "2023-01-24T10:54:47.005Z"
   },
   {
    "duration": 0,
    "start_time": "2023-01-24T10:54:47.006Z"
   },
   {
    "duration": 0,
    "start_time": "2023-01-24T10:54:47.007Z"
   },
   {
    "duration": 0,
    "start_time": "2023-01-24T10:54:47.008Z"
   },
   {
    "duration": 0,
    "start_time": "2023-01-24T10:54:47.010Z"
   },
   {
    "duration": 0,
    "start_time": "2023-01-24T10:54:47.011Z"
   },
   {
    "duration": 0,
    "start_time": "2023-01-24T10:54:47.012Z"
   },
   {
    "duration": 0,
    "start_time": "2023-01-24T10:54:47.013Z"
   },
   {
    "duration": 0,
    "start_time": "2023-01-24T10:54:47.014Z"
   },
   {
    "duration": 1,
    "start_time": "2023-01-24T10:54:47.014Z"
   },
   {
    "duration": 42,
    "start_time": "2023-01-24T10:55:31.431Z"
   },
   {
    "duration": 4,
    "start_time": "2023-01-24T10:56:07.717Z"
   },
   {
    "duration": 3,
    "start_time": "2023-01-24T10:56:07.740Z"
   },
   {
    "duration": 73,
    "start_time": "2023-01-24T10:56:07.745Z"
   },
   {
    "duration": 37,
    "start_time": "2023-01-24T10:56:07.820Z"
   },
   {
    "duration": 28,
    "start_time": "2023-01-24T10:56:07.859Z"
   },
   {
    "duration": 14,
    "start_time": "2023-01-24T10:56:07.890Z"
   },
   {
    "duration": 8,
    "start_time": "2023-01-24T10:56:07.905Z"
   },
   {
    "duration": 17,
    "start_time": "2023-01-24T10:56:07.915Z"
   },
   {
    "duration": 9,
    "start_time": "2023-01-24T10:56:07.933Z"
   },
   {
    "duration": 38,
    "start_time": "2023-01-24T10:56:07.943Z"
   },
   {
    "duration": 4,
    "start_time": "2023-01-24T10:56:07.983Z"
   },
   {
    "duration": 18,
    "start_time": "2023-01-24T10:56:07.989Z"
   },
   {
    "duration": 42,
    "start_time": "2023-01-24T10:56:08.008Z"
   },
   {
    "duration": 211,
    "start_time": "2023-01-24T10:56:08.051Z"
   },
   {
    "duration": 51,
    "start_time": "2023-01-24T10:56:08.264Z"
   },
   {
    "duration": 3,
    "start_time": "2023-01-24T10:56:54.305Z"
   },
   {
    "duration": 10,
    "start_time": "2023-01-24T10:56:54.315Z"
   },
   {
    "duration": 72,
    "start_time": "2023-01-24T10:56:54.332Z"
   },
   {
    "duration": 37,
    "start_time": "2023-01-24T10:56:54.405Z"
   },
   {
    "duration": 8,
    "start_time": "2023-01-24T10:56:54.444Z"
   },
   {
    "duration": 24,
    "start_time": "2023-01-24T10:56:54.481Z"
   },
   {
    "duration": 5,
    "start_time": "2023-01-24T10:56:54.507Z"
   },
   {
    "duration": 49,
    "start_time": "2023-01-24T10:56:54.513Z"
   },
   {
    "duration": 13,
    "start_time": "2023-01-24T10:56:54.563Z"
   },
   {
    "duration": 19,
    "start_time": "2023-01-24T10:56:54.578Z"
   },
   {
    "duration": 27,
    "start_time": "2023-01-24T10:56:54.598Z"
   },
   {
    "duration": 28,
    "start_time": "2023-01-24T10:56:54.627Z"
   },
   {
    "duration": 66,
    "start_time": "2023-01-24T10:56:54.657Z"
   },
   {
    "duration": 196,
    "start_time": "2023-01-24T10:56:54.725Z"
   },
   {
    "duration": 64,
    "start_time": "2023-01-24T10:56:54.922Z"
   },
   {
    "duration": 1097,
    "start_time": "2023-01-24T10:57:33.529Z"
   },
   {
    "duration": 2,
    "start_time": "2023-01-24T10:57:34.628Z"
   },
   {
    "duration": 75,
    "start_time": "2023-01-24T10:57:34.632Z"
   },
   {
    "duration": 19,
    "start_time": "2023-01-24T10:57:34.709Z"
   },
   {
    "duration": 13,
    "start_time": "2023-01-24T10:57:34.730Z"
   },
   {
    "duration": 29,
    "start_time": "2023-01-24T10:57:34.744Z"
   },
   {
    "duration": 7,
    "start_time": "2023-01-24T10:57:34.775Z"
   },
   {
    "duration": 15,
    "start_time": "2023-01-24T10:57:34.784Z"
   },
   {
    "duration": 9,
    "start_time": "2023-01-24T10:57:34.800Z"
   },
   {
    "duration": 12,
    "start_time": "2023-01-24T10:57:34.810Z"
   },
   {
    "duration": 7,
    "start_time": "2023-01-24T10:57:34.823Z"
   },
   {
    "duration": 16,
    "start_time": "2023-01-24T10:57:34.831Z"
   },
   {
    "duration": 17,
    "start_time": "2023-01-24T10:57:34.882Z"
   },
   {
    "duration": 199,
    "start_time": "2023-01-24T10:57:34.901Z"
   },
   {
    "duration": 16,
    "start_time": "2023-01-24T10:57:35.102Z"
   },
   {
    "duration": 4,
    "start_time": "2023-01-24T10:58:45.895Z"
   },
   {
    "duration": 3,
    "start_time": "2023-01-24T10:58:45.907Z"
   },
   {
    "duration": 81,
    "start_time": "2023-01-24T10:58:45.922Z"
   },
   {
    "duration": 14,
    "start_time": "2023-01-24T10:58:46.005Z"
   },
   {
    "duration": 13,
    "start_time": "2023-01-24T10:58:46.020Z"
   },
   {
    "duration": 16,
    "start_time": "2023-01-24T10:58:46.035Z"
   },
   {
    "duration": 5,
    "start_time": "2023-01-24T10:58:46.052Z"
   },
   {
    "duration": 34,
    "start_time": "2023-01-24T10:58:46.058Z"
   },
   {
    "duration": 7,
    "start_time": "2023-01-24T10:58:46.094Z"
   },
   {
    "duration": 11,
    "start_time": "2023-01-24T10:58:46.103Z"
   },
   {
    "duration": 7,
    "start_time": "2023-01-24T10:58:46.116Z"
   },
   {
    "duration": 58,
    "start_time": "2023-01-24T10:58:46.126Z"
   },
   {
    "duration": 19,
    "start_time": "2023-01-24T10:58:46.186Z"
   },
   {
    "duration": 209,
    "start_time": "2023-01-24T10:58:46.207Z"
   },
   {
    "duration": 17,
    "start_time": "2023-01-24T10:58:46.418Z"
   },
   {
    "duration": 17,
    "start_time": "2023-01-24T10:59:16.207Z"
   },
   {
    "duration": 16,
    "start_time": "2023-01-24T11:00:09.797Z"
   },
   {
    "duration": 201,
    "start_time": "2023-01-24T11:06:30.965Z"
   },
   {
    "duration": 5,
    "start_time": "2023-01-24T11:13:57.872Z"
   },
   {
    "duration": 4,
    "start_time": "2023-01-24T11:14:03.364Z"
   },
   {
    "duration": 21,
    "start_time": "2023-01-24T11:14:03.370Z"
   },
   {
    "duration": 86,
    "start_time": "2023-01-24T11:14:03.393Z"
   },
   {
    "duration": 13,
    "start_time": "2023-01-24T11:14:03.481Z"
   },
   {
    "duration": 36,
    "start_time": "2023-01-24T11:14:03.496Z"
   },
   {
    "duration": 58,
    "start_time": "2023-01-24T11:14:03.535Z"
   },
   {
    "duration": 11,
    "start_time": "2023-01-24T11:14:03.594Z"
   },
   {
    "duration": 37,
    "start_time": "2023-01-24T11:14:03.606Z"
   },
   {
    "duration": 18,
    "start_time": "2023-01-24T11:14:03.645Z"
   },
   {
    "duration": 23,
    "start_time": "2023-01-24T11:14:03.664Z"
   },
   {
    "duration": 27,
    "start_time": "2023-01-24T11:14:03.689Z"
   },
   {
    "duration": 35,
    "start_time": "2023-01-24T11:14:03.719Z"
   },
   {
    "duration": 31,
    "start_time": "2023-01-24T11:14:03.756Z"
   },
   {
    "duration": 198,
    "start_time": "2023-01-24T11:14:03.790Z"
   },
   {
    "duration": 24,
    "start_time": "2023-01-24T11:14:03.991Z"
   },
   {
    "duration": 251,
    "start_time": "2023-01-24T11:14:04.019Z"
   },
   {
    "duration": 1399,
    "start_time": "2023-01-24T11:35:56.639Z"
   },
   {
    "duration": 3,
    "start_time": "2023-01-24T11:35:58.041Z"
   },
   {
    "duration": 293,
    "start_time": "2023-01-24T11:35:58.045Z"
   },
   {
    "duration": 20,
    "start_time": "2023-01-24T11:35:58.340Z"
   },
   {
    "duration": 15,
    "start_time": "2023-01-24T11:35:58.362Z"
   },
   {
    "duration": 20,
    "start_time": "2023-01-24T11:35:58.379Z"
   },
   {
    "duration": 31,
    "start_time": "2023-01-24T11:35:58.400Z"
   },
   {
    "duration": 19,
    "start_time": "2023-01-24T11:35:58.433Z"
   },
   {
    "duration": 5,
    "start_time": "2023-01-24T11:35:58.454Z"
   },
   {
    "duration": 11,
    "start_time": "2023-01-24T11:35:58.462Z"
   },
   {
    "duration": 5,
    "start_time": "2023-01-24T11:35:58.474Z"
   },
   {
    "duration": 40,
    "start_time": "2023-01-24T11:35:58.481Z"
   },
   {
    "duration": 24,
    "start_time": "2023-01-24T11:35:58.523Z"
   },
   {
    "duration": 222,
    "start_time": "2023-01-24T11:35:58.548Z"
   },
   {
    "duration": 17,
    "start_time": "2023-01-24T11:35:58.772Z"
   },
   {
    "duration": 241,
    "start_time": "2023-01-24T11:35:58.791Z"
   },
   {
    "duration": 23,
    "start_time": "2023-01-24T11:54:27.410Z"
   },
   {
    "duration": 21,
    "start_time": "2023-01-24T12:00:04.934Z"
   },
   {
    "duration": 22,
    "start_time": "2023-01-24T12:05:17.175Z"
   },
   {
    "duration": 16,
    "start_time": "2023-01-24T12:05:35.230Z"
   },
   {
    "duration": 979,
    "start_time": "2023-01-24T12:07:12.799Z"
   },
   {
    "duration": 18,
    "start_time": "2023-01-24T12:07:29.322Z"
   },
   {
    "duration": 104,
    "start_time": "2023-01-24T12:16:43.047Z"
   },
   {
    "duration": 95,
    "start_time": "2023-01-24T12:17:11.971Z"
   },
   {
    "duration": 120,
    "start_time": "2023-01-24T12:18:00.051Z"
   },
   {
    "duration": 9,
    "start_time": "2023-01-24T12:19:28.914Z"
   },
   {
    "duration": 18,
    "start_time": "2023-01-24T12:19:42.040Z"
   },
   {
    "duration": 8,
    "start_time": "2023-01-24T12:20:08.707Z"
   },
   {
    "duration": 18,
    "start_time": "2023-01-24T12:22:59.652Z"
   },
   {
    "duration": 17,
    "start_time": "2023-01-24T12:24:32.512Z"
   },
   {
    "duration": 210,
    "start_time": "2023-01-24T12:36:54.704Z"
   },
   {
    "duration": 17,
    "start_time": "2023-01-24T12:52:07.572Z"
   },
   {
    "duration": 31,
    "start_time": "2023-01-24T12:52:26.780Z"
   },
   {
    "duration": 25,
    "start_time": "2023-01-24T12:54:31.176Z"
   },
   {
    "duration": 37,
    "start_time": "2023-01-24T12:54:59.113Z"
   },
   {
    "duration": 20,
    "start_time": "2023-01-24T12:55:15.855Z"
   },
   {
    "duration": 1533,
    "start_time": "2023-01-24T13:24:00.746Z"
   },
   {
    "duration": 4,
    "start_time": "2023-01-24T13:24:02.281Z"
   },
   {
    "duration": 124,
    "start_time": "2023-01-24T13:24:02.287Z"
   },
   {
    "duration": 19,
    "start_time": "2023-01-24T13:24:02.414Z"
   },
   {
    "duration": 11,
    "start_time": "2023-01-24T13:24:02.435Z"
   },
   {
    "duration": 325,
    "start_time": "2023-01-24T13:24:02.651Z"
   },
   {
    "duration": 26,
    "start_time": "2023-01-24T13:24:02.978Z"
   },
   {
    "duration": 320,
    "start_time": "2023-01-24T13:24:03.022Z"
   },
   {
    "duration": 20,
    "start_time": "2023-01-24T13:24:03.344Z"
   },
   {
    "duration": 205,
    "start_time": "2023-01-24T13:24:03.366Z"
   },
   {
    "duration": 345,
    "start_time": "2023-01-24T13:24:03.573Z"
   },
   {
    "duration": 31,
    "start_time": "2023-01-24T13:24:03.923Z"
   },
   {
    "duration": 27,
    "start_time": "2023-01-24T13:26:09.589Z"
   },
   {
    "duration": 29,
    "start_time": "2023-01-24T13:26:22.222Z"
   },
   {
    "duration": 34,
    "start_time": "2023-01-24T13:27:21.313Z"
   },
   {
    "duration": 278,
    "start_time": "2023-01-24T13:27:38.056Z"
   },
   {
    "duration": 107,
    "start_time": "2023-01-24T13:36:15.524Z"
   },
   {
    "duration": 9,
    "start_time": "2023-01-24T13:36:42.263Z"
   },
   {
    "duration": 16,
    "start_time": "2023-01-24T13:37:03.969Z"
   },
   {
    "duration": 4,
    "start_time": "2023-01-24T13:50:17.220Z"
   },
   {
    "duration": 3,
    "start_time": "2023-01-24T13:50:17.228Z"
   },
   {
    "duration": 84,
    "start_time": "2023-01-24T13:50:17.233Z"
   },
   {
    "duration": 14,
    "start_time": "2023-01-24T13:50:17.320Z"
   },
   {
    "duration": 11,
    "start_time": "2023-01-24T13:50:17.335Z"
   },
   {
    "duration": 16,
    "start_time": "2023-01-24T13:50:17.348Z"
   },
   {
    "duration": 6,
    "start_time": "2023-01-24T13:50:17.365Z"
   },
   {
    "duration": 16,
    "start_time": "2023-01-24T13:50:17.372Z"
   },
   {
    "duration": 36,
    "start_time": "2023-01-24T13:50:17.389Z"
   },
   {
    "duration": 16,
    "start_time": "2023-01-24T13:50:17.426Z"
   },
   {
    "duration": 13,
    "start_time": "2023-01-24T13:50:17.444Z"
   },
   {
    "duration": 18,
    "start_time": "2023-01-24T13:50:17.460Z"
   },
   {
    "duration": 41,
    "start_time": "2023-01-24T13:50:17.480Z"
   },
   {
    "duration": 204,
    "start_time": "2023-01-24T13:50:17.523Z"
   },
   {
    "duration": 18,
    "start_time": "2023-01-24T13:50:17.729Z"
   },
   {
    "duration": 234,
    "start_time": "2023-01-24T13:50:17.749Z"
   },
   {
    "duration": 17,
    "start_time": "2023-01-24T13:50:17.985Z"
   },
   {
    "duration": 112,
    "start_time": "2023-01-24T13:50:18.020Z"
   },
   {
    "duration": 221,
    "start_time": "2023-01-24T13:50:18.134Z"
   },
   {
    "duration": 23,
    "start_time": "2023-01-24T13:50:18.357Z"
   },
   {
    "duration": 365,
    "start_time": "2023-01-24T13:50:18.381Z"
   },
   {
    "duration": 17,
    "start_time": "2023-01-24T13:50:18.748Z"
   },
   {
    "duration": 7,
    "start_time": "2023-01-24T14:00:14.369Z"
   },
   {
    "duration": 9,
    "start_time": "2023-01-24T14:00:40.295Z"
   },
   {
    "duration": 41,
    "start_time": "2023-01-24T14:06:15.973Z"
   },
   {
    "duration": 20,
    "start_time": "2023-01-24T14:06:31.080Z"
   },
   {
    "duration": 130,
    "start_time": "2023-01-24T14:19:45.426Z"
   },
   {
    "duration": 23,
    "start_time": "2023-01-24T14:21:04.849Z"
   },
   {
    "duration": 127,
    "start_time": "2023-01-24T14:21:15.130Z"
   },
   {
    "duration": 147,
    "start_time": "2023-01-24T14:22:30.249Z"
   },
   {
    "duration": 123,
    "start_time": "2023-01-24T14:22:54.131Z"
   },
   {
    "duration": 21,
    "start_time": "2023-01-24T14:24:50.536Z"
   },
   {
    "duration": 131,
    "start_time": "2023-01-24T14:24:51.573Z"
   },
   {
    "duration": 193,
    "start_time": "2023-01-24T14:29:59.430Z"
   },
   {
    "duration": 5,
    "start_time": "2023-01-24T14:31:44.593Z"
   },
   {
    "duration": 33,
    "start_time": "2023-01-24T14:31:44.600Z"
   },
   {
    "duration": 92,
    "start_time": "2023-01-24T14:31:44.636Z"
   },
   {
    "duration": 13,
    "start_time": "2023-01-24T14:31:44.731Z"
   },
   {
    "duration": 11,
    "start_time": "2023-01-24T14:31:44.746Z"
   },
   {
    "duration": 18,
    "start_time": "2023-01-24T14:31:44.758Z"
   },
   {
    "duration": 5,
    "start_time": "2023-01-24T14:31:44.778Z"
   },
   {
    "duration": 47,
    "start_time": "2023-01-24T14:31:44.785Z"
   },
   {
    "duration": 7,
    "start_time": "2023-01-24T14:31:44.834Z"
   },
   {
    "duration": 17,
    "start_time": "2023-01-24T14:31:44.844Z"
   },
   {
    "duration": 12,
    "start_time": "2023-01-24T14:31:44.863Z"
   },
   {
    "duration": 17,
    "start_time": "2023-01-24T14:31:44.877Z"
   },
   {
    "duration": 40,
    "start_time": "2023-01-24T14:31:44.896Z"
   },
   {
    "duration": 225,
    "start_time": "2023-01-24T14:31:44.937Z"
   },
   {
    "duration": 21,
    "start_time": "2023-01-24T14:31:45.164Z"
   },
   {
    "duration": 239,
    "start_time": "2023-01-24T14:31:45.188Z"
   },
   {
    "duration": 15,
    "start_time": "2023-01-24T14:31:45.429Z"
   },
   {
    "duration": 143,
    "start_time": "2023-01-24T14:31:45.446Z"
   },
   {
    "duration": 202,
    "start_time": "2023-01-24T14:31:45.591Z"
   },
   {
    "duration": 39,
    "start_time": "2023-01-24T14:31:45.795Z"
   },
   {
    "duration": 387,
    "start_time": "2023-01-24T14:31:45.835Z"
   },
   {
    "duration": 18,
    "start_time": "2023-01-24T14:31:46.225Z"
   },
   {
    "duration": 24,
    "start_time": "2023-01-24T14:31:46.245Z"
   },
   {
    "duration": 234,
    "start_time": "2023-01-24T14:31:46.271Z"
   },
   {
    "duration": 37,
    "start_time": "2023-01-24T14:34:26.307Z"
   },
   {
    "duration": 35,
    "start_time": "2023-01-24T14:41:37.288Z"
   },
   {
    "duration": 206,
    "start_time": "2023-01-24T14:41:58.510Z"
   },
   {
    "duration": 28,
    "start_time": "2023-01-24T14:43:36.965Z"
   },
   {
    "duration": 117,
    "start_time": "2023-01-24T14:57:29.972Z"
   },
   {
    "duration": 42,
    "start_time": "2023-01-24T14:58:14.013Z"
   },
   {
    "duration": 889,
    "start_time": "2023-01-24T14:58:21.904Z"
   },
   {
    "duration": 806,
    "start_time": "2023-01-24T15:02:36.484Z"
   },
   {
    "duration": 742,
    "start_time": "2023-01-24T15:03:03.096Z"
   },
   {
    "duration": 27,
    "start_time": "2023-01-24T15:03:14.943Z"
   },
   {
    "duration": 32,
    "start_time": "2023-01-24T15:04:10.793Z"
   },
   {
    "duration": 758,
    "start_time": "2023-01-24T15:04:33.218Z"
   },
   {
    "duration": 29,
    "start_time": "2023-01-24T15:05:22.198Z"
   },
   {
    "duration": 40,
    "start_time": "2023-01-24T15:07:06.065Z"
   },
   {
    "duration": 212,
    "start_time": "2023-01-24T15:07:21.119Z"
   },
   {
    "duration": 49,
    "start_time": "2023-01-24T15:07:38.887Z"
   },
   {
    "duration": 254,
    "start_time": "2023-01-24T15:07:42.236Z"
   },
   {
    "duration": 38,
    "start_time": "2023-01-24T15:08:33.263Z"
   },
   {
    "duration": 56,
    "start_time": "2023-01-24T15:08:54.981Z"
   },
   {
    "duration": 299,
    "start_time": "2023-01-24T15:08:58.176Z"
   },
   {
    "duration": 26,
    "start_time": "2023-01-24T15:26:09.240Z"
   },
   {
    "duration": 4,
    "start_time": "2023-01-24T15:26:18.968Z"
   },
   {
    "duration": 8,
    "start_time": "2023-01-24T15:26:18.973Z"
   },
   {
    "duration": 76,
    "start_time": "2023-01-24T15:26:18.982Z"
   },
   {
    "duration": 13,
    "start_time": "2023-01-24T15:26:19.060Z"
   },
   {
    "duration": 10,
    "start_time": "2023-01-24T15:26:19.074Z"
   },
   {
    "duration": 41,
    "start_time": "2023-01-24T15:26:19.085Z"
   },
   {
    "duration": 5,
    "start_time": "2023-01-24T15:26:19.128Z"
   },
   {
    "duration": 14,
    "start_time": "2023-01-24T15:26:19.135Z"
   },
   {
    "duration": 6,
    "start_time": "2023-01-24T15:26:19.151Z"
   },
   {
    "duration": 13,
    "start_time": "2023-01-24T15:26:19.158Z"
   },
   {
    "duration": 10,
    "start_time": "2023-01-24T15:26:19.172Z"
   },
   {
    "duration": 50,
    "start_time": "2023-01-24T15:26:19.183Z"
   },
   {
    "duration": 17,
    "start_time": "2023-01-24T15:26:19.236Z"
   },
   {
    "duration": 194,
    "start_time": "2023-01-24T15:26:19.255Z"
   },
   {
    "duration": 15,
    "start_time": "2023-01-24T15:26:19.450Z"
   },
   {
    "duration": 209,
    "start_time": "2023-01-24T15:26:19.466Z"
   },
   {
    "duration": 14,
    "start_time": "2023-01-24T15:26:19.677Z"
   },
   {
    "duration": 133,
    "start_time": "2023-01-24T15:26:19.693Z"
   },
   {
    "duration": 309,
    "start_time": "2023-01-24T15:26:19.829Z"
   },
   {
    "duration": 25,
    "start_time": "2023-01-24T15:26:20.140Z"
   },
   {
    "duration": 284,
    "start_time": "2023-01-24T15:26:20.167Z"
   },
   {
    "duration": 20,
    "start_time": "2023-01-24T15:26:20.453Z"
   },
   {
    "duration": 62,
    "start_time": "2023-01-24T15:26:20.474Z"
   },
   {
    "duration": 328,
    "start_time": "2023-01-24T15:26:20.538Z"
   },
   {
    "duration": 304,
    "start_time": "2023-01-24T15:29:23.092Z"
   },
   {
    "duration": 58,
    "start_time": "2023-01-24T15:30:58.424Z"
   },
   {
    "duration": 189,
    "start_time": "2023-01-24T15:31:12.042Z"
   },
   {
    "duration": 52,
    "start_time": "2023-01-24T15:31:37.638Z"
   },
   {
    "duration": 47,
    "start_time": "2023-01-24T15:31:50.496Z"
   },
   {
    "duration": 53,
    "start_time": "2023-01-24T15:32:14.282Z"
   },
   {
    "duration": 45,
    "start_time": "2023-01-24T15:32:50.349Z"
   },
   {
    "duration": 282,
    "start_time": "2023-01-24T15:33:06.749Z"
   },
   {
    "duration": 440,
    "start_time": "2023-01-24T16:50:13.242Z"
   },
   {
    "duration": 134,
    "start_time": "2023-01-24T16:56:08.390Z"
   },
   {
    "duration": 32,
    "start_time": "2023-01-24T16:58:43.589Z"
   },
   {
    "duration": 53,
    "start_time": "2023-01-24T17:06:25.781Z"
   },
   {
    "duration": 424,
    "start_time": "2023-01-24T17:07:03.442Z"
   },
   {
    "duration": 426,
    "start_time": "2023-01-24T17:07:12.834Z"
   },
   {
    "duration": 425,
    "start_time": "2023-01-24T17:15:44.153Z"
   },
   {
    "duration": 429,
    "start_time": "2023-01-24T17:15:56.970Z"
   },
   {
    "duration": 16,
    "start_time": "2023-01-24T17:17:04.284Z"
   },
   {
    "duration": 1326,
    "start_time": "2023-01-25T12:06:03.814Z"
   },
   {
    "duration": 3,
    "start_time": "2023-01-25T12:06:05.142Z"
   },
   {
    "duration": 138,
    "start_time": "2023-01-25T12:06:05.146Z"
   },
   {
    "duration": 16,
    "start_time": "2023-01-25T12:06:05.287Z"
   },
   {
    "duration": 18,
    "start_time": "2023-01-25T12:06:05.305Z"
   },
   {
    "duration": 29,
    "start_time": "2023-01-25T12:06:05.324Z"
   },
   {
    "duration": 12,
    "start_time": "2023-01-25T12:06:05.355Z"
   },
   {
    "duration": 28,
    "start_time": "2023-01-25T12:06:05.369Z"
   },
   {
    "duration": 7,
    "start_time": "2023-01-25T12:06:05.398Z"
   },
   {
    "duration": 22,
    "start_time": "2023-01-25T12:06:05.407Z"
   },
   {
    "duration": 22,
    "start_time": "2023-01-25T12:06:05.430Z"
   },
   {
    "duration": 36,
    "start_time": "2023-01-25T12:06:05.454Z"
   },
   {
    "duration": 27,
    "start_time": "2023-01-25T12:06:05.492Z"
   },
   {
    "duration": 206,
    "start_time": "2023-01-25T12:06:05.520Z"
   },
   {
    "duration": 17,
    "start_time": "2023-01-25T12:06:05.728Z"
   },
   {
    "duration": 200,
    "start_time": "2023-01-25T12:06:05.747Z"
   },
   {
    "duration": 14,
    "start_time": "2023-01-25T12:06:05.949Z"
   },
   {
    "duration": 136,
    "start_time": "2023-01-25T12:06:05.964Z"
   },
   {
    "duration": 194,
    "start_time": "2023-01-25T12:06:06.101Z"
   },
   {
    "duration": 30,
    "start_time": "2023-01-25T12:06:06.297Z"
   },
   {
    "duration": 281,
    "start_time": "2023-01-25T12:06:06.329Z"
   },
   {
    "duration": 26,
    "start_time": "2023-01-25T12:06:06.612Z"
   },
   {
    "duration": 472,
    "start_time": "2023-01-25T12:06:06.641Z"
   },
   {
    "duration": 21,
    "start_time": "2023-01-25T12:06:07.115Z"
   },
   {
    "duration": 125,
    "start_time": "2023-01-25T12:30:45.163Z"
   },
   {
    "duration": 14,
    "start_time": "2023-01-25T12:30:58.852Z"
   },
   {
    "duration": 185,
    "start_time": "2023-01-25T12:34:08.216Z"
   },
   {
    "duration": 182,
    "start_time": "2023-01-25T12:34:33.318Z"
   },
   {
    "duration": 244,
    "start_time": "2023-01-25T12:35:59.485Z"
   },
   {
    "duration": 197,
    "start_time": "2023-01-25T12:44:55.496Z"
   },
   {
    "duration": 4,
    "start_time": "2023-01-25T12:45:03.089Z"
   },
   {
    "duration": 5,
    "start_time": "2023-01-25T12:45:03.099Z"
   },
   {
    "duration": 68,
    "start_time": "2023-01-25T12:45:03.113Z"
   },
   {
    "duration": 14,
    "start_time": "2023-01-25T12:45:03.183Z"
   },
   {
    "duration": 30,
    "start_time": "2023-01-25T12:45:03.198Z"
   },
   {
    "duration": 23,
    "start_time": "2023-01-25T12:45:03.230Z"
   },
   {
    "duration": 6,
    "start_time": "2023-01-25T12:45:03.254Z"
   },
   {
    "duration": 25,
    "start_time": "2023-01-25T12:45:03.262Z"
   },
   {
    "duration": 6,
    "start_time": "2023-01-25T12:45:03.289Z"
   },
   {
    "duration": 12,
    "start_time": "2023-01-25T12:45:03.297Z"
   },
   {
    "duration": 22,
    "start_time": "2023-01-25T12:45:03.310Z"
   },
   {
    "duration": 33,
    "start_time": "2023-01-25T12:45:03.336Z"
   },
   {
    "duration": 19,
    "start_time": "2023-01-25T12:45:03.370Z"
   },
   {
    "duration": 180,
    "start_time": "2023-01-25T12:45:03.391Z"
   },
   {
    "duration": 17,
    "start_time": "2023-01-25T12:45:03.573Z"
   },
   {
    "duration": 206,
    "start_time": "2023-01-25T12:45:03.591Z"
   },
   {
    "duration": 29,
    "start_time": "2023-01-25T12:45:03.799Z"
   },
   {
    "duration": 118,
    "start_time": "2023-01-25T12:45:03.830Z"
   },
   {
    "duration": 198,
    "start_time": "2023-01-25T12:45:03.950Z"
   },
   {
    "duration": 20,
    "start_time": "2023-01-25T12:45:04.149Z"
   },
   {
    "duration": 259,
    "start_time": "2023-01-25T12:45:04.170Z"
   },
   {
    "duration": 15,
    "start_time": "2023-01-25T12:45:04.431Z"
   },
   {
    "duration": 503,
    "start_time": "2023-01-25T12:45:04.447Z"
   },
   {
    "duration": 16,
    "start_time": "2023-01-25T12:45:04.952Z"
   },
   {
    "duration": 182,
    "start_time": "2023-01-25T12:45:04.970Z"
   },
   {
    "duration": 10,
    "start_time": "2023-01-25T13:02:31.035Z"
   },
   {
    "duration": 4,
    "start_time": "2023-01-25T13:13:27.624Z"
   },
   {
    "duration": 89,
    "start_time": "2023-01-25T13:14:26.555Z"
   },
   {
    "duration": 5,
    "start_time": "2023-01-25T13:15:05.829Z"
   },
   {
    "duration": 10031,
    "start_time": "2023-01-25T13:20:38.472Z"
   },
   {
    "duration": 10,
    "start_time": "2023-01-25T13:32:29.823Z"
   },
   {
    "duration": 3,
    "start_time": "2023-01-25T13:34:42.117Z"
   },
   {
    "duration": 124,
    "start_time": "2023-01-25T13:35:41.122Z"
   },
   {
    "duration": 4,
    "start_time": "2023-01-25T13:36:19.668Z"
   },
   {
    "duration": 133,
    "start_time": "2023-01-25T13:39:44.537Z"
   },
   {
    "duration": 13,
    "start_time": "2023-01-25T15:51:03.482Z"
   },
   {
    "duration": 21,
    "start_time": "2023-01-25T15:51:29.824Z"
   },
   {
    "duration": 25,
    "start_time": "2023-01-25T15:53:56.542Z"
   },
   {
    "duration": 3154,
    "start_time": "2023-01-25T15:54:54.755Z"
   },
   {
    "duration": 22,
    "start_time": "2023-01-25T15:55:22.084Z"
   },
   {
    "duration": 30,
    "start_time": "2023-01-25T15:57:06.697Z"
   },
   {
    "duration": 22,
    "start_time": "2023-01-25T16:03:30.271Z"
   },
   {
    "duration": 324,
    "start_time": "2023-01-25T16:25:02.601Z"
   },
   {
    "duration": 18,
    "start_time": "2023-01-25T16:39:25.941Z"
   },
   {
    "duration": 5,
    "start_time": "2023-01-26T09:48:43.369Z"
   },
   {
    "duration": 44,
    "start_time": "2023-01-26T09:48:43.376Z"
   },
   {
    "duration": 79,
    "start_time": "2023-01-26T09:48:43.422Z"
   },
   {
    "duration": 19,
    "start_time": "2023-01-26T09:48:43.505Z"
   },
   {
    "duration": 12,
    "start_time": "2023-01-26T09:48:43.526Z"
   },
   {
    "duration": 47,
    "start_time": "2023-01-26T09:48:43.541Z"
   },
   {
    "duration": 6,
    "start_time": "2023-01-26T09:48:43.590Z"
   },
   {
    "duration": 45,
    "start_time": "2023-01-26T09:48:43.601Z"
   },
   {
    "duration": 7,
    "start_time": "2023-01-26T09:48:43.649Z"
   },
   {
    "duration": 32,
    "start_time": "2023-01-26T09:48:43.658Z"
   },
   {
    "duration": 6,
    "start_time": "2023-01-26T09:48:43.692Z"
   },
   {
    "duration": 46,
    "start_time": "2023-01-26T09:48:43.700Z"
   },
   {
    "duration": 16,
    "start_time": "2023-01-26T09:48:43.749Z"
   },
   {
    "duration": 208,
    "start_time": "2023-01-26T09:48:43.767Z"
   },
   {
    "duration": 31,
    "start_time": "2023-01-26T09:48:43.978Z"
   },
   {
    "duration": 268,
    "start_time": "2023-01-26T09:48:44.011Z"
   },
   {
    "duration": 27,
    "start_time": "2023-01-26T09:48:44.282Z"
   },
   {
    "duration": 163,
    "start_time": "2023-01-26T09:48:44.312Z"
   },
   {
    "duration": 251,
    "start_time": "2023-01-26T09:48:44.477Z"
   },
   {
    "duration": 23,
    "start_time": "2023-01-26T09:48:44.730Z"
   },
   {
    "duration": 339,
    "start_time": "2023-01-26T09:48:44.756Z"
   },
   {
    "duration": 21,
    "start_time": "2023-01-26T09:48:45.097Z"
   },
   {
    "duration": 691,
    "start_time": "2023-01-26T09:48:45.119Z"
   },
   {
    "duration": 19,
    "start_time": "2023-01-26T09:48:45.813Z"
   },
   {
    "duration": 223,
    "start_time": "2023-01-26T09:48:45.834Z"
   },
   {
    "duration": 169,
    "start_time": "2023-01-26T09:48:46.059Z"
   },
   {
    "duration": 10817,
    "start_time": "2023-01-26T09:48:46.230Z"
   },
   {
    "duration": 709,
    "start_time": "2023-01-26T09:48:57.050Z"
   },
   {
    "duration": 32,
    "start_time": "2023-01-26T09:48:57.760Z"
   },
   {
    "duration": 179,
    "start_time": "2023-01-26T09:48:57.794Z"
   },
   {
    "duration": 114,
    "start_time": "2023-01-26T10:15:08.736Z"
   },
   {
    "duration": 10,
    "start_time": "2023-01-26T10:17:44.355Z"
   },
   {
    "duration": 9,
    "start_time": "2023-01-26T10:18:09.325Z"
   },
   {
    "duration": 14,
    "start_time": "2023-01-26T10:18:36.183Z"
   },
   {
    "duration": 12,
    "start_time": "2023-01-26T10:18:50.033Z"
   },
   {
    "duration": 51,
    "start_time": "2023-01-26T10:25:45.446Z"
   },
   {
    "duration": 110,
    "start_time": "2023-01-26T10:25:54.163Z"
   },
   {
    "duration": 13,
    "start_time": "2023-01-26T10:26:33.526Z"
   },
   {
    "duration": 214,
    "start_time": "2023-01-26T10:26:55.908Z"
   },
   {
    "duration": 13,
    "start_time": "2023-01-26T10:27:15.228Z"
   },
   {
    "duration": 275,
    "start_time": "2023-01-26T10:27:26.390Z"
   },
   {
    "duration": 21,
    "start_time": "2023-01-26T10:30:05.808Z"
   },
   {
    "duration": 14,
    "start_time": "2023-01-26T10:30:22.396Z"
   },
   {
    "duration": 449,
    "start_time": "2023-01-26T10:31:52.768Z"
   },
   {
    "duration": 23,
    "start_time": "2023-01-26T10:32:59.978Z"
   },
   {
    "duration": 293,
    "start_time": "2023-01-26T10:33:12.525Z"
   },
   {
    "duration": 28,
    "start_time": "2023-01-26T10:33:34.835Z"
   },
   {
    "duration": 221,
    "start_time": "2023-01-26T10:35:20.870Z"
   },
   {
    "duration": 207,
    "start_time": "2023-01-26T10:42:37.701Z"
   },
   {
    "duration": 48,
    "start_time": "2023-01-26T10:44:41.804Z"
   },
   {
    "duration": 11,
    "start_time": "2023-01-26T10:44:50.491Z"
   },
   {
    "duration": 12,
    "start_time": "2023-01-26T10:47:22.831Z"
   },
   {
    "duration": 10,
    "start_time": "2023-01-26T13:28:41.005Z"
   },
   {
    "duration": 141,
    "start_time": "2023-01-26T13:33:19.350Z"
   },
   {
    "duration": 13,
    "start_time": "2023-01-26T13:33:29.463Z"
   },
   {
    "duration": 157,
    "start_time": "2023-01-26T13:33:31.204Z"
   },
   {
    "duration": 10,
    "start_time": "2023-01-26T13:36:55.593Z"
   },
   {
    "duration": 14,
    "start_time": "2023-01-26T13:37:05.043Z"
   },
   {
    "duration": 13,
    "start_time": "2023-01-26T13:37:33.407Z"
   },
   {
    "duration": 15,
    "start_time": "2023-01-26T13:52:24.062Z"
   },
   {
    "duration": 5,
    "start_time": "2023-01-26T14:03:19.853Z"
   },
   {
    "duration": 22,
    "start_time": "2023-01-26T14:03:19.860Z"
   },
   {
    "duration": 85,
    "start_time": "2023-01-26T14:03:19.884Z"
   },
   {
    "duration": 14,
    "start_time": "2023-01-26T14:03:19.972Z"
   },
   {
    "duration": 30,
    "start_time": "2023-01-26T14:03:19.988Z"
   },
   {
    "duration": 44,
    "start_time": "2023-01-26T14:03:20.020Z"
   },
   {
    "duration": 5,
    "start_time": "2023-01-26T14:03:20.066Z"
   },
   {
    "duration": 25,
    "start_time": "2023-01-26T14:03:20.073Z"
   },
   {
    "duration": 29,
    "start_time": "2023-01-26T14:03:20.100Z"
   },
   {
    "duration": 18,
    "start_time": "2023-01-26T14:03:20.133Z"
   },
   {
    "duration": 34,
    "start_time": "2023-01-26T14:03:20.153Z"
   },
   {
    "duration": 27,
    "start_time": "2023-01-26T14:03:20.189Z"
   },
   {
    "duration": 29,
    "start_time": "2023-01-26T14:03:20.217Z"
   },
   {
    "duration": 206,
    "start_time": "2023-01-26T14:03:20.248Z"
   },
   {
    "duration": 27,
    "start_time": "2023-01-26T14:03:20.456Z"
   },
   {
    "duration": 223,
    "start_time": "2023-01-26T14:03:20.485Z"
   },
   {
    "duration": 17,
    "start_time": "2023-01-26T14:03:20.710Z"
   },
   {
    "duration": 134,
    "start_time": "2023-01-26T14:03:20.730Z"
   },
   {
    "duration": 210,
    "start_time": "2023-01-26T14:03:20.866Z"
   },
   {
    "duration": 20,
    "start_time": "2023-01-26T14:03:21.082Z"
   },
   {
    "duration": 278,
    "start_time": "2023-01-26T14:03:21.104Z"
   },
   {
    "duration": 16,
    "start_time": "2023-01-26T14:03:21.384Z"
   },
   {
    "duration": 487,
    "start_time": "2023-01-26T14:03:21.401Z"
   },
   {
    "duration": 22,
    "start_time": "2023-01-26T14:03:21.890Z"
   },
   {
    "duration": 191,
    "start_time": "2023-01-26T14:03:21.914Z"
   },
   {
    "duration": 130,
    "start_time": "2023-01-26T14:03:22.107Z"
   },
   {
    "duration": 9967,
    "start_time": "2023-01-26T14:03:22.239Z"
   },
   {
    "duration": 473,
    "start_time": "2023-01-26T14:03:32.210Z"
   },
   {
    "duration": 18,
    "start_time": "2023-01-26T14:03:32.685Z"
   },
   {
    "duration": 171,
    "start_time": "2023-01-26T14:03:32.705Z"
   },
   {
    "duration": 15,
    "start_time": "2023-01-26T14:03:32.878Z"
   },
   {
    "duration": 222,
    "start_time": "2023-01-26T14:03:32.894Z"
   },
   {
    "duration": 16,
    "start_time": "2023-01-26T14:03:33.117Z"
   },
   {
    "duration": 235,
    "start_time": "2023-01-26T14:03:33.135Z"
   },
   {
    "duration": 19,
    "start_time": "2023-01-26T14:03:33.371Z"
   },
   {
    "duration": 177,
    "start_time": "2023-01-26T14:03:33.392Z"
   },
   {
    "duration": 16,
    "start_time": "2023-01-26T14:03:33.570Z"
   },
   {
    "duration": 30,
    "start_time": "2023-01-26T14:03:33.587Z"
   },
   {
    "duration": 14,
    "start_time": "2023-01-26T14:19:36.571Z"
   },
   {
    "duration": 16,
    "start_time": "2023-01-26T14:20:42.813Z"
   },
   {
    "duration": 4,
    "start_time": "2023-01-26T14:21:58.916Z"
   },
   {
    "duration": 11,
    "start_time": "2023-01-26T14:21:58.922Z"
   },
   {
    "duration": 79,
    "start_time": "2023-01-26T14:21:58.935Z"
   },
   {
    "duration": 15,
    "start_time": "2023-01-26T14:21:59.015Z"
   },
   {
    "duration": 24,
    "start_time": "2023-01-26T14:21:59.032Z"
   },
   {
    "duration": 27,
    "start_time": "2023-01-26T14:21:59.058Z"
   },
   {
    "duration": 13,
    "start_time": "2023-01-26T14:21:59.087Z"
   },
   {
    "duration": 40,
    "start_time": "2023-01-26T14:21:59.102Z"
   },
   {
    "duration": 26,
    "start_time": "2023-01-26T14:21:59.144Z"
   },
   {
    "duration": 11,
    "start_time": "2023-01-26T14:21:59.172Z"
   },
   {
    "duration": 13,
    "start_time": "2023-01-26T14:21:59.184Z"
   },
   {
    "duration": 29,
    "start_time": "2023-01-26T14:21:59.198Z"
   },
   {
    "duration": 19,
    "start_time": "2023-01-26T14:21:59.228Z"
   },
   {
    "duration": 161,
    "start_time": "2023-01-26T14:21:59.250Z"
   },
   {
    "duration": 14,
    "start_time": "2023-01-26T14:21:59.413Z"
   },
   {
    "duration": 187,
    "start_time": "2023-01-26T14:21:59.429Z"
   },
   {
    "duration": 13,
    "start_time": "2023-01-26T14:21:59.618Z"
   },
   {
    "duration": 171,
    "start_time": "2023-01-26T14:21:59.633Z"
   },
   {
    "duration": 197,
    "start_time": "2023-01-26T14:21:59.806Z"
   },
   {
    "duration": 22,
    "start_time": "2023-01-26T14:22:00.005Z"
   },
   {
    "duration": 285,
    "start_time": "2023-01-26T14:22:00.028Z"
   },
   {
    "duration": 16,
    "start_time": "2023-01-26T14:22:00.315Z"
   },
   {
    "duration": 457,
    "start_time": "2023-01-26T14:22:00.333Z"
   },
   {
    "duration": 14,
    "start_time": "2023-01-26T14:22:00.792Z"
   },
   {
    "duration": 194,
    "start_time": "2023-01-26T14:22:00.808Z"
   },
   {
    "duration": 126,
    "start_time": "2023-01-26T14:22:01.004Z"
   },
   {
    "duration": 9094,
    "start_time": "2023-01-26T14:22:01.132Z"
   },
   {
    "duration": 408,
    "start_time": "2023-01-26T14:22:10.228Z"
   },
   {
    "duration": 19,
    "start_time": "2023-01-26T14:22:10.638Z"
   },
   {
    "duration": 143,
    "start_time": "2023-01-26T14:22:10.659Z"
   },
   {
    "duration": 11,
    "start_time": "2023-01-26T14:22:10.803Z"
   },
   {
    "duration": 200,
    "start_time": "2023-01-26T14:22:10.816Z"
   },
   {
    "duration": 13,
    "start_time": "2023-01-26T14:22:11.017Z"
   },
   {
    "duration": 223,
    "start_time": "2023-01-26T14:22:11.032Z"
   },
   {
    "duration": 12,
    "start_time": "2023-01-26T14:22:11.257Z"
   },
   {
    "duration": 152,
    "start_time": "2023-01-26T14:22:11.271Z"
   },
   {
    "duration": 13,
    "start_time": "2023-01-26T14:22:11.425Z"
   },
   {
    "duration": 11,
    "start_time": "2023-01-26T14:22:11.440Z"
   },
   {
    "duration": 38,
    "start_time": "2023-01-26T14:22:11.453Z"
   },
   {
    "duration": 1617,
    "start_time": "2023-01-27T06:56:02.915Z"
   },
   {
    "duration": 3,
    "start_time": "2023-01-27T06:56:04.534Z"
   },
   {
    "duration": 627,
    "start_time": "2023-01-27T06:56:04.539Z"
   },
   {
    "duration": 18,
    "start_time": "2023-01-27T06:56:05.169Z"
   },
   {
    "duration": 11,
    "start_time": "2023-01-27T06:56:05.189Z"
   },
   {
    "duration": 28,
    "start_time": "2023-01-27T06:56:05.202Z"
   },
   {
    "duration": 19,
    "start_time": "2023-01-27T06:56:05.232Z"
   },
   {
    "duration": 29,
    "start_time": "2023-01-27T06:56:05.253Z"
   },
   {
    "duration": 5,
    "start_time": "2023-01-27T06:56:05.284Z"
   },
   {
    "duration": 11,
    "start_time": "2023-01-27T06:56:05.292Z"
   },
   {
    "duration": 6,
    "start_time": "2023-01-27T06:56:05.304Z"
   },
   {
    "duration": 37,
    "start_time": "2023-01-27T06:56:05.311Z"
   },
   {
    "duration": 18,
    "start_time": "2023-01-27T06:56:05.350Z"
   },
   {
    "duration": 200,
    "start_time": "2023-01-27T06:56:05.369Z"
   },
   {
    "duration": 15,
    "start_time": "2023-01-27T06:56:05.570Z"
   },
   {
    "duration": 202,
    "start_time": "2023-01-27T06:56:05.586Z"
   },
   {
    "duration": 13,
    "start_time": "2023-01-27T06:56:05.790Z"
   },
   {
    "duration": 119,
    "start_time": "2023-01-27T06:56:05.805Z"
   },
   {
    "duration": 190,
    "start_time": "2023-01-27T06:56:05.925Z"
   },
   {
    "duration": 20,
    "start_time": "2023-01-27T06:56:06.117Z"
   },
   {
    "duration": 294,
    "start_time": "2023-01-27T06:56:06.149Z"
   },
   {
    "duration": 18,
    "start_time": "2023-01-27T06:56:06.448Z"
   },
   {
    "duration": 490,
    "start_time": "2023-01-27T06:56:06.468Z"
   },
   {
    "duration": 15,
    "start_time": "2023-01-27T06:56:06.960Z"
   },
   {
    "duration": 176,
    "start_time": "2023-01-27T06:56:06.976Z"
   },
   {
    "duration": 255,
    "start_time": "2023-01-27T06:56:07.154Z"
   },
   {
    "duration": 9556,
    "start_time": "2023-01-27T06:56:07.411Z"
   },
   {
    "duration": 459,
    "start_time": "2023-01-27T06:56:16.972Z"
   },
   {
    "duration": 25,
    "start_time": "2023-01-27T06:56:17.432Z"
   },
   {
    "duration": 128,
    "start_time": "2023-01-27T06:56:17.458Z"
   },
   {
    "duration": 13,
    "start_time": "2023-01-27T06:56:17.587Z"
   },
   {
    "duration": 254,
    "start_time": "2023-01-27T06:56:17.601Z"
   },
   {
    "duration": 17,
    "start_time": "2023-01-27T06:56:17.856Z"
   },
   {
    "duration": 238,
    "start_time": "2023-01-27T06:56:17.875Z"
   },
   {
    "duration": 12,
    "start_time": "2023-01-27T06:56:18.114Z"
   },
   {
    "duration": 161,
    "start_time": "2023-01-27T06:56:18.127Z"
   },
   {
    "duration": 14,
    "start_time": "2023-01-27T06:56:18.290Z"
   },
   {
    "duration": 16,
    "start_time": "2023-01-27T06:56:18.306Z"
   },
   {
    "duration": 224,
    "start_time": "2023-01-27T08:16:04.501Z"
   },
   {
    "duration": 117,
    "start_time": "2023-01-27T08:16:39.812Z"
   },
   {
    "duration": 17,
    "start_time": "2023-01-27T08:16:56.625Z"
   },
   {
    "duration": 234,
    "start_time": "2023-01-27T08:16:59.214Z"
   },
   {
    "duration": 234,
    "start_time": "2023-01-27T08:22:52.156Z"
   },
   {
    "duration": 10,
    "start_time": "2023-01-27T09:09:16.736Z"
   },
   {
    "duration": 8,
    "start_time": "2023-01-27T09:09:20.079Z"
   },
   {
    "duration": 5,
    "start_time": "2023-01-27T09:17:30.882Z"
   },
   {
    "duration": 6,
    "start_time": "2023-01-27T09:59:12.287Z"
   },
   {
    "duration": 13,
    "start_time": "2023-01-27T09:59:27.232Z"
   },
   {
    "duration": 11,
    "start_time": "2023-01-27T09:59:37.865Z"
   },
   {
    "duration": 31,
    "start_time": "2023-01-27T10:00:47.710Z"
   },
   {
    "duration": 14,
    "start_time": "2023-01-27T10:02:00.782Z"
   },
   {
    "duration": 18,
    "start_time": "2023-01-27T10:02:13.329Z"
   },
   {
    "duration": 9,
    "start_time": "2023-01-27T10:03:57.868Z"
   },
   {
    "duration": 17,
    "start_time": "2023-01-27T10:04:11.980Z"
   },
   {
    "duration": 391,
    "start_time": "2023-01-27T10:11:32.169Z"
   },
   {
    "duration": 321,
    "start_time": "2023-01-27T10:27:18.207Z"
   },
   {
    "duration": 50,
    "start_time": "2023-01-27T10:33:01.665Z"
   },
   {
    "duration": 94,
    "start_time": "2023-01-27T10:33:13.392Z"
   },
   {
    "duration": 72,
    "start_time": "2023-01-27T10:33:39.704Z"
   },
   {
    "duration": 13,
    "start_time": "2023-01-27T10:59:12.133Z"
   },
   {
    "duration": 257,
    "start_time": "2023-01-27T10:59:19.986Z"
   },
   {
    "duration": 144,
    "start_time": "2023-01-27T10:59:59.486Z"
   },
   {
    "duration": 19,
    "start_time": "2023-01-27T11:00:32.861Z"
   },
   {
    "duration": 11,
    "start_time": "2023-01-27T11:01:03.674Z"
   },
   {
    "duration": 177,
    "start_time": "2023-01-27T11:31:53.200Z"
   },
   {
    "duration": 14,
    "start_time": "2023-01-27T12:22:31.709Z"
   },
   {
    "duration": 4,
    "start_time": "2023-01-27T15:00:07.132Z"
   },
   {
    "duration": 15,
    "start_time": "2023-01-27T15:00:07.142Z"
   },
   {
    "duration": 81,
    "start_time": "2023-01-27T15:00:07.160Z"
   },
   {
    "duration": 13,
    "start_time": "2023-01-27T15:00:07.243Z"
   },
   {
    "duration": 20,
    "start_time": "2023-01-27T15:00:07.258Z"
   },
   {
    "duration": 28,
    "start_time": "2023-01-27T15:00:07.280Z"
   },
   {
    "duration": 5,
    "start_time": "2023-01-27T15:00:07.309Z"
   },
   {
    "duration": 14,
    "start_time": "2023-01-27T15:00:07.315Z"
   },
   {
    "duration": 6,
    "start_time": "2023-01-27T15:00:07.331Z"
   },
   {
    "duration": 9,
    "start_time": "2023-01-27T15:00:07.350Z"
   },
   {
    "duration": 6,
    "start_time": "2023-01-27T15:00:07.361Z"
   },
   {
    "duration": 29,
    "start_time": "2023-01-27T15:00:07.368Z"
   },
   {
    "duration": 16,
    "start_time": "2023-01-27T15:00:07.399Z"
   },
   {
    "duration": 195,
    "start_time": "2023-01-27T15:00:07.417Z"
   },
   {
    "duration": 18,
    "start_time": "2023-01-27T15:00:07.614Z"
   },
   {
    "duration": 195,
    "start_time": "2023-01-27T15:00:07.649Z"
   },
   {
    "duration": 18,
    "start_time": "2023-01-27T15:00:07.849Z"
   },
   {
    "duration": 146,
    "start_time": "2023-01-27T15:00:07.868Z"
   },
   {
    "duration": 222,
    "start_time": "2023-01-27T15:00:08.015Z"
   },
   {
    "duration": 24,
    "start_time": "2023-01-27T15:00:08.239Z"
   },
   {
    "duration": 260,
    "start_time": "2023-01-27T15:00:08.265Z"
   },
   {
    "duration": 13,
    "start_time": "2023-01-27T15:00:08.527Z"
   },
   {
    "duration": 247,
    "start_time": "2023-01-27T15:00:08.549Z"
   },
   {
    "duration": 15,
    "start_time": "2023-01-27T15:00:08.797Z"
   },
   {
    "duration": 434,
    "start_time": "2023-01-27T15:00:08.815Z"
   },
   {
    "duration": 15,
    "start_time": "2023-01-27T15:00:09.251Z"
   },
   {
    "duration": 204,
    "start_time": "2023-01-27T15:00:09.268Z"
   },
   {
    "duration": 135,
    "start_time": "2023-01-27T15:00:09.474Z"
   },
   {
    "duration": 9912,
    "start_time": "2023-01-27T15:00:09.611Z"
   },
   {
    "duration": 32,
    "start_time": "2023-01-27T15:00:19.526Z"
   },
   {
    "duration": 416,
    "start_time": "2023-01-27T15:00:19.560Z"
   },
   {
    "duration": 16,
    "start_time": "2023-01-27T15:00:19.978Z"
   },
   {
    "duration": 10,
    "start_time": "2023-01-27T15:00:19.996Z"
   },
   {
    "duration": 133,
    "start_time": "2023-01-27T15:00:20.007Z"
   },
   {
    "duration": 19,
    "start_time": "2023-01-27T15:00:20.142Z"
   },
   {
    "duration": 221,
    "start_time": "2023-01-27T15:00:20.163Z"
   },
   {
    "duration": 15,
    "start_time": "2023-01-27T15:00:20.386Z"
   },
   {
    "duration": 254,
    "start_time": "2023-01-27T15:00:20.403Z"
   },
   {
    "duration": 12,
    "start_time": "2023-01-27T15:00:20.659Z"
   },
   {
    "duration": 180,
    "start_time": "2023-01-27T15:00:20.673Z"
   },
   {
    "duration": 14,
    "start_time": "2023-01-27T15:00:20.855Z"
   },
   {
    "duration": 17,
    "start_time": "2023-01-27T15:00:20.870Z"
   },
   {
    "duration": 256,
    "start_time": "2023-01-27T15:00:20.889Z"
   },
   {
    "duration": 19,
    "start_time": "2023-01-27T15:39:51.025Z"
   },
   {
    "duration": 16,
    "start_time": "2023-01-27T15:42:27.271Z"
   },
   {
    "duration": 13,
    "start_time": "2023-01-27T15:43:13.995Z"
   },
   {
    "duration": 16,
    "start_time": "2023-01-27T15:49:07.945Z"
   },
   {
    "duration": 13,
    "start_time": "2023-01-27T15:49:22.901Z"
   },
   {
    "duration": 4,
    "start_time": "2023-01-27T16:14:35.973Z"
   },
   {
    "duration": 13,
    "start_time": "2023-01-27T16:16:53.257Z"
   },
   {
    "duration": 47,
    "start_time": "2023-01-27T16:17:52.511Z"
   },
   {
    "duration": 17,
    "start_time": "2023-01-27T16:18:01.349Z"
   },
   {
    "duration": 13,
    "start_time": "2023-01-27T16:18:42.651Z"
   },
   {
    "duration": 17,
    "start_time": "2023-01-27T16:19:00.864Z"
   },
   {
    "duration": 13,
    "start_time": "2023-01-27T16:19:13.169Z"
   },
   {
    "duration": 13,
    "start_time": "2023-01-27T16:20:51.609Z"
   },
   {
    "duration": 14,
    "start_time": "2023-01-27T16:22:31.088Z"
   },
   {
    "duration": 1766,
    "start_time": "2023-01-28T05:46:52.764Z"
   },
   {
    "duration": 3,
    "start_time": "2023-01-28T05:46:54.532Z"
   },
   {
    "duration": 132,
    "start_time": "2023-01-28T05:46:54.536Z"
   },
   {
    "duration": 20,
    "start_time": "2023-01-28T05:46:54.671Z"
   },
   {
    "duration": 11,
    "start_time": "2023-01-28T05:46:54.693Z"
   },
   {
    "duration": 19,
    "start_time": "2023-01-28T05:46:54.706Z"
   },
   {
    "duration": 4,
    "start_time": "2023-01-28T05:46:54.727Z"
   },
   {
    "duration": 17,
    "start_time": "2023-01-28T05:46:54.733Z"
   },
   {
    "duration": 4,
    "start_time": "2023-01-28T05:46:54.752Z"
   },
   {
    "duration": 12,
    "start_time": "2023-01-28T05:46:54.784Z"
   },
   {
    "duration": 24,
    "start_time": "2023-01-28T05:46:54.799Z"
   },
   {
    "duration": 26,
    "start_time": "2023-01-28T05:46:54.825Z"
   },
   {
    "duration": 19,
    "start_time": "2023-01-28T05:46:54.853Z"
   },
   {
    "duration": 212,
    "start_time": "2023-01-28T05:46:54.874Z"
   },
   {
    "duration": 21,
    "start_time": "2023-01-28T05:46:55.088Z"
   },
   {
    "duration": 228,
    "start_time": "2023-01-28T05:46:55.111Z"
   },
   {
    "duration": 15,
    "start_time": "2023-01-28T05:46:55.340Z"
   },
   {
    "duration": 149,
    "start_time": "2023-01-28T05:46:55.357Z"
   },
   {
    "duration": 232,
    "start_time": "2023-01-28T05:46:55.508Z"
   },
   {
    "duration": 25,
    "start_time": "2023-01-28T05:46:55.742Z"
   },
   {
    "duration": 303,
    "start_time": "2023-01-28T05:46:55.768Z"
   },
   {
    "duration": 17,
    "start_time": "2023-01-28T05:46:56.073Z"
   },
   {
    "duration": 365,
    "start_time": "2023-01-28T05:46:56.093Z"
   },
   {
    "duration": 26,
    "start_time": "2023-01-28T05:46:56.460Z"
   },
   {
    "duration": 492,
    "start_time": "2023-01-28T05:46:56.488Z"
   },
   {
    "duration": 27,
    "start_time": "2023-01-28T05:46:56.981Z"
   },
   {
    "duration": 202,
    "start_time": "2023-01-28T05:46:57.009Z"
   },
   {
    "duration": 251,
    "start_time": "2023-01-28T05:46:57.215Z"
   },
   {
    "duration": 10916,
    "start_time": "2023-01-28T05:46:57.468Z"
   },
   {
    "duration": 17,
    "start_time": "2023-01-28T05:47:08.386Z"
   },
   {
    "duration": 519,
    "start_time": "2023-01-28T05:47:08.406Z"
   },
   {
    "duration": 17,
    "start_time": "2023-01-28T05:47:08.926Z"
   },
   {
    "duration": 12,
    "start_time": "2023-01-28T05:47:08.944Z"
   },
   {
    "duration": 156,
    "start_time": "2023-01-28T05:47:08.958Z"
   },
   {
    "duration": 11,
    "start_time": "2023-01-28T05:47:09.116Z"
   },
   {
    "duration": 280,
    "start_time": "2023-01-28T05:47:09.129Z"
   },
   {
    "duration": 15,
    "start_time": "2023-01-28T05:47:09.411Z"
   },
   {
    "duration": 308,
    "start_time": "2023-01-28T05:47:09.427Z"
   },
   {
    "duration": 15,
    "start_time": "2023-01-28T05:47:09.738Z"
   },
   {
    "duration": 250,
    "start_time": "2023-01-28T05:47:09.755Z"
   },
   {
    "duration": 18,
    "start_time": "2023-01-28T05:47:10.008Z"
   },
   {
    "duration": 128,
    "start_time": "2023-01-28T05:47:10.028Z"
   },
   {
    "duration": 335,
    "start_time": "2023-01-28T05:47:10.157Z"
   },
   {
    "duration": 22,
    "start_time": "2023-01-28T05:47:10.495Z"
   },
   {
    "duration": 15,
    "start_time": "2023-01-28T05:47:10.519Z"
   },
   {
    "duration": 69,
    "start_time": "2023-01-28T05:47:10.536Z"
   },
   {
    "duration": 20,
    "start_time": "2023-01-28T05:47:10.608Z"
   },
   {
    "duration": 6,
    "start_time": "2023-01-28T06:39:44.766Z"
   },
   {
    "duration": 22,
    "start_time": "2023-01-28T06:39:44.777Z"
   },
   {
    "duration": 123,
    "start_time": "2023-01-28T06:39:44.801Z"
   },
   {
    "duration": 14,
    "start_time": "2023-01-28T06:39:44.925Z"
   },
   {
    "duration": 33,
    "start_time": "2023-01-28T06:39:44.942Z"
   },
   {
    "duration": 16,
    "start_time": "2023-01-28T06:39:44.985Z"
   },
   {
    "duration": 6,
    "start_time": "2023-01-28T06:39:45.003Z"
   },
   {
    "duration": 33,
    "start_time": "2023-01-28T06:39:45.011Z"
   },
   {
    "duration": 6,
    "start_time": "2023-01-28T06:39:45.046Z"
   },
   {
    "duration": 9,
    "start_time": "2023-01-28T06:39:45.084Z"
   },
   {
    "duration": 5,
    "start_time": "2023-01-28T06:39:45.096Z"
   },
   {
    "duration": 23,
    "start_time": "2023-01-28T06:39:45.103Z"
   },
   {
    "duration": 64,
    "start_time": "2023-01-28T06:39:45.128Z"
   },
   {
    "duration": 206,
    "start_time": "2023-01-28T06:39:45.194Z"
   },
   {
    "duration": 18,
    "start_time": "2023-01-28T06:39:45.402Z"
   },
   {
    "duration": 414,
    "start_time": "2023-01-28T06:39:45.422Z"
   },
   {
    "duration": 17,
    "start_time": "2023-01-28T06:39:45.838Z"
   },
   {
    "duration": 152,
    "start_time": "2023-01-28T06:39:45.857Z"
   },
   {
    "duration": 239,
    "start_time": "2023-01-28T06:39:46.011Z"
   },
   {
    "duration": 35,
    "start_time": "2023-01-28T06:39:46.251Z"
   },
   {
    "duration": 283,
    "start_time": "2023-01-28T06:39:46.288Z"
   },
   {
    "duration": 19,
    "start_time": "2023-01-28T06:39:46.573Z"
   },
   {
    "duration": 296,
    "start_time": "2023-01-28T06:39:46.593Z"
   },
   {
    "duration": 17,
    "start_time": "2023-01-28T06:39:46.890Z"
   },
   {
    "duration": 492,
    "start_time": "2023-01-28T06:39:46.909Z"
   },
   {
    "duration": 18,
    "start_time": "2023-01-28T06:39:47.403Z"
   },
   {
    "duration": 213,
    "start_time": "2023-01-28T06:39:47.423Z"
   },
   {
    "duration": 144,
    "start_time": "2023-01-28T06:39:47.638Z"
   },
   {
    "duration": 10541,
    "start_time": "2023-01-28T06:39:47.787Z"
   },
   {
    "duration": 53,
    "start_time": "2023-01-28T06:39:58.332Z"
   },
   {
    "duration": 522,
    "start_time": "2023-01-28T06:39:58.387Z"
   },
   {
    "duration": 19,
    "start_time": "2023-01-28T06:39:58.911Z"
   },
   {
    "duration": 12,
    "start_time": "2023-01-28T06:39:58.932Z"
   },
   {
    "duration": 151,
    "start_time": "2023-01-28T06:39:58.946Z"
   },
   {
    "duration": 13,
    "start_time": "2023-01-28T06:39:59.098Z"
   },
   {
    "duration": 243,
    "start_time": "2023-01-28T06:39:59.113Z"
   },
   {
    "duration": 33,
    "start_time": "2023-01-28T06:39:59.358Z"
   },
   {
    "duration": 302,
    "start_time": "2023-01-28T06:39:59.394Z"
   },
   {
    "duration": 16,
    "start_time": "2023-01-28T06:39:59.698Z"
   },
   {
    "duration": 270,
    "start_time": "2023-01-28T06:39:59.717Z"
   },
   {
    "duration": 18,
    "start_time": "2023-01-28T06:39:59.990Z"
   },
   {
    "duration": 18,
    "start_time": "2023-01-28T06:40:00.011Z"
   },
   {
    "duration": 298,
    "start_time": "2023-01-28T06:40:00.031Z"
   },
   {
    "duration": 15,
    "start_time": "2023-01-28T06:40:00.331Z"
   },
   {
    "duration": 54,
    "start_time": "2023-01-28T06:40:00.348Z"
   },
   {
    "duration": 38,
    "start_time": "2023-01-28T06:40:00.404Z"
   },
   {
    "duration": 30,
    "start_time": "2023-01-28T06:40:00.444Z"
   },
   {
    "duration": 149,
    "start_time": "2023-01-28T07:57:53.088Z"
   },
   {
    "duration": 133,
    "start_time": "2023-01-28T07:58:02.246Z"
   },
   {
    "duration": 209,
    "start_time": "2023-01-28T08:01:19.323Z"
   },
   {
    "duration": 217,
    "start_time": "2023-01-28T08:02:38.171Z"
   },
   {
    "duration": 233,
    "start_time": "2023-01-28T08:03:28.779Z"
   },
   {
    "duration": 216,
    "start_time": "2023-01-28T08:03:43.235Z"
   },
   {
    "duration": 1664,
    "start_time": "2023-01-28T08:21:23.982Z"
   },
   {
    "duration": 2305,
    "start_time": "2023-01-28T08:21:33.392Z"
   },
   {
    "duration": 21,
    "start_time": "2023-01-28T08:21:46.100Z"
   },
   {
    "duration": 168,
    "start_time": "2023-01-28T09:05:11.691Z"
   },
   {
    "duration": 178,
    "start_time": "2023-01-28T09:06:34.147Z"
   },
   {
    "duration": 14,
    "start_time": "2023-01-28T10:19:03.171Z"
   },
   {
    "duration": 15,
    "start_time": "2023-01-28T10:20:02.598Z"
   },
   {
    "duration": 14,
    "start_time": "2023-01-28T10:21:32.118Z"
   },
   {
    "duration": 494,
    "start_time": "2023-01-28T10:22:30.336Z"
   },
   {
    "duration": 219,
    "start_time": "2023-01-28T10:33:00.200Z"
   },
   {
    "duration": 20,
    "start_time": "2023-01-28T11:01:28.029Z"
   },
   {
    "duration": 18,
    "start_time": "2023-01-28T11:03:04.440Z"
   },
   {
    "duration": 28,
    "start_time": "2023-01-28T11:03:47.405Z"
   },
   {
    "duration": 19,
    "start_time": "2023-01-28T11:04:04.865Z"
   },
   {
    "duration": 78,
    "start_time": "2023-01-28T11:11:52.248Z"
   },
   {
    "duration": 18,
    "start_time": "2023-01-28T11:12:04.129Z"
   },
   {
    "duration": 56,
    "start_time": "2023-01-28T11:12:29.080Z"
   },
   {
    "duration": 26,
    "start_time": "2023-01-28T11:12:43.756Z"
   },
   {
    "duration": 28,
    "start_time": "2023-01-28T11:24:51.616Z"
   },
   {
    "duration": 24,
    "start_time": "2023-01-28T11:25:09.970Z"
   },
   {
    "duration": 35,
    "start_time": "2023-01-28T12:02:03.327Z"
   },
   {
    "duration": 213,
    "start_time": "2023-01-28T12:05:18.109Z"
   },
   {
    "duration": 707,
    "start_time": "2023-01-28T12:05:56.559Z"
   },
   {
    "duration": 26,
    "start_time": "2023-01-28T12:08:35.411Z"
   },
   {
    "duration": 43,
    "start_time": "2023-01-28T12:16:32.237Z"
   },
   {
    "duration": 33,
    "start_time": "2023-01-28T12:16:44.349Z"
   },
   {
    "duration": 23,
    "start_time": "2023-01-28T12:20:18.258Z"
   },
   {
    "duration": 23,
    "start_time": "2023-01-28T12:20:58.925Z"
   },
   {
    "duration": 24,
    "start_time": "2023-01-28T12:21:26.217Z"
   },
   {
    "duration": 27,
    "start_time": "2023-01-28T12:21:34.489Z"
   },
   {
    "duration": 23,
    "start_time": "2023-01-28T12:22:36.291Z"
   },
   {
    "duration": 23,
    "start_time": "2023-01-28T12:26:24.464Z"
   },
   {
    "duration": 4,
    "start_time": "2023-01-28T12:47:46.856Z"
   },
   {
    "duration": 14,
    "start_time": "2023-01-28T12:47:46.863Z"
   },
   {
    "duration": 86,
    "start_time": "2023-01-28T12:47:46.879Z"
   },
   {
    "duration": 17,
    "start_time": "2023-01-28T12:47:46.967Z"
   },
   {
    "duration": 16,
    "start_time": "2023-01-28T12:47:46.986Z"
   },
   {
    "duration": 27,
    "start_time": "2023-01-28T12:47:47.004Z"
   },
   {
    "duration": 6,
    "start_time": "2023-01-28T12:47:47.033Z"
   },
   {
    "duration": 19,
    "start_time": "2023-01-28T12:47:47.041Z"
   },
   {
    "duration": 26,
    "start_time": "2023-01-28T12:47:47.062Z"
   },
   {
    "duration": 12,
    "start_time": "2023-01-28T12:47:47.089Z"
   },
   {
    "duration": 15,
    "start_time": "2023-01-28T12:47:47.103Z"
   },
   {
    "duration": 22,
    "start_time": "2023-01-28T12:47:47.121Z"
   },
   {
    "duration": 48,
    "start_time": "2023-01-28T12:47:47.145Z"
   },
   {
    "duration": 220,
    "start_time": "2023-01-28T12:47:47.196Z"
   },
   {
    "duration": 18,
    "start_time": "2023-01-28T12:47:47.418Z"
   },
   {
    "duration": 267,
    "start_time": "2023-01-28T12:47:47.438Z"
   },
   {
    "duration": 18,
    "start_time": "2023-01-28T12:47:47.707Z"
   },
   {
    "duration": 144,
    "start_time": "2023-01-28T12:47:47.727Z"
   },
   {
    "duration": 228,
    "start_time": "2023-01-28T12:47:47.873Z"
   },
   {
    "duration": 23,
    "start_time": "2023-01-28T12:47:48.103Z"
   },
   {
    "duration": 309,
    "start_time": "2023-01-28T12:47:48.128Z"
   },
   {
    "duration": 16,
    "start_time": "2023-01-28T12:47:48.439Z"
   },
   {
    "duration": 286,
    "start_time": "2023-01-28T12:47:48.457Z"
   },
   {
    "duration": 18,
    "start_time": "2023-01-28T12:47:48.744Z"
   },
   {
    "duration": 486,
    "start_time": "2023-01-28T12:47:48.764Z"
   },
   {
    "duration": 33,
    "start_time": "2023-01-28T12:47:49.252Z"
   },
   {
    "duration": 233,
    "start_time": "2023-01-28T12:47:49.287Z"
   },
   {
    "duration": 179,
    "start_time": "2023-01-28T12:47:49.522Z"
   },
   {
    "duration": 10290,
    "start_time": "2023-01-28T12:47:49.703Z"
   },
   {
    "duration": 18,
    "start_time": "2023-01-28T12:47:59.995Z"
   },
   {
    "duration": 573,
    "start_time": "2023-01-28T12:48:00.015Z"
   },
   {
    "duration": 21,
    "start_time": "2023-01-28T12:48:00.590Z"
   },
   {
    "duration": 21,
    "start_time": "2023-01-28T12:48:00.614Z"
   },
   {
    "duration": 174,
    "start_time": "2023-01-28T12:48:00.637Z"
   },
   {
    "duration": 12,
    "start_time": "2023-01-28T12:48:00.814Z"
   },
   {
    "duration": 243,
    "start_time": "2023-01-28T12:48:00.827Z"
   },
   {
    "duration": 26,
    "start_time": "2023-01-28T12:48:01.073Z"
   },
   {
    "duration": 291,
    "start_time": "2023-01-28T12:48:01.102Z"
   },
   {
    "duration": 17,
    "start_time": "2023-01-28T12:48:01.396Z"
   },
   {
    "duration": 241,
    "start_time": "2023-01-28T12:48:01.415Z"
   },
   {
    "duration": 34,
    "start_time": "2023-01-28T12:48:01.662Z"
   },
   {
    "duration": 19,
    "start_time": "2023-01-28T12:48:01.698Z"
   },
   {
    "duration": 281,
    "start_time": "2023-01-28T12:48:01.719Z"
   },
   {
    "duration": 21,
    "start_time": "2023-01-28T12:48:02.002Z"
   },
   {
    "duration": 649,
    "start_time": "2023-01-28T12:48:02.025Z"
   },
   {
    "duration": 25,
    "start_time": "2023-01-28T12:48:02.677Z"
   },
   {
    "duration": 241,
    "start_time": "2023-01-28T12:48:02.704Z"
   },
   {
    "duration": 36,
    "start_time": "2023-01-28T12:48:02.948Z"
   },
   {
    "duration": 229,
    "start_time": "2023-01-28T12:48:02.987Z"
   },
   {
    "duration": 20,
    "start_time": "2023-01-28T12:48:03.219Z"
   },
   {
    "duration": 196,
    "start_time": "2023-01-28T12:48:03.241Z"
   },
   {
    "duration": 19,
    "start_time": "2023-01-28T12:48:03.439Z"
   },
   {
    "duration": 52,
    "start_time": "2023-01-28T12:48:03.460Z"
   },
   {
    "duration": 1586,
    "start_time": "2023-01-29T06:59:36.344Z"
   },
   {
    "duration": 3,
    "start_time": "2023-01-29T06:59:37.931Z"
   },
   {
    "duration": 255,
    "start_time": "2023-01-29T06:59:37.936Z"
   },
   {
    "duration": 16,
    "start_time": "2023-01-29T06:59:38.194Z"
   },
   {
    "duration": 8,
    "start_time": "2023-01-29T06:59:38.211Z"
   },
   {
    "duration": 17,
    "start_time": "2023-01-29T06:59:38.221Z"
   },
   {
    "duration": 5,
    "start_time": "2023-01-29T06:59:38.239Z"
   },
   {
    "duration": 16,
    "start_time": "2023-01-29T06:59:38.245Z"
   },
   {
    "duration": 31,
    "start_time": "2023-01-29T06:59:38.262Z"
   },
   {
    "duration": 9,
    "start_time": "2023-01-29T06:59:38.295Z"
   },
   {
    "duration": 9,
    "start_time": "2023-01-29T06:59:38.305Z"
   },
   {
    "duration": 19,
    "start_time": "2023-01-29T06:59:38.316Z"
   },
   {
    "duration": 16,
    "start_time": "2023-01-29T06:59:38.336Z"
   },
   {
    "duration": 215,
    "start_time": "2023-01-29T06:59:38.353Z"
   },
   {
    "duration": 22,
    "start_time": "2023-01-29T06:59:38.570Z"
   },
   {
    "duration": 201,
    "start_time": "2023-01-29T06:59:38.593Z"
   },
   {
    "duration": 15,
    "start_time": "2023-01-29T06:59:38.795Z"
   },
   {
    "duration": 124,
    "start_time": "2023-01-29T06:59:38.811Z"
   },
   {
    "duration": 194,
    "start_time": "2023-01-29T06:59:38.936Z"
   },
   {
    "duration": 18,
    "start_time": "2023-01-29T06:59:39.132Z"
   },
   {
    "duration": 257,
    "start_time": "2023-01-29T06:59:39.152Z"
   },
   {
    "duration": 12,
    "start_time": "2023-01-29T06:59:39.410Z"
   },
   {
    "duration": 301,
    "start_time": "2023-01-29T06:59:39.424Z"
   },
   {
    "duration": 14,
    "start_time": "2023-01-29T06:59:39.726Z"
   },
   {
    "duration": 425,
    "start_time": "2023-01-29T06:59:39.742Z"
   },
   {
    "duration": 24,
    "start_time": "2023-01-29T06:59:40.169Z"
   },
   {
    "duration": 175,
    "start_time": "2023-01-29T06:59:40.194Z"
   },
   {
    "duration": 220,
    "start_time": "2023-01-29T06:59:40.373Z"
   },
   {
    "duration": 9358,
    "start_time": "2023-01-29T06:59:40.595Z"
   },
   {
    "duration": 37,
    "start_time": "2023-01-29T06:59:49.955Z"
   },
   {
    "duration": 388,
    "start_time": "2023-01-29T06:59:49.993Z"
   },
   {
    "duration": 19,
    "start_time": "2023-01-29T06:59:50.383Z"
   },
   {
    "duration": 21,
    "start_time": "2023-01-29T06:59:50.404Z"
   },
   {
    "duration": 120,
    "start_time": "2023-01-29T06:59:50.427Z"
   },
   {
    "duration": 10,
    "start_time": "2023-01-29T06:59:50.549Z"
   },
   {
    "duration": 199,
    "start_time": "2023-01-29T06:59:50.561Z"
   },
   {
    "duration": 13,
    "start_time": "2023-01-29T06:59:50.761Z"
   },
   {
    "duration": 240,
    "start_time": "2023-01-29T06:59:50.776Z"
   },
   {
    "duration": 13,
    "start_time": "2023-01-29T06:59:51.017Z"
   },
   {
    "duration": 184,
    "start_time": "2023-01-29T06:59:51.032Z"
   },
   {
    "duration": 20,
    "start_time": "2023-01-29T06:59:51.217Z"
   },
   {
    "duration": 21,
    "start_time": "2023-01-29T06:59:51.238Z"
   },
   {
    "duration": 253,
    "start_time": "2023-01-29T06:59:51.260Z"
   },
   {
    "duration": 18,
    "start_time": "2023-01-29T06:59:51.515Z"
   },
   {
    "duration": 212,
    "start_time": "2023-01-29T06:59:51.534Z"
   },
   {
    "duration": 17,
    "start_time": "2023-01-29T06:59:51.748Z"
   },
   {
    "duration": 372,
    "start_time": "2023-01-29T06:59:51.767Z"
   },
   {
    "duration": 16,
    "start_time": "2023-01-29T06:59:52.142Z"
   },
   {
    "duration": 184,
    "start_time": "2023-01-29T06:59:52.160Z"
   },
   {
    "duration": 13,
    "start_time": "2023-01-29T06:59:52.346Z"
   },
   {
    "duration": 133,
    "start_time": "2023-01-29T06:59:52.361Z"
   },
   {
    "duration": 16,
    "start_time": "2023-01-29T06:59:52.495Z"
   },
   {
    "duration": 53,
    "start_time": "2023-01-29T06:59:52.512Z"
   },
   {
    "duration": 122,
    "start_time": "2023-01-29T09:04:55.729Z"
   },
   {
    "duration": 232,
    "start_time": "2023-01-29T09:06:43.243Z"
   },
   {
    "duration": 227,
    "start_time": "2023-01-29T09:07:03.437Z"
   },
   {
    "duration": 328,
    "start_time": "2023-01-29T10:21:49.732Z"
   },
   {
    "duration": 264,
    "start_time": "2023-01-29T10:22:04.769Z"
   },
   {
    "duration": 276,
    "start_time": "2023-01-29T10:24:11.282Z"
   },
   {
    "duration": 23,
    "start_time": "2023-01-29T11:04:39.023Z"
   },
   {
    "duration": 1648,
    "start_time": "2023-01-29T11:44:00.066Z"
   },
   {
    "duration": 7,
    "start_time": "2023-01-29T11:44:01.716Z"
   },
   {
    "duration": 200,
    "start_time": "2023-01-29T11:44:01.727Z"
   },
   {
    "duration": 23,
    "start_time": "2023-01-29T11:44:01.930Z"
   },
   {
    "duration": 44,
    "start_time": "2023-01-29T11:44:01.959Z"
   },
   {
    "duration": 63,
    "start_time": "2023-01-29T11:44:02.004Z"
   },
   {
    "duration": 7,
    "start_time": "2023-01-29T11:44:02.069Z"
   },
   {
    "duration": 78,
    "start_time": "2023-01-29T11:44:02.078Z"
   },
   {
    "duration": 26,
    "start_time": "2023-01-29T11:44:02.158Z"
   },
   {
    "duration": 73,
    "start_time": "2023-01-29T11:44:02.186Z"
   },
   {
    "duration": 32,
    "start_time": "2023-01-29T11:44:02.261Z"
   },
   {
    "duration": 98,
    "start_time": "2023-01-29T11:44:02.296Z"
   },
   {
    "duration": 64,
    "start_time": "2023-01-29T11:44:02.396Z"
   },
   {
    "duration": 318,
    "start_time": "2023-01-29T11:44:02.465Z"
   },
   {
    "duration": 34,
    "start_time": "2023-01-29T11:44:02.786Z"
   },
   {
    "duration": 295,
    "start_time": "2023-01-29T11:44:02.823Z"
   },
   {
    "duration": 24,
    "start_time": "2023-01-29T11:44:03.120Z"
   },
   {
    "duration": 272,
    "start_time": "2023-01-29T11:44:03.146Z"
   },
   {
    "duration": 262,
    "start_time": "2023-01-29T11:44:03.420Z"
   },
   {
    "duration": 34,
    "start_time": "2023-01-29T11:44:03.685Z"
   },
   {
    "duration": 365,
    "start_time": "2023-01-29T11:44:03.721Z"
   },
   {
    "duration": 22,
    "start_time": "2023-01-29T11:44:04.091Z"
   },
   {
    "duration": 523,
    "start_time": "2023-01-29T11:44:04.118Z"
   },
   {
    "duration": 21,
    "start_time": "2023-01-29T11:44:04.643Z"
   },
   {
    "duration": 723,
    "start_time": "2023-01-29T11:44:04.666Z"
   },
   {
    "duration": 27,
    "start_time": "2023-01-29T11:44:05.391Z"
   },
   {
    "duration": 321,
    "start_time": "2023-01-29T11:44:05.420Z"
   },
   {
    "duration": 211,
    "start_time": "2023-01-29T11:44:05.743Z"
   },
   {
    "duration": 1577,
    "start_time": "2023-01-29T12:58:19.647Z"
   },
   {
    "duration": 3,
    "start_time": "2023-01-29T12:58:21.234Z"
   },
   {
    "duration": 87,
    "start_time": "2023-01-29T12:58:21.238Z"
   },
   {
    "duration": 26,
    "start_time": "2023-01-29T12:58:21.327Z"
   },
   {
    "duration": 34,
    "start_time": "2023-01-29T12:58:21.356Z"
   },
   {
    "duration": 22,
    "start_time": "2023-01-29T12:58:21.392Z"
   },
   {
    "duration": 68,
    "start_time": "2023-01-29T12:58:21.416Z"
   },
   {
    "duration": 85,
    "start_time": "2023-01-29T12:58:21.486Z"
   },
   {
    "duration": 62,
    "start_time": "2023-01-29T12:58:21.573Z"
   },
   {
    "duration": 47,
    "start_time": "2023-01-29T12:58:21.637Z"
   },
   {
    "duration": 69,
    "start_time": "2023-01-29T12:58:21.685Z"
   },
   {
    "duration": 45,
    "start_time": "2023-01-29T12:58:21.756Z"
   },
   {
    "duration": 67,
    "start_time": "2023-01-29T12:58:21.803Z"
   },
   {
    "duration": 222,
    "start_time": "2023-01-29T12:58:21.875Z"
   },
   {
    "duration": 28,
    "start_time": "2023-01-29T12:58:22.099Z"
   },
   {
    "duration": 262,
    "start_time": "2023-01-29T12:58:22.128Z"
   },
   {
    "duration": 55,
    "start_time": "2023-01-29T12:58:22.392Z"
   },
   {
    "duration": 186,
    "start_time": "2023-01-29T12:58:22.449Z"
   },
   {
    "duration": 215,
    "start_time": "2023-01-29T12:58:22.638Z"
   },
   {
    "duration": 20,
    "start_time": "2023-01-29T12:58:22.855Z"
   },
   {
    "duration": 308,
    "start_time": "2023-01-29T12:58:22.877Z"
   },
   {
    "duration": 22,
    "start_time": "2023-01-29T12:58:23.186Z"
   },
   {
    "duration": 395,
    "start_time": "2023-01-29T12:58:23.214Z"
   },
   {
    "duration": 20,
    "start_time": "2023-01-29T12:58:23.619Z"
   },
   {
    "duration": 545,
    "start_time": "2023-01-29T12:58:23.640Z"
   },
   {
    "duration": 42,
    "start_time": "2023-01-29T12:58:24.187Z"
   },
   {
    "duration": 250,
    "start_time": "2023-01-29T12:58:24.231Z"
   },
   {
    "duration": 175,
    "start_time": "2023-01-29T12:58:24.483Z"
   },
   {
    "duration": 11534,
    "start_time": "2023-01-29T12:58:24.660Z"
   },
   {
    "duration": 28,
    "start_time": "2023-01-29T12:58:36.197Z"
   },
   {
    "duration": 456,
    "start_time": "2023-01-29T12:58:36.226Z"
   },
   {
    "duration": 31,
    "start_time": "2023-01-29T12:58:36.683Z"
   },
   {
    "duration": 42,
    "start_time": "2023-01-29T12:58:36.717Z"
   },
   {
    "duration": 209,
    "start_time": "2023-01-29T12:58:36.761Z"
   },
   {
    "duration": 36,
    "start_time": "2023-01-29T12:58:36.972Z"
   },
   {
    "duration": 263,
    "start_time": "2023-01-29T12:58:37.009Z"
   },
   {
    "duration": 15,
    "start_time": "2023-01-29T12:58:37.274Z"
   },
   {
    "duration": 339,
    "start_time": "2023-01-29T12:58:37.290Z"
   },
   {
    "duration": 20,
    "start_time": "2023-01-29T12:58:37.633Z"
   },
   {
    "duration": 208,
    "start_time": "2023-01-29T12:58:37.655Z"
   },
   {
    "duration": 39,
    "start_time": "2023-01-29T12:58:37.867Z"
   },
   {
    "duration": 64,
    "start_time": "2023-01-29T12:58:37.909Z"
   },
   {
    "duration": 291,
    "start_time": "2023-01-29T12:58:37.975Z"
   },
   {
    "duration": 19,
    "start_time": "2023-01-29T12:58:38.268Z"
   },
   {
    "duration": 534,
    "start_time": "2023-01-29T12:58:38.288Z"
   },
   {
    "duration": 25,
    "start_time": "2023-01-29T12:58:38.824Z"
   },
   {
    "duration": 262,
    "start_time": "2023-01-29T12:58:38.851Z"
   },
   {
    "duration": 31,
    "start_time": "2023-01-29T12:58:39.115Z"
   },
   {
    "duration": 211,
    "start_time": "2023-01-29T12:58:39.150Z"
   },
   {
    "duration": 14,
    "start_time": "2023-01-29T12:58:39.363Z"
   },
   {
    "duration": 242,
    "start_time": "2023-01-29T12:58:39.378Z"
   },
   {
    "duration": 23,
    "start_time": "2023-01-29T12:58:39.622Z"
   },
   {
    "duration": 84,
    "start_time": "2023-01-29T12:58:39.652Z"
   },
   {
    "duration": 2618,
    "start_time": "2023-01-29T12:58:39.739Z"
   },
   {
    "duration": 7,
    "start_time": "2023-01-29T13:02:08.253Z"
   },
   {
    "duration": 1636,
    "start_time": "2023-01-29T13:25:00.636Z"
   },
   {
    "duration": 3,
    "start_time": "2023-01-29T13:25:02.274Z"
   },
   {
    "duration": 206,
    "start_time": "2023-01-29T13:25:02.278Z"
   },
   {
    "duration": 33,
    "start_time": "2023-01-29T13:25:02.485Z"
   },
   {
    "duration": 66,
    "start_time": "2023-01-29T13:25:02.520Z"
   },
   {
    "duration": 78,
    "start_time": "2023-01-29T13:25:02.588Z"
   },
   {
    "duration": 99,
    "start_time": "2023-01-29T13:25:02.667Z"
   },
   {
    "duration": 81,
    "start_time": "2023-01-29T13:25:02.767Z"
   },
   {
    "duration": 38,
    "start_time": "2023-01-29T13:25:02.850Z"
   },
   {
    "duration": 50,
    "start_time": "2023-01-29T13:25:02.890Z"
   },
   {
    "duration": 43,
    "start_time": "2023-01-29T13:25:02.943Z"
   },
   {
    "duration": 68,
    "start_time": "2023-01-29T13:25:02.988Z"
   },
   {
    "duration": 53,
    "start_time": "2023-01-29T13:25:03.059Z"
   },
   {
    "duration": 306,
    "start_time": "2023-01-29T13:25:03.121Z"
   },
   {
    "duration": 26,
    "start_time": "2023-01-29T13:25:03.430Z"
   },
   {
    "duration": 338,
    "start_time": "2023-01-29T13:25:03.458Z"
   },
   {
    "duration": 23,
    "start_time": "2023-01-29T13:25:03.803Z"
   },
   {
    "duration": 244,
    "start_time": "2023-01-29T13:25:03.828Z"
   },
   {
    "duration": 297,
    "start_time": "2023-01-29T13:25:04.075Z"
   },
   {
    "duration": 47,
    "start_time": "2023-01-29T13:25:04.375Z"
   },
   {
    "duration": 458,
    "start_time": "2023-01-29T13:25:04.425Z"
   },
   {
    "duration": 34,
    "start_time": "2023-01-29T13:25:04.884Z"
   },
   {
    "duration": 450,
    "start_time": "2023-01-29T13:25:04.922Z"
   },
   {
    "duration": 35,
    "start_time": "2023-01-29T13:25:05.374Z"
   },
   {
    "duration": 551,
    "start_time": "2023-01-29T13:25:05.423Z"
   },
   {
    "duration": 28,
    "start_time": "2023-01-29T13:25:05.976Z"
   },
   {
    "duration": 245,
    "start_time": "2023-01-29T13:25:06.006Z"
   },
   {
    "duration": 186,
    "start_time": "2023-01-29T13:25:06.254Z"
   },
   {
    "duration": 11837,
    "start_time": "2023-01-29T13:25:06.442Z"
   },
   {
    "duration": 41,
    "start_time": "2023-01-29T13:25:18.282Z"
   },
   {
    "duration": 501,
    "start_time": "2023-01-29T13:25:18.325Z"
   },
   {
    "duration": 27,
    "start_time": "2023-01-29T13:25:18.828Z"
   },
   {
    "duration": 37,
    "start_time": "2023-01-29T13:25:18.857Z"
   },
   {
    "duration": 239,
    "start_time": "2023-01-29T13:25:18.897Z"
   },
   {
    "duration": 21,
    "start_time": "2023-01-29T13:25:19.138Z"
   },
   {
    "duration": 383,
    "start_time": "2023-01-29T13:25:19.162Z"
   },
   {
    "duration": 23,
    "start_time": "2023-01-29T13:25:19.547Z"
   },
   {
    "duration": 338,
    "start_time": "2023-01-29T13:25:19.572Z"
   },
   {
    "duration": 18,
    "start_time": "2023-01-29T13:25:19.916Z"
   },
   {
    "duration": 272,
    "start_time": "2023-01-29T13:25:19.943Z"
   },
   {
    "duration": 27,
    "start_time": "2023-01-29T13:25:20.229Z"
   },
   {
    "duration": 66,
    "start_time": "2023-01-29T13:25:20.259Z"
   },
   {
    "duration": 338,
    "start_time": "2023-01-29T13:25:20.327Z"
   },
   {
    "duration": 20,
    "start_time": "2023-01-29T13:25:20.667Z"
   },
   {
    "duration": 644,
    "start_time": "2023-01-29T13:25:20.699Z"
   },
   {
    "duration": 33,
    "start_time": "2023-01-29T13:25:21.352Z"
   },
   {
    "duration": 335,
    "start_time": "2023-01-29T13:25:21.387Z"
   },
   {
    "duration": 17,
    "start_time": "2023-01-29T13:25:21.723Z"
   },
   {
    "duration": 292,
    "start_time": "2023-01-29T13:25:21.742Z"
   },
   {
    "duration": 24,
    "start_time": "2023-01-29T13:25:22.037Z"
   },
   {
    "duration": 146,
    "start_time": "2023-01-29T13:25:22.065Z"
   },
   {
    "duration": 35,
    "start_time": "2023-01-29T13:25:22.213Z"
   },
   {
    "duration": 48,
    "start_time": "2023-01-29T13:25:22.250Z"
   },
   {
    "duration": 2757,
    "start_time": "2023-01-29T13:25:22.314Z"
   },
   {
    "duration": 2447,
    "start_time": "2023-01-29T14:37:08.686Z"
   },
   {
    "duration": 6,
    "start_time": "2023-01-29T14:37:11.143Z"
   },
   {
    "duration": 380,
    "start_time": "2023-01-29T14:37:11.156Z"
   },
   {
    "duration": 26,
    "start_time": "2023-01-29T14:37:11.546Z"
   },
   {
    "duration": 37,
    "start_time": "2023-01-29T14:37:11.574Z"
   },
   {
    "duration": 44,
    "start_time": "2023-01-29T14:37:11.613Z"
   },
   {
    "duration": 37,
    "start_time": "2023-01-29T14:37:11.660Z"
   },
   {
    "duration": 65,
    "start_time": "2023-01-29T14:37:11.700Z"
   },
   {
    "duration": 36,
    "start_time": "2023-01-29T14:37:11.772Z"
   },
   {
    "duration": 63,
    "start_time": "2023-01-29T14:37:11.812Z"
   },
   {
    "duration": 35,
    "start_time": "2023-01-29T14:37:11.878Z"
   },
   {
    "duration": 101,
    "start_time": "2023-01-29T14:37:11.915Z"
   },
   {
    "duration": 38,
    "start_time": "2023-01-29T14:37:12.018Z"
   },
   {
    "duration": 336,
    "start_time": "2023-01-29T14:37:12.058Z"
   },
   {
    "duration": 31,
    "start_time": "2023-01-29T14:37:12.397Z"
   },
   {
    "duration": 298,
    "start_time": "2023-01-29T14:37:12.430Z"
   },
   {
    "duration": 30,
    "start_time": "2023-01-29T14:37:12.730Z"
   },
   {
    "duration": 215,
    "start_time": "2023-01-29T14:37:12.762Z"
   },
   {
    "duration": 334,
    "start_time": "2023-01-29T14:37:12.980Z"
   },
   {
    "duration": 44,
    "start_time": "2023-01-29T14:37:13.317Z"
   },
   {
    "duration": 552,
    "start_time": "2023-01-29T14:37:13.364Z"
   },
   {
    "duration": 19,
    "start_time": "2023-01-29T14:37:13.926Z"
   },
   {
    "duration": 503,
    "start_time": "2023-01-29T14:37:13.947Z"
   },
   {
    "duration": 26,
    "start_time": "2023-01-29T14:37:14.457Z"
   },
   {
    "duration": 655,
    "start_time": "2023-01-29T14:37:14.488Z"
   },
   {
    "duration": 25,
    "start_time": "2023-01-29T14:37:15.147Z"
   },
   {
    "duration": 318,
    "start_time": "2023-01-29T14:37:15.177Z"
   },
   {
    "duration": 375,
    "start_time": "2023-01-29T14:37:15.502Z"
   },
   {
    "duration": 14020,
    "start_time": "2023-01-29T14:37:15.879Z"
   },
   {
    "duration": 30,
    "start_time": "2023-01-29T14:37:29.901Z"
   },
   {
    "duration": 670,
    "start_time": "2023-01-29T14:37:29.933Z"
   },
   {
    "duration": 37,
    "start_time": "2023-01-29T14:37:30.605Z"
   },
   {
    "duration": 55,
    "start_time": "2023-01-29T14:37:30.646Z"
   },
   {
    "duration": 224,
    "start_time": "2023-01-29T14:37:30.703Z"
   },
   {
    "duration": 36,
    "start_time": "2023-01-29T14:37:30.928Z"
   },
   {
    "duration": 357,
    "start_time": "2023-01-29T14:37:30.966Z"
   },
   {
    "duration": 29,
    "start_time": "2023-01-29T14:37:31.326Z"
   },
   {
    "duration": 374,
    "start_time": "2023-01-29T14:37:31.357Z"
   },
   {
    "duration": 19,
    "start_time": "2023-01-29T14:37:31.732Z"
   },
   {
    "duration": 246,
    "start_time": "2023-01-29T14:37:31.753Z"
   },
   {
    "duration": 42,
    "start_time": "2023-01-29T14:37:32.002Z"
   },
   {
    "duration": 53,
    "start_time": "2023-01-29T14:37:32.047Z"
   },
   {
    "duration": 396,
    "start_time": "2023-01-29T14:37:32.103Z"
   },
   {
    "duration": 28,
    "start_time": "2023-01-29T14:37:32.501Z"
   },
   {
    "duration": 363,
    "start_time": "2023-01-29T14:37:32.531Z"
   },
   {
    "duration": 45,
    "start_time": "2023-01-29T14:37:32.896Z"
   },
   {
    "duration": 513,
    "start_time": "2023-01-29T14:37:32.943Z"
   },
   {
    "duration": 28,
    "start_time": "2023-01-29T14:37:33.459Z"
   },
   {
    "duration": 282,
    "start_time": "2023-01-29T14:37:33.489Z"
   },
   {
    "duration": 20,
    "start_time": "2023-01-29T14:37:33.774Z"
   },
   {
    "duration": 206,
    "start_time": "2023-01-29T14:37:33.797Z"
   },
   {
    "duration": 24,
    "start_time": "2023-01-29T14:37:34.005Z"
   },
   {
    "duration": 39,
    "start_time": "2023-01-29T14:37:34.032Z"
   },
   {
    "duration": 1469,
    "start_time": "2023-01-29T14:37:34.073Z"
   },
   {
    "duration": 20,
    "start_time": "2023-01-29T15:48:51.276Z"
   },
   {
    "duration": 17,
    "start_time": "2023-01-29T15:49:04.863Z"
   },
   {
    "duration": 178,
    "start_time": "2023-01-29T15:49:06.756Z"
   },
   {
    "duration": 15,
    "start_time": "2023-01-29T16:14:24.332Z"
   },
   {
    "duration": 54,
    "start_time": "2023-01-29T16:16:55.833Z"
   },
   {
    "duration": 440,
    "start_time": "2023-01-29T16:17:16.249Z"
   },
   {
    "duration": 23,
    "start_time": "2023-01-29T16:20:52.672Z"
   },
   {
    "duration": 29,
    "start_time": "2023-01-29T16:21:02.965Z"
   },
   {
    "duration": 436,
    "start_time": "2023-01-29T16:23:16.865Z"
   },
   {
    "duration": 520,
    "start_time": "2023-01-29T16:23:44.386Z"
   },
   {
    "duration": 433,
    "start_time": "2023-01-29T16:26:30.805Z"
   },
   {
    "duration": 15,
    "start_time": "2023-01-29T16:33:00.795Z"
   },
   {
    "duration": 16,
    "start_time": "2023-01-29T16:33:15.403Z"
   },
   {
    "duration": 19,
    "start_time": "2023-01-29T16:34:00.254Z"
   },
   {
    "duration": 27,
    "start_time": "2023-01-29T16:37:56.313Z"
   },
   {
    "duration": 22,
    "start_time": "2023-01-29T16:38:19.316Z"
   },
   {
    "duration": 22,
    "start_time": "2023-01-29T16:39:18.487Z"
   },
   {
    "duration": 23,
    "start_time": "2023-01-29T16:40:23.796Z"
   },
   {
    "duration": 23,
    "start_time": "2023-01-29T16:40:50.142Z"
   },
   {
    "duration": 467,
    "start_time": "2023-01-29T16:42:04.132Z"
   },
   {
    "duration": 24,
    "start_time": "2023-01-29T16:44:45.706Z"
   },
   {
    "duration": 251,
    "start_time": "2023-01-29T16:45:07.783Z"
   },
   {
    "duration": 6,
    "start_time": "2023-01-29T16:55:29.651Z"
   },
   {
    "duration": 10,
    "start_time": "2023-01-29T16:55:56.496Z"
   },
   {
    "duration": 31,
    "start_time": "2023-01-29T16:56:12.864Z"
   },
   {
    "duration": 21,
    "start_time": "2023-01-29T16:56:36.065Z"
   },
   {
    "duration": 23,
    "start_time": "2023-01-29T16:57:14.443Z"
   },
   {
    "duration": 14,
    "start_time": "2023-01-29T17:01:46.421Z"
   },
   {
    "duration": 9,
    "start_time": "2023-01-29T17:02:03.111Z"
   },
   {
    "duration": 9,
    "start_time": "2023-01-29T17:04:32.327Z"
   },
   {
    "duration": 10,
    "start_time": "2023-01-29T17:04:44.224Z"
   },
   {
    "duration": 46,
    "start_time": "2023-01-29T17:04:53.402Z"
   },
   {
    "duration": 10,
    "start_time": "2023-01-29T17:04:59.377Z"
   },
   {
    "duration": 10,
    "start_time": "2023-01-29T17:08:33.181Z"
   },
   {
    "duration": 28,
    "start_time": "2023-01-29T17:10:45.080Z"
   },
   {
    "duration": 392,
    "start_time": "2023-01-29T17:11:09.530Z"
   },
   {
    "duration": 430,
    "start_time": "2023-01-29T17:11:28.641Z"
   },
   {
    "duration": 408,
    "start_time": "2023-01-29T17:11:50.889Z"
   },
   {
    "duration": 1623,
    "start_time": "2023-01-30T07:03:00.271Z"
   },
   {
    "duration": 3,
    "start_time": "2023-01-30T07:03:01.897Z"
   },
   {
    "duration": 1756,
    "start_time": "2023-01-30T07:03:01.902Z"
   },
   {
    "duration": 17,
    "start_time": "2023-01-30T07:03:03.660Z"
   },
   {
    "duration": 9,
    "start_time": "2023-01-30T07:03:03.679Z"
   },
   {
    "duration": 22,
    "start_time": "2023-01-30T07:03:03.689Z"
   },
   {
    "duration": 111,
    "start_time": "2023-01-30T07:03:03.713Z"
   },
   {
    "duration": 0,
    "start_time": "2023-01-30T07:03:03.827Z"
   },
   {
    "duration": 0,
    "start_time": "2023-01-30T07:03:03.829Z"
   },
   {
    "duration": 0,
    "start_time": "2023-01-30T07:03:03.830Z"
   },
   {
    "duration": 0,
    "start_time": "2023-01-30T07:03:03.831Z"
   },
   {
    "duration": 0,
    "start_time": "2023-01-30T07:03:03.832Z"
   },
   {
    "duration": 0,
    "start_time": "2023-01-30T07:03:03.834Z"
   },
   {
    "duration": 0,
    "start_time": "2023-01-30T07:03:03.835Z"
   },
   {
    "duration": 0,
    "start_time": "2023-01-30T07:03:03.836Z"
   },
   {
    "duration": 0,
    "start_time": "2023-01-30T07:03:03.837Z"
   },
   {
    "duration": 0,
    "start_time": "2023-01-30T07:03:03.838Z"
   },
   {
    "duration": 1,
    "start_time": "2023-01-30T07:03:03.839Z"
   },
   {
    "duration": 0,
    "start_time": "2023-01-30T07:03:03.841Z"
   },
   {
    "duration": 0,
    "start_time": "2023-01-30T07:03:03.842Z"
   },
   {
    "duration": 0,
    "start_time": "2023-01-30T07:03:03.843Z"
   },
   {
    "duration": 0,
    "start_time": "2023-01-30T07:03:03.844Z"
   },
   {
    "duration": 0,
    "start_time": "2023-01-30T07:03:03.845Z"
   },
   {
    "duration": 0,
    "start_time": "2023-01-30T07:03:03.846Z"
   },
   {
    "duration": 0,
    "start_time": "2023-01-30T07:03:03.848Z"
   },
   {
    "duration": 0,
    "start_time": "2023-01-30T07:03:03.849Z"
   },
   {
    "duration": 0,
    "start_time": "2023-01-30T07:03:03.850Z"
   },
   {
    "duration": 0,
    "start_time": "2023-01-30T07:03:03.851Z"
   },
   {
    "duration": 0,
    "start_time": "2023-01-30T07:03:03.851Z"
   },
   {
    "duration": 0,
    "start_time": "2023-01-30T07:03:03.853Z"
   },
   {
    "duration": 0,
    "start_time": "2023-01-30T07:03:03.854Z"
   },
   {
    "duration": 0,
    "start_time": "2023-01-30T07:03:03.855Z"
   },
   {
    "duration": 0,
    "start_time": "2023-01-30T07:03:03.856Z"
   },
   {
    "duration": 0,
    "start_time": "2023-01-30T07:03:03.857Z"
   },
   {
    "duration": 0,
    "start_time": "2023-01-30T07:03:03.858Z"
   },
   {
    "duration": 1,
    "start_time": "2023-01-30T07:03:03.859Z"
   },
   {
    "duration": 0,
    "start_time": "2023-01-30T07:03:03.861Z"
   },
   {
    "duration": 0,
    "start_time": "2023-01-30T07:03:03.862Z"
   },
   {
    "duration": 0,
    "start_time": "2023-01-30T07:03:03.862Z"
   },
   {
    "duration": 0,
    "start_time": "2023-01-30T07:03:03.921Z"
   },
   {
    "duration": 0,
    "start_time": "2023-01-30T07:03:03.922Z"
   },
   {
    "duration": 0,
    "start_time": "2023-01-30T07:03:03.924Z"
   },
   {
    "duration": 0,
    "start_time": "2023-01-30T07:03:03.925Z"
   },
   {
    "duration": 0,
    "start_time": "2023-01-30T07:03:03.926Z"
   },
   {
    "duration": 0,
    "start_time": "2023-01-30T07:03:03.927Z"
   },
   {
    "duration": 0,
    "start_time": "2023-01-30T07:03:03.929Z"
   },
   {
    "duration": 0,
    "start_time": "2023-01-30T07:03:03.930Z"
   },
   {
    "duration": 0,
    "start_time": "2023-01-30T07:03:03.931Z"
   },
   {
    "duration": 0,
    "start_time": "2023-01-30T07:03:03.932Z"
   },
   {
    "duration": 0,
    "start_time": "2023-01-30T07:03:03.933Z"
   },
   {
    "duration": 0,
    "start_time": "2023-01-30T07:03:03.935Z"
   },
   {
    "duration": 0,
    "start_time": "2023-01-30T07:03:03.936Z"
   },
   {
    "duration": 0,
    "start_time": "2023-01-30T07:03:03.937Z"
   },
   {
    "duration": 0,
    "start_time": "2023-01-30T07:03:03.938Z"
   },
   {
    "duration": 0,
    "start_time": "2023-01-30T07:03:03.939Z"
   },
   {
    "duration": 6,
    "start_time": "2023-01-30T07:05:11.716Z"
   },
   {
    "duration": 25,
    "start_time": "2023-01-30T07:05:14.319Z"
   },
   {
    "duration": 6,
    "start_time": "2023-01-30T07:05:17.291Z"
   },
   {
    "duration": 11,
    "start_time": "2023-01-30T07:05:20.099Z"
   },
   {
    "duration": 5,
    "start_time": "2023-01-30T07:05:29.283Z"
   },
   {
    "duration": 13,
    "start_time": "2023-01-30T07:05:29.289Z"
   },
   {
    "duration": 84,
    "start_time": "2023-01-30T07:05:29.304Z"
   },
   {
    "duration": 13,
    "start_time": "2023-01-30T07:05:29.390Z"
   },
   {
    "duration": 14,
    "start_time": "2023-01-30T07:05:29.406Z"
   },
   {
    "duration": 18,
    "start_time": "2023-01-30T07:05:29.421Z"
   },
   {
    "duration": 4,
    "start_time": "2023-01-30T07:05:29.441Z"
   },
   {
    "duration": 15,
    "start_time": "2023-01-30T07:05:29.447Z"
   },
   {
    "duration": 6,
    "start_time": "2023-01-30T07:05:29.464Z"
   },
   {
    "duration": 14,
    "start_time": "2023-01-30T07:05:29.471Z"
   },
   {
    "duration": 43,
    "start_time": "2023-01-30T07:05:29.487Z"
   },
   {
    "duration": 8,
    "start_time": "2023-01-30T07:05:29.532Z"
   },
   {
    "duration": 17,
    "start_time": "2023-01-30T07:05:29.542Z"
   },
   {
    "duration": 20,
    "start_time": "2023-01-30T07:05:29.562Z"
   },
   {
    "duration": 214,
    "start_time": "2023-01-30T07:05:29.583Z"
   },
   {
    "duration": 31,
    "start_time": "2023-01-30T07:05:29.799Z"
   },
   {
    "duration": 208,
    "start_time": "2023-01-30T07:05:29.832Z"
   },
   {
    "duration": 14,
    "start_time": "2023-01-30T07:05:30.043Z"
   },
   {
    "duration": 135,
    "start_time": "2023-01-30T07:05:30.059Z"
   },
   {
    "duration": 225,
    "start_time": "2023-01-30T07:05:30.196Z"
   },
   {
    "duration": 22,
    "start_time": "2023-01-30T07:05:30.423Z"
   },
   {
    "duration": 278,
    "start_time": "2023-01-30T07:05:30.447Z"
   },
   {
    "duration": 14,
    "start_time": "2023-01-30T07:05:30.727Z"
   },
   {
    "duration": 348,
    "start_time": "2023-01-30T07:05:30.743Z"
   },
   {
    "duration": 16,
    "start_time": "2023-01-30T07:05:31.093Z"
   },
   {
    "duration": 412,
    "start_time": "2023-01-30T07:05:31.122Z"
   },
   {
    "duration": 19,
    "start_time": "2023-01-30T07:05:31.536Z"
   },
   {
    "duration": 189,
    "start_time": "2023-01-30T07:05:31.557Z"
   },
   {
    "duration": 420,
    "start_time": "2023-01-30T07:05:31.748Z"
   },
   {
    "duration": 10309,
    "start_time": "2023-01-30T07:05:32.171Z"
   },
   {
    "duration": 43,
    "start_time": "2023-01-30T07:05:42.482Z"
   },
   {
    "duration": 467,
    "start_time": "2023-01-30T07:05:42.527Z"
   },
   {
    "duration": 34,
    "start_time": "2023-01-30T07:05:42.996Z"
   },
   {
    "duration": 22,
    "start_time": "2023-01-30T07:05:43.032Z"
   },
   {
    "duration": 12,
    "start_time": "2023-01-30T07:05:43.056Z"
   },
   {
    "duration": 159,
    "start_time": "2023-01-30T07:05:43.070Z"
   },
   {
    "duration": 17,
    "start_time": "2023-01-30T07:05:43.231Z"
   },
   {
    "duration": 239,
    "start_time": "2023-01-30T07:05:43.249Z"
   },
   {
    "duration": 31,
    "start_time": "2023-01-30T07:05:43.490Z"
   },
   {
    "duration": 279,
    "start_time": "2023-01-30T07:05:43.523Z"
   },
   {
    "duration": 21,
    "start_time": "2023-01-30T07:05:43.806Z"
   },
   {
    "duration": 184,
    "start_time": "2023-01-30T07:05:43.829Z"
   },
   {
    "duration": 25,
    "start_time": "2023-01-30T07:05:44.014Z"
   },
   {
    "duration": 26,
    "start_time": "2023-01-30T07:05:44.041Z"
   },
   {
    "duration": 293,
    "start_time": "2023-01-30T07:05:44.068Z"
   },
   {
    "duration": 20,
    "start_time": "2023-01-30T07:05:44.364Z"
   },
   {
    "duration": 291,
    "start_time": "2023-01-30T07:05:44.387Z"
   },
   {
    "duration": 19,
    "start_time": "2023-01-30T07:05:44.680Z"
   },
   {
    "duration": 472,
    "start_time": "2023-01-30T07:05:44.701Z"
   },
   {
    "duration": 18,
    "start_time": "2023-01-30T07:05:45.175Z"
   },
   {
    "duration": 201,
    "start_time": "2023-01-30T07:05:45.196Z"
   },
   {
    "duration": 24,
    "start_time": "2023-01-30T07:05:45.399Z"
   },
   {
    "duration": 159,
    "start_time": "2023-01-30T07:05:45.425Z"
   },
   {
    "duration": 18,
    "start_time": "2023-01-30T07:05:45.587Z"
   },
   {
    "duration": 28,
    "start_time": "2023-01-30T07:05:45.620Z"
   },
   {
    "duration": 1061,
    "start_time": "2023-01-30T07:11:15.896Z"
   },
   {
    "duration": 17,
    "start_time": "2023-01-30T07:11:22.945Z"
   },
   {
    "duration": 203,
    "start_time": "2023-01-30T07:11:51.174Z"
   },
   {
    "duration": 19,
    "start_time": "2023-01-30T07:24:01.175Z"
   },
   {
    "duration": 45,
    "start_time": "2023-01-30T07:25:06.234Z"
   },
   {
    "duration": 437,
    "start_time": "2023-01-30T07:29:05.967Z"
   },
   {
    "duration": 236,
    "start_time": "2023-01-30T07:29:24.047Z"
   },
   {
    "duration": 235,
    "start_time": "2023-01-30T07:30:03.444Z"
   },
   {
    "duration": 545,
    "start_time": "2023-01-30T07:53:34.235Z"
   },
   {
    "duration": 490,
    "start_time": "2023-01-30T07:54:46.892Z"
   },
   {
    "duration": 471,
    "start_time": "2023-01-30T07:54:56.744Z"
   },
   {
    "duration": 473,
    "start_time": "2023-01-30T08:02:53.999Z"
   },
   {
    "duration": 450,
    "start_time": "2023-01-30T08:07:49.554Z"
   },
   {
    "duration": 426,
    "start_time": "2023-01-30T08:09:01.554Z"
   },
   {
    "duration": 403,
    "start_time": "2023-01-30T08:42:47.564Z"
   },
   {
    "duration": 401,
    "start_time": "2023-01-30T08:42:58.686Z"
   },
   {
    "duration": 16,
    "start_time": "2023-01-30T08:58:14.778Z"
   },
   {
    "duration": 16,
    "start_time": "2023-01-30T08:58:37.993Z"
   },
   {
    "duration": 16,
    "start_time": "2023-01-30T08:58:47.245Z"
   },
   {
    "duration": 17,
    "start_time": "2023-01-30T08:59:43.049Z"
   },
   {
    "duration": 17,
    "start_time": "2023-01-30T08:59:55.121Z"
   },
   {
    "duration": 10,
    "start_time": "2023-01-30T09:00:21.548Z"
   },
   {
    "duration": 11,
    "start_time": "2023-01-30T09:00:33.381Z"
   },
   {
    "duration": 11,
    "start_time": "2023-01-30T09:01:07.839Z"
   },
   {
    "duration": 14,
    "start_time": "2023-01-30T09:07:08.478Z"
   },
   {
    "duration": 11,
    "start_time": "2023-01-30T09:24:39.652Z"
   },
   {
    "duration": 13,
    "start_time": "2023-01-30T09:25:41.871Z"
   },
   {
    "duration": 13,
    "start_time": "2023-01-30T09:25:53.836Z"
   },
   {
    "duration": 12,
    "start_time": "2023-01-30T09:29:48.472Z"
   },
   {
    "duration": 12,
    "start_time": "2023-01-30T09:41:45.331Z"
   },
   {
    "duration": 20,
    "start_time": "2023-01-30T09:42:01.139Z"
   },
   {
    "duration": 173,
    "start_time": "2023-01-30T09:43:42.717Z"
   },
   {
    "duration": 18,
    "start_time": "2023-01-30T09:53:29.597Z"
   },
   {
    "duration": 34,
    "start_time": "2023-01-30T12:23:31.746Z"
   },
   {
    "duration": 27,
    "start_time": "2023-01-30T12:23:57.160Z"
   },
   {
    "duration": 23,
    "start_time": "2023-01-30T12:44:24.818Z"
   },
   {
    "duration": 22,
    "start_time": "2023-01-30T12:44:33.370Z"
   },
   {
    "duration": 259,
    "start_time": "2023-01-30T12:44:36.844Z"
   },
   {
    "duration": 16,
    "start_time": "2023-01-30T12:44:40.775Z"
   },
   {
    "duration": 261,
    "start_time": "2023-01-30T12:44:44.050Z"
   },
   {
    "duration": 18,
    "start_time": "2023-01-30T12:51:30.791Z"
   },
   {
    "duration": 883,
    "start_time": "2023-01-30T12:53:07.699Z"
   },
   {
    "duration": 18,
    "start_time": "2023-01-30T13:37:11.757Z"
   },
   {
    "duration": 14,
    "start_time": "2023-01-30T13:38:53.772Z"
   },
   {
    "duration": 29,
    "start_time": "2023-01-30T13:40:47.695Z"
   },
   {
    "duration": 23,
    "start_time": "2023-01-30T13:41:07.795Z"
   },
   {
    "duration": 23,
    "start_time": "2023-01-30T13:48:42.278Z"
   },
   {
    "duration": 39,
    "start_time": "2023-01-30T13:49:52.311Z"
   },
   {
    "duration": 21,
    "start_time": "2023-01-30T13:52:24.821Z"
   },
   {
    "duration": 19,
    "start_time": "2023-01-30T13:55:24.392Z"
   },
   {
    "duration": 263,
    "start_time": "2023-01-30T13:55:55.001Z"
   },
   {
    "duration": 253,
    "start_time": "2023-01-30T14:00:37.150Z"
   },
   {
    "duration": 13,
    "start_time": "2023-01-30T14:24:19.035Z"
   },
   {
    "duration": 16,
    "start_time": "2023-01-30T14:24:43.130Z"
   },
   {
    "duration": 21,
    "start_time": "2023-01-30T14:25:03.322Z"
   },
   {
    "duration": 16,
    "start_time": "2023-01-30T14:26:53.420Z"
   },
   {
    "duration": 1473,
    "start_time": "2023-01-31T05:14:26.806Z"
   },
   {
    "duration": 4,
    "start_time": "2023-01-31T05:14:28.282Z"
   },
   {
    "duration": 264,
    "start_time": "2023-01-31T05:14:28.287Z"
   },
   {
    "duration": 23,
    "start_time": "2023-01-31T05:14:28.552Z"
   },
   {
    "duration": 19,
    "start_time": "2023-01-31T05:14:28.578Z"
   },
   {
    "duration": 42,
    "start_time": "2023-01-31T05:14:28.599Z"
   },
   {
    "duration": 7,
    "start_time": "2023-01-31T05:14:28.642Z"
   },
   {
    "duration": 55,
    "start_time": "2023-01-31T05:14:28.650Z"
   },
   {
    "duration": 43,
    "start_time": "2023-01-31T05:14:28.707Z"
   },
   {
    "duration": 34,
    "start_time": "2023-01-31T05:14:28.752Z"
   },
   {
    "duration": 25,
    "start_time": "2023-01-31T05:14:28.788Z"
   },
   {
    "duration": 8,
    "start_time": "2023-01-31T05:14:28.815Z"
   },
   {
    "duration": 10,
    "start_time": "2023-01-31T05:14:28.825Z"
   },
   {
    "duration": 14,
    "start_time": "2023-01-31T05:14:28.838Z"
   },
   {
    "duration": 27,
    "start_time": "2023-01-31T05:14:28.854Z"
   },
   {
    "duration": 207,
    "start_time": "2023-01-31T05:14:28.882Z"
   },
   {
    "duration": 18,
    "start_time": "2023-01-31T05:14:29.091Z"
   },
   {
    "duration": 209,
    "start_time": "2023-01-31T05:14:29.111Z"
   },
   {
    "duration": 14,
    "start_time": "2023-01-31T05:14:29.322Z"
   },
   {
    "duration": 144,
    "start_time": "2023-01-31T05:14:29.337Z"
   },
   {
    "duration": 217,
    "start_time": "2023-01-31T05:14:29.482Z"
   },
   {
    "duration": 20,
    "start_time": "2023-01-31T05:14:29.701Z"
   },
   {
    "duration": 278,
    "start_time": "2023-01-31T05:14:29.722Z"
   },
   {
    "duration": 13,
    "start_time": "2023-01-31T05:14:30.002Z"
   },
   {
    "duration": 374,
    "start_time": "2023-01-31T05:14:30.017Z"
   },
   {
    "duration": 16,
    "start_time": "2023-01-31T05:14:30.392Z"
   },
   {
    "duration": 437,
    "start_time": "2023-01-31T05:14:30.410Z"
   },
   {
    "duration": 23,
    "start_time": "2023-01-31T05:14:30.850Z"
   },
   {
    "duration": 193,
    "start_time": "2023-01-31T05:14:30.874Z"
   },
   {
    "duration": 19,
    "start_time": "2023-01-31T05:14:31.069Z"
   },
   {
    "duration": 197,
    "start_time": "2023-01-31T05:14:31.090Z"
   },
   {
    "duration": 240,
    "start_time": "2023-01-31T05:14:31.288Z"
   },
   {
    "duration": 10116,
    "start_time": "2023-01-31T05:14:31.530Z"
   },
   {
    "duration": 21,
    "start_time": "2023-01-31T05:14:41.649Z"
   },
   {
    "duration": 480,
    "start_time": "2023-01-31T05:14:41.672Z"
   },
   {
    "duration": 14,
    "start_time": "2023-01-31T05:14:42.154Z"
   },
   {
    "duration": 26,
    "start_time": "2023-01-31T05:14:42.170Z"
   },
   {
    "duration": 12,
    "start_time": "2023-01-31T05:14:42.198Z"
   },
   {
    "duration": 22,
    "start_time": "2023-01-31T05:14:42.212Z"
   },
   {
    "duration": 542,
    "start_time": "2023-01-31T05:14:42.250Z"
   },
   {
    "duration": 10,
    "start_time": "2023-01-31T05:14:42.796Z"
   },
   {
    "duration": 299,
    "start_time": "2023-01-31T05:14:42.808Z"
   },
   {
    "duration": 10,
    "start_time": "2023-01-31T05:14:43.108Z"
   },
   {
    "duration": 217,
    "start_time": "2023-01-31T05:14:43.119Z"
   },
   {
    "duration": 14,
    "start_time": "2023-01-31T05:14:43.338Z"
   },
   {
    "duration": 273,
    "start_time": "2023-01-31T05:14:43.354Z"
   },
   {
    "duration": 23,
    "start_time": "2023-01-31T05:14:43.629Z"
   },
   {
    "duration": 203,
    "start_time": "2023-01-31T05:14:43.653Z"
   },
   {
    "duration": 20,
    "start_time": "2023-01-31T05:14:43.858Z"
   },
   {
    "duration": 17,
    "start_time": "2023-01-31T05:14:43.880Z"
   },
   {
    "duration": 21,
    "start_time": "2023-01-31T05:14:43.899Z"
   },
   {
    "duration": 285,
    "start_time": "2023-01-31T05:14:43.922Z"
   },
   {
    "duration": 43,
    "start_time": "2023-01-31T05:14:44.209Z"
   },
   {
    "duration": 233,
    "start_time": "2023-01-31T05:14:44.254Z"
   },
   {
    "duration": 18,
    "start_time": "2023-01-31T05:14:44.489Z"
   },
   {
    "duration": 268,
    "start_time": "2023-01-31T05:14:44.508Z"
   },
   {
    "duration": 19,
    "start_time": "2023-01-31T05:14:44.778Z"
   },
   {
    "duration": 257,
    "start_time": "2023-01-31T05:14:44.798Z"
   },
   {
    "duration": 25,
    "start_time": "2023-01-31T05:14:45.056Z"
   },
   {
    "duration": 248,
    "start_time": "2023-01-31T05:14:45.083Z"
   },
   {
    "duration": 25,
    "start_time": "2023-01-31T05:14:45.333Z"
   },
   {
    "duration": 193,
    "start_time": "2023-01-31T05:14:45.359Z"
   },
   {
    "duration": 16,
    "start_time": "2023-01-31T05:14:45.555Z"
   },
   {
    "duration": 138,
    "start_time": "2023-01-31T05:14:45.572Z"
   },
   {
    "duration": 14,
    "start_time": "2023-01-31T05:14:45.712Z"
   },
   {
    "duration": 46,
    "start_time": "2023-01-31T05:14:45.728Z"
   },
   {
    "duration": 1349,
    "start_time": "2023-01-31T05:43:23.498Z"
   },
   {
    "duration": 3,
    "start_time": "2023-01-31T05:43:24.849Z"
   },
   {
    "duration": 80,
    "start_time": "2023-01-31T05:43:24.854Z"
   },
   {
    "duration": 14,
    "start_time": "2023-01-31T05:43:24.936Z"
   },
   {
    "duration": 13,
    "start_time": "2023-01-31T05:43:24.951Z"
   },
   {
    "duration": 22,
    "start_time": "2023-01-31T05:43:24.966Z"
   },
   {
    "duration": 4,
    "start_time": "2023-01-31T05:43:24.990Z"
   },
   {
    "duration": 15,
    "start_time": "2023-01-31T05:43:24.996Z"
   },
   {
    "duration": 7,
    "start_time": "2023-01-31T05:43:25.013Z"
   },
   {
    "duration": 28,
    "start_time": "2023-01-31T05:43:25.022Z"
   },
   {
    "duration": 22,
    "start_time": "2023-01-31T05:43:25.051Z"
   },
   {
    "duration": 9,
    "start_time": "2023-01-31T05:43:25.075Z"
   },
   {
    "duration": 13,
    "start_time": "2023-01-31T05:43:25.086Z"
   },
   {
    "duration": 18,
    "start_time": "2023-01-31T05:43:25.101Z"
   },
   {
    "duration": 33,
    "start_time": "2023-01-31T05:43:25.120Z"
   },
   {
    "duration": 182,
    "start_time": "2023-01-31T05:43:25.154Z"
   },
   {
    "duration": 20,
    "start_time": "2023-01-31T05:43:25.338Z"
   },
   {
    "duration": 188,
    "start_time": "2023-01-31T05:43:25.360Z"
   },
   {
    "duration": 12,
    "start_time": "2023-01-31T05:43:25.551Z"
   },
   {
    "duration": 123,
    "start_time": "2023-01-31T05:43:25.565Z"
   },
   {
    "duration": 234,
    "start_time": "2023-01-31T05:43:25.690Z"
   },
   {
    "duration": 27,
    "start_time": "2023-01-31T05:43:25.925Z"
   },
   {
    "duration": 259,
    "start_time": "2023-01-31T05:43:25.954Z"
   },
   {
    "duration": 14,
    "start_time": "2023-01-31T05:43:26.214Z"
   },
   {
    "duration": 380,
    "start_time": "2023-01-31T05:43:26.229Z"
   },
   {
    "duration": 14,
    "start_time": "2023-01-31T05:43:26.610Z"
   },
   {
    "duration": 424,
    "start_time": "2023-01-31T05:43:26.626Z"
   },
   {
    "duration": 17,
    "start_time": "2023-01-31T05:43:27.053Z"
   },
   {
    "duration": 187,
    "start_time": "2023-01-31T05:43:27.072Z"
   },
   {
    "duration": 16,
    "start_time": "2023-01-31T05:43:27.261Z"
   },
   {
    "duration": 174,
    "start_time": "2023-01-31T05:43:27.278Z"
   },
   {
    "duration": 143,
    "start_time": "2023-01-31T05:43:27.453Z"
   },
   {
    "duration": 9645,
    "start_time": "2023-01-31T05:43:27.598Z"
   },
   {
    "duration": 16,
    "start_time": "2023-01-31T05:43:37.249Z"
   },
   {
    "duration": 449,
    "start_time": "2023-01-31T05:43:37.266Z"
   },
   {
    "duration": 10,
    "start_time": "2023-01-31T05:43:37.717Z"
   },
   {
    "duration": 30,
    "start_time": "2023-01-31T05:43:37.728Z"
   },
   {
    "duration": 9,
    "start_time": "2023-01-31T05:43:37.760Z"
   },
   {
    "duration": 19,
    "start_time": "2023-01-31T05:43:37.770Z"
   },
   {
    "duration": 533,
    "start_time": "2023-01-31T05:43:37.790Z"
   },
   {
    "duration": 28,
    "start_time": "2023-01-31T05:43:38.324Z"
   },
   {
    "duration": 274,
    "start_time": "2023-01-31T05:43:38.354Z"
   },
   {
    "duration": 24,
    "start_time": "2023-01-31T05:43:38.630Z"
   },
   {
    "duration": 195,
    "start_time": "2023-01-31T05:43:38.656Z"
   },
   {
    "duration": 14,
    "start_time": "2023-01-31T05:43:38.852Z"
   },
   {
    "duration": 242,
    "start_time": "2023-01-31T05:43:38.867Z"
   },
   {
    "duration": 14,
    "start_time": "2023-01-31T05:43:39.110Z"
   },
   {
    "duration": 169,
    "start_time": "2023-01-31T05:43:39.126Z"
   },
   {
    "duration": 18,
    "start_time": "2023-01-31T05:43:39.296Z"
   },
   {
    "duration": 34,
    "start_time": "2023-01-31T05:43:39.315Z"
   },
   {
    "duration": 20,
    "start_time": "2023-01-31T05:43:39.351Z"
   },
   {
    "duration": 248,
    "start_time": "2023-01-31T05:43:39.373Z"
   },
   {
    "duration": 36,
    "start_time": "2023-01-31T05:43:39.622Z"
   },
   {
    "duration": 228,
    "start_time": "2023-01-31T05:43:39.660Z"
   },
   {
    "duration": 17,
    "start_time": "2023-01-31T05:43:39.890Z"
   },
   {
    "duration": 237,
    "start_time": "2023-01-31T05:43:39.908Z"
   },
   {
    "duration": 16,
    "start_time": "2023-01-31T05:43:40.149Z"
   },
   {
    "duration": 241,
    "start_time": "2023-01-31T05:43:40.167Z"
   },
   {
    "duration": 29,
    "start_time": "2023-01-31T05:43:40.410Z"
   },
   {
    "duration": 220,
    "start_time": "2023-01-31T05:43:40.442Z"
   },
   {
    "duration": 16,
    "start_time": "2023-01-31T05:43:40.663Z"
   },
   {
    "duration": 171,
    "start_time": "2023-01-31T05:43:40.680Z"
   },
   {
    "duration": 14,
    "start_time": "2023-01-31T05:43:40.853Z"
   },
   {
    "duration": 126,
    "start_time": "2023-01-31T05:43:40.869Z"
   },
   {
    "duration": 15,
    "start_time": "2023-01-31T05:43:40.996Z"
   },
   {
    "duration": 42,
    "start_time": "2023-01-31T05:43:41.013Z"
   },
   {
    "duration": 1467,
    "start_time": "2023-01-31T05:44:02.817Z"
   },
   {
    "duration": 3,
    "start_time": "2023-01-31T05:44:04.286Z"
   },
   {
    "duration": 81,
    "start_time": "2023-01-31T05:44:04.291Z"
   },
   {
    "duration": 16,
    "start_time": "2023-01-31T05:44:04.374Z"
   },
   {
    "duration": 9,
    "start_time": "2023-01-31T05:44:04.392Z"
   },
   {
    "duration": 19,
    "start_time": "2023-01-31T05:44:04.402Z"
   },
   {
    "duration": 9,
    "start_time": "2023-01-31T05:44:04.422Z"
   },
   {
    "duration": 26,
    "start_time": "2023-01-31T05:44:04.432Z"
   },
   {
    "duration": 5,
    "start_time": "2023-01-31T05:44:04.459Z"
   },
   {
    "duration": 11,
    "start_time": "2023-01-31T05:44:04.465Z"
   },
   {
    "duration": 20,
    "start_time": "2023-01-31T05:44:04.478Z"
   },
   {
    "duration": 9,
    "start_time": "2023-01-31T05:44:04.499Z"
   },
   {
    "duration": 7,
    "start_time": "2023-01-31T05:44:04.509Z"
   },
   {
    "duration": 13,
    "start_time": "2023-01-31T05:44:04.548Z"
   },
   {
    "duration": 24,
    "start_time": "2023-01-31T05:44:04.562Z"
   },
   {
    "duration": 179,
    "start_time": "2023-01-31T05:44:04.587Z"
   },
   {
    "duration": 15,
    "start_time": "2023-01-31T05:44:04.767Z"
   },
   {
    "duration": 187,
    "start_time": "2023-01-31T05:44:04.783Z"
   },
   {
    "duration": 15,
    "start_time": "2023-01-31T05:44:04.972Z"
   },
   {
    "duration": 124,
    "start_time": "2023-01-31T05:44:04.989Z"
   },
   {
    "duration": 217,
    "start_time": "2023-01-31T05:44:05.115Z"
   },
   {
    "duration": 24,
    "start_time": "2023-01-31T05:44:05.334Z"
   },
   {
    "duration": 265,
    "start_time": "2023-01-31T05:44:05.360Z"
   },
   {
    "duration": 23,
    "start_time": "2023-01-31T05:44:05.626Z"
   },
   {
    "duration": 314,
    "start_time": "2023-01-31T05:44:05.651Z"
   },
   {
    "duration": 15,
    "start_time": "2023-01-31T05:44:05.966Z"
   },
   {
    "duration": 463,
    "start_time": "2023-01-31T05:44:05.983Z"
   },
   {
    "duration": 20,
    "start_time": "2023-01-31T05:44:06.449Z"
   },
   {
    "duration": 183,
    "start_time": "2023-01-31T05:44:06.471Z"
   },
   {
    "duration": 15,
    "start_time": "2023-01-31T05:44:06.656Z"
   },
   {
    "duration": 164,
    "start_time": "2023-01-31T05:44:06.672Z"
   },
   {
    "duration": 154,
    "start_time": "2023-01-31T05:44:06.838Z"
   },
   {
    "duration": 9379,
    "start_time": "2023-01-31T05:44:06.994Z"
   },
   {
    "duration": 18,
    "start_time": "2023-01-31T05:44:16.376Z"
   },
   {
    "duration": 454,
    "start_time": "2023-01-31T05:44:16.396Z"
   },
   {
    "duration": 9,
    "start_time": "2023-01-31T05:44:16.852Z"
   },
   {
    "duration": 29,
    "start_time": "2023-01-31T05:44:16.863Z"
   },
   {
    "duration": 11,
    "start_time": "2023-01-31T05:44:16.893Z"
   },
   {
    "duration": 16,
    "start_time": "2023-01-31T05:44:16.906Z"
   },
   {
    "duration": 522,
    "start_time": "2023-01-31T05:44:16.924Z"
   },
   {
    "duration": 12,
    "start_time": "2023-01-31T05:44:17.452Z"
   },
   {
    "duration": 337,
    "start_time": "2023-01-31T05:44:17.466Z"
   },
   {
    "duration": 15,
    "start_time": "2023-01-31T05:44:17.805Z"
   },
   {
    "duration": 219,
    "start_time": "2023-01-31T05:44:17.822Z"
   },
   {
    "duration": 17,
    "start_time": "2023-01-31T05:44:18.043Z"
   },
   {
    "duration": 263,
    "start_time": "2023-01-31T05:44:18.062Z"
   },
   {
    "duration": 25,
    "start_time": "2023-01-31T05:44:18.328Z"
   },
   {
    "duration": 176,
    "start_time": "2023-01-31T05:44:18.355Z"
   },
   {
    "duration": 26,
    "start_time": "2023-01-31T05:44:18.532Z"
   },
   {
    "duration": 18,
    "start_time": "2023-01-31T05:44:18.560Z"
   },
   {
    "duration": 19,
    "start_time": "2023-01-31T05:44:18.580Z"
   },
   {
    "duration": 259,
    "start_time": "2023-01-31T05:44:18.600Z"
   },
   {
    "duration": 30,
    "start_time": "2023-01-31T05:44:18.861Z"
   },
   {
    "duration": 231,
    "start_time": "2023-01-31T05:44:18.892Z"
   },
   {
    "duration": 29,
    "start_time": "2023-01-31T05:44:19.125Z"
   },
   {
    "duration": 218,
    "start_time": "2023-01-31T05:44:19.155Z"
   },
   {
    "duration": 36,
    "start_time": "2023-01-31T05:44:19.375Z"
   },
   {
    "duration": 227,
    "start_time": "2023-01-31T05:44:19.413Z"
   },
   {
    "duration": 22,
    "start_time": "2023-01-31T05:44:19.642Z"
   },
   {
    "duration": 212,
    "start_time": "2023-01-31T05:44:19.666Z"
   },
   {
    "duration": 15,
    "start_time": "2023-01-31T05:44:19.880Z"
   },
   {
    "duration": 171,
    "start_time": "2023-01-31T05:44:19.897Z"
   },
   {
    "duration": 12,
    "start_time": "2023-01-31T05:44:20.070Z"
   },
   {
    "duration": 130,
    "start_time": "2023-01-31T05:44:20.083Z"
   },
   {
    "duration": 16,
    "start_time": "2023-01-31T05:44:20.215Z"
   },
   {
    "duration": 38,
    "start_time": "2023-01-31T05:44:20.232Z"
   },
   {
    "duration": 1687,
    "start_time": "2023-01-31T06:18:05.507Z"
   },
   {
    "duration": 4,
    "start_time": "2023-01-31T06:18:07.196Z"
   },
   {
    "duration": 286,
    "start_time": "2023-01-31T06:18:07.201Z"
   },
   {
    "duration": 18,
    "start_time": "2023-01-31T06:18:07.489Z"
   },
   {
    "duration": 11,
    "start_time": "2023-01-31T06:18:07.509Z"
   },
   {
    "duration": 15,
    "start_time": "2023-01-31T06:18:07.522Z"
   },
   {
    "duration": 6,
    "start_time": "2023-01-31T06:18:07.539Z"
   },
   {
    "duration": 50,
    "start_time": "2023-01-31T06:18:07.546Z"
   },
   {
    "duration": 13,
    "start_time": "2023-01-31T06:18:07.597Z"
   },
   {
    "duration": 14,
    "start_time": "2023-01-31T06:18:07.611Z"
   },
   {
    "duration": 23,
    "start_time": "2023-01-31T06:18:07.626Z"
   },
   {
    "duration": 9,
    "start_time": "2023-01-31T06:18:07.651Z"
   },
   {
    "duration": 22,
    "start_time": "2023-01-31T06:18:07.662Z"
   },
   {
    "duration": 17,
    "start_time": "2023-01-31T06:18:07.691Z"
   },
   {
    "duration": 20,
    "start_time": "2023-01-31T06:18:07.710Z"
   },
   {
    "duration": 214,
    "start_time": "2023-01-31T06:18:07.732Z"
   },
   {
    "duration": 16,
    "start_time": "2023-01-31T06:18:07.948Z"
   },
   {
    "duration": 195,
    "start_time": "2023-01-31T06:18:07.966Z"
   },
   {
    "duration": 32,
    "start_time": "2023-01-31T06:18:08.163Z"
   },
   {
    "duration": 119,
    "start_time": "2023-01-31T06:18:08.197Z"
   },
   {
    "duration": 218,
    "start_time": "2023-01-31T06:18:08.318Z"
   },
   {
    "duration": 20,
    "start_time": "2023-01-31T06:18:08.538Z"
   },
   {
    "duration": 268,
    "start_time": "2023-01-31T06:18:08.560Z"
   },
   {
    "duration": 20,
    "start_time": "2023-01-31T06:18:08.830Z"
   },
   {
    "duration": 340,
    "start_time": "2023-01-31T06:18:08.851Z"
   },
   {
    "duration": 18,
    "start_time": "2023-01-31T06:18:09.192Z"
   },
   {
    "duration": 410,
    "start_time": "2023-01-31T06:18:09.212Z"
   },
   {
    "duration": 15,
    "start_time": "2023-01-31T06:18:09.624Z"
   },
   {
    "duration": 182,
    "start_time": "2023-01-31T06:18:09.640Z"
   },
   {
    "duration": 17,
    "start_time": "2023-01-31T06:18:09.823Z"
   },
   {
    "duration": 196,
    "start_time": "2023-01-31T06:18:09.842Z"
   },
   {
    "duration": 229,
    "start_time": "2023-01-31T06:18:10.040Z"
   },
   {
    "duration": 11825,
    "start_time": "2023-01-31T06:18:10.270Z"
   },
   {
    "duration": 16,
    "start_time": "2023-01-31T06:18:22.100Z"
   },
   {
    "duration": 487,
    "start_time": "2023-01-31T06:18:22.117Z"
   },
   {
    "duration": 14,
    "start_time": "2023-01-31T06:18:22.606Z"
   },
   {
    "duration": 19,
    "start_time": "2023-01-31T06:18:22.621Z"
   },
   {
    "duration": 15,
    "start_time": "2023-01-31T06:18:22.642Z"
   },
   {
    "duration": 19,
    "start_time": "2023-01-31T06:18:22.681Z"
   },
   {
    "duration": 556,
    "start_time": "2023-01-31T06:18:22.703Z"
   },
   {
    "duration": 19,
    "start_time": "2023-01-31T06:18:23.263Z"
   },
   {
    "duration": 332,
    "start_time": "2023-01-31T06:18:23.286Z"
   },
   {
    "duration": 17,
    "start_time": "2023-01-31T06:18:23.622Z"
   },
   {
    "duration": 259,
    "start_time": "2023-01-31T06:18:23.641Z"
   },
   {
    "duration": 15,
    "start_time": "2023-01-31T06:18:23.902Z"
   },
   {
    "duration": 279,
    "start_time": "2023-01-31T06:18:23.919Z"
   },
   {
    "duration": 13,
    "start_time": "2023-01-31T06:18:24.201Z"
   },
   {
    "duration": 177,
    "start_time": "2023-01-31T06:18:24.216Z"
   },
   {
    "duration": 19,
    "start_time": "2023-01-31T06:18:24.395Z"
   },
   {
    "duration": 17,
    "start_time": "2023-01-31T06:18:24.416Z"
   },
   {
    "duration": 59,
    "start_time": "2023-01-31T06:18:24.435Z"
   },
   {
    "duration": 261,
    "start_time": "2023-01-31T06:18:24.496Z"
   },
   {
    "duration": 50,
    "start_time": "2023-01-31T06:18:24.758Z"
   },
   {
    "duration": 263,
    "start_time": "2023-01-31T06:18:24.810Z"
   },
   {
    "duration": 33,
    "start_time": "2023-01-31T06:18:25.075Z"
   },
   {
    "duration": 290,
    "start_time": "2023-01-31T06:18:25.109Z"
   },
   {
    "duration": 20,
    "start_time": "2023-01-31T06:18:25.401Z"
   },
   {
    "duration": 282,
    "start_time": "2023-01-31T06:18:25.423Z"
   },
   {
    "duration": 20,
    "start_time": "2023-01-31T06:18:25.708Z"
   },
   {
    "duration": 273,
    "start_time": "2023-01-31T06:18:25.729Z"
   },
   {
    "duration": 22,
    "start_time": "2023-01-31T06:18:26.005Z"
   },
   {
    "duration": 295,
    "start_time": "2023-01-31T06:18:26.029Z"
   },
   {
    "duration": 16,
    "start_time": "2023-01-31T06:18:26.331Z"
   },
   {
    "duration": 173,
    "start_time": "2023-01-31T06:18:26.349Z"
   },
   {
    "duration": 23,
    "start_time": "2023-01-31T06:18:26.524Z"
   },
   {
    "duration": 47,
    "start_time": "2023-01-31T06:18:26.549Z"
   },
   {
    "duration": 173,
    "start_time": "2023-01-31T08:30:42.715Z"
   },
   {
    "duration": 926,
    "start_time": "2023-01-31T08:34:19.308Z"
   },
   {
    "duration": 127,
    "start_time": "2023-01-31T08:35:00.434Z"
   },
   {
    "duration": 129,
    "start_time": "2023-01-31T08:37:03.428Z"
   },
   {
    "duration": 19,
    "start_time": "2023-01-31T09:57:43.452Z"
   },
   {
    "duration": 215,
    "start_time": "2023-01-31T09:57:56.514Z"
   },
   {
    "duration": 171,
    "start_time": "2023-01-31T09:59:52.007Z"
   },
   {
    "duration": 183,
    "start_time": "2023-01-31T11:04:31.715Z"
   },
   {
    "duration": 216,
    "start_time": "2023-01-31T11:04:54.060Z"
   },
   {
    "duration": 365,
    "start_time": "2023-01-31T11:05:36.790Z"
   },
   {
    "duration": 793,
    "start_time": "2023-01-31T11:58:13.851Z"
   },
   {
    "duration": 225,
    "start_time": "2023-01-31T11:58:38.859Z"
   },
   {
    "duration": 38,
    "start_time": "2023-01-31T11:58:45.135Z"
   },
   {
    "duration": 1342,
    "start_time": "2023-02-01T04:42:57.033Z"
   },
   {
    "duration": 3,
    "start_time": "2023-02-01T04:42:58.376Z"
   },
   {
    "duration": 259,
    "start_time": "2023-02-01T04:42:58.381Z"
   },
   {
    "duration": 19,
    "start_time": "2023-02-01T04:42:58.642Z"
   },
   {
    "duration": 8,
    "start_time": "2023-02-01T04:42:58.663Z"
   },
   {
    "duration": 14,
    "start_time": "2023-02-01T04:42:58.673Z"
   },
   {
    "duration": 4,
    "start_time": "2023-02-01T04:42:58.690Z"
   },
   {
    "duration": 14,
    "start_time": "2023-02-01T04:42:58.696Z"
   },
   {
    "duration": 6,
    "start_time": "2023-02-01T04:42:58.711Z"
   },
   {
    "duration": 23,
    "start_time": "2023-02-01T04:42:58.719Z"
   },
   {
    "duration": 32,
    "start_time": "2023-02-01T04:42:58.744Z"
   },
   {
    "duration": 17,
    "start_time": "2023-02-01T04:42:58.778Z"
   },
   {
    "duration": 21,
    "start_time": "2023-02-01T04:42:58.796Z"
   },
   {
    "duration": 17,
    "start_time": "2023-02-01T04:42:58.820Z"
   },
   {
    "duration": 18,
    "start_time": "2023-02-01T04:42:58.839Z"
   },
   {
    "duration": 204,
    "start_time": "2023-02-01T04:42:58.859Z"
   },
   {
    "duration": 14,
    "start_time": "2023-02-01T04:42:59.064Z"
   },
   {
    "duration": 164,
    "start_time": "2023-02-01T04:42:59.091Z"
   },
   {
    "duration": 13,
    "start_time": "2023-02-01T04:42:59.257Z"
   },
   {
    "duration": 108,
    "start_time": "2023-02-01T04:42:59.272Z"
   },
   {
    "duration": 202,
    "start_time": "2023-02-01T04:42:59.382Z"
   },
   {
    "duration": 23,
    "start_time": "2023-02-01T04:42:59.586Z"
   },
   {
    "duration": 239,
    "start_time": "2023-02-01T04:42:59.610Z"
   },
   {
    "duration": 12,
    "start_time": "2023-02-01T04:42:59.851Z"
   },
   {
    "duration": 310,
    "start_time": "2023-02-01T04:42:59.864Z"
   },
   {
    "duration": 23,
    "start_time": "2023-02-01T04:43:00.176Z"
   },
   {
    "duration": 371,
    "start_time": "2023-02-01T04:43:00.200Z"
   },
   {
    "duration": 24,
    "start_time": "2023-02-01T04:43:00.573Z"
   },
   {
    "duration": 163,
    "start_time": "2023-02-01T04:43:00.599Z"
   },
   {
    "duration": 15,
    "start_time": "2023-02-01T04:43:00.764Z"
   },
   {
    "duration": 175,
    "start_time": "2023-02-01T04:43:00.790Z"
   },
   {
    "duration": 200,
    "start_time": "2023-02-01T04:43:00.968Z"
   },
   {
    "duration": 9497,
    "start_time": "2023-02-01T04:43:01.169Z"
   },
   {
    "duration": 30,
    "start_time": "2023-02-01T04:43:10.668Z"
   },
   {
    "duration": 427,
    "start_time": "2023-02-01T04:43:10.700Z"
   },
   {
    "duration": 11,
    "start_time": "2023-02-01T04:43:11.129Z"
   },
   {
    "duration": 20,
    "start_time": "2023-02-01T04:43:11.142Z"
   },
   {
    "duration": 29,
    "start_time": "2023-02-01T04:43:11.164Z"
   },
   {
    "duration": 18,
    "start_time": "2023-02-01T04:43:11.195Z"
   },
   {
    "duration": 556,
    "start_time": "2023-02-01T04:43:11.215Z"
   },
   {
    "duration": 24,
    "start_time": "2023-02-01T04:43:11.776Z"
   },
   {
    "duration": 290,
    "start_time": "2023-02-01T04:43:11.802Z"
   },
   {
    "duration": 10,
    "start_time": "2023-02-01T04:43:12.094Z"
   },
   {
    "duration": 188,
    "start_time": "2023-02-01T04:43:12.106Z"
   },
   {
    "duration": 13,
    "start_time": "2023-02-01T04:43:12.295Z"
   },
   {
    "duration": 233,
    "start_time": "2023-02-01T04:43:12.309Z"
   },
   {
    "duration": 13,
    "start_time": "2023-02-01T04:43:12.544Z"
   },
   {
    "duration": 169,
    "start_time": "2023-02-01T04:43:12.559Z"
   },
   {
    "duration": 17,
    "start_time": "2023-02-01T04:43:12.730Z"
   },
   {
    "duration": 17,
    "start_time": "2023-02-01T04:43:12.749Z"
   },
   {
    "duration": 42,
    "start_time": "2023-02-01T04:43:12.768Z"
   },
   {
    "duration": 227,
    "start_time": "2023-02-01T04:43:12.812Z"
   },
   {
    "duration": 27,
    "start_time": "2023-02-01T04:43:13.040Z"
   },
   {
    "duration": 231,
    "start_time": "2023-02-01T04:43:13.069Z"
   },
   {
    "duration": 20,
    "start_time": "2023-02-01T04:43:13.303Z"
   },
   {
    "duration": 240,
    "start_time": "2023-02-01T04:43:13.325Z"
   },
   {
    "duration": 26,
    "start_time": "2023-02-01T04:43:13.567Z"
   },
   {
    "duration": 217,
    "start_time": "2023-02-01T04:43:13.594Z"
   },
   {
    "duration": 19,
    "start_time": "2023-02-01T04:43:13.813Z"
   },
   {
    "duration": 226,
    "start_time": "2023-02-01T04:43:13.834Z"
   },
   {
    "duration": 13,
    "start_time": "2023-02-01T04:43:14.062Z"
   },
   {
    "duration": 156,
    "start_time": "2023-02-01T04:43:14.077Z"
   },
   {
    "duration": 12,
    "start_time": "2023-02-01T04:43:14.234Z"
   },
   {
    "duration": 126,
    "start_time": "2023-02-01T04:43:14.247Z"
   },
   {
    "duration": 22,
    "start_time": "2023-02-01T04:43:14.375Z"
   },
   {
    "duration": 23,
    "start_time": "2023-02-01T04:43:14.399Z"
   },
   {
    "duration": 1333,
    "start_time": "2023-02-01T04:56:45.813Z"
   },
   {
    "duration": 3,
    "start_time": "2023-02-01T04:56:47.148Z"
   },
   {
    "duration": 79,
    "start_time": "2023-02-01T04:56:47.152Z"
   },
   {
    "duration": 15,
    "start_time": "2023-02-01T04:56:47.233Z"
   },
   {
    "duration": 10,
    "start_time": "2023-02-01T04:56:47.250Z"
   },
   {
    "duration": 30,
    "start_time": "2023-02-01T04:56:47.262Z"
   },
   {
    "duration": 4,
    "start_time": "2023-02-01T04:56:47.294Z"
   },
   {
    "duration": 23,
    "start_time": "2023-02-01T04:56:47.300Z"
   },
   {
    "duration": 11,
    "start_time": "2023-02-01T04:56:47.325Z"
   },
   {
    "duration": 12,
    "start_time": "2023-02-01T04:56:47.337Z"
   },
   {
    "duration": 20,
    "start_time": "2023-02-01T04:56:47.351Z"
   },
   {
    "duration": 7,
    "start_time": "2023-02-01T04:56:47.373Z"
   },
   {
    "duration": 4,
    "start_time": "2023-02-01T04:56:47.390Z"
   },
   {
    "duration": 14,
    "start_time": "2023-02-01T04:56:47.397Z"
   },
   {
    "duration": 15,
    "start_time": "2023-02-01T04:56:47.412Z"
   },
   {
    "duration": 177,
    "start_time": "2023-02-01T04:56:47.428Z"
   },
   {
    "duration": 16,
    "start_time": "2023-02-01T04:56:47.608Z"
   },
   {
    "duration": 175,
    "start_time": "2023-02-01T04:56:47.626Z"
   },
   {
    "duration": 14,
    "start_time": "2023-02-01T04:56:47.802Z"
   },
   {
    "duration": 116,
    "start_time": "2023-02-01T04:56:47.817Z"
   },
   {
    "duration": 190,
    "start_time": "2023-02-01T04:56:47.935Z"
   },
   {
    "duration": 19,
    "start_time": "2023-02-01T04:56:48.127Z"
   },
   {
    "duration": 236,
    "start_time": "2023-02-01T04:56:48.147Z"
   },
   {
    "duration": 17,
    "start_time": "2023-02-01T04:56:48.385Z"
   },
   {
    "duration": 315,
    "start_time": "2023-02-01T04:56:48.403Z"
   },
   {
    "duration": 16,
    "start_time": "2023-02-01T04:56:48.720Z"
   },
   {
    "duration": 400,
    "start_time": "2023-02-01T04:56:48.738Z"
   },
   {
    "duration": 15,
    "start_time": "2023-02-01T04:56:49.140Z"
   },
   {
    "duration": 166,
    "start_time": "2023-02-01T04:56:49.157Z"
   },
   {
    "duration": 14,
    "start_time": "2023-02-01T04:56:49.324Z"
   },
   {
    "duration": 174,
    "start_time": "2023-02-01T04:56:49.340Z"
   },
   {
    "duration": 159,
    "start_time": "2023-02-01T04:56:49.516Z"
   },
   {
    "duration": 9009,
    "start_time": "2023-02-01T04:56:49.677Z"
   },
   {
    "duration": 15,
    "start_time": "2023-02-01T04:56:58.691Z"
   },
   {
    "duration": 397,
    "start_time": "2023-02-01T04:56:58.707Z"
   },
   {
    "duration": 9,
    "start_time": "2023-02-01T04:56:59.106Z"
   },
   {
    "duration": 19,
    "start_time": "2023-02-01T04:56:59.117Z"
   },
   {
    "duration": 9,
    "start_time": "2023-02-01T04:56:59.138Z"
   },
   {
    "duration": 20,
    "start_time": "2023-02-01T04:56:59.148Z"
   },
   {
    "duration": 502,
    "start_time": "2023-02-01T04:56:59.169Z"
   },
   {
    "duration": 24,
    "start_time": "2023-02-01T04:56:59.675Z"
   },
   {
    "duration": 303,
    "start_time": "2023-02-01T04:56:59.700Z"
   },
   {
    "duration": 11,
    "start_time": "2023-02-01T04:57:00.004Z"
   },
   {
    "duration": 183,
    "start_time": "2023-02-01T04:57:00.017Z"
   },
   {
    "duration": 12,
    "start_time": "2023-02-01T04:57:00.202Z"
   },
   {
    "duration": 239,
    "start_time": "2023-02-01T04:57:00.215Z"
   },
   {
    "duration": 12,
    "start_time": "2023-02-01T04:57:00.455Z"
   },
   {
    "duration": 173,
    "start_time": "2023-02-01T04:57:00.469Z"
   },
   {
    "duration": 17,
    "start_time": "2023-02-01T04:57:00.644Z"
   },
   {
    "duration": 35,
    "start_time": "2023-02-01T04:57:00.663Z"
   },
   {
    "duration": 34,
    "start_time": "2023-02-01T04:57:00.700Z"
   },
   {
    "duration": 220,
    "start_time": "2023-02-01T04:57:00.736Z"
   },
   {
    "duration": 39,
    "start_time": "2023-02-01T04:57:00.958Z"
   },
   {
    "duration": 223,
    "start_time": "2023-02-01T04:57:00.999Z"
   },
   {
    "duration": 17,
    "start_time": "2023-02-01T04:57:01.223Z"
   },
   {
    "duration": 224,
    "start_time": "2023-02-01T04:57:01.241Z"
   },
   {
    "duration": 27,
    "start_time": "2023-02-01T04:57:01.466Z"
   },
   {
    "duration": 243,
    "start_time": "2023-02-01T04:57:01.495Z"
   },
   {
    "duration": 18,
    "start_time": "2023-02-01T04:57:01.740Z"
   },
   {
    "duration": 250,
    "start_time": "2023-02-01T04:57:01.759Z"
   },
   {
    "duration": 14,
    "start_time": "2023-02-01T04:57:02.011Z"
   },
   {
    "duration": 170,
    "start_time": "2023-02-01T04:57:02.026Z"
   },
   {
    "duration": 12,
    "start_time": "2023-02-01T04:57:02.198Z"
   },
   {
    "duration": 130,
    "start_time": "2023-02-01T04:57:02.212Z"
   },
   {
    "duration": 14,
    "start_time": "2023-02-01T04:57:02.344Z"
   },
   {
    "duration": 57,
    "start_time": "2023-02-01T04:57:02.359Z"
   },
   {
    "duration": 1662,
    "start_time": "2023-02-01T07:05:35.146Z"
   },
   {
    "duration": 3,
    "start_time": "2023-02-01T07:05:36.810Z"
   },
   {
    "duration": 264,
    "start_time": "2023-02-01T07:05:36.815Z"
   },
   {
    "duration": 16,
    "start_time": "2023-02-01T07:05:37.081Z"
   },
   {
    "duration": 9,
    "start_time": "2023-02-01T07:05:37.099Z"
   },
   {
    "duration": 17,
    "start_time": "2023-02-01T07:05:37.110Z"
   },
   {
    "duration": 4,
    "start_time": "2023-02-01T07:05:37.129Z"
   },
   {
    "duration": 14,
    "start_time": "2023-02-01T07:05:37.135Z"
   },
   {
    "duration": 7,
    "start_time": "2023-02-01T07:05:37.182Z"
   },
   {
    "duration": 11,
    "start_time": "2023-02-01T07:05:37.191Z"
   },
   {
    "duration": 22,
    "start_time": "2023-02-01T07:05:37.204Z"
   },
   {
    "duration": 11,
    "start_time": "2023-02-01T07:05:37.228Z"
   },
   {
    "duration": 10,
    "start_time": "2023-02-01T07:05:37.240Z"
   },
   {
    "duration": 14,
    "start_time": "2023-02-01T07:05:37.282Z"
   },
   {
    "duration": 18,
    "start_time": "2023-02-01T07:05:37.298Z"
   },
   {
    "duration": 236,
    "start_time": "2023-02-01T07:05:37.317Z"
   },
   {
    "duration": 27,
    "start_time": "2023-02-01T07:05:37.555Z"
   },
   {
    "duration": 183,
    "start_time": "2023-02-01T07:05:37.584Z"
   },
   {
    "duration": 24,
    "start_time": "2023-02-01T07:05:37.769Z"
   },
   {
    "duration": 121,
    "start_time": "2023-02-01T07:05:37.794Z"
   },
   {
    "duration": 207,
    "start_time": "2023-02-01T07:05:37.916Z"
   },
   {
    "duration": 19,
    "start_time": "2023-02-01T07:05:38.125Z"
   },
   {
    "duration": 249,
    "start_time": "2023-02-01T07:05:38.145Z"
   },
   {
    "duration": 12,
    "start_time": "2023-02-01T07:05:38.396Z"
   },
   {
    "duration": 333,
    "start_time": "2023-02-01T07:05:38.410Z"
   },
   {
    "duration": 16,
    "start_time": "2023-02-01T07:05:38.744Z"
   },
   {
    "duration": 383,
    "start_time": "2023-02-01T07:05:38.762Z"
   },
   {
    "duration": 15,
    "start_time": "2023-02-01T07:05:39.149Z"
   },
   {
    "duration": 171,
    "start_time": "2023-02-01T07:05:39.165Z"
   },
   {
    "duration": 17,
    "start_time": "2023-02-01T07:05:39.337Z"
   },
   {
    "duration": 183,
    "start_time": "2023-02-01T07:05:39.355Z"
   },
   {
    "duration": 236,
    "start_time": "2023-02-01T07:05:39.541Z"
   },
   {
    "duration": 9447,
    "start_time": "2023-02-01T07:05:39.778Z"
   },
   {
    "duration": 19,
    "start_time": "2023-02-01T07:05:49.227Z"
   },
   {
    "duration": 409,
    "start_time": "2023-02-01T07:05:49.247Z"
   },
   {
    "duration": 9,
    "start_time": "2023-02-01T07:05:49.659Z"
   },
   {
    "duration": 30,
    "start_time": "2023-02-01T07:05:49.670Z"
   },
   {
    "duration": 21,
    "start_time": "2023-02-01T07:05:49.702Z"
   },
   {
    "duration": 40,
    "start_time": "2023-02-01T07:05:49.725Z"
   },
   {
    "duration": 507,
    "start_time": "2023-02-01T07:05:49.766Z"
   },
   {
    "duration": 17,
    "start_time": "2023-02-01T07:05:50.274Z"
   },
   {
    "duration": 310,
    "start_time": "2023-02-01T07:05:50.293Z"
   },
   {
    "duration": 11,
    "start_time": "2023-02-01T07:05:50.604Z"
   },
   {
    "duration": 196,
    "start_time": "2023-02-01T07:05:50.616Z"
   },
   {
    "duration": 13,
    "start_time": "2023-02-01T07:05:50.814Z"
   },
   {
    "duration": 230,
    "start_time": "2023-02-01T07:05:50.828Z"
   },
   {
    "duration": 22,
    "start_time": "2023-02-01T07:05:51.060Z"
   },
   {
    "duration": 151,
    "start_time": "2023-02-01T07:05:51.084Z"
   },
   {
    "duration": 18,
    "start_time": "2023-02-01T07:05:51.236Z"
   },
   {
    "duration": 36,
    "start_time": "2023-02-01T07:05:51.255Z"
   },
   {
    "duration": 21,
    "start_time": "2023-02-01T07:05:51.293Z"
   },
   {
    "duration": 239,
    "start_time": "2023-02-01T07:05:51.316Z"
   },
   {
    "duration": 37,
    "start_time": "2023-02-01T07:05:51.557Z"
   },
   {
    "duration": 222,
    "start_time": "2023-02-01T07:05:51.595Z"
   },
   {
    "duration": 19,
    "start_time": "2023-02-01T07:05:51.819Z"
   },
   {
    "duration": 244,
    "start_time": "2023-02-01T07:05:51.840Z"
   },
   {
    "duration": 19,
    "start_time": "2023-02-01T07:05:52.086Z"
   },
   {
    "duration": 234,
    "start_time": "2023-02-01T07:05:52.107Z"
   },
   {
    "duration": 19,
    "start_time": "2023-02-01T07:05:52.343Z"
   },
   {
    "duration": 248,
    "start_time": "2023-02-01T07:05:52.363Z"
   },
   {
    "duration": 14,
    "start_time": "2023-02-01T07:05:52.613Z"
   },
   {
    "duration": 178,
    "start_time": "2023-02-01T07:05:52.628Z"
   },
   {
    "duration": 12,
    "start_time": "2023-02-01T07:05:52.808Z"
   },
   {
    "duration": 132,
    "start_time": "2023-02-01T07:05:52.821Z"
   },
   {
    "duration": 26,
    "start_time": "2023-02-01T07:05:52.955Z"
   },
   {
    "duration": 27,
    "start_time": "2023-02-01T07:05:52.983Z"
   },
   {
    "duration": 130,
    "start_time": "2023-02-01T09:00:00.813Z"
   },
   {
    "duration": 135,
    "start_time": "2023-02-01T09:00:08.791Z"
   },
   {
    "duration": 1550,
    "start_time": "2023-02-02T01:14:57.079Z"
   },
   {
    "duration": 3,
    "start_time": "2023-02-02T01:14:58.631Z"
   },
   {
    "duration": 319,
    "start_time": "2023-02-02T01:14:58.635Z"
   },
   {
    "duration": 16,
    "start_time": "2023-02-02T01:14:58.956Z"
   },
   {
    "duration": 10,
    "start_time": "2023-02-02T01:14:58.974Z"
   },
   {
    "duration": 57,
    "start_time": "2023-02-02T01:14:58.985Z"
   },
   {
    "duration": 4,
    "start_time": "2023-02-02T01:14:59.044Z"
   },
   {
    "duration": 16,
    "start_time": "2023-02-02T01:14:59.050Z"
   },
   {
    "duration": 7,
    "start_time": "2023-02-02T01:14:59.067Z"
   },
   {
    "duration": 12,
    "start_time": "2023-02-02T01:14:59.077Z"
   },
   {
    "duration": 32,
    "start_time": "2023-02-02T01:14:59.092Z"
   },
   {
    "duration": 17,
    "start_time": "2023-02-02T01:14:59.125Z"
   },
   {
    "duration": 11,
    "start_time": "2023-02-02T01:14:59.144Z"
   },
   {
    "duration": 16,
    "start_time": "2023-02-02T01:14:59.157Z"
   },
   {
    "duration": 37,
    "start_time": "2023-02-02T01:14:59.175Z"
   },
   {
    "duration": 203,
    "start_time": "2023-02-02T01:14:59.215Z"
   },
   {
    "duration": 17,
    "start_time": "2023-02-02T01:14:59.422Z"
   },
   {
    "duration": 204,
    "start_time": "2023-02-02T01:14:59.440Z"
   },
   {
    "duration": 15,
    "start_time": "2023-02-02T01:14:59.646Z"
   },
   {
    "duration": 144,
    "start_time": "2023-02-02T01:14:59.662Z"
   },
   {
    "duration": 240,
    "start_time": "2023-02-02T01:14:59.808Z"
   },
   {
    "duration": 21,
    "start_time": "2023-02-02T01:15:00.050Z"
   },
   {
    "duration": 385,
    "start_time": "2023-02-02T01:15:00.073Z"
   },
   {
    "duration": 15,
    "start_time": "2023-02-02T01:15:00.460Z"
   },
   {
    "duration": 387,
    "start_time": "2023-02-02T01:15:00.477Z"
   },
   {
    "duration": 44,
    "start_time": "2023-02-02T01:15:00.866Z"
   },
   {
    "duration": 462,
    "start_time": "2023-02-02T01:15:00.912Z"
   },
   {
    "duration": 35,
    "start_time": "2023-02-02T01:15:01.378Z"
   },
   {
    "duration": 225,
    "start_time": "2023-02-02T01:15:01.422Z"
   },
   {
    "duration": 21,
    "start_time": "2023-02-02T01:15:01.649Z"
   },
   {
    "duration": 235,
    "start_time": "2023-02-02T01:15:01.672Z"
   },
   {
    "duration": 267,
    "start_time": "2023-02-02T01:15:01.908Z"
   },
   {
    "duration": 10684,
    "start_time": "2023-02-02T01:15:02.177Z"
   },
   {
    "duration": 55,
    "start_time": "2023-02-02T01:15:12.862Z"
   },
   {
    "duration": 521,
    "start_time": "2023-02-02T01:15:12.921Z"
   },
   {
    "duration": 13,
    "start_time": "2023-02-02T01:15:13.444Z"
   },
   {
    "duration": 60,
    "start_time": "2023-02-02T01:15:13.459Z"
   },
   {
    "duration": 23,
    "start_time": "2023-02-02T01:15:13.523Z"
   },
   {
    "duration": 20,
    "start_time": "2023-02-02T01:15:13.548Z"
   },
   {
    "duration": 567,
    "start_time": "2023-02-02T01:15:13.570Z"
   },
   {
    "duration": 11,
    "start_time": "2023-02-02T01:15:14.139Z"
   },
   {
    "duration": 326,
    "start_time": "2023-02-02T01:15:14.151Z"
   },
   {
    "duration": 22,
    "start_time": "2023-02-02T01:15:14.479Z"
   },
   {
    "duration": 217,
    "start_time": "2023-02-02T01:15:14.503Z"
   },
   {
    "duration": 13,
    "start_time": "2023-02-02T01:15:14.728Z"
   },
   {
    "duration": 239,
    "start_time": "2023-02-02T01:15:14.743Z"
   },
   {
    "duration": 23,
    "start_time": "2023-02-02T01:15:14.984Z"
   },
   {
    "duration": 217,
    "start_time": "2023-02-02T01:15:15.009Z"
   },
   {
    "duration": 19,
    "start_time": "2023-02-02T01:15:15.228Z"
   },
   {
    "duration": 18,
    "start_time": "2023-02-02T01:15:15.248Z"
   },
   {
    "duration": 19,
    "start_time": "2023-02-02T01:15:15.267Z"
   },
   {
    "duration": 271,
    "start_time": "2023-02-02T01:15:15.288Z"
   },
   {
    "duration": 46,
    "start_time": "2023-02-02T01:15:15.561Z"
   },
   {
    "duration": 259,
    "start_time": "2023-02-02T01:15:15.608Z"
   },
   {
    "duration": 45,
    "start_time": "2023-02-02T01:15:15.869Z"
   },
   {
    "duration": 248,
    "start_time": "2023-02-02T01:15:15.919Z"
   },
   {
    "duration": 26,
    "start_time": "2023-02-02T01:15:16.168Z"
   },
   {
    "duration": 327,
    "start_time": "2023-02-02T01:15:16.199Z"
   },
   {
    "duration": 23,
    "start_time": "2023-02-02T01:15:16.532Z"
   },
   {
    "duration": 317,
    "start_time": "2023-02-02T01:15:16.557Z"
   },
   {
    "duration": 32,
    "start_time": "2023-02-02T01:15:16.876Z"
   },
   {
    "duration": 226,
    "start_time": "2023-02-02T01:15:16.910Z"
   },
   {
    "duration": 19,
    "start_time": "2023-02-02T01:15:17.139Z"
   },
   {
    "duration": 176,
    "start_time": "2023-02-02T01:15:17.160Z"
   },
   {
    "duration": 16,
    "start_time": "2023-02-02T01:15:17.337Z"
   },
   {
    "duration": 58,
    "start_time": "2023-02-02T01:15:17.355Z"
   },
   {
    "duration": 1438,
    "start_time": "2023-02-02T01:20:17.928Z"
   },
   {
    "duration": 3,
    "start_time": "2023-02-02T01:20:19.368Z"
   },
   {
    "duration": 99,
    "start_time": "2023-02-02T01:20:19.372Z"
   },
   {
    "duration": 16,
    "start_time": "2023-02-02T01:20:19.473Z"
   },
   {
    "duration": 23,
    "start_time": "2023-02-02T01:20:19.492Z"
   },
   {
    "duration": 30,
    "start_time": "2023-02-02T01:20:19.518Z"
   },
   {
    "duration": 4,
    "start_time": "2023-02-02T01:20:19.550Z"
   },
   {
    "duration": 14,
    "start_time": "2023-02-02T01:20:19.555Z"
   },
   {
    "duration": 39,
    "start_time": "2023-02-02T01:20:19.571Z"
   },
   {
    "duration": 16,
    "start_time": "2023-02-02T01:20:19.617Z"
   },
   {
    "duration": 28,
    "start_time": "2023-02-02T01:20:19.634Z"
   },
   {
    "duration": 8,
    "start_time": "2023-02-02T01:20:19.664Z"
   },
   {
    "duration": 26,
    "start_time": "2023-02-02T01:20:19.673Z"
   },
   {
    "duration": 30,
    "start_time": "2023-02-02T01:20:19.703Z"
   },
   {
    "duration": 20,
    "start_time": "2023-02-02T01:20:19.734Z"
   },
   {
    "duration": 194,
    "start_time": "2023-02-02T01:20:19.756Z"
   },
   {
    "duration": 14,
    "start_time": "2023-02-02T01:20:19.952Z"
   },
   {
    "duration": 203,
    "start_time": "2023-02-02T01:20:19.968Z"
   },
   {
    "duration": 40,
    "start_time": "2023-02-02T01:20:20.172Z"
   },
   {
    "duration": 126,
    "start_time": "2023-02-02T01:20:20.213Z"
   },
   {
    "duration": 210,
    "start_time": "2023-02-02T01:20:20.340Z"
   },
   {
    "duration": 19,
    "start_time": "2023-02-02T01:20:20.552Z"
   },
   {
    "duration": 275,
    "start_time": "2023-02-02T01:20:20.572Z"
   },
   {
    "duration": 13,
    "start_time": "2023-02-02T01:20:20.849Z"
   },
   {
    "duration": 343,
    "start_time": "2023-02-02T01:20:20.863Z"
   },
   {
    "duration": 18,
    "start_time": "2023-02-02T01:20:21.208Z"
   },
   {
    "duration": 405,
    "start_time": "2023-02-02T01:20:21.228Z"
   },
   {
    "duration": 15,
    "start_time": "2023-02-02T01:20:21.634Z"
   },
   {
    "duration": 191,
    "start_time": "2023-02-02T01:20:21.650Z"
   },
   {
    "duration": 15,
    "start_time": "2023-02-02T01:20:21.842Z"
   },
   {
    "duration": 187,
    "start_time": "2023-02-02T01:20:21.858Z"
   },
   {
    "duration": 167,
    "start_time": "2023-02-02T01:20:22.047Z"
   },
   {
    "duration": 9994,
    "start_time": "2023-02-02T01:20:22.216Z"
   },
   {
    "duration": 17,
    "start_time": "2023-02-02T01:20:32.215Z"
   },
   {
    "duration": 505,
    "start_time": "2023-02-02T01:20:32.233Z"
   },
   {
    "duration": 11,
    "start_time": "2023-02-02T01:20:32.740Z"
   },
   {
    "duration": 24,
    "start_time": "2023-02-02T01:20:32.752Z"
   },
   {
    "duration": 34,
    "start_time": "2023-02-02T01:20:32.778Z"
   },
   {
    "duration": 17,
    "start_time": "2023-02-02T01:20:32.814Z"
   },
   {
    "duration": 550,
    "start_time": "2023-02-02T01:20:32.832Z"
   },
   {
    "duration": 25,
    "start_time": "2023-02-02T01:20:33.395Z"
   },
   {
    "duration": 311,
    "start_time": "2023-02-02T01:20:33.421Z"
   },
   {
    "duration": 12,
    "start_time": "2023-02-02T01:20:33.733Z"
   },
   {
    "duration": 203,
    "start_time": "2023-02-02T01:20:33.746Z"
   },
   {
    "duration": 12,
    "start_time": "2023-02-02T01:20:33.951Z"
   },
   {
    "duration": 256,
    "start_time": "2023-02-02T01:20:33.964Z"
   },
   {
    "duration": 13,
    "start_time": "2023-02-02T01:20:34.222Z"
   },
   {
    "duration": 181,
    "start_time": "2023-02-02T01:20:34.236Z"
   },
   {
    "duration": 17,
    "start_time": "2023-02-02T01:20:34.419Z"
   },
   {
    "duration": 18,
    "start_time": "2023-02-02T01:20:34.437Z"
   },
   {
    "duration": 19,
    "start_time": "2023-02-02T01:20:34.456Z"
   },
   {
    "duration": 246,
    "start_time": "2023-02-02T01:20:34.496Z"
   },
   {
    "duration": 27,
    "start_time": "2023-02-02T01:20:34.744Z"
   },
   {
    "duration": 260,
    "start_time": "2023-02-02T01:20:34.772Z"
   },
   {
    "duration": 18,
    "start_time": "2023-02-02T01:20:35.034Z"
   },
   {
    "duration": 250,
    "start_time": "2023-02-02T01:20:35.054Z"
   },
   {
    "duration": 26,
    "start_time": "2023-02-02T01:20:35.306Z"
   },
   {
    "duration": 238,
    "start_time": "2023-02-02T01:20:35.333Z"
   },
   {
    "duration": 29,
    "start_time": "2023-02-02T01:20:35.573Z"
   },
   {
    "duration": 254,
    "start_time": "2023-02-02T01:20:35.613Z"
   },
   {
    "duration": 16,
    "start_time": "2023-02-02T01:20:35.869Z"
   },
   {
    "duration": 180,
    "start_time": "2023-02-02T01:20:35.891Z"
   },
   {
    "duration": 24,
    "start_time": "2023-02-02T01:20:36.073Z"
   },
   {
    "duration": 138,
    "start_time": "2023-02-02T01:20:36.111Z"
   },
   {
    "duration": 17,
    "start_time": "2023-02-02T01:20:36.251Z"
   },
   {
    "duration": 53,
    "start_time": "2023-02-02T01:20:36.269Z"
   },
   {
    "duration": 71,
    "start_time": "2023-02-02T09:48:42.463Z"
   },
   {
    "duration": 55,
    "start_time": "2023-02-02T09:48:49.982Z"
   },
   {
    "duration": 46,
    "start_time": "2023-02-02T09:48:57.082Z"
   },
   {
    "duration": 1633,
    "start_time": "2023-02-02T10:14:08.611Z"
   },
   {
    "duration": 4,
    "start_time": "2023-02-02T10:14:10.247Z"
   },
   {
    "duration": 276,
    "start_time": "2023-02-02T10:14:10.253Z"
   },
   {
    "duration": 20,
    "start_time": "2023-02-02T10:14:10.530Z"
   },
   {
    "duration": 9,
    "start_time": "2023-02-02T10:14:10.552Z"
   },
   {
    "duration": 28,
    "start_time": "2023-02-02T10:14:10.563Z"
   },
   {
    "duration": 5,
    "start_time": "2023-02-02T10:14:10.593Z"
   },
   {
    "duration": 13,
    "start_time": "2023-02-02T10:14:10.599Z"
   },
   {
    "duration": 12,
    "start_time": "2023-02-02T10:14:10.614Z"
   },
   {
    "duration": 28,
    "start_time": "2023-02-02T10:14:10.628Z"
   },
   {
    "duration": 24,
    "start_time": "2023-02-02T10:14:10.658Z"
   },
   {
    "duration": 9,
    "start_time": "2023-02-02T10:14:10.684Z"
   },
   {
    "duration": 9,
    "start_time": "2023-02-02T10:14:10.694Z"
   },
   {
    "duration": 43,
    "start_time": "2023-02-02T10:14:10.706Z"
   },
   {
    "duration": 17,
    "start_time": "2023-02-02T10:14:10.751Z"
   },
   {
    "duration": 206,
    "start_time": "2023-02-02T10:14:10.769Z"
   },
   {
    "duration": 15,
    "start_time": "2023-02-02T10:14:10.977Z"
   },
   {
    "duration": 200,
    "start_time": "2023-02-02T10:14:10.993Z"
   },
   {
    "duration": 20,
    "start_time": "2023-02-02T10:14:11.195Z"
   },
   {
    "duration": 140,
    "start_time": "2023-02-02T10:14:11.217Z"
   },
   {
    "duration": 232,
    "start_time": "2023-02-02T10:14:11.360Z"
   },
   {
    "duration": 21,
    "start_time": "2023-02-02T10:14:11.593Z"
   },
   {
    "duration": 270,
    "start_time": "2023-02-02T10:14:11.616Z"
   },
   {
    "duration": 14,
    "start_time": "2023-02-02T10:14:11.888Z"
   },
   {
    "duration": 325,
    "start_time": "2023-02-02T10:14:11.904Z"
   },
   {
    "duration": 24,
    "start_time": "2023-02-02T10:14:12.231Z"
   },
   {
    "duration": 415,
    "start_time": "2023-02-02T10:14:12.257Z"
   },
   {
    "duration": 16,
    "start_time": "2023-02-02T10:14:12.674Z"
   },
   {
    "duration": 207,
    "start_time": "2023-02-02T10:14:12.692Z"
   },
   {
    "duration": 19,
    "start_time": "2023-02-02T10:14:12.900Z"
   },
   {
    "duration": 203,
    "start_time": "2023-02-02T10:14:12.920Z"
   },
   {
    "duration": 256,
    "start_time": "2023-02-02T10:14:13.125Z"
   },
   {
    "duration": 10173,
    "start_time": "2023-02-02T10:14:13.383Z"
   },
   {
    "duration": 16,
    "start_time": "2023-02-02T10:14:23.559Z"
   },
   {
    "duration": 449,
    "start_time": "2023-02-02T10:14:23.576Z"
   },
   {
    "duration": 22,
    "start_time": "2023-02-02T10:14:24.027Z"
   },
   {
    "duration": 27,
    "start_time": "2023-02-02T10:14:24.050Z"
   },
   {
    "duration": 14,
    "start_time": "2023-02-02T10:14:24.079Z"
   },
   {
    "duration": 35,
    "start_time": "2023-02-02T10:14:24.095Z"
   },
   {
    "duration": 585,
    "start_time": "2023-02-02T10:14:24.132Z"
   },
   {
    "duration": 29,
    "start_time": "2023-02-02T10:14:24.721Z"
   },
   {
    "duration": 282,
    "start_time": "2023-02-02T10:14:24.752Z"
   },
   {
    "duration": 21,
    "start_time": "2023-02-02T10:14:25.036Z"
   },
   {
    "duration": 189,
    "start_time": "2023-02-02T10:14:25.059Z"
   },
   {
    "duration": 13,
    "start_time": "2023-02-02T10:14:25.250Z"
   },
   {
    "duration": 251,
    "start_time": "2023-02-02T10:14:25.265Z"
   },
   {
    "duration": 13,
    "start_time": "2023-02-02T10:14:25.517Z"
   },
   {
    "duration": 175,
    "start_time": "2023-02-02T10:14:25.531Z"
   },
   {
    "duration": 18,
    "start_time": "2023-02-02T10:14:25.708Z"
   },
   {
    "duration": 38,
    "start_time": "2023-02-02T10:14:25.727Z"
   },
   {
    "duration": 21,
    "start_time": "2023-02-02T10:14:25.766Z"
   },
   {
    "duration": 265,
    "start_time": "2023-02-02T10:14:25.789Z"
   },
   {
    "duration": 41,
    "start_time": "2023-02-02T10:14:26.056Z"
   },
   {
    "duration": 284,
    "start_time": "2023-02-02T10:14:26.099Z"
   },
   {
    "duration": 23,
    "start_time": "2023-02-02T10:14:26.385Z"
   },
   {
    "duration": 276,
    "start_time": "2023-02-02T10:14:26.410Z"
   },
   {
    "duration": 20,
    "start_time": "2023-02-02T10:14:26.687Z"
   },
   {
    "duration": 248,
    "start_time": "2023-02-02T10:14:26.708Z"
   },
   {
    "duration": 27,
    "start_time": "2023-02-02T10:14:26.958Z"
   },
   {
    "duration": 296,
    "start_time": "2023-02-02T10:14:26.987Z"
   },
   {
    "duration": 15,
    "start_time": "2023-02-02T10:14:27.285Z"
   },
   {
    "duration": 205,
    "start_time": "2023-02-02T10:14:27.302Z"
   },
   {
    "duration": 11,
    "start_time": "2023-02-02T10:14:27.510Z"
   },
   {
    "duration": 136,
    "start_time": "2023-02-02T10:14:27.523Z"
   },
   {
    "duration": 14,
    "start_time": "2023-02-02T10:14:27.661Z"
   },
   {
    "duration": 26,
    "start_time": "2023-02-02T10:14:27.677Z"
   },
   {
    "duration": 47,
    "start_time": "2023-02-02T10:31:01.724Z"
   },
   {
    "duration": 1435,
    "start_time": "2023-02-03T05:40:03.268Z"
   },
   {
    "duration": 3,
    "start_time": "2023-02-03T05:40:04.705Z"
   },
   {
    "duration": 281,
    "start_time": "2023-02-03T05:40:04.710Z"
   },
   {
    "duration": 18,
    "start_time": "2023-02-03T05:40:04.993Z"
   },
   {
    "duration": 10,
    "start_time": "2023-02-03T05:40:05.012Z"
   },
   {
    "duration": 20,
    "start_time": "2023-02-03T05:40:05.023Z"
   },
   {
    "duration": 5,
    "start_time": "2023-02-03T05:40:05.045Z"
   },
   {
    "duration": 42,
    "start_time": "2023-02-03T05:40:05.052Z"
   },
   {
    "duration": 12,
    "start_time": "2023-02-03T05:40:05.096Z"
   },
   {
    "duration": 12,
    "start_time": "2023-02-03T05:40:05.110Z"
   },
   {
    "duration": 24,
    "start_time": "2023-02-03T05:40:05.124Z"
   },
   {
    "duration": 10,
    "start_time": "2023-02-03T05:40:05.150Z"
   },
   {
    "duration": 31,
    "start_time": "2023-02-03T05:40:05.161Z"
   },
   {
    "duration": 21,
    "start_time": "2023-02-03T05:40:05.194Z"
   },
   {
    "duration": 22,
    "start_time": "2023-02-03T05:40:05.218Z"
   },
   {
    "duration": 220,
    "start_time": "2023-02-03T05:40:05.242Z"
   },
   {
    "duration": 15,
    "start_time": "2023-02-03T05:40:05.464Z"
   },
   {
    "duration": 187,
    "start_time": "2023-02-03T05:40:05.480Z"
   },
   {
    "duration": 24,
    "start_time": "2023-02-03T05:40:05.669Z"
   },
   {
    "duration": 138,
    "start_time": "2023-02-03T05:40:05.694Z"
   },
   {
    "duration": 266,
    "start_time": "2023-02-03T05:40:05.834Z"
   },
   {
    "duration": 28,
    "start_time": "2023-02-03T05:40:06.102Z"
   },
   {
    "duration": 287,
    "start_time": "2023-02-03T05:40:06.131Z"
   },
   {
    "duration": 15,
    "start_time": "2023-02-03T05:40:06.421Z"
   },
   {
    "duration": 336,
    "start_time": "2023-02-03T05:40:06.438Z"
   },
   {
    "duration": 19,
    "start_time": "2023-02-03T05:40:06.777Z"
   },
   {
    "duration": 433,
    "start_time": "2023-02-03T05:40:06.798Z"
   },
   {
    "duration": 18,
    "start_time": "2023-02-03T05:40:07.235Z"
   },
   {
    "duration": 187,
    "start_time": "2023-02-03T05:40:07.255Z"
   },
   {
    "duration": 17,
    "start_time": "2023-02-03T05:40:07.444Z"
   },
   {
    "duration": 183,
    "start_time": "2023-02-03T05:40:07.462Z"
   },
   {
    "duration": 247,
    "start_time": "2023-02-03T05:40:07.646Z"
   },
   {
    "duration": 9320,
    "start_time": "2023-02-03T05:40:07.895Z"
   },
   {
    "duration": 20,
    "start_time": "2023-02-03T05:40:17.217Z"
   },
   {
    "duration": 452,
    "start_time": "2023-02-03T05:40:17.239Z"
   },
   {
    "duration": 11,
    "start_time": "2023-02-03T05:40:17.693Z"
   },
   {
    "duration": 19,
    "start_time": "2023-02-03T05:40:17.706Z"
   },
   {
    "duration": 10,
    "start_time": "2023-02-03T05:40:17.727Z"
   },
   {
    "duration": 21,
    "start_time": "2023-02-03T05:40:17.739Z"
   },
   {
    "duration": 517,
    "start_time": "2023-02-03T05:40:17.762Z"
   },
   {
    "duration": 20,
    "start_time": "2023-02-03T05:40:18.281Z"
   },
   {
    "duration": 272,
    "start_time": "2023-02-03T05:40:18.303Z"
   },
   {
    "duration": 21,
    "start_time": "2023-02-03T05:40:18.577Z"
   },
   {
    "duration": 184,
    "start_time": "2023-02-03T05:40:18.600Z"
   },
   {
    "duration": 19,
    "start_time": "2023-02-03T05:40:18.785Z"
   },
   {
    "duration": 239,
    "start_time": "2023-02-03T05:40:18.806Z"
   },
   {
    "duration": 13,
    "start_time": "2023-02-03T05:40:19.047Z"
   },
   {
    "duration": 222,
    "start_time": "2023-02-03T05:40:19.061Z"
   },
   {
    "duration": 18,
    "start_time": "2023-02-03T05:40:19.291Z"
   },
   {
    "duration": 18,
    "start_time": "2023-02-03T05:40:19.310Z"
   },
   {
    "duration": 21,
    "start_time": "2023-02-03T05:40:19.329Z"
   },
   {
    "duration": 257,
    "start_time": "2023-02-03T05:40:19.351Z"
   },
   {
    "duration": 30,
    "start_time": "2023-02-03T05:40:19.609Z"
   },
   {
    "duration": 242,
    "start_time": "2023-02-03T05:40:19.640Z"
   },
   {
    "duration": 23,
    "start_time": "2023-02-03T05:40:19.884Z"
   },
   {
    "duration": 230,
    "start_time": "2023-02-03T05:40:19.909Z"
   },
   {
    "duration": 20,
    "start_time": "2023-02-03T05:40:20.141Z"
   },
   {
    "duration": 244,
    "start_time": "2023-02-03T05:40:20.162Z"
   },
   {
    "duration": 18,
    "start_time": "2023-02-03T05:40:20.408Z"
   },
   {
    "duration": 244,
    "start_time": "2023-02-03T05:40:20.427Z"
   },
   {
    "duration": 22,
    "start_time": "2023-02-03T05:40:20.673Z"
   },
   {
    "duration": 175,
    "start_time": "2023-02-03T05:40:20.696Z"
   },
   {
    "duration": 20,
    "start_time": "2023-02-03T05:40:20.872Z"
   },
   {
    "duration": 129,
    "start_time": "2023-02-03T05:40:20.894Z"
   },
   {
    "duration": 21,
    "start_time": "2023-02-03T05:40:21.025Z"
   },
   {
    "duration": 47,
    "start_time": "2023-02-03T05:40:21.049Z"
   },
   {
    "duration": 1378,
    "start_time": "2023-02-03T05:42:03.697Z"
   },
   {
    "duration": 3,
    "start_time": "2023-02-03T05:42:05.077Z"
   },
   {
    "duration": 77,
    "start_time": "2023-02-03T05:42:05.082Z"
   },
   {
    "duration": 16,
    "start_time": "2023-02-03T05:42:05.161Z"
   },
   {
    "duration": 8,
    "start_time": "2023-02-03T05:42:05.179Z"
   },
   {
    "duration": 18,
    "start_time": "2023-02-03T05:42:05.188Z"
   },
   {
    "duration": 5,
    "start_time": "2023-02-03T05:42:05.208Z"
   },
   {
    "duration": 16,
    "start_time": "2023-02-03T05:42:05.215Z"
   },
   {
    "duration": 9,
    "start_time": "2023-02-03T05:42:05.233Z"
   },
   {
    "duration": 13,
    "start_time": "2023-02-03T05:42:05.245Z"
   },
   {
    "duration": 46,
    "start_time": "2023-02-03T05:42:05.260Z"
   },
   {
    "duration": 9,
    "start_time": "2023-02-03T05:42:05.307Z"
   },
   {
    "duration": 7,
    "start_time": "2023-02-03T05:42:05.317Z"
   },
   {
    "duration": 14,
    "start_time": "2023-02-03T05:42:05.325Z"
   },
   {
    "duration": 16,
    "start_time": "2023-02-03T05:42:05.341Z"
   },
   {
    "duration": 201,
    "start_time": "2023-02-03T05:42:05.358Z"
   },
   {
    "duration": 14,
    "start_time": "2023-02-03T05:42:05.561Z"
   },
   {
    "duration": 182,
    "start_time": "2023-02-03T05:42:05.577Z"
   },
   {
    "duration": 15,
    "start_time": "2023-02-03T05:42:05.761Z"
   },
   {
    "duration": 127,
    "start_time": "2023-02-03T05:42:05.778Z"
   },
   {
    "duration": 279,
    "start_time": "2023-02-03T05:42:05.908Z"
   },
   {
    "duration": 24,
    "start_time": "2023-02-03T05:42:06.191Z"
   },
   {
    "duration": 249,
    "start_time": "2023-02-03T05:42:06.217Z"
   },
   {
    "duration": 23,
    "start_time": "2023-02-03T05:42:06.470Z"
   },
   {
    "duration": 321,
    "start_time": "2023-02-03T05:42:06.496Z"
   },
   {
    "duration": 16,
    "start_time": "2023-02-03T05:42:06.819Z"
   },
   {
    "duration": 424,
    "start_time": "2023-02-03T05:42:06.837Z"
   },
   {
    "duration": 15,
    "start_time": "2023-02-03T05:42:07.265Z"
   },
   {
    "duration": 166,
    "start_time": "2023-02-03T05:42:07.291Z"
   },
   {
    "duration": 14,
    "start_time": "2023-02-03T05:42:07.459Z"
   },
   {
    "duration": 178,
    "start_time": "2023-02-03T05:42:07.475Z"
   },
   {
    "duration": 163,
    "start_time": "2023-02-03T05:42:07.654Z"
   },
   {
    "duration": 9223,
    "start_time": "2023-02-03T05:42:07.818Z"
   },
   {
    "duration": 50,
    "start_time": "2023-02-03T05:42:17.043Z"
   },
   {
    "duration": 401,
    "start_time": "2023-02-03T05:42:17.095Z"
   },
   {
    "duration": 11,
    "start_time": "2023-02-03T05:42:17.497Z"
   },
   {
    "duration": 20,
    "start_time": "2023-02-03T05:42:17.509Z"
   },
   {
    "duration": 11,
    "start_time": "2023-02-03T05:42:17.531Z"
   },
   {
    "duration": 19,
    "start_time": "2023-02-03T05:42:17.544Z"
   },
   {
    "duration": 521,
    "start_time": "2023-02-03T05:42:17.564Z"
   },
   {
    "duration": 13,
    "start_time": "2023-02-03T05:42:18.087Z"
   },
   {
    "duration": 275,
    "start_time": "2023-02-03T05:42:18.102Z"
   },
   {
    "duration": 23,
    "start_time": "2023-02-03T05:42:18.380Z"
   },
   {
    "duration": 182,
    "start_time": "2023-02-03T05:42:18.405Z"
   },
   {
    "duration": 14,
    "start_time": "2023-02-03T05:42:18.589Z"
   },
   {
    "duration": 236,
    "start_time": "2023-02-03T05:42:18.604Z"
   },
   {
    "duration": 12,
    "start_time": "2023-02-03T05:42:18.841Z"
   },
   {
    "duration": 167,
    "start_time": "2023-02-03T05:42:18.854Z"
   },
   {
    "duration": 17,
    "start_time": "2023-02-03T05:42:19.023Z"
   },
   {
    "duration": 17,
    "start_time": "2023-02-03T05:42:19.041Z"
   },
   {
    "duration": 49,
    "start_time": "2023-02-03T05:42:19.060Z"
   },
   {
    "duration": 241,
    "start_time": "2023-02-03T05:42:19.111Z"
   },
   {
    "duration": 40,
    "start_time": "2023-02-03T05:42:19.353Z"
   },
   {
    "duration": 225,
    "start_time": "2023-02-03T05:42:19.395Z"
   },
   {
    "duration": 18,
    "start_time": "2023-02-03T05:42:19.622Z"
   },
   {
    "duration": 232,
    "start_time": "2023-02-03T05:42:19.642Z"
   },
   {
    "duration": 27,
    "start_time": "2023-02-03T05:42:19.875Z"
   },
   {
    "duration": 240,
    "start_time": "2023-02-03T05:42:19.905Z"
   },
   {
    "duration": 19,
    "start_time": "2023-02-03T05:42:20.147Z"
   },
   {
    "duration": 235,
    "start_time": "2023-02-03T05:42:20.168Z"
   },
   {
    "duration": 15,
    "start_time": "2023-02-03T05:42:20.406Z"
   },
   {
    "duration": 182,
    "start_time": "2023-02-03T05:42:20.422Z"
   },
   {
    "duration": 15,
    "start_time": "2023-02-03T05:42:20.606Z"
   },
   {
    "duration": 139,
    "start_time": "2023-02-03T05:42:20.623Z"
   },
   {
    "duration": 14,
    "start_time": "2023-02-03T05:42:20.764Z"
   },
   {
    "duration": 38,
    "start_time": "2023-02-03T05:42:20.780Z"
   }
  ],
  "kernelspec": {
   "display_name": "Python 3 (ipykernel)",
   "language": "python",
   "name": "python3"
  },
  "language_info": {
   "codemirror_mode": {
    "name": "ipython",
    "version": 3
   },
   "file_extension": ".py",
   "mimetype": "text/x-python",
   "name": "python",
   "nbconvert_exporter": "python",
   "pygments_lexer": "ipython3",
   "version": "3.9.12"
  },
  "toc": {
   "base_numbering": 1,
   "nav_menu": {},
   "number_sections": true,
   "sideBar": true,
   "skip_h1_title": true,
   "title_cell": "Table of Contents",
   "title_sidebar": "Contents",
   "toc_cell": false,
   "toc_position": {
    "height": "calc(100% - 180px)",
    "left": "10px",
    "top": "150px",
    "width": "350px"
   },
   "toc_section_display": true,
   "toc_window_display": false
  }
 },
 "nbformat": 4,
 "nbformat_minor": 2
}

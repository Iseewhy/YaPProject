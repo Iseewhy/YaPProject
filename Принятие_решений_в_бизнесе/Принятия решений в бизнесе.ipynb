{
 "cells": [
  {
   "cell_type": "markdown",
   "metadata": {},
   "source": [
    "## Проектная работа: Принятие решений в бизнесе\n",
    "\n",
    "Заказчик: Отдел маркетинга крупного интернет-магазина\n",
    "\n",
    "Задачи: Приоритизация гипотез, проведение A/B теста и анализ результатов"
   ]
  },
  {
   "cell_type": "markdown",
   "metadata": {},
   "source": [
    "## Изучаем датафреймы"
   ]
  },
  {
   "cell_type": "code",
   "execution_count": 318,
   "metadata": {},
   "outputs": [],
   "source": [
    "#Импортируем нужные нам библиотеки для работы над проектом\n",
    "import pandas as pd\n",
    "import scipy.stats as stats\n",
    "import datetime as dt\n",
    "import numpy as np\n",
    "import matplotlib.pyplot as plt\n",
    "import datetime as dt\n",
    "import numpy as np\n",
    "import seaborn as sns\n",
    "from scipy import stats as st"
   ]
  },
  {
   "cell_type": "code",
   "execution_count": 319,
   "metadata": {},
   "outputs": [],
   "source": [
    "#убираем ограничение на ширину и количество столбцов\n",
    "pd.set_option('display.max_colwidth', None)\n",
    "pd.set_option('display.max_columns', None)\n",
    "pd.options.display.float_format = '{:,.3f}'.format"
   ]
  },
  {
   "cell_type": "code",
   "execution_count": 320,
   "metadata": {},
   "outputs": [],
   "source": [
    "hypothesis, orders, visitors = (\n",
    "pd.read_csv('/datasets/hypothesis.csv'),\n",
    "pd.read_csv('/datasets/orders.csv'),\n",
    "pd.read_csv('/datasets/visitors.csv'))\n",
    "sns.set(rc={'figure.figsize':(14, 8)})"
   ]
  },
  {
   "cell_type": "code",
   "execution_count": 321,
   "metadata": {},
   "outputs": [
    {
     "name": "stdout",
     "output_type": "stream",
     "text": [
      "<class 'pandas.core.frame.DataFrame'>\n",
      "RangeIndex: 9 entries, 0 to 8\n",
      "Data columns (total 5 columns):\n",
      " #   Column      Non-Null Count  Dtype \n",
      "---  ------      --------------  ----- \n",
      " 0   Hypothesis  9 non-null      object\n",
      " 1   Reach       9 non-null      int64 \n",
      " 2   Impact      9 non-null      int64 \n",
      " 3   Confidence  9 non-null      int64 \n",
      " 4   Efforts     9 non-null      int64 \n",
      "dtypes: int64(4), object(1)\n",
      "memory usage: 488.0+ bytes\n"
     ]
    },
    {
     "data": {
      "text/html": [
       "<div>\n",
       "<style scoped>\n",
       "    .dataframe tbody tr th:only-of-type {\n",
       "        vertical-align: middle;\n",
       "    }\n",
       "\n",
       "    .dataframe tbody tr th {\n",
       "        vertical-align: top;\n",
       "    }\n",
       "\n",
       "    .dataframe thead th {\n",
       "        text-align: right;\n",
       "    }\n",
       "</style>\n",
       "<table border=\"1\" class=\"dataframe\">\n",
       "  <thead>\n",
       "    <tr style=\"text-align: right;\">\n",
       "      <th></th>\n",
       "      <th>Hypothesis</th>\n",
       "      <th>Reach</th>\n",
       "      <th>Impact</th>\n",
       "      <th>Confidence</th>\n",
       "      <th>Efforts</th>\n",
       "    </tr>\n",
       "  </thead>\n",
       "  <tbody>\n",
       "    <tr>\n",
       "      <th>0</th>\n",
       "      <td>Добавить два новых канала привлечения трафика, что позволит привлекать на 30% больше пользователей</td>\n",
       "      <td>3</td>\n",
       "      <td>10</td>\n",
       "      <td>8</td>\n",
       "      <td>6</td>\n",
       "    </tr>\n",
       "    <tr>\n",
       "      <th>1</th>\n",
       "      <td>Запустить собственную службу доставки, что сократит срок доставки заказов</td>\n",
       "      <td>2</td>\n",
       "      <td>5</td>\n",
       "      <td>4</td>\n",
       "      <td>10</td>\n",
       "    </tr>\n",
       "    <tr>\n",
       "      <th>2</th>\n",
       "      <td>Добавить блоки рекомендаций товаров на сайт интернет магазина, чтобы повысить конверсию и средний чек заказа</td>\n",
       "      <td>8</td>\n",
       "      <td>3</td>\n",
       "      <td>7</td>\n",
       "      <td>3</td>\n",
       "    </tr>\n",
       "    <tr>\n",
       "      <th>3</th>\n",
       "      <td>Изменить структура категорий, что увеличит конверсию, т.к. пользователи быстрее найдут нужный товар</td>\n",
       "      <td>8</td>\n",
       "      <td>3</td>\n",
       "      <td>3</td>\n",
       "      <td>8</td>\n",
       "    </tr>\n",
       "    <tr>\n",
       "      <th>4</th>\n",
       "      <td>Изменить цвет фона главной страницы, чтобы увеличить вовлеченность пользователей</td>\n",
       "      <td>3</td>\n",
       "      <td>1</td>\n",
       "      <td>1</td>\n",
       "      <td>1</td>\n",
       "    </tr>\n",
       "    <tr>\n",
       "      <th>5</th>\n",
       "      <td>Добавить страницу отзывов клиентов о магазине, что позволит увеличить количество заказов</td>\n",
       "      <td>3</td>\n",
       "      <td>2</td>\n",
       "      <td>2</td>\n",
       "      <td>3</td>\n",
       "    </tr>\n",
       "    <tr>\n",
       "      <th>6</th>\n",
       "      <td>Показать на главной странице баннеры с актуальными акциями и распродажами, чтобы увеличить конверсию</td>\n",
       "      <td>5</td>\n",
       "      <td>3</td>\n",
       "      <td>8</td>\n",
       "      <td>3</td>\n",
       "    </tr>\n",
       "    <tr>\n",
       "      <th>7</th>\n",
       "      <td>Добавить форму подписки на все основные страницы, чтобы собрать базу клиентов для email-рассылок</td>\n",
       "      <td>10</td>\n",
       "      <td>7</td>\n",
       "      <td>8</td>\n",
       "      <td>5</td>\n",
       "    </tr>\n",
       "    <tr>\n",
       "      <th>8</th>\n",
       "      <td>Запустить акцию, дающую скидку на товар в день рождения</td>\n",
       "      <td>1</td>\n",
       "      <td>9</td>\n",
       "      <td>9</td>\n",
       "      <td>5</td>\n",
       "    </tr>\n",
       "  </tbody>\n",
       "</table>\n",
       "</div>"
      ],
      "text/plain": [
       "                                                                                                     Hypothesis  \\\n",
       "0            Добавить два новых канала привлечения трафика, что позволит привлекать на 30% больше пользователей   \n",
       "1                                     Запустить собственную службу доставки, что сократит срок доставки заказов   \n",
       "2  Добавить блоки рекомендаций товаров на сайт интернет магазина, чтобы повысить конверсию и средний чек заказа   \n",
       "3           Изменить структура категорий, что увеличит конверсию, т.к. пользователи быстрее найдут нужный товар   \n",
       "4                              Изменить цвет фона главной страницы, чтобы увеличить вовлеченность пользователей   \n",
       "5                      Добавить страницу отзывов клиентов о магазине, что позволит увеличить количество заказов   \n",
       "6          Показать на главной странице баннеры с актуальными акциями и распродажами, чтобы увеличить конверсию   \n",
       "7              Добавить форму подписки на все основные страницы, чтобы собрать базу клиентов для email-рассылок   \n",
       "8                                                       Запустить акцию, дающую скидку на товар в день рождения   \n",
       "\n",
       "   Reach  Impact  Confidence  Efforts  \n",
       "0      3      10           8        6  \n",
       "1      2       5           4       10  \n",
       "2      8       3           7        3  \n",
       "3      8       3           3        8  \n",
       "4      3       1           1        1  \n",
       "5      3       2           2        3  \n",
       "6      5       3           8        3  \n",
       "7     10       7           8        5  \n",
       "8      1       9           9        5  "
      ]
     },
     "execution_count": 321,
     "metadata": {},
     "output_type": "execute_result"
    }
   ],
   "source": [
    "hypothesis.info()\n",
    "hypothesis"
   ]
  },
  {
   "cell_type": "code",
   "execution_count": 322,
   "metadata": {},
   "outputs": [
    {
     "name": "stdout",
     "output_type": "stream",
     "text": [
      "<class 'pandas.core.frame.DataFrame'>\n",
      "RangeIndex: 1197 entries, 0 to 1196\n",
      "Data columns (total 5 columns):\n",
      " #   Column         Non-Null Count  Dtype \n",
      "---  ------         --------------  ----- \n",
      " 0   transactionId  1197 non-null   int64 \n",
      " 1   visitorId      1197 non-null   int64 \n",
      " 2   date           1197 non-null   object\n",
      " 3   revenue        1197 non-null   int64 \n",
      " 4   group          1197 non-null   object\n",
      "dtypes: int64(3), object(2)\n",
      "memory usage: 46.9+ KB\n"
     ]
    },
    {
     "data": {
      "text/html": [
       "<div>\n",
       "<style scoped>\n",
       "    .dataframe tbody tr th:only-of-type {\n",
       "        vertical-align: middle;\n",
       "    }\n",
       "\n",
       "    .dataframe tbody tr th {\n",
       "        vertical-align: top;\n",
       "    }\n",
       "\n",
       "    .dataframe thead th {\n",
       "        text-align: right;\n",
       "    }\n",
       "</style>\n",
       "<table border=\"1\" class=\"dataframe\">\n",
       "  <thead>\n",
       "    <tr style=\"text-align: right;\">\n",
       "      <th></th>\n",
       "      <th>transactionId</th>\n",
       "      <th>visitorId</th>\n",
       "      <th>date</th>\n",
       "      <th>revenue</th>\n",
       "      <th>group</th>\n",
       "    </tr>\n",
       "  </thead>\n",
       "  <tbody>\n",
       "    <tr>\n",
       "      <th>0</th>\n",
       "      <td>3667963787</td>\n",
       "      <td>3312258926</td>\n",
       "      <td>2019-08-15</td>\n",
       "      <td>1650</td>\n",
       "      <td>B</td>\n",
       "    </tr>\n",
       "    <tr>\n",
       "      <th>1</th>\n",
       "      <td>2804400009</td>\n",
       "      <td>3642806036</td>\n",
       "      <td>2019-08-15</td>\n",
       "      <td>730</td>\n",
       "      <td>B</td>\n",
       "    </tr>\n",
       "    <tr>\n",
       "      <th>2</th>\n",
       "      <td>2961555356</td>\n",
       "      <td>4069496402</td>\n",
       "      <td>2019-08-15</td>\n",
       "      <td>400</td>\n",
       "      <td>A</td>\n",
       "    </tr>\n",
       "    <tr>\n",
       "      <th>3</th>\n",
       "      <td>3797467345</td>\n",
       "      <td>1196621759</td>\n",
       "      <td>2019-08-15</td>\n",
       "      <td>9759</td>\n",
       "      <td>B</td>\n",
       "    </tr>\n",
       "    <tr>\n",
       "      <th>4</th>\n",
       "      <td>2282983706</td>\n",
       "      <td>2322279887</td>\n",
       "      <td>2019-08-15</td>\n",
       "      <td>2308</td>\n",
       "      <td>B</td>\n",
       "    </tr>\n",
       "    <tr>\n",
       "      <th>...</th>\n",
       "      <td>...</td>\n",
       "      <td>...</td>\n",
       "      <td>...</td>\n",
       "      <td>...</td>\n",
       "      <td>...</td>\n",
       "    </tr>\n",
       "    <tr>\n",
       "      <th>1192</th>\n",
       "      <td>2662137336</td>\n",
       "      <td>3733762160</td>\n",
       "      <td>2019-08-14</td>\n",
       "      <td>6490</td>\n",
       "      <td>B</td>\n",
       "    </tr>\n",
       "    <tr>\n",
       "      <th>1193</th>\n",
       "      <td>2203539145</td>\n",
       "      <td>370388673</td>\n",
       "      <td>2019-08-14</td>\n",
       "      <td>3190</td>\n",
       "      <td>A</td>\n",
       "    </tr>\n",
       "    <tr>\n",
       "      <th>1194</th>\n",
       "      <td>1807773912</td>\n",
       "      <td>573423106</td>\n",
       "      <td>2019-08-14</td>\n",
       "      <td>10550</td>\n",
       "      <td>A</td>\n",
       "    </tr>\n",
       "    <tr>\n",
       "      <th>1195</th>\n",
       "      <td>1947021204</td>\n",
       "      <td>1614305549</td>\n",
       "      <td>2019-08-14</td>\n",
       "      <td>100</td>\n",
       "      <td>A</td>\n",
       "    </tr>\n",
       "    <tr>\n",
       "      <th>1196</th>\n",
       "      <td>3936777065</td>\n",
       "      <td>2108080724</td>\n",
       "      <td>2019-08-15</td>\n",
       "      <td>202740</td>\n",
       "      <td>B</td>\n",
       "    </tr>\n",
       "  </tbody>\n",
       "</table>\n",
       "<p>1197 rows × 5 columns</p>\n",
       "</div>"
      ],
      "text/plain": [
       "      transactionId   visitorId        date  revenue group\n",
       "0        3667963787  3312258926  2019-08-15     1650     B\n",
       "1        2804400009  3642806036  2019-08-15      730     B\n",
       "2        2961555356  4069496402  2019-08-15      400     A\n",
       "3        3797467345  1196621759  2019-08-15     9759     B\n",
       "4        2282983706  2322279887  2019-08-15     2308     B\n",
       "...             ...         ...         ...      ...   ...\n",
       "1192     2662137336  3733762160  2019-08-14     6490     B\n",
       "1193     2203539145   370388673  2019-08-14     3190     A\n",
       "1194     1807773912   573423106  2019-08-14    10550     A\n",
       "1195     1947021204  1614305549  2019-08-14      100     A\n",
       "1196     3936777065  2108080724  2019-08-15   202740     B\n",
       "\n",
       "[1197 rows x 5 columns]"
      ]
     },
     "execution_count": 322,
     "metadata": {},
     "output_type": "execute_result"
    }
   ],
   "source": [
    "orders.info()\n",
    "orders"
   ]
  },
  {
   "cell_type": "code",
   "execution_count": 323,
   "metadata": {},
   "outputs": [
    {
     "name": "stdout",
     "output_type": "stream",
     "text": [
      "<class 'pandas.core.frame.DataFrame'>\n",
      "RangeIndex: 62 entries, 0 to 61\n",
      "Data columns (total 3 columns):\n",
      " #   Column    Non-Null Count  Dtype \n",
      "---  ------    --------------  ----- \n",
      " 0   date      62 non-null     object\n",
      " 1   group     62 non-null     object\n",
      " 2   visitors  62 non-null     int64 \n",
      "dtypes: int64(1), object(2)\n",
      "memory usage: 1.6+ KB\n"
     ]
    },
    {
     "data": {
      "text/html": [
       "<div>\n",
       "<style scoped>\n",
       "    .dataframe tbody tr th:only-of-type {\n",
       "        vertical-align: middle;\n",
       "    }\n",
       "\n",
       "    .dataframe tbody tr th {\n",
       "        vertical-align: top;\n",
       "    }\n",
       "\n",
       "    .dataframe thead th {\n",
       "        text-align: right;\n",
       "    }\n",
       "</style>\n",
       "<table border=\"1\" class=\"dataframe\">\n",
       "  <thead>\n",
       "    <tr style=\"text-align: right;\">\n",
       "      <th></th>\n",
       "      <th>date</th>\n",
       "      <th>group</th>\n",
       "      <th>visitors</th>\n",
       "    </tr>\n",
       "  </thead>\n",
       "  <tbody>\n",
       "    <tr>\n",
       "      <th>0</th>\n",
       "      <td>2019-08-01</td>\n",
       "      <td>A</td>\n",
       "      <td>719</td>\n",
       "    </tr>\n",
       "    <tr>\n",
       "      <th>1</th>\n",
       "      <td>2019-08-02</td>\n",
       "      <td>A</td>\n",
       "      <td>619</td>\n",
       "    </tr>\n",
       "    <tr>\n",
       "      <th>2</th>\n",
       "      <td>2019-08-03</td>\n",
       "      <td>A</td>\n",
       "      <td>507</td>\n",
       "    </tr>\n",
       "    <tr>\n",
       "      <th>3</th>\n",
       "      <td>2019-08-04</td>\n",
       "      <td>A</td>\n",
       "      <td>717</td>\n",
       "    </tr>\n",
       "    <tr>\n",
       "      <th>4</th>\n",
       "      <td>2019-08-05</td>\n",
       "      <td>A</td>\n",
       "      <td>756</td>\n",
       "    </tr>\n",
       "    <tr>\n",
       "      <th>...</th>\n",
       "      <td>...</td>\n",
       "      <td>...</td>\n",
       "      <td>...</td>\n",
       "    </tr>\n",
       "    <tr>\n",
       "      <th>57</th>\n",
       "      <td>2019-08-27</td>\n",
       "      <td>B</td>\n",
       "      <td>720</td>\n",
       "    </tr>\n",
       "    <tr>\n",
       "      <th>58</th>\n",
       "      <td>2019-08-28</td>\n",
       "      <td>B</td>\n",
       "      <td>654</td>\n",
       "    </tr>\n",
       "    <tr>\n",
       "      <th>59</th>\n",
       "      <td>2019-08-29</td>\n",
       "      <td>B</td>\n",
       "      <td>531</td>\n",
       "    </tr>\n",
       "    <tr>\n",
       "      <th>60</th>\n",
       "      <td>2019-08-30</td>\n",
       "      <td>B</td>\n",
       "      <td>490</td>\n",
       "    </tr>\n",
       "    <tr>\n",
       "      <th>61</th>\n",
       "      <td>2019-08-31</td>\n",
       "      <td>B</td>\n",
       "      <td>718</td>\n",
       "    </tr>\n",
       "  </tbody>\n",
       "</table>\n",
       "<p>62 rows × 3 columns</p>\n",
       "</div>"
      ],
      "text/plain": [
       "          date group  visitors\n",
       "0   2019-08-01     A       719\n",
       "1   2019-08-02     A       619\n",
       "2   2019-08-03     A       507\n",
       "3   2019-08-04     A       717\n",
       "4   2019-08-05     A       756\n",
       "..         ...   ...       ...\n",
       "57  2019-08-27     B       720\n",
       "58  2019-08-28     B       654\n",
       "59  2019-08-29     B       531\n",
       "60  2019-08-30     B       490\n",
       "61  2019-08-31     B       718\n",
       "\n",
       "[62 rows x 3 columns]"
      ]
     },
     "execution_count": 323,
     "metadata": {},
     "output_type": "execute_result"
    }
   ],
   "source": [
    "visitors.info()\n",
    "visitors"
   ]
  },
  {
   "cell_type": "markdown",
   "metadata": {},
   "source": [
    "Пропусков в таблице нет, но стоблцы date в датафреймах orders и visitors имеют тип object и привёдем название стоблцов в датафрейме hypothesis к нижнему регистру, выполним предобработку данных"
   ]
  },
  {
   "cell_type": "markdown",
   "metadata": {},
   "source": [
    "### Предобработка данных"
   ]
  },
  {
   "cell_type": "code",
   "execution_count": 324,
   "metadata": {},
   "outputs": [
    {
     "data": {
      "text/plain": [
       "Index(['hypothesis', 'reach', 'impact', 'confidence', 'efforts'], dtype='object')"
      ]
     },
     "metadata": {},
     "output_type": "display_data"
    },
    {
     "data": {
      "text/plain": [
       "Index(['transaction_id', 'visitor_id', 'date', 'revenue', 'group'], dtype='object')"
      ]
     },
     "execution_count": 324,
     "metadata": {},
     "output_type": "execute_result"
    }
   ],
   "source": [
    "hypothesis.columns = hypothesis.columns.str.lower()\n",
    "orders.columns = [name.replace('Id', '_id') for name in orders.columns]\n",
    "\n",
    "display(hypothesis.columns)\n",
    "orders.columns"
   ]
  },
  {
   "cell_type": "code",
   "execution_count": 325,
   "metadata": {},
   "outputs": [],
   "source": [
    "visitors['date'] = pd.to_datetime(visitors['date'])\n",
    "orders['date'] = pd.to_datetime(orders['date'])"
   ]
  },
  {
   "cell_type": "markdown",
   "metadata": {},
   "source": [
    "## Приоритизация гипотез"
   ]
  },
  {
   "cell_type": "markdown",
   "metadata": {},
   "source": [
    "### ICE"
   ]
  },
  {
   "cell_type": "code",
   "execution_count": 326,
   "metadata": {},
   "outputs": [
    {
     "name": "stdout",
     "output_type": "stream",
     "text": [
      "                                                                                                     hypothesis  \\\n",
      "8                                                       Запустить акцию, дающую скидку на товар в день рождения   \n",
      "0            Добавить два новых канала привлечения трафика, что позволит привлекать на 30% больше пользователей   \n",
      "7              Добавить форму подписки на все основные страницы, чтобы собрать базу клиентов для email-рассылок   \n",
      "6          Показать на главной странице баннеры с актуальными акциями и распродажами, чтобы увеличить конверсию   \n",
      "2  Добавить блоки рекомендаций товаров на сайт интернет магазина, чтобы повысить конверсию и средний чек заказа   \n",
      "\n",
      "     ice  \n",
      "8 16.200  \n",
      "0 13.333  \n",
      "7 11.200  \n",
      "6  8.000  \n",
      "2  7.000  \n"
     ]
    }
   ],
   "source": [
    "hypothesis['ice'] = (hypothesis['impact'] * hypothesis['confidence']) / hypothesis['efforts']\n",
    "print(hypothesis[['hypothesis', 'ice']].sort_values(by='ice', ascending=False).head(5))"
   ]
  },
  {
   "cell_type": "markdown",
   "metadata": {},
   "source": [
    "По методике ICE мы нашли 5 гипотез, которым следует уделить внимание, далее применим метод RICE"
   ]
  },
  {
   "cell_type": "markdown",
   "metadata": {},
   "source": [
    "### RICE"
   ]
  },
  {
   "cell_type": "code",
   "execution_count": 327,
   "metadata": {
    "scrolled": true
   },
   "outputs": [
    {
     "name": "stdout",
     "output_type": "stream",
     "text": [
      "                                                                                                     hypothesis  \\\n",
      "7              Добавить форму подписки на все основные страницы, чтобы собрать базу клиентов для email-рассылок   \n",
      "2  Добавить блоки рекомендаций товаров на сайт интернет магазина, чтобы повысить конверсию и средний чек заказа   \n",
      "0            Добавить два новых канала привлечения трафика, что позволит привлекать на 30% больше пользователей   \n",
      "6          Показать на главной странице баннеры с актуальными акциями и распродажами, чтобы увеличить конверсию   \n",
      "8                                                       Запустить акцию, дающую скидку на товар в день рождения   \n",
      "\n",
      "     rice  \n",
      "7 112.000  \n",
      "2  56.000  \n",
      "0  40.000  \n",
      "6  40.000  \n",
      "8  16.200  \n"
     ]
    }
   ],
   "source": [
    "hypothesis['rice'] = (hypothesis['reach'] * hypothesis['impact'] * hypothesis['confidence']) / hypothesis['efforts']\n",
    "print(hypothesis[['hypothesis', 'rice']].sort_values(by='rice', ascending=False).head(5))"
   ]
  },
  {
   "cell_type": "markdown",
   "metadata": {},
   "source": [
    "Разница приоритизации в том, что один метод учитывает количество пользователей, а другой нет, но топ-5 гипотез совпал"
   ]
  },
  {
   "cell_type": "markdown",
   "metadata": {},
   "source": [
    "## Анализ A/B теста"
   ]
  },
  {
   "cell_type": "markdown",
   "metadata": {},
   "source": [
    "### Строим график кумулятивной выручки по группам"
   ]
  },
  {
   "cell_type": "code",
   "execution_count": 328,
   "metadata": {},
   "outputs": [
    {
     "name": "stdout",
     "output_type": "stream",
     "text": [
      "<class 'pandas.core.frame.DataFrame'>\n",
      "RangeIndex: 62 entries, 0 to 61\n",
      "Data columns (total 3 columns):\n",
      " #   Column    Non-Null Count  Dtype         \n",
      "---  ------    --------------  -----         \n",
      " 0   date      62 non-null     datetime64[ns]\n",
      " 1   group     62 non-null     object        \n",
      " 2   visitors  62 non-null     int64         \n",
      "dtypes: datetime64[ns](1), int64(1), object(1)\n",
      "memory usage: 1.6+ KB\n"
     ]
    }
   ],
   "source": [
    "visitors.info()"
   ]
  },
  {
   "cell_type": "markdown",
   "metadata": {},
   "source": [
    "#### Проверил пользователей"
   ]
  },
  {
   "cell_type": "code",
   "execution_count": 329,
   "metadata": {},
   "outputs": [
    {
     "name": "stdout",
     "output_type": "stream",
     "text": [
      "<class 'pandas.core.frame.DataFrame'>\n",
      "RangeIndex: 1197 entries, 0 to 1196\n",
      "Data columns (total 5 columns):\n",
      " #   Column          Non-Null Count  Dtype         \n",
      "---  ------          --------------  -----         \n",
      " 0   transaction_id  1197 non-null   int64         \n",
      " 1   visitor_id      1197 non-null   int64         \n",
      " 2   date            1197 non-null   datetime64[ns]\n",
      " 3   revenue         1197 non-null   int64         \n",
      " 4   group           1197 non-null   object        \n",
      "dtypes: datetime64[ns](1), int64(3), object(1)\n",
      "memory usage: 46.9+ KB\n"
     ]
    }
   ],
   "source": [
    "orders.info()"
   ]
  },
  {
   "cell_type": "code",
   "execution_count": 330,
   "metadata": {},
   "outputs": [
    {
     "name": "stdout",
     "output_type": "stream",
     "text": [
      "group    58\n",
      "dtype: int64\n"
     ]
    }
   ],
   "source": [
    "check_orders = orders.groupby('visitor_id').agg({'group' : 'nunique'}).query('group>1').count()\n",
    "print(check_orders)"
   ]
  },
  {
   "cell_type": "code",
   "execution_count": 333,
   "metadata": {},
   "outputs": [
    {
     "name": "stdout",
     "output_type": "stream",
     "text": [
      "<class 'pandas.core.frame.DataFrame'>\n",
      "RangeIndex: 1197 entries, 0 to 1196\n",
      "Data columns (total 5 columns):\n",
      " #   Column          Non-Null Count  Dtype         \n",
      "---  ------          --------------  -----         \n",
      " 0   transaction_id  1197 non-null   int64         \n",
      " 1   visitor_id      1197 non-null   int64         \n",
      " 2   date            1197 non-null   datetime64[ns]\n",
      " 3   revenue         1197 non-null   int64         \n",
      " 4   group           1197 non-null   object        \n",
      "dtypes: datetime64[ns](1), int64(3), object(1)\n",
      "memory usage: 46.9+ KB\n"
     ]
    }
   ],
   "source": [
    "orders.info()"
   ]
  },
  {
   "cell_type": "code",
   "execution_count": 334,
   "metadata": {},
   "outputs": [
    {
     "name": "stdout",
     "output_type": "stream",
     "text": [
      "        date group  orders  buyers  revenue  visitors\n",
      "0 2019-08-01     A      24      20   148579       719\n",
      "1 2019-08-01     B      21      20   101217       713\n",
      "2 2019-08-02     A      44      38   242401      1338\n",
      "3 2019-08-02     B      45      43   266748      1294\n",
      "4 2019-08-03     A      68      62   354874      1845\n"
     ]
    },
    {
     "data": {
      "image/png": "[encoded data removed]",
      "text/plain": [
       "<Figure size 1008x576 with 1 Axes>"
      ]
     },
     "metadata": {},
     "output_type": "display_data"
    }
   ],
   "source": [
    "dates_grouped = orders[['date', 'group']].drop_duplicates()\n",
    "\n",
    "orders_aggregate = dates_grouped.apply(\n",
    "lambda x: orders[np.logical_and(orders['date'] <= x['date'], orders['group']==x['group'])]\n",
    ".agg({'date':'max', 'group':'max', 'transaction_id':'nunique', 'visitor_id':'nunique', 'revenue':'sum'}), axis=1)\\\n",
    ".sort_values(by=['date', 'group'])\n",
    "\n",
    "visitors_aggregate = dates_grouped.apply(\n",
    "lambda x: visitors[np.logical_and(visitors['date'] <= x['date'], visitors['group'] == x['group'])]\n",
    ".agg({'date':'max', 'group':'max', 'visitors':'sum'}), axis=1)\\\n",
    ".sort_values(by=['date', 'group'])\n",
    "\n",
    "cumulative_data = orders_aggregate.merge(visitors_aggregate, left_on=['date', 'group'], right_on=['date', 'group'])\n",
    "cumulative_data.columns = ['date', 'group', 'orders', 'buyers', 'revenue', 'visitors']\n",
    "print(cumulative_data.head())\n",
    "\n",
    "cumulative_group_a = cumulative_data[cumulative_data['group']=='A'][['date', 'revenue', 'orders']]\n",
    "cumulative_group_b = cumulative_data[cumulative_data['group']=='B'][['date', 'revenue', 'orders']]\n",
    "\n",
    "plt.plot(cumulative_group_a['date'], cumulative_group_a['revenue'], label='A')\n",
    "plt.plot(cumulative_group_b['date'], cumulative_group_b['revenue'], label='B')\n",
    "plt.title('Динамика кумулятивной выручки по группам')\n",
    "plt.ylabel('Выручка млн.')\n",
    "plt.legend()\n",
    "plt.show()"
   ]
  },
  {
   "cell_type": "markdown",
   "metadata": {},
   "source": [
    "С построением графика мы выявили аномальный скачок группы B 18 августа 2019 года и благодаря этому закрепилось лидерство за этой группой до конца теста.\n",
    "\n",
    "Есть предположение что аномально большие заказы влияют на результаты."
   ]
  },
  {
   "cell_type": "markdown",
   "metadata": {},
   "source": [
    "### График кумулятивного среднего чека по группам"
   ]
  },
  {
   "cell_type": "code",
   "execution_count": 335,
   "metadata": {},
   "outputs": [
    {
     "data": {
      "image/png": "[encoded data removed]",
      "text/plain": [
       "<Figure size 1008x576 with 1 Axes>"
      ]
     },
     "metadata": {},
     "output_type": "display_data"
    }
   ],
   "source": [
    "cumulative_revenue_a = cumulative_data[cumulative_data['group']=='A'][['date', 'revenue', 'orders']]\n",
    "cumulative_revenue_b = cumulative_data[cumulative_data['group']=='B'][['date', 'revenue', 'orders']]\n",
    "\n",
    "plt.plot(cumulative_revenue_a['date'], cumulative_revenue_a['revenue']/cumulative_revenue_a['orders'], label='A')\n",
    "plt.plot(cumulative_revenue_b['date'], cumulative_revenue_b['revenue']/cumulative_revenue_b['orders'], label='B')\n",
    "plt.legend()\n",
    "plt.show()"
   ]
  },
  {
   "cell_type": "markdown",
   "metadata": {},
   "source": [
    "Кумулятивное значение среднего чека продолжает колебаться, но с другой стороны, группа B в конце теста лидирует, продолжаем"
   ]
  },
  {
   "cell_type": "markdown",
   "metadata": {},
   "source": [
    "### Изменения среднего чека группы B к группе A"
   ]
  },
  {
   "cell_type": "code",
   "execution_count": 336,
   "metadata": {},
   "outputs": [
    {
     "data": {
      "image/png": "[encoded data removed]",
      "text/plain": [
       "<Figure size 1008x576 with 1 Axes>"
      ]
     },
     "metadata": {},
     "output_type": "display_data"
    }
   ],
   "source": [
    "merged_cumulative_revenue = cumulative_revenue_a.merge(\n",
    "cumulative_revenue_b, left_on='date', right_on='date', how='left', suffixes=['A', 'B'])\n",
    "plt.plot(merged_cumulative_revenue['date'],\n",
    "(merged_cumulative_revenue['revenueB']/merged_cumulative_revenue['ordersB'])/\n",
    "(merged_cumulative_revenue['revenueA']/merged_cumulative_revenue['ordersA'])-1)\n",
    "plt.axhline(y=0, color='black', linestyle='--')\n",
    "plt.show()"
   ]
  },
  {
   "cell_type": "markdown",
   "metadata": {},
   "source": [
    "Результаты теста значительно и резко изменились с 18 августа 19 года, видимо именно тогда были совершены аномальные заказы, которые повлияли на итог теста"
   ]
  },
  {
   "cell_type": "markdown",
   "metadata": {},
   "source": [
    "### Конверсия по группам"
   ]
  },
  {
   "cell_type": "code",
   "execution_count": 337,
   "metadata": {},
   "outputs": [
    {
     "data": {
      "image/png": "[encoded data removed]",
      "text/plain": [
       "<Figure size 1008x576 with 1 Axes>"
      ]
     },
     "metadata": {},
     "output_type": "display_data"
    }
   ],
   "source": [
    "cumulative_data['conversion'] = cumulative_data['orders']/cumulative_data['visitors']\n",
    "cumulative_group_a = cumulative_data[cumulative_data['group']=='A']\n",
    "cumulative_group_b = cumulative_data[cumulative_data['group']=='B']\n",
    "\n",
    "plt.plot(cumulative_group_a['date'], cumulative_group_a['conversion'], label='A')\n",
    "plt.plot(cumulative_group_b['date'], cumulative_group_b['conversion'], label='B')\n",
    "plt.legend()\n",
    "plt.show()"
   ]
  },
  {
   "cell_type": "markdown",
   "metadata": {},
   "source": [
    "По конверсии видно, что результаты группы B значительно лучше.\n",
    "\n",
    "Так же можно отметить колебания в начале конверсии, которые в последствии выровнялись."
   ]
  },
  {
   "cell_type": "markdown",
   "metadata": {},
   "source": [
    "### Относительное изменение конверсии группы B к группе A"
   ]
  },
  {
   "cell_type": "code",
   "execution_count": 338,
   "metadata": {},
   "outputs": [
    {
     "data": {
      "image/png": "[encoded data removed]",
      "text/plain": [
       "<Figure size 1008x576 with 1 Axes>"
      ]
     },
     "metadata": {},
     "output_type": "display_data"
    }
   ],
   "source": [
    "merged_cumulative_conversion = cumulative_group_a[['date', 'conversion']].merge(cumulative_group_b[['date', 'conversion']],\\\n",
    "left_on='date', right_on='date', how='left', suffixes=['A', 'B'])\n",
    "\n",
    "plt.plot(merged_cumulative_conversion['date'],\n",
    "merged_cumulative_conversion['conversionB']/merged_cumulative_conversion['conversionA']-1,\n",
    "        label='Относительный прирост конверсии группы B относительно группы A')\n",
    "plt.legend()\n",
    "plt.axhline(y=0, color='black', linestyle='--')\n",
    "plt.axhline(y=0.2, color='grey', linestyle='--')\n",
    "plt.show()"
   ]
  },
  {
   "cell_type": "markdown",
   "metadata": {},
   "source": [
    "Почти с самого начала теста группа B лидирует по конверсии, 15 августа был пик конверсии, но в конце теста зафиксировался около 150% ? (я очень сомневаюсь, правильно ли прочитал график)\n",
    "\n",
    "Но ранее мы фиксировали аномальные выбросы, после еще раз проанализируем данные после очистки от выбросов."
   ]
  },
  {
   "cell_type": "markdown",
   "metadata": {},
   "source": [
    "### График количества заказов по пользователям"
   ]
  },
  {
   "cell_type": "code",
   "execution_count": 339,
   "metadata": {},
   "outputs": [
    {
     "name": "stdout",
     "output_type": "stream",
     "text": [
      "      visitors_id  orders\n",
      "1023   4256040402      11\n",
      "591    2458001652      11\n",
      "569    2378935119       9\n",
      "487    2038680547       8\n",
      "44      199603092       5\n",
      "744    3062433592       5\n",
      "55      237748145       5\n",
      "917    3803269165       5\n",
      "299    1230306981       5\n",
      "897    3717692402       5\n"
     ]
    },
    {
     "data": {
      "image/png": "[encoded data removed]",
      "text/plain": [
       "<Figure size 1008x576 with 1 Axes>"
      ]
     },
     "metadata": {},
     "output_type": "display_data"
    }
   ],
   "source": [
    "orders_by_users = (\n",
    "orders.groupby('visitor_id', as_index=False)\n",
    ".agg({'transaction_id':'nunique'}))\n",
    "orders_by_users.columns = ['visitors_id', 'orders']\n",
    "print(orders_by_users.sort_values(by='orders', ascending=False).head(10))\n",
    "\n",
    "orders_by_users.columns=['user_id', 'orders']\n",
    "plt.hist(orders_by_users['orders'])\n",
    "plt.title('Количество заказов по пользователям')\n",
    "plt.show()"
   ]
  },
  {
   "cell_type": "markdown",
   "metadata": {},
   "source": [
    "Как мы видим, большинство пользователей сделали 1 заказ, но есть и те, кто сделал 11 заказов за месяц, возможно эти заказы искажают наш анализ"
   ]
  },
  {
   "cell_type": "code",
   "execution_count": 340,
   "metadata": {},
   "outputs": [
    {
     "data": {
      "image/png": "[encoded data removed]",
      "text/plain": [
       "<Figure size 1008x576 with 1 Axes>"
      ]
     },
     "metadata": {},
     "output_type": "display_data"
    }
   ],
   "source": [
    "x_values = pd.Series(range(0, len(orders_by_users)))\n",
    "plt.scatter(x_values, orders_by_users['orders'])\n",
    "plt.show()"
   ]
  },
  {
   "cell_type": "markdown",
   "metadata": {},
   "source": [
    "Пользователей заказавших более двух раз мало, возможно они могут быть аномальными. \n",
    "\n",
    "Далее нам надо понять, 2 заказа это нормально или много ?"
   ]
  },
  {
   "cell_type": "markdown",
   "metadata": {},
   "source": [
    "### Считаем 95-й и 99-й перцентили количества заказов"
   ]
  },
  {
   "cell_type": "code",
   "execution_count": 341,
   "metadata": {},
   "outputs": [
    {
     "name": "stdout",
     "output_type": "stream",
     "text": [
      "[2. 4.]\n"
     ]
    }
   ],
   "source": [
    "print(np.percentile(orders_by_users['orders'], [95, 99]))"
   ]
  },
  {
   "cell_type": "markdown",
   "metadata": {},
   "source": [
    "Не более 2 заказа сделали 5% пользователей.\n",
    "\n",
    "Не более 4 заказов сделал 1% пользователей.\n",
    "\n",
    "Установим верхнюю границу - 4 заказа."
   ]
  },
  {
   "cell_type": "markdown",
   "metadata": {},
   "source": [
    "### График стоимостей заказов"
   ]
  },
  {
   "cell_type": "code",
   "execution_count": 342,
   "metadata": {},
   "outputs": [
    {
     "data": {
      "image/png": "[encoded data removed]",
      "text/plain": [
       "<Figure size 1008x576 with 1 Axes>"
      ]
     },
     "metadata": {},
     "output_type": "display_data"
    }
   ],
   "source": [
    "plt.hist(orders['revenue'])\n",
    "plt.title('Распределение стоимости заказов по пользователям')\n",
    "plt.show()"
   ]
  },
  {
   "cell_type": "code",
   "execution_count": 343,
   "metadata": {},
   "outputs": [
    {
     "data": {
      "image/png": "[encoded data removed]",
      "text/plain": [
       "<Figure size 1008x576 with 1 Axes>"
      ]
     },
     "metadata": {},
     "output_type": "display_data"
    }
   ],
   "source": [
    "y_values = pd.Series(range(0, len(orders['revenue'])))\n",
    "plt.scatter(y_values, orders['revenue'])\n",
    "plt.title('Распределение стоимости заказов по пользователям')\n",
    "plt.show()"
   ]
  },
  {
   "cell_type": "markdown",
   "metadata": {},
   "source": [
    "Один из заказов стоит почти 1.3 миллиона, он же и вызвал всплеск на графиках кумулятивных метрик и другие дорогие заказы так же могли повлиять на них"
   ]
  },
  {
   "cell_type": "markdown",
   "metadata": {},
   "source": [
    "### 95-й и 99-й перцентили стоимости заказов"
   ]
  },
  {
   "cell_type": "code",
   "execution_count": 344,
   "metadata": {},
   "outputs": [
    {
     "name": "stdout",
     "output_type": "stream",
     "text": [
      "[28000.  58233.2]\n"
     ]
    }
   ],
   "source": [
    "print(np.percentile(orders['revenue'], [95, 99]))"
   ]
  },
  {
   "cell_type": "markdown",
   "metadata": {},
   "source": [
    "По перцентилю верхней границей стоимости заказов будет 58233"
   ]
  },
  {
   "cell_type": "markdown",
   "metadata": {},
   "source": [
    "### Считаем статистическую значимость"
   ]
  },
  {
   "cell_type": "code",
   "execution_count": 345,
   "metadata": {},
   "outputs": [
    {
     "name": "stdout",
     "output_type": "stream",
     "text": [
      "<class 'pandas.core.frame.DataFrame'>\n",
      "RangeIndex: 1197 entries, 0 to 1196\n",
      "Data columns (total 5 columns):\n",
      " #   Column          Non-Null Count  Dtype         \n",
      "---  ------          --------------  -----         \n",
      " 0   transaction_id  1197 non-null   int64         \n",
      " 1   visitor_id      1197 non-null   int64         \n",
      " 2   date            1197 non-null   datetime64[ns]\n",
      " 3   revenue         1197 non-null   int64         \n",
      " 4   group           1197 non-null   object        \n",
      "dtypes: datetime64[ns](1), int64(3), object(1)\n",
      "memory usage: 46.9+ KB\n"
     ]
    }
   ],
   "source": [
    "orders.info()"
   ]
  },
  {
   "cell_type": "code",
   "execution_count": 346,
   "metadata": {},
   "outputs": [],
   "source": [
    "visitors_a_daily = visitors[visitors['group']=='A'][['date', 'visitors']]\n",
    "visitors_a_daily.columns = ['date', 'visitors_p_day_a']\n",
    "\n",
    "visitors_a_cummulative = visitors_a_daily.apply(\n",
    "lambda x: visitors_a_daily[visitors_a_daily['date'] <= x['date']].agg({'date':'max', 'visitors_p_day_a':'sum'}), axis=1)\n",
    "\n",
    "visitors_a_cummulative.columns = ['date', 'visitors_cummulative_a']\n",
    "\n",
    "visitors_b_daily = visitors[visitors['group']=='B'][['date', 'visitors']]\n",
    "visitors_b_daily.columns = ['date', 'visitors_p_day_b']\n",
    "\n",
    "visitors_b_cummulative = visitors_b_daily.apply(\n",
    "lambda x: visitors_b_daily[visitors_b_daily['date'] <= x['date']].agg({'date':'max', 'visitors_p_day_b':'sum'}), axis=1)\n",
    "\n",
    "visitors_b_cummulative.columns = ['date', 'visitors_cummulative_b']\n",
    "\n",
    "orders_a_daily = (\n",
    "orders[orders['group']=='A'][['date', 'transaction_id', 'visitor_id', 'revenue']]\n",
    ".groupby('date', as_index=False)\n",
    ".agg({'transaction_id':pd.Series.nunique, 'revenue':'sum'}))\n",
    "orders_a_daily.columns= ['date', 'orders_pdate_a', 'revenue_pdate_a']\n",
    "\n",
    "orders_a_cummulative = orders_a_daily.apply(\n",
    "lambda x: orders_a_daily[orders_a_daily['date'] <= x['date']].agg(\n",
    "{'date':'max', 'orders_pdate_a':'sum', 'revenue_pdate_a':'sum'}), axis=1).sort_values(by=['date'])\n",
    "orders_a_cummulative.columns = ['date', 'orders_cummulative_a', 'revenue_cummulative_a']\n",
    "\n",
    "orders_b_daily = (\n",
    "orders[orders['group']=='B'][['date', 'transaction_id', 'visitor_id', 'revenue']]\n",
    ".groupby('date', as_index=False)\n",
    ".agg({'transaction_id':pd.Series.nunique, 'revenue':'sum'}))\n",
    "orders_b_daily.columns= ['date', 'orders_pdate_b', 'revenue_pdate_b']\n",
    "\n",
    "orders_b_cummulative = orders_b_daily.apply(\n",
    "lambda x: orders_b_daily[orders_b_daily['date'] <= x['date']].agg(\n",
    "{'date':'max', 'orders_pdate_b':'sum', 'revenue_pdate_b':'sum'}), axis=1).sort_values(by=['date'])\n",
    "orders_b_cummulative.columns = ['date', 'orders_cummulative_b', 'revenue_cummulative_b']\n",
    "\n",
    "data = (\n",
    "orders_a_daily.merge(orders_b_daily, left_on='date', right_on='date', how='left')\n",
    ".merge(orders_a_cummulative, left_on='date', right_on='date', how='left')\n",
    ".merge(orders_b_cummulative, left_on='date', right_on='date', how='left')\n",
    ".merge(visitors_a_daily, left_on='date', right_on='date', how='left')\n",
    ".merge(visitors_b_daily, left_on='date', right_on='date', how='left')\n",
    ".merge(visitors_a_cummulative, left_on='date', right_on='date', how='left')\n",
    ".merge(visitors_b_cummulative, left_on='date', right_on='date', how='left'))"
   ]
  },
  {
   "cell_type": "markdown",
   "metadata": {},
   "source": [
    "Мы составили таблицу:\n",
    "\n",
    "    Data - дата\n",
    "\n",
    "    orders_pdate_a - количество заказов в выбранную дату группы А\n",
    "\n",
    "    revenue_pdate_a - сумма заказов в выбранную дату группы А\n",
    "\n",
    "    orders_pdate_b - количество заказов в выбранную дату группы B\n",
    "\n",
    "    revenue_pdate_b - сумма заказов в выбранную дату группы B\n",
    "\n",
    "    orders_cummulative_a  - суммарное число заказов до выбранной даты в группе А\n",
    "\n",
    "    revenue_cummulative_a  - суммарная выручка до выбранной даты в группе А\n",
    "\n",
    "    orders_cummulative_b  - суммарное число заказов до выбранной даты в группе В\n",
    "\n",
    "    revenue_cummulative_b  - суммарная выручка до выбранной даты в группе В\n",
    "\n",
    "    visitors_p_day_a - количество-пользователей в выбранную дату группы А\n",
    "\n",
    "    visitors_p_day_b - количество-пользователей в выбранную дату группы В\n",
    "\n",
    "    visitors_cummulative_a  - количество пользователей до выбранной даты группы А\n",
    "\n",
    "    visitors_cummulative_b  - количество пользователей до выбранной даты группы В"
   ]
  },
  {
   "cell_type": "markdown",
   "metadata": {},
   "source": [
    "Найдём пользователей которые заказывали хотя бы 1 раз"
   ]
  },
  {
   "cell_type": "code",
   "execution_count": 347,
   "metadata": {},
   "outputs": [],
   "source": [
    "orders_by_users_a = (\n",
    "orders[orders['group']=='A']\n",
    ".groupby('visitor_id', as_index=False)\n",
    ".agg({'transaction_id':pd.Series.nunique}))\n",
    "orders_by_users_a.columns = ['visitor_id', 'orders']\n",
    "\n",
    "orders_by_users_b = (\n",
    "orders[orders['group']=='B']\n",
    ".groupby('visitor_id', as_index=False)\n",
    ".agg({'transaction_id':pd.Series.nunique}))\n",
    "orders_by_users_b.columns = ['visitor_id', 'orders']"
   ]
  },
  {
   "cell_type": "markdown",
   "metadata": {},
   "source": [
    "Добавим еще 2 переменные: sample_a и sample_b, в которых пользователям из разных групп будут соответствовать кол-во заказов"
   ]
  },
  {
   "cell_type": "code",
   "execution_count": 348,
   "metadata": {},
   "outputs": [],
   "source": [
    "sample_a = pd.concat([orders_by_users_a['orders'], pd.Series(0, index=np.arange(data['visitors_p_day_a'].sum()\\\n",
    "- len(orders_by_users_a['orders'])), name='orders')], axis=0)\n",
    "\n",
    "sample_b = pd.concat([orders_by_users_b['orders'], pd.Series(0, index=np.arange(data['visitors_p_day_b'].sum()\\\n",
    "- len(orders_by_users_b['orders'])), name='orders')], axis=0)"
   ]
  },
  {
   "cell_type": "markdown",
   "metadata": {},
   "source": [
    "### Применим критерий Манна-Уитни и посчитаем прирост группы B к группе A"
   ]
  },
  {
   "cell_type": "markdown",
   "metadata": {},
   "source": [
    "Нулевая и альтернативная гипотеза будет такой:\n",
    "\n",
    "    H0: нет различий в конверсии между группами\n",
    "    H1: есть различия в конверсии между группами\n",
    "    \n",
    "Уровень значимости = 0.05"
   ]
  },
  {
   "cell_type": "code",
   "execution_count": 349,
   "metadata": {},
   "outputs": [
    {
     "name": "stdout",
     "output_type": "stream",
     "text": [
      "p_value: 0.017\n",
      "Относительный прирост: 0.138\n",
      "Отвергаем нулевую гипотезу, разница между группами есть\n"
     ]
    }
   ],
   "source": [
    "alpha = 0.05\n",
    "p_value = stats.mannwhitneyu(sample_a, sample_b)[1]\n",
    "print('p_value:' ,'{0:.3f}'.format(p_value))\n",
    "print('Относительный прирост:', '{0:.3f}'.format(sample_b.mean()/sample_a.mean()-1))\n",
    "\n",
    "if p_value < alpha:\n",
    "    print('Отвергаем нулевую гипотезу, разница между группами есть')\n",
    "else:\n",
    "    print('Не получилось отвергнуть нулевую гипотезу, разницы между группами нет')"
   ]
  },
  {
   "cell_type": "markdown",
   "metadata": {},
   "source": [
    "p-value = 0.017, меньше 0.05, значит нулевую гипотезу о том что статистически значимых различий в среднем числе заказов между группами нет, отвергаем.\n",
    "\n",
    "Прирост группы B к группе A составил 13.8%"
   ]
  },
  {
   "cell_type": "markdown",
   "metadata": {},
   "source": [
    "### Применим критерий Манна-Уитни с сырыми данными по среднему чеку"
   ]
  },
  {
   "cell_type": "markdown",
   "metadata": {},
   "source": [
    "Гипотеза по \"сырым\" данным:\n",
    "\n",
    "    H0: нет различий в среднем чеке заказа между группами\n",
    "    H1: различия в среднем чеке заказа между группами есть\n",
    "    \n",
    "Уровень значимости = 0.05 "
   ]
  },
  {
   "cell_type": "code",
   "execution_count": 350,
   "metadata": {},
   "outputs": [
    {
     "name": "stdout",
     "output_type": "stream",
     "text": [
      "0.729\n",
      "0.259\n",
      "Не получилось отвергнуть нулевую гипотезу, разницы между группами нет\n"
     ]
    }
   ],
   "source": [
    "p_value = stats.mannwhitneyu(orders[orders['group']=='A']['revenue'], orders[orders['group']=='B']['revenue'])[1]\n",
    "print('{0:.3f}'.format(p_value))\n",
    "print('{0:.3f}'.format(orders[orders['group']=='B']['revenue'].mean()/orders[orders['group']=='A']['revenue'].mean()-1))\n",
    "if p_value < alpha:\n",
    "    print('Отвергаем нулевую гипотезу, разница между группами есть')\n",
    "else:\n",
    "    print('Не получилось отвергнуть нулевую гипотезу, разницы между группами нет')"
   ]
  },
  {
   "cell_type": "markdown",
   "metadata": {},
   "source": [
    "p-value 0.729 больше 0.05, не получилось отвергнуть нулевую гипотезу, разницы по среднем чеку между группами нет."
   ]
  },
  {
   "cell_type": "markdown",
   "metadata": {},
   "source": [
    "### Подготавливаем данные к очищению от аномалий данных"
   ]
  },
  {
   "cell_type": "code",
   "execution_count": 351,
   "metadata": {},
   "outputs": [
    {
     "name": "stdout",
     "output_type": "stream",
     "text": [
      "15\n"
     ]
    }
   ],
   "source": [
    "big_orders = np.percentile(orders_by_users['orders'], 99)\n",
    "big_revenue = np.percentile(orders['revenue'], 99)\n",
    "\n",
    "users_with_many_orders = pd.concat(\n",
    "    [\n",
    "        orders_by_users_a[orders_by_users_a['orders'] > big_orders]['visitor_id'],\n",
    "        orders_by_users_b[orders_by_users_b['orders'] > big_orders]['visitor_id'],\n",
    "    ],\n",
    "    axis=0,)\n",
    "\n",
    "users_with_expensive_orders = orders[orders['revenue'] > big_revenue]['visitor_id']\n",
    "abnormal_users = pd.concat(\n",
    "    [users_with_many_orders, users_with_expensive_orders], axis=0).drop_duplicates().sort_values()\n",
    "print(len(abnormal_users))"
   ]
  },
  {
   "cell_type": "markdown",
   "metadata": {},
   "source": [
    "Нашли 15 аномальных пользователей\n",
    "\n",
    "Посмотрим как их действия повлияли на результаты теста"
   ]
  },
  {
   "cell_type": "markdown",
   "metadata": {},
   "source": [
    "### Работаем с очищенными данными"
   ]
  },
  {
   "cell_type": "markdown",
   "metadata": {},
   "source": [
    "Нулевая и альтернативная гипотеза с очищенными данными будет такой:\n",
    "\n",
    "    H0: нет различий в конверсии между группами\n",
    "    H1: есть различия в конверсии между группами \n",
    "    \n",
    "Уровень значимости = 0.05"
   ]
  },
  {
   "cell_type": "code",
   "execution_count": 352,
   "metadata": {},
   "outputs": [
    {
     "name": "stdout",
     "output_type": "stream",
     "text": [
      "0.01438\n",
      "0.153\n",
      "Отвергаем нулевую гипотезу, разница между группами есть\n"
     ]
    }
   ],
   "source": [
    "sample_a_filtered = pd.concat(\n",
    "[\n",
    "    orders_by_users_a[\n",
    "        np.logical_not(orders_by_users_a['visitor_id'].isin(abnormal_users))\n",
    "    ]['orders'],\n",
    "    pd.Series(0, index=np.arange(\n",
    "    data['visitors_p_day_a'].sum() - len(orders_by_users_a['orders'])\n",
    "    ), name='orders',),\n",
    "], axis=0)\n",
    "\n",
    "sample_b_filtered = pd.concat(\n",
    "[\n",
    "    orders_by_users_b[\n",
    "        np.logical_not(orders_by_users_b['visitor_id'].isin(abnormal_users))\n",
    "    ]['orders'],\n",
    "    pd.Series(0, index=np.arange(\n",
    "    data['visitors_p_day_b'].sum() - len(orders_by_users_b['orders'])\n",
    "    ), name='orders',),\n",
    "], axis=0)\n",
    "\n",
    "p_value = stats.mannwhitneyu(sample_a_filtered, sample_b_filtered)[1]\n",
    "print('{0:.5f}'.format(p_value))\n",
    "print('{0:.3f}'.format(sample_b_filtered.mean()/sample_a_filtered.mean()-1))\n",
    "\n",
    "if p_value < alpha:\n",
    "    print('Отвергаем нулевую гипотезу, разница между группами есть')\n",
    "else:\n",
    "    print('Не получилось отвергнуть нулевую гипотезу, разницы между группами нет')"
   ]
  },
  {
   "cell_type": "markdown",
   "metadata": {},
   "source": [
    "p-value: 0.014, меньше .05\n",
    "\n",
    "Отвергаем нулевую гипотезу: между группами есть разница, прирост группы B к группе A равен 15.3%"
   ]
  },
  {
   "cell_type": "markdown",
   "metadata": {},
   "source": [
    "### Статистическая значимость в среднем чеке заказа, очищенные данные"
   ]
  },
  {
   "cell_type": "markdown",
   "metadata": {},
   "source": [
    "Нулевая и альтернативная гипотеза с очищенными данными по среднему чеку будет такой:\n",
    "\n",
    "    H0: нет различий в среднем чеке заказа между группами\n",
    "    H1: различия в среднем чеке заказа между группами есть \n",
    "    \n",
    "Уровень значимости = 0.05"
   ]
  },
  {
   "cell_type": "code",
   "execution_count": 353,
   "metadata": {},
   "outputs": [
    {
     "name": "stdout",
     "output_type": "stream",
     "text": [
      "p_value:0.851\n",
      "-0.006\n"
     ]
    }
   ],
   "source": [
    "print('p_value:'\n",
    "    '{0:.3f}'.format(\n",
    "        stats.mannwhitneyu(\n",
    "            orders[\n",
    "                np.logical_and(\n",
    "                    orders['group'] == 'A',\n",
    "                    np.logical_not(orders['visitor_id'].isin(abnormal_users)),\n",
    "                )\n",
    "            ]['revenue'],\n",
    "            orders[\n",
    "                np.logical_and(\n",
    "                    orders['group'] == 'B',\n",
    "                    np.logical_not(orders['visitor_id'].isin(abnormal_users)),\n",
    "                )\n",
    "            ]['revenue'],\n",
    "        )[1]\n",
    "    )\n",
    ")\n",
    "\n",
    "print(\n",
    "    \"{0:.3f}\".format(\n",
    "        orders[\n",
    "            np.logical_and(\n",
    "                orders['group'] == 'B',\n",
    "                np.logical_not(orders['visitor_id'].isin(abnormal_users)),\n",
    "            )\n",
    "        ]['revenue'].mean()\n",
    "        / orders[\n",
    "            np.logical_and(\n",
    "                orders['group'] == 'A',\n",
    "                np.logical_not(orders['visitor_id'].isin(abnormal_users)),\n",
    "            )\n",
    "        ]['revenue'].mean()\n",
    "        - 1\n",
    "    )\n",
    ")"
   ]
  },
  {
   "cell_type": "markdown",
   "metadata": {},
   "source": [
    "p-value 0.851 больше 0.05, значит причин отвергать нулевую гипотезу нет, различий в среднем чеке тоже нет."
   ]
  },
  {
   "cell_type": "markdown",
   "metadata": {},
   "source": [
    "## Рекомендации (вывод)"
   ]
  },
  {
   "cell_type": "markdown",
   "metadata": {},
   "source": [
    "1 часть: Приоритизация гипотез:\n",
    "\n",
    "Следует обратить внимание на такие гипотезы:\n",
    "\n",
    "    Запустить акцию, дающую скидку на товар в день рождения\n",
    "\n",
    "    Добавить два новых канала привлечения трафика, что позволит привлекать на 30% больше пользователей   \n",
    "\n",
    "    Добавить форму подписки на все основные страницы, чтобы собрать базу клиентов для email-рассылок\n",
    "\n",
    "Если гипотезы должны включать охват пользователей интернет-магазина, то следует присмотреться к другому порядку гипотез:\n",
    "\n",
    "    Добавить форму подписки на все основные страницы, чтобы собрать базу клиентов для email-рассылок\n",
    "\n",
    "    Добавить блоки рекомендаций товаров на сайт интернет магазина, чтобы повысить конверсию и средний чек заказа   \n",
    "\n",
    "    Добавить два новых канала привлечения трафика, что позволит привлекать на 30% больше пользователей\n",
    "    \n",
    "2 часть: A/B тест:\n",
    "\n",
    "    Рекомендую остановить тест, т.к. группа B имеет конверсию намного выше чем конверсия группы A\n",
    "\n",
    "    Нет статистически значимого различия в средних чеках между группами по \"сырым\" и по фильтрованным данным"
   ]
  }
 ],
 "metadata": {
  "ExecuteTimeLog": [
   {
    "duration": 8,
    "start_time": "2022-12-22T07:53:32.793Z"
   },
   {
    "duration": 3,
    "start_time": "2022-12-22T07:53:35.249Z"
   },
   {
    "duration": 1370,
    "start_time": "2022-12-22T08:07:26.203Z"
   },
   {
    "duration": 205,
    "start_time": "2022-12-22T08:09:43.539Z"
   },
   {
    "duration": 1096,
    "start_time": "2022-12-22T08:11:00.203Z"
   },
   {
    "duration": 78,
    "start_time": "2022-12-22T08:11:01.301Z"
   },
   {
    "duration": 78,
    "start_time": "2022-12-22T08:12:17.292Z"
   },
   {
    "duration": 18,
    "start_time": "2022-12-22T08:12:43.541Z"
   },
   {
    "duration": 63,
    "start_time": "2022-12-22T08:34:48.802Z"
   },
   {
    "duration": 4,
    "start_time": "2022-12-22T08:40:18.167Z"
   },
   {
    "duration": 6,
    "start_time": "2022-12-22T08:40:18.173Z"
   },
   {
    "duration": 82,
    "start_time": "2022-12-22T08:40:18.180Z"
   },
   {
    "duration": 15,
    "start_time": "2022-12-22T08:40:18.263Z"
   },
   {
    "duration": 18,
    "start_time": "2022-12-22T08:44:28.383Z"
   },
   {
    "duration": 16,
    "start_time": "2022-12-22T08:44:48.356Z"
   },
   {
    "duration": 3,
    "start_time": "2022-12-22T08:47:03.298Z"
   },
   {
    "duration": 10,
    "start_time": "2022-12-22T08:47:03.307Z"
   },
   {
    "duration": 83,
    "start_time": "2022-12-22T08:47:03.318Z"
   },
   {
    "duration": 16,
    "start_time": "2022-12-22T08:47:03.402Z"
   },
   {
    "duration": 20,
    "start_time": "2022-12-22T08:47:03.421Z"
   },
   {
    "duration": 16,
    "start_time": "2022-12-22T08:47:03.443Z"
   },
   {
    "duration": 3,
    "start_time": "2022-12-22T09:02:19.877Z"
   },
   {
    "duration": 14,
    "start_time": "2022-12-22T09:04:19.779Z"
   },
   {
    "duration": 27,
    "start_time": "2022-12-22T09:05:10.761Z"
   },
   {
    "duration": 19,
    "start_time": "2022-12-22T09:05:25.613Z"
   },
   {
    "duration": 25,
    "start_time": "2022-12-22T09:05:29.287Z"
   },
   {
    "duration": 53,
    "start_time": "2022-12-22T09:16:31.507Z"
   },
   {
    "duration": 4,
    "start_time": "2022-12-22T09:16:41.258Z"
   },
   {
    "duration": 7,
    "start_time": "2022-12-22T09:17:17.353Z"
   },
   {
    "duration": 5,
    "start_time": "2022-12-22T09:21:51.462Z"
   },
   {
    "duration": 14,
    "start_time": "2022-12-22T09:22:09.814Z"
   },
   {
    "duration": 13,
    "start_time": "2022-12-22T09:22:21.114Z"
   },
   {
    "duration": 5,
    "start_time": "2022-12-22T09:22:26.791Z"
   },
   {
    "duration": 802,
    "start_time": "2022-12-22T19:44:46.314Z"
   },
   {
    "duration": 6,
    "start_time": "2022-12-22T19:44:55.343Z"
   },
   {
    "duration": 7,
    "start_time": "2022-12-22T19:45:47.019Z"
   },
   {
    "duration": 10,
    "start_time": "2022-12-22T19:46:25.180Z"
   },
   {
    "duration": 7,
    "start_time": "2022-12-22T19:46:44.916Z"
   },
   {
    "duration": 6,
    "start_time": "2022-12-22T19:46:53.292Z"
   },
   {
    "duration": 6,
    "start_time": "2022-12-22T19:47:52.048Z"
   },
   {
    "duration": 7,
    "start_time": "2022-12-22T19:48:42.745Z"
   },
   {
    "duration": 3,
    "start_time": "2022-12-22T19:49:50.392Z"
   },
   {
    "duration": 25,
    "start_time": "2022-12-22T19:49:50.397Z"
   },
   {
    "duration": 0,
    "start_time": "2022-12-22T19:49:50.424Z"
   },
   {
    "duration": 0,
    "start_time": "2022-12-22T19:49:50.425Z"
   },
   {
    "duration": 0,
    "start_time": "2022-12-22T19:49:50.426Z"
   },
   {
    "duration": 0,
    "start_time": "2022-12-22T19:49:50.428Z"
   },
   {
    "duration": 0,
    "start_time": "2022-12-22T19:49:50.429Z"
   },
   {
    "duration": 0,
    "start_time": "2022-12-22T19:49:50.430Z"
   },
   {
    "duration": 0,
    "start_time": "2022-12-22T19:49:50.431Z"
   },
   {
    "duration": 4,
    "start_time": "2022-12-22T19:50:07.701Z"
   },
   {
    "duration": 17,
    "start_time": "2022-12-22T19:50:07.708Z"
   },
   {
    "duration": 91,
    "start_time": "2022-12-22T19:50:07.727Z"
   },
   {
    "duration": 20,
    "start_time": "2022-12-22T19:50:07.820Z"
   },
   {
    "duration": 45,
    "start_time": "2022-12-22T19:50:07.843Z"
   },
   {
    "duration": 29,
    "start_time": "2022-12-22T19:50:07.897Z"
   },
   {
    "duration": 31,
    "start_time": "2022-12-22T19:50:07.929Z"
   },
   {
    "duration": 63,
    "start_time": "2022-12-22T19:50:07.967Z"
   },
   {
    "duration": 31,
    "start_time": "2022-12-22T19:50:08.032Z"
   },
   {
    "duration": 4,
    "start_time": "2022-12-22T19:50:38.260Z"
   },
   {
    "duration": 21,
    "start_time": "2022-12-22T19:50:38.267Z"
   },
   {
    "duration": 81,
    "start_time": "2022-12-22T19:50:38.290Z"
   },
   {
    "duration": 15,
    "start_time": "2022-12-22T19:50:38.373Z"
   },
   {
    "duration": 20,
    "start_time": "2022-12-22T19:50:38.390Z"
   },
   {
    "duration": 16,
    "start_time": "2022-12-22T19:50:38.412Z"
   },
   {
    "duration": 10,
    "start_time": "2022-12-22T19:50:38.430Z"
   },
   {
    "duration": 8,
    "start_time": "2022-12-22T19:50:38.442Z"
   },
   {
    "duration": 11,
    "start_time": "2022-12-22T19:50:38.452Z"
   },
   {
    "duration": 9,
    "start_time": "2022-12-22T19:50:49.018Z"
   },
   {
    "duration": 3,
    "start_time": "2022-12-22T19:51:02.839Z"
   },
   {
    "duration": 11,
    "start_time": "2022-12-22T19:51:02.844Z"
   },
   {
    "duration": 83,
    "start_time": "2022-12-22T19:51:02.856Z"
   },
   {
    "duration": 18,
    "start_time": "2022-12-22T19:51:02.941Z"
   },
   {
    "duration": 29,
    "start_time": "2022-12-22T19:51:02.962Z"
   },
   {
    "duration": 18,
    "start_time": "2022-12-22T19:51:02.994Z"
   },
   {
    "duration": 9,
    "start_time": "2022-12-22T19:51:03.014Z"
   },
   {
    "duration": 13,
    "start_time": "2022-12-22T19:51:03.026Z"
   },
   {
    "duration": 14,
    "start_time": "2022-12-22T19:51:03.041Z"
   },
   {
    "duration": 4,
    "start_time": "2022-12-22T19:51:45.537Z"
   },
   {
    "duration": 13,
    "start_time": "2022-12-22T19:51:45.544Z"
   },
   {
    "duration": 88,
    "start_time": "2022-12-22T19:51:45.559Z"
   },
   {
    "duration": 15,
    "start_time": "2022-12-22T19:51:45.650Z"
   },
   {
    "duration": 19,
    "start_time": "2022-12-22T19:51:45.668Z"
   },
   {
    "duration": 39,
    "start_time": "2022-12-22T19:51:45.689Z"
   },
   {
    "duration": 47,
    "start_time": "2022-12-22T19:51:45.730Z"
   },
   {
    "duration": 14,
    "start_time": "2022-12-22T19:51:45.779Z"
   },
   {
    "duration": 21,
    "start_time": "2022-12-22T19:51:45.795Z"
   },
   {
    "duration": 10,
    "start_time": "2022-12-22T19:53:45.220Z"
   },
   {
    "duration": 9,
    "start_time": "2022-12-22T19:55:00.350Z"
   },
   {
    "duration": 5,
    "start_time": "2022-12-22T19:55:46.354Z"
   },
   {
    "duration": 4,
    "start_time": "2022-12-22T19:55:49.133Z"
   },
   {
    "duration": 8,
    "start_time": "2022-12-22T19:55:49.139Z"
   },
   {
    "duration": 85,
    "start_time": "2022-12-22T19:55:49.149Z"
   },
   {
    "duration": 15,
    "start_time": "2022-12-22T19:55:49.236Z"
   },
   {
    "duration": 24,
    "start_time": "2022-12-22T19:55:49.253Z"
   },
   {
    "duration": 24,
    "start_time": "2022-12-22T19:55:49.279Z"
   },
   {
    "duration": 29,
    "start_time": "2022-12-22T19:55:49.306Z"
   },
   {
    "duration": 16,
    "start_time": "2022-12-22T19:55:49.336Z"
   },
   {
    "duration": 21,
    "start_time": "2022-12-22T19:55:49.354Z"
   },
   {
    "duration": 23,
    "start_time": "2022-12-22T19:55:49.378Z"
   },
   {
    "duration": 8,
    "start_time": "2022-12-22T19:56:48.094Z"
   },
   {
    "duration": 7,
    "start_time": "2022-12-22T19:56:50.596Z"
   },
   {
    "duration": 7,
    "start_time": "2022-12-22T19:57:41.499Z"
   },
   {
    "duration": 10,
    "start_time": "2022-12-22T19:57:44.180Z"
   },
   {
    "duration": 51,
    "start_time": "2022-12-23T08:11:13.813Z"
   },
   {
    "duration": 1262,
    "start_time": "2022-12-23T08:11:30.168Z"
   },
   {
    "duration": 4,
    "start_time": "2022-12-23T08:11:31.432Z"
   },
   {
    "duration": 226,
    "start_time": "2022-12-23T08:11:31.437Z"
   },
   {
    "duration": 19,
    "start_time": "2022-12-23T08:11:31.665Z"
   },
   {
    "duration": 17,
    "start_time": "2022-12-23T08:11:31.687Z"
   },
   {
    "duration": 31,
    "start_time": "2022-12-23T08:11:31.706Z"
   },
   {
    "duration": 10,
    "start_time": "2022-12-23T08:11:31.739Z"
   },
   {
    "duration": 13,
    "start_time": "2022-12-23T08:11:31.750Z"
   },
   {
    "duration": 16,
    "start_time": "2022-12-23T08:11:31.764Z"
   },
   {
    "duration": 12,
    "start_time": "2022-12-23T08:11:31.781Z"
   },
   {
    "duration": 27,
    "start_time": "2022-12-23T08:11:31.794Z"
   },
   {
    "duration": 5,
    "start_time": "2022-12-23T08:11:34.513Z"
   },
   {
    "duration": 12,
    "start_time": "2022-12-23T08:15:33.409Z"
   },
   {
    "duration": 175,
    "start_time": "2022-12-23T08:17:45.668Z"
   },
   {
    "duration": 167,
    "start_time": "2022-12-23T08:18:03.072Z"
   },
   {
    "duration": 10,
    "start_time": "2022-12-23T08:20:14.462Z"
   },
   {
    "duration": 162,
    "start_time": "2022-12-23T08:22:34.907Z"
   },
   {
    "duration": 71,
    "start_time": "2022-12-23T08:24:30.220Z"
   },
   {
    "duration": 251,
    "start_time": "2022-12-23T08:24:44.693Z"
   },
   {
    "duration": 252,
    "start_time": "2022-12-23T08:26:50.224Z"
   },
   {
    "duration": 258,
    "start_time": "2022-12-23T08:28:11.464Z"
   },
   {
    "duration": 536,
    "start_time": "2022-12-23T08:29:51.073Z"
   },
   {
    "duration": 398,
    "start_time": "2022-12-23T08:29:57.087Z"
   },
   {
    "duration": 462,
    "start_time": "2022-12-23T08:30:03.262Z"
   },
   {
    "duration": 78,
    "start_time": "2022-12-23T08:35:20.433Z"
   },
   {
    "duration": 3,
    "start_time": "2022-12-23T08:35:23.349Z"
   },
   {
    "duration": 6,
    "start_time": "2022-12-23T08:35:23.354Z"
   },
   {
    "duration": 90,
    "start_time": "2022-12-23T08:35:23.362Z"
   },
   {
    "duration": 14,
    "start_time": "2022-12-23T08:35:23.454Z"
   },
   {
    "duration": 26,
    "start_time": "2022-12-23T08:35:23.470Z"
   },
   {
    "duration": 15,
    "start_time": "2022-12-23T08:35:23.498Z"
   },
   {
    "duration": 16,
    "start_time": "2022-12-23T08:35:23.514Z"
   },
   {
    "duration": 6,
    "start_time": "2022-12-23T08:35:23.531Z"
   },
   {
    "duration": 10,
    "start_time": "2022-12-23T08:35:23.539Z"
   },
   {
    "duration": 11,
    "start_time": "2022-12-23T08:35:23.551Z"
   },
   {
    "duration": 19,
    "start_time": "2022-12-23T08:35:23.563Z"
   },
   {
    "duration": 564,
    "start_time": "2022-12-23T08:35:23.584Z"
   },
   {
    "duration": 706,
    "start_time": "2022-12-23T09:05:48.324Z"
   },
   {
    "duration": 277,
    "start_time": "2022-12-23T09:06:02.590Z"
   },
   {
    "duration": 281,
    "start_time": "2022-12-23T09:07:05.413Z"
   },
   {
    "duration": 278,
    "start_time": "2022-12-23T09:07:13.478Z"
   },
   {
    "duration": 9,
    "start_time": "2022-12-23T09:39:14.840Z"
   },
   {
    "duration": 326,
    "start_time": "2022-12-23T09:41:33.854Z"
   },
   {
    "duration": 369,
    "start_time": "2022-12-23T09:42:16.765Z"
   },
   {
    "duration": 280,
    "start_time": "2022-12-23T09:55:21.959Z"
   },
   {
    "duration": 42,
    "start_time": "2022-12-23T10:17:29.343Z"
   },
   {
    "duration": 386,
    "start_time": "2022-12-23T10:17:48.060Z"
   },
   {
    "duration": 420,
    "start_time": "2022-12-23T10:23:47.221Z"
   },
   {
    "duration": 361,
    "start_time": "2022-12-23T10:24:00.456Z"
   },
   {
    "duration": 11,
    "start_time": "2022-12-23T10:49:23.470Z"
   },
   {
    "duration": 4,
    "start_time": "2022-12-23T10:50:11.980Z"
   },
   {
    "duration": 168,
    "start_time": "2022-12-23T10:50:24.133Z"
   },
   {
    "duration": 187,
    "start_time": "2022-12-23T10:51:56.828Z"
   },
   {
    "duration": 18,
    "start_time": "2022-12-23T10:54:01.902Z"
   },
   {
    "duration": 169,
    "start_time": "2022-12-23T10:54:11.479Z"
   },
   {
    "duration": 164,
    "start_time": "2022-12-23T10:58:09.994Z"
   },
   {
    "duration": 154,
    "start_time": "2022-12-23T10:58:25.632Z"
   },
   {
    "duration": 163,
    "start_time": "2022-12-23T11:01:05.393Z"
   },
   {
    "duration": 245,
    "start_time": "2022-12-23T11:01:12.435Z"
   },
   {
    "duration": 4,
    "start_time": "2022-12-23T11:07:54.208Z"
   },
   {
    "duration": 168,
    "start_time": "2022-12-23T15:46:17.806Z"
   },
   {
    "duration": 171,
    "start_time": "2022-12-23T15:46:39.376Z"
   },
   {
    "duration": 177,
    "start_time": "2022-12-23T15:46:45.698Z"
   },
   {
    "duration": 191,
    "start_time": "2022-12-23T15:48:13.307Z"
   },
   {
    "duration": 101,
    "start_time": "2022-12-23T15:50:29.426Z"
   },
   {
    "duration": 5,
    "start_time": "2022-12-23T15:50:52.114Z"
   },
   {
    "duration": 4,
    "start_time": "2022-12-23T16:24:00.883Z"
   },
   {
    "duration": 5,
    "start_time": "2022-12-23T16:33:58.086Z"
   },
   {
    "duration": 11,
    "start_time": "2022-12-23T16:34:05.308Z"
   },
   {
    "duration": 18,
    "start_time": "2022-12-23T16:41:56.963Z"
   },
   {
    "duration": 17,
    "start_time": "2022-12-23T16:42:06.475Z"
   },
   {
    "duration": 9,
    "start_time": "2022-12-23T16:44:28.212Z"
   },
   {
    "duration": 10,
    "start_time": "2022-12-23T16:44:36.711Z"
   },
   {
    "duration": 18,
    "start_time": "2022-12-23T16:46:16.924Z"
   },
   {
    "duration": 42,
    "start_time": "2022-12-23T16:47:34.830Z"
   },
   {
    "duration": 62,
    "start_time": "2022-12-23T16:47:45.267Z"
   },
   {
    "duration": 58,
    "start_time": "2022-12-23T16:56:35.406Z"
   },
   {
    "duration": 85,
    "start_time": "2022-12-23T16:57:20.451Z"
   },
   {
    "duration": 87,
    "start_time": "2022-12-23T16:57:42.042Z"
   },
   {
    "duration": 63,
    "start_time": "2022-12-23T16:57:55.699Z"
   },
   {
    "duration": 87,
    "start_time": "2022-12-23T16:58:19.595Z"
   },
   {
    "duration": 92,
    "start_time": "2022-12-23T17:13:50.668Z"
   },
   {
    "duration": 131,
    "start_time": "2022-12-23T17:21:56.038Z"
   },
   {
    "duration": 148,
    "start_time": "2022-12-23T17:22:09.716Z"
   },
   {
    "duration": 182,
    "start_time": "2022-12-23T17:24:12.285Z"
   },
   {
    "duration": 184,
    "start_time": "2022-12-23T17:24:21.258Z"
   },
   {
    "duration": 199,
    "start_time": "2022-12-23T17:24:36.119Z"
   },
   {
    "duration": 235,
    "start_time": "2022-12-23T17:29:33.070Z"
   },
   {
    "duration": 202,
    "start_time": "2022-12-23T17:43:02.457Z"
   },
   {
    "duration": 240,
    "start_time": "2022-12-23T17:47:37.210Z"
   },
   {
    "duration": 122,
    "start_time": "2022-12-23T17:49:55.769Z"
   },
   {
    "duration": 6,
    "start_time": "2022-12-23T18:00:49.461Z"
   },
   {
    "duration": 728,
    "start_time": "2022-12-23T18:01:13.298Z"
   },
   {
    "duration": 130,
    "start_time": "2022-12-23T18:02:11.322Z"
   },
   {
    "duration": 681,
    "start_time": "2022-12-23T18:02:13.160Z"
   },
   {
    "duration": 4,
    "start_time": "2022-12-23T18:02:42.914Z"
   },
   {
    "duration": 690,
    "start_time": "2022-12-23T18:03:20.033Z"
   },
   {
    "duration": 5,
    "start_time": "2022-12-23T18:03:33.133Z"
   },
   {
    "duration": 691,
    "start_time": "2022-12-23T18:03:39.970Z"
   },
   {
    "duration": 134,
    "start_time": "2022-12-23T18:05:22.128Z"
   },
   {
    "duration": 710,
    "start_time": "2022-12-23T18:05:57.025Z"
   },
   {
    "duration": 3,
    "start_time": "2022-12-23T18:07:54.907Z"
   },
   {
    "duration": 11,
    "start_time": "2022-12-23T18:07:54.912Z"
   },
   {
    "duration": 78,
    "start_time": "2022-12-23T18:07:54.925Z"
   },
   {
    "duration": 14,
    "start_time": "2022-12-23T18:07:55.005Z"
   },
   {
    "duration": 32,
    "start_time": "2022-12-23T18:07:55.021Z"
   },
   {
    "duration": 22,
    "start_time": "2022-12-23T18:07:55.055Z"
   },
   {
    "duration": 6,
    "start_time": "2022-12-23T18:07:55.079Z"
   },
   {
    "duration": 8,
    "start_time": "2022-12-23T18:07:55.087Z"
   },
   {
    "duration": 26,
    "start_time": "2022-12-23T18:07:55.096Z"
   },
   {
    "duration": 15,
    "start_time": "2022-12-23T18:07:55.124Z"
   },
   {
    "duration": 22,
    "start_time": "2022-12-23T18:07:55.141Z"
   },
   {
    "duration": 602,
    "start_time": "2022-12-23T18:07:55.165Z"
   },
   {
    "duration": 276,
    "start_time": "2022-12-23T18:07:55.769Z"
   },
   {
    "duration": 357,
    "start_time": "2022-12-23T18:07:56.049Z"
   },
   {
    "duration": 308,
    "start_time": "2022-12-23T18:07:56.408Z"
   },
   {
    "duration": 412,
    "start_time": "2022-12-23T18:07:56.721Z"
   },
   {
    "duration": 172,
    "start_time": "2022-12-23T18:07:57.135Z"
   },
   {
    "duration": 163,
    "start_time": "2022-12-23T18:07:57.308Z"
   },
   {
    "duration": 4,
    "start_time": "2022-12-23T18:07:57.473Z"
   },
   {
    "duration": 196,
    "start_time": "2022-12-23T18:07:57.478Z"
   },
   {
    "duration": 273,
    "start_time": "2022-12-23T18:07:57.675Z"
   },
   {
    "duration": 4,
    "start_time": "2022-12-23T18:07:57.950Z"
   },
   {
    "duration": 25,
    "start_time": "2022-12-23T18:07:57.955Z"
   },
   {
    "duration": 208,
    "start_time": "2022-12-23T18:07:57.982Z"
   },
   {
    "duration": 124,
    "start_time": "2022-12-23T18:07:58.192Z"
   },
   {
    "duration": 684,
    "start_time": "2022-12-23T18:07:58.317Z"
   },
   {
    "duration": 122,
    "start_time": "2022-12-23T18:12:22.009Z"
   },
   {
    "duration": 6,
    "start_time": "2022-12-23T18:12:23.326Z"
   },
   {
    "duration": 10,
    "start_time": "2022-12-23T18:33:55.934Z"
   },
   {
    "duration": 5,
    "start_time": "2022-12-23T18:42:36.831Z"
   },
   {
    "duration": 35,
    "start_time": "2022-12-23T18:42:39.716Z"
   },
   {
    "duration": 47,
    "start_time": "2022-12-23T18:44:45.660Z"
   },
   {
    "duration": 49,
    "start_time": "2022-12-23T18:44:56.648Z"
   },
   {
    "duration": 76,
    "start_time": "2022-12-23T18:45:02.846Z"
   },
   {
    "duration": 44,
    "start_time": "2022-12-23T18:45:19.768Z"
   },
   {
    "duration": 25,
    "start_time": "2022-12-23T18:45:29.626Z"
   },
   {
    "duration": 24,
    "start_time": "2022-12-23T18:46:18.437Z"
   },
   {
    "duration": 24,
    "start_time": "2022-12-23T18:46:25.083Z"
   },
   {
    "duration": 26,
    "start_time": "2022-12-23T18:46:28.833Z"
   },
   {
    "duration": 25,
    "start_time": "2022-12-23T18:47:25.969Z"
   },
   {
    "duration": 31,
    "start_time": "2022-12-23T18:53:12.025Z"
   },
   {
    "duration": 9,
    "start_time": "2022-12-23T18:55:22.661Z"
   },
   {
    "duration": 47,
    "start_time": "2022-12-23T19:16:46.108Z"
   },
   {
    "duration": 10,
    "start_time": "2022-12-23T19:16:56.420Z"
   },
   {
    "duration": 66,
    "start_time": "2022-12-23T19:20:29.998Z"
   },
   {
    "duration": 49,
    "start_time": "2022-12-23T19:21:06.701Z"
   },
   {
    "duration": 8,
    "start_time": "2022-12-23T19:21:14.932Z"
   },
   {
    "duration": 44,
    "start_time": "2022-12-23T19:21:43.341Z"
   },
   {
    "duration": 47,
    "start_time": "2022-12-23T19:21:51.009Z"
   },
   {
    "duration": 60,
    "start_time": "2022-12-23T19:22:33.318Z"
   },
   {
    "duration": 45,
    "start_time": "2022-12-23T19:22:44.498Z"
   },
   {
    "duration": 51,
    "start_time": "2022-12-23T19:25:11.044Z"
   },
   {
    "duration": 13,
    "start_time": "2022-12-23T19:25:17.537Z"
   },
   {
    "duration": 14,
    "start_time": "2022-12-23T19:25:28.733Z"
   },
   {
    "duration": 673,
    "start_time": "2022-12-23T19:26:43.744Z"
   },
   {
    "duration": 6,
    "start_time": "2022-12-23T19:26:52.529Z"
   },
   {
    "duration": 5,
    "start_time": "2022-12-23T19:26:59.146Z"
   },
   {
    "duration": 57,
    "start_time": "2022-12-23T19:29:59.743Z"
   },
   {
    "duration": 64,
    "start_time": "2022-12-23T19:30:16.702Z"
   },
   {
    "duration": 707,
    "start_time": "2022-12-23T19:30:26.107Z"
   },
   {
    "duration": 9,
    "start_time": "2022-12-23T19:31:07.715Z"
   },
   {
    "duration": 883,
    "start_time": "2022-12-23T20:01:40.978Z"
   },
   {
    "duration": 11,
    "start_time": "2022-12-23T20:01:55.865Z"
   },
   {
    "duration": 799,
    "start_time": "2022-12-23T20:02:03.837Z"
   },
   {
    "duration": 5,
    "start_time": "2022-12-23T20:03:00.976Z"
   },
   {
    "duration": 14,
    "start_time": "2022-12-23T20:03:22.360Z"
   },
   {
    "duration": 9,
    "start_time": "2022-12-23T20:03:37.363Z"
   },
   {
    "duration": 27,
    "start_time": "2022-12-23T20:04:21.850Z"
   },
   {
    "duration": 930,
    "start_time": "2022-12-23T20:05:35.050Z"
   },
   {
    "duration": 28,
    "start_time": "2022-12-23T20:05:46.248Z"
   },
   {
    "duration": 140,
    "start_time": "2022-12-23T20:06:53.567Z"
   },
   {
    "duration": 31,
    "start_time": "2022-12-23T20:07:02.443Z"
   },
   {
    "duration": 952,
    "start_time": "2022-12-23T20:08:18.947Z"
   },
   {
    "duration": 47,
    "start_time": "2022-12-23T20:08:52.012Z"
   },
   {
    "duration": 7,
    "start_time": "2022-12-23T20:10:39.047Z"
   },
   {
    "duration": 8,
    "start_time": "2022-12-23T20:11:05.772Z"
   },
   {
    "duration": 32,
    "start_time": "2022-12-23T20:11:17.751Z"
   },
   {
    "duration": 1141,
    "start_time": "2022-12-23T20:12:02.908Z"
   },
   {
    "duration": 53,
    "start_time": "2022-12-23T20:12:12.321Z"
   },
   {
    "duration": 55,
    "start_time": "2022-12-23T20:13:45.822Z"
   },
   {
    "duration": 41,
    "start_time": "2022-12-23T20:13:55.761Z"
   },
   {
    "duration": 34,
    "start_time": "2022-12-23T20:14:05.472Z"
   },
   {
    "duration": 26,
    "start_time": "2022-12-23T20:14:07.981Z"
   },
   {
    "duration": 27,
    "start_time": "2022-12-23T20:15:28.363Z"
   },
   {
    "duration": 27,
    "start_time": "2022-12-23T20:15:43.744Z"
   },
   {
    "duration": 27,
    "start_time": "2022-12-23T20:16:34.849Z"
   },
   {
    "duration": 27,
    "start_time": "2022-12-23T20:16:36.952Z"
   },
   {
    "duration": 35,
    "start_time": "2022-12-23T20:17:05.698Z"
   },
   {
    "duration": 4,
    "start_time": "2022-12-23T20:18:40.358Z"
   },
   {
    "duration": 10,
    "start_time": "2022-12-23T20:18:40.364Z"
   },
   {
    "duration": 95,
    "start_time": "2022-12-23T20:18:40.376Z"
   },
   {
    "duration": 16,
    "start_time": "2022-12-23T20:18:40.473Z"
   },
   {
    "duration": 23,
    "start_time": "2022-12-23T20:18:40.490Z"
   },
   {
    "duration": 35,
    "start_time": "2022-12-23T20:18:40.515Z"
   },
   {
    "duration": 33,
    "start_time": "2022-12-23T20:18:40.552Z"
   },
   {
    "duration": 24,
    "start_time": "2022-12-23T20:18:40.587Z"
   },
   {
    "duration": 11,
    "start_time": "2022-12-23T20:18:40.613Z"
   },
   {
    "duration": 45,
    "start_time": "2022-12-23T20:18:40.627Z"
   },
   {
    "duration": 19,
    "start_time": "2022-12-23T20:18:40.674Z"
   },
   {
    "duration": 599,
    "start_time": "2022-12-23T20:18:40.695Z"
   },
   {
    "duration": 343,
    "start_time": "2022-12-23T20:18:41.296Z"
   },
   {
    "duration": 391,
    "start_time": "2022-12-23T20:18:41.641Z"
   },
   {
    "duration": 334,
    "start_time": "2022-12-23T20:18:42.039Z"
   },
   {
    "duration": 408,
    "start_time": "2022-12-23T20:18:42.375Z"
   },
   {
    "duration": 200,
    "start_time": "2022-12-23T20:18:42.784Z"
   },
   {
    "duration": 179,
    "start_time": "2022-12-23T20:18:42.986Z"
   },
   {
    "duration": 4,
    "start_time": "2022-12-23T20:18:43.167Z"
   },
   {
    "duration": 212,
    "start_time": "2022-12-23T20:18:43.173Z"
   },
   {
    "duration": 208,
    "start_time": "2022-12-23T20:18:43.387Z"
   },
   {
    "duration": 5,
    "start_time": "2022-12-23T20:18:43.597Z"
   },
   {
    "duration": 42,
    "start_time": "2022-12-23T20:18:43.604Z"
   },
   {
    "duration": 213,
    "start_time": "2022-12-23T20:18:43.653Z"
   },
   {
    "duration": 170,
    "start_time": "2022-12-23T20:18:43.868Z"
   },
   {
    "duration": 8,
    "start_time": "2022-12-23T20:18:44.040Z"
   },
   {
    "duration": 40,
    "start_time": "2022-12-23T20:18:44.050Z"
   },
   {
    "duration": 10,
    "start_time": "2022-12-23T20:18:44.092Z"
   },
   {
    "duration": 1156,
    "start_time": "2022-12-23T20:18:44.103Z"
   },
   {
    "duration": 0,
    "start_time": "2022-12-23T20:18:45.260Z"
   },
   {
    "duration": 3,
    "start_time": "2022-12-23T20:19:08.955Z"
   },
   {
    "duration": 20,
    "start_time": "2022-12-23T20:19:08.960Z"
   },
   {
    "duration": 113,
    "start_time": "2022-12-23T20:19:08.982Z"
   },
   {
    "duration": 13,
    "start_time": "2022-12-23T20:19:09.097Z"
   },
   {
    "duration": 39,
    "start_time": "2022-12-23T20:19:09.113Z"
   },
   {
    "duration": 20,
    "start_time": "2022-12-23T20:19:09.154Z"
   },
   {
    "duration": 6,
    "start_time": "2022-12-23T20:19:09.176Z"
   },
   {
    "duration": 10,
    "start_time": "2022-12-23T20:19:09.184Z"
   },
   {
    "duration": 12,
    "start_time": "2022-12-23T20:19:09.196Z"
   },
   {
    "duration": 16,
    "start_time": "2022-12-23T20:19:09.209Z"
   },
   {
    "duration": 41,
    "start_time": "2022-12-23T20:19:09.226Z"
   },
   {
    "duration": 614,
    "start_time": "2022-12-23T20:19:09.269Z"
   },
   {
    "duration": 316,
    "start_time": "2022-12-23T20:19:09.886Z"
   },
   {
    "duration": 429,
    "start_time": "2022-12-23T20:19:10.206Z"
   },
   {
    "duration": 336,
    "start_time": "2022-12-23T20:19:10.642Z"
   },
   {
    "duration": 456,
    "start_time": "2022-12-23T20:19:10.980Z"
   },
   {
    "duration": 321,
    "start_time": "2022-12-23T20:19:11.438Z"
   },
   {
    "duration": 184,
    "start_time": "2022-12-23T20:19:11.761Z"
   },
   {
    "duration": 7,
    "start_time": "2022-12-23T20:19:11.947Z"
   },
   {
    "duration": 230,
    "start_time": "2022-12-23T20:19:11.960Z"
   },
   {
    "duration": 220,
    "start_time": "2022-12-23T20:19:12.191Z"
   },
   {
    "duration": 20,
    "start_time": "2022-12-23T20:19:12.413Z"
   },
   {
    "duration": 22,
    "start_time": "2022-12-23T20:19:12.449Z"
   },
   {
    "duration": 228,
    "start_time": "2022-12-23T20:19:12.474Z"
   },
   {
    "duration": 178,
    "start_time": "2022-12-23T20:19:12.704Z"
   },
   {
    "duration": 8,
    "start_time": "2022-12-23T20:19:12.884Z"
   },
   {
    "duration": 58,
    "start_time": "2022-12-23T20:19:12.893Z"
   },
   {
    "duration": 12,
    "start_time": "2022-12-23T20:19:12.960Z"
   },
   {
    "duration": 11,
    "start_time": "2022-12-23T20:19:12.974Z"
   },
   {
    "duration": 57,
    "start_time": "2022-12-23T20:19:12.987Z"
   },
   {
    "duration": 42,
    "start_time": "2022-12-23T20:21:11.252Z"
   },
   {
    "duration": 41,
    "start_time": "2022-12-23T20:21:14.210Z"
   },
   {
    "duration": 27,
    "start_time": "2022-12-23T20:26:44.151Z"
   },
   {
    "duration": 898,
    "start_time": "2022-12-23T20:28:08.055Z"
   },
   {
    "duration": 952,
    "start_time": "2022-12-23T20:28:39.861Z"
   },
   {
    "duration": 27,
    "start_time": "2022-12-23T20:28:56.121Z"
   },
   {
    "duration": 20,
    "start_time": "2022-12-23T20:36:08.911Z"
   },
   {
    "duration": 4,
    "start_time": "2022-12-23T20:36:13.159Z"
   },
   {
    "duration": 12,
    "start_time": "2022-12-23T20:36:13.165Z"
   },
   {
    "duration": 107,
    "start_time": "2022-12-23T20:36:13.178Z"
   },
   {
    "duration": 14,
    "start_time": "2022-12-23T20:36:13.287Z"
   },
   {
    "duration": 37,
    "start_time": "2022-12-23T20:36:13.303Z"
   },
   {
    "duration": 35,
    "start_time": "2022-12-23T20:36:13.342Z"
   },
   {
    "duration": 8,
    "start_time": "2022-12-23T20:36:13.379Z"
   },
   {
    "duration": 6,
    "start_time": "2022-12-23T20:36:13.388Z"
   },
   {
    "duration": 14,
    "start_time": "2022-12-23T20:36:13.396Z"
   },
   {
    "duration": 15,
    "start_time": "2022-12-23T20:36:13.413Z"
   },
   {
    "duration": 12,
    "start_time": "2022-12-23T20:36:13.430Z"
   },
   {
    "duration": 648,
    "start_time": "2022-12-23T20:36:13.444Z"
   },
   {
    "duration": 312,
    "start_time": "2022-12-23T20:36:14.094Z"
   },
   {
    "duration": 450,
    "start_time": "2022-12-23T20:36:14.408Z"
   },
   {
    "duration": 355,
    "start_time": "2022-12-23T20:36:14.860Z"
   },
   {
    "duration": 458,
    "start_time": "2022-12-23T20:36:15.235Z"
   },
   {
    "duration": 223,
    "start_time": "2022-12-23T20:36:15.695Z"
   },
   {
    "duration": 182,
    "start_time": "2022-12-23T20:36:15.927Z"
   },
   {
    "duration": 4,
    "start_time": "2022-12-23T20:36:16.130Z"
   },
   {
    "duration": 244,
    "start_time": "2022-12-23T20:36:16.137Z"
   },
   {
    "duration": 215,
    "start_time": "2022-12-23T20:36:16.383Z"
   },
   {
    "duration": 5,
    "start_time": "2022-12-23T20:36:16.600Z"
   },
   {
    "duration": 64,
    "start_time": "2022-12-23T20:36:16.606Z"
   },
   {
    "duration": 213,
    "start_time": "2022-12-23T20:36:16.672Z"
   },
   {
    "duration": 173,
    "start_time": "2022-12-23T20:36:16.887Z"
   },
   {
    "duration": 8,
    "start_time": "2022-12-23T20:36:17.062Z"
   },
   {
    "duration": 27,
    "start_time": "2022-12-23T20:36:17.072Z"
   },
   {
    "duration": 29,
    "start_time": "2022-12-23T20:36:17.124Z"
   },
   {
    "duration": 14,
    "start_time": "2022-12-23T20:36:17.155Z"
   },
   {
    "duration": 75,
    "start_time": "2022-12-23T20:36:17.172Z"
   },
   {
    "duration": 17,
    "start_time": "2022-12-23T20:36:17.249Z"
   },
   {
    "duration": 1492,
    "start_time": "2022-12-24T15:05:14.301Z"
   },
   {
    "duration": 3,
    "start_time": "2022-12-24T15:05:15.796Z"
   },
   {
    "duration": 197,
    "start_time": "2022-12-24T15:05:15.801Z"
   },
   {
    "duration": 22,
    "start_time": "2022-12-24T15:05:16.001Z"
   },
   {
    "duration": 22,
    "start_time": "2022-12-24T15:05:16.024Z"
   },
   {
    "duration": 35,
    "start_time": "2022-12-24T15:05:16.048Z"
   },
   {
    "duration": 8,
    "start_time": "2022-12-24T15:05:16.085Z"
   },
   {
    "duration": 12,
    "start_time": "2022-12-24T15:05:16.094Z"
   },
   {
    "duration": 26,
    "start_time": "2022-12-24T15:05:16.107Z"
   },
   {
    "duration": 9,
    "start_time": "2022-12-24T15:05:16.136Z"
   },
   {
    "duration": 37,
    "start_time": "2022-12-24T15:05:16.147Z"
   },
   {
    "duration": 777,
    "start_time": "2022-12-24T15:05:16.185Z"
   },
   {
    "duration": 354,
    "start_time": "2022-12-24T15:05:16.964Z"
   },
   {
    "duration": 509,
    "start_time": "2022-12-24T15:05:17.320Z"
   },
   {
    "duration": 377,
    "start_time": "2022-12-24T15:05:17.831Z"
   },
   {
    "duration": 485,
    "start_time": "2022-12-24T15:05:18.209Z"
   },
   {
    "duration": 214,
    "start_time": "2022-12-24T15:05:18.695Z"
   },
   {
    "duration": 212,
    "start_time": "2022-12-24T15:05:18.911Z"
   },
   {
    "duration": 5,
    "start_time": "2022-12-24T15:05:19.125Z"
   },
   {
    "duration": 270,
    "start_time": "2022-12-24T15:05:19.132Z"
   },
   {
    "duration": 339,
    "start_time": "2022-12-24T15:05:19.404Z"
   },
   {
    "duration": 6,
    "start_time": "2022-12-24T15:05:19.745Z"
   },
   {
    "duration": 37,
    "start_time": "2022-12-24T15:05:19.753Z"
   },
   {
    "duration": 258,
    "start_time": "2022-12-24T15:05:19.792Z"
   },
   {
    "duration": 213,
    "start_time": "2022-12-24T15:05:20.053Z"
   },
   {
    "duration": 5,
    "start_time": "2022-12-24T15:05:20.268Z"
   },
   {
    "duration": 26,
    "start_time": "2022-12-24T15:05:20.275Z"
   },
   {
    "duration": 10,
    "start_time": "2022-12-24T15:05:20.305Z"
   },
   {
    "duration": 34,
    "start_time": "2022-12-24T15:05:20.317Z"
   },
   {
    "duration": 33,
    "start_time": "2022-12-24T15:05:20.353Z"
   },
   {
    "duration": 16,
    "start_time": "2022-12-24T15:05:20.389Z"
   },
   {
    "duration": 71,
    "start_time": "2022-12-24T15:07:01.371Z"
   },
   {
    "duration": 8,
    "start_time": "2022-12-24T15:07:15.597Z"
   },
   {
    "duration": 8,
    "start_time": "2022-12-24T15:07:33.718Z"
   },
   {
    "duration": 7,
    "start_time": "2022-12-24T15:07:40.584Z"
   },
   {
    "duration": 7,
    "start_time": "2022-12-24T15:07:54.802Z"
   },
   {
    "duration": 117,
    "start_time": "2022-12-24T15:09:55.121Z"
   },
   {
    "duration": 11,
    "start_time": "2022-12-24T15:14:32.772Z"
   },
   {
    "duration": 3,
    "start_time": "2022-12-24T15:14:44.992Z"
   },
   {
    "duration": 5,
    "start_time": "2022-12-24T15:14:54.435Z"
   },
   {
    "duration": 1182,
    "start_time": "2022-12-24T15:15:32.715Z"
   },
   {
    "duration": 11,
    "start_time": "2022-12-24T15:15:41.466Z"
   },
   {
    "duration": 9,
    "start_time": "2022-12-24T15:15:53.652Z"
   },
   {
    "duration": 11,
    "start_time": "2022-12-24T15:16:04.806Z"
   },
   {
    "duration": 14,
    "start_time": "2022-12-24T15:21:34.126Z"
   },
   {
    "duration": 14,
    "start_time": "2022-12-24T15:21:49.308Z"
   },
   {
    "duration": 1199,
    "start_time": "2022-12-24T15:22:00.298Z"
   },
   {
    "duration": 16,
    "start_time": "2022-12-24T15:22:24.166Z"
   },
   {
    "duration": 8,
    "start_time": "2022-12-24T15:22:34.249Z"
   },
   {
    "duration": 9,
    "start_time": "2022-12-24T15:22:44.625Z"
   },
   {
    "duration": 12,
    "start_time": "2022-12-24T15:26:30.690Z"
   },
   {
    "duration": 12,
    "start_time": "2022-12-24T15:28:00.941Z"
   },
   {
    "duration": 12,
    "start_time": "2022-12-24T15:29:10.199Z"
   },
   {
    "duration": 79,
    "start_time": "2022-12-24T15:38:18.532Z"
   },
   {
    "duration": 11,
    "start_time": "2022-12-24T15:38:24.321Z"
   },
   {
    "duration": 19,
    "start_time": "2022-12-24T15:38:33.155Z"
   },
   {
    "duration": 107,
    "start_time": "2022-12-24T15:39:31.750Z"
   },
   {
    "duration": 11,
    "start_time": "2022-12-24T15:39:37.182Z"
   },
   {
    "duration": 6,
    "start_time": "2022-12-24T15:39:40.844Z"
   },
   {
    "duration": 11,
    "start_time": "2022-12-24T15:40:13.569Z"
   },
   {
    "duration": 13,
    "start_time": "2022-12-24T15:41:00.391Z"
   },
   {
    "duration": 4,
    "start_time": "2022-12-24T15:41:04.658Z"
   },
   {
    "duration": 46,
    "start_time": "2022-12-24T15:41:04.664Z"
   },
   {
    "duration": 86,
    "start_time": "2022-12-24T15:41:04.712Z"
   },
   {
    "duration": 16,
    "start_time": "2022-12-24T15:41:04.800Z"
   },
   {
    "duration": 28,
    "start_time": "2022-12-24T15:41:04.818Z"
   },
   {
    "duration": 44,
    "start_time": "2022-12-24T15:41:04.848Z"
   },
   {
    "duration": 29,
    "start_time": "2022-12-24T15:41:04.893Z"
   },
   {
    "duration": 22,
    "start_time": "2022-12-24T15:41:04.923Z"
   },
   {
    "duration": 34,
    "start_time": "2022-12-24T15:41:04.947Z"
   },
   {
    "duration": 14,
    "start_time": "2022-12-24T15:41:04.984Z"
   },
   {
    "duration": 28,
    "start_time": "2022-12-24T15:41:05.000Z"
   },
   {
    "duration": 39,
    "start_time": "2022-12-24T15:41:05.030Z"
   },
   {
    "duration": 36,
    "start_time": "2022-12-24T15:41:05.072Z"
   },
   {
    "duration": 45,
    "start_time": "2022-12-24T15:41:05.109Z"
   },
   {
    "duration": 24,
    "start_time": "2022-12-24T15:41:05.156Z"
   },
   {
    "duration": 38,
    "start_time": "2022-12-24T15:41:05.181Z"
   },
   {
    "duration": 696,
    "start_time": "2022-12-24T15:41:05.221Z"
   },
   {
    "duration": 378,
    "start_time": "2022-12-24T15:41:05.919Z"
   },
   {
    "duration": 444,
    "start_time": "2022-12-24T15:41:06.299Z"
   },
   {
    "duration": 347,
    "start_time": "2022-12-24T15:41:06.745Z"
   },
   {
    "duration": 424,
    "start_time": "2022-12-24T15:41:07.094Z"
   },
   {
    "duration": 233,
    "start_time": "2022-12-24T15:41:07.520Z"
   },
   {
    "duration": 198,
    "start_time": "2022-12-24T15:41:07.754Z"
   },
   {
    "duration": 5,
    "start_time": "2022-12-24T15:41:07.954Z"
   },
   {
    "duration": 213,
    "start_time": "2022-12-24T15:41:07.960Z"
   },
   {
    "duration": 202,
    "start_time": "2022-12-24T15:41:08.174Z"
   },
   {
    "duration": 5,
    "start_time": "2022-12-24T15:41:08.378Z"
   },
   {
    "duration": 58,
    "start_time": "2022-12-24T15:41:08.386Z"
   },
   {
    "duration": 250,
    "start_time": "2022-12-24T15:41:08.447Z"
   },
   {
    "duration": 134,
    "start_time": "2022-12-24T15:41:08.699Z"
   },
   {
    "duration": 7,
    "start_time": "2022-12-24T15:41:08.834Z"
   },
   {
    "duration": 39,
    "start_time": "2022-12-24T15:41:08.851Z"
   },
   {
    "duration": 16,
    "start_time": "2022-12-24T15:41:08.893Z"
   },
   {
    "duration": 26,
    "start_time": "2022-12-24T15:41:08.911Z"
   },
   {
    "duration": 79,
    "start_time": "2022-12-24T15:41:08.939Z"
   },
   {
    "duration": 16,
    "start_time": "2022-12-24T15:41:09.020Z"
   },
   {
    "duration": 386,
    "start_time": "2022-12-24T15:44:55.170Z"
   },
   {
    "duration": 434,
    "start_time": "2022-12-24T15:45:08.938Z"
   },
   {
    "duration": 449,
    "start_time": "2022-12-24T15:45:16.532Z"
   },
   {
    "duration": 12,
    "start_time": "2022-12-24T15:51:38.169Z"
   },
   {
    "duration": 5,
    "start_time": "2022-12-24T16:10:09.152Z"
   },
   {
    "duration": 13,
    "start_time": "2022-12-24T16:19:19.384Z"
   },
   {
    "duration": 3,
    "start_time": "2022-12-24T16:19:24.009Z"
   },
   {
    "duration": 10,
    "start_time": "2022-12-24T16:19:24.014Z"
   },
   {
    "duration": 74,
    "start_time": "2022-12-24T16:19:24.026Z"
   },
   {
    "duration": 20,
    "start_time": "2022-12-24T16:19:24.102Z"
   },
   {
    "duration": 38,
    "start_time": "2022-12-24T16:19:24.124Z"
   },
   {
    "duration": 24,
    "start_time": "2022-12-24T16:19:24.163Z"
   },
   {
    "duration": 10,
    "start_time": "2022-12-24T16:19:24.189Z"
   },
   {
    "duration": 14,
    "start_time": "2022-12-24T16:19:24.200Z"
   },
   {
    "duration": 35,
    "start_time": "2022-12-24T16:19:24.217Z"
   },
   {
    "duration": 14,
    "start_time": "2022-12-24T16:19:24.254Z"
   },
   {
    "duration": 19,
    "start_time": "2022-12-24T16:19:24.270Z"
   },
   {
    "duration": 14,
    "start_time": "2022-12-24T16:19:24.290Z"
   },
   {
    "duration": 13,
    "start_time": "2022-12-24T16:19:24.307Z"
   },
   {
    "duration": 10,
    "start_time": "2022-12-24T16:19:24.351Z"
   },
   {
    "duration": 6,
    "start_time": "2022-12-24T16:19:24.362Z"
   },
   {
    "duration": 16,
    "start_time": "2022-12-24T16:19:24.370Z"
   },
   {
    "duration": 616,
    "start_time": "2022-12-24T16:19:24.388Z"
   },
   {
    "duration": 344,
    "start_time": "2022-12-24T16:19:25.006Z"
   },
   {
    "duration": 398,
    "start_time": "2022-12-24T16:19:25.353Z"
   },
   {
    "duration": 415,
    "start_time": "2022-12-24T16:19:25.753Z"
   },
   {
    "duration": 798,
    "start_time": "2022-12-24T16:19:26.170Z"
   },
   {
    "duration": 519,
    "start_time": "2022-12-24T16:19:26.970Z"
   },
   {
    "duration": 393,
    "start_time": "2022-12-24T16:19:27.491Z"
   },
   {
    "duration": 5,
    "start_time": "2022-12-24T16:19:27.886Z"
   },
   {
    "duration": 477,
    "start_time": "2022-12-24T16:19:27.893Z"
   },
   {
    "duration": 215,
    "start_time": "2022-12-24T16:19:28.371Z"
   },
   {
    "duration": 5,
    "start_time": "2022-12-24T16:19:28.588Z"
   },
   {
    "duration": 21,
    "start_time": "2022-12-24T16:19:28.595Z"
   },
   {
    "duration": 266,
    "start_time": "2022-12-24T16:19:28.618Z"
   },
   {
    "duration": 149,
    "start_time": "2022-12-24T16:19:28.885Z"
   },
   {
    "duration": 19,
    "start_time": "2022-12-24T16:19:29.036Z"
   },
   {
    "duration": 28,
    "start_time": "2022-12-24T16:19:29.057Z"
   },
   {
    "duration": 14,
    "start_time": "2022-12-24T16:19:29.087Z"
   },
   {
    "duration": 10,
    "start_time": "2022-12-24T16:19:29.103Z"
   },
   {
    "duration": 69,
    "start_time": "2022-12-24T16:19:29.115Z"
   },
   {
    "duration": 19,
    "start_time": "2022-12-24T16:19:29.185Z"
   },
   {
    "duration": 8,
    "start_time": "2022-12-24T16:19:37.909Z"
   },
   {
    "duration": 3,
    "start_time": "2022-12-24T16:19:41.819Z"
   },
   {
    "duration": 8,
    "start_time": "2022-12-24T16:19:41.824Z"
   },
   {
    "duration": 72,
    "start_time": "2022-12-24T16:19:41.834Z"
   },
   {
    "duration": 16,
    "start_time": "2022-12-24T16:19:41.909Z"
   },
   {
    "duration": 38,
    "start_time": "2022-12-24T16:19:41.927Z"
   },
   {
    "duration": 41,
    "start_time": "2022-12-24T16:19:41.966Z"
   },
   {
    "duration": 9,
    "start_time": "2022-12-24T16:19:42.008Z"
   },
   {
    "duration": 40,
    "start_time": "2022-12-24T16:19:42.019Z"
   },
   {
    "duration": 25,
    "start_time": "2022-12-24T16:19:42.061Z"
   },
   {
    "duration": 27,
    "start_time": "2022-12-24T16:19:42.089Z"
   },
   {
    "duration": 37,
    "start_time": "2022-12-24T16:19:42.117Z"
   },
   {
    "duration": 34,
    "start_time": "2022-12-24T16:19:42.156Z"
   },
   {
    "duration": 23,
    "start_time": "2022-12-24T16:19:42.192Z"
   },
   {
    "duration": 19,
    "start_time": "2022-12-24T16:19:42.217Z"
   },
   {
    "duration": 30,
    "start_time": "2022-12-24T16:19:42.238Z"
   },
   {
    "duration": 42,
    "start_time": "2022-12-24T16:19:42.270Z"
   },
   {
    "duration": 650,
    "start_time": "2022-12-24T16:19:42.314Z"
   },
   {
    "duration": 424,
    "start_time": "2022-12-24T16:19:42.966Z"
   },
   {
    "duration": 363,
    "start_time": "2022-12-24T16:19:43.392Z"
   },
   {
    "duration": 420,
    "start_time": "2022-12-24T16:19:43.757Z"
   },
   {
    "duration": 775,
    "start_time": "2022-12-24T16:19:44.179Z"
   },
   {
    "duration": 424,
    "start_time": "2022-12-24T16:19:44.956Z"
   },
   {
    "duration": 495,
    "start_time": "2022-12-24T16:19:45.382Z"
   },
   {
    "duration": 6,
    "start_time": "2022-12-24T16:19:45.878Z"
   },
   {
    "duration": 374,
    "start_time": "2022-12-24T16:19:45.886Z"
   },
   {
    "duration": 219,
    "start_time": "2022-12-24T16:19:46.263Z"
   },
   {
    "duration": 5,
    "start_time": "2022-12-24T16:19:46.484Z"
   },
   {
    "duration": 16,
    "start_time": "2022-12-24T16:19:46.493Z"
   },
   {
    "duration": 260,
    "start_time": "2022-12-24T16:19:46.511Z"
   },
   {
    "duration": 159,
    "start_time": "2022-12-24T16:19:46.773Z"
   },
   {
    "duration": 20,
    "start_time": "2022-12-24T16:19:46.935Z"
   },
   {
    "duration": 28,
    "start_time": "2022-12-24T16:19:46.958Z"
   },
   {
    "duration": 14,
    "start_time": "2022-12-24T16:19:46.987Z"
   },
   {
    "duration": 10,
    "start_time": "2022-12-24T16:19:47.003Z"
   },
   {
    "duration": 63,
    "start_time": "2022-12-24T16:19:47.015Z"
   },
   {
    "duration": 17,
    "start_time": "2022-12-24T16:19:47.080Z"
   },
   {
    "duration": 596,
    "start_time": "2022-12-24T16:26:32.723Z"
   },
   {
    "duration": 359,
    "start_time": "2022-12-24T16:26:54.721Z"
   },
   {
    "duration": 7,
    "start_time": "2022-12-24T16:44:23.874Z"
   },
   {
    "duration": 11,
    "start_time": "2022-12-24T16:45:12.198Z"
   },
   {
    "duration": 5,
    "start_time": "2022-12-24T16:45:36.042Z"
   },
   {
    "duration": 11,
    "start_time": "2022-12-24T16:46:36.123Z"
   },
   {
    "duration": 62,
    "start_time": "2022-12-24T17:11:40.013Z"
   },
   {
    "duration": 71,
    "start_time": "2022-12-24T17:14:27.049Z"
   },
   {
    "duration": 42,
    "start_time": "2022-12-24T17:15:49.485Z"
   },
   {
    "duration": 14,
    "start_time": "2022-12-24T17:20:27.400Z"
   },
   {
    "duration": 18,
    "start_time": "2022-12-24T17:21:40.679Z"
   },
   {
    "duration": 26,
    "start_time": "2022-12-24T17:21:55.414Z"
   },
   {
    "duration": 14,
    "start_time": "2022-12-24T17:21:59.195Z"
   },
   {
    "duration": 19,
    "start_time": "2022-12-24T17:22:33.280Z"
   },
   {
    "duration": 18,
    "start_time": "2022-12-24T17:31:30.227Z"
   },
   {
    "duration": 16,
    "start_time": "2022-12-24T17:32:47.927Z"
   },
   {
    "duration": 33,
    "start_time": "2022-12-24T17:34:00.859Z"
   },
   {
    "duration": 47,
    "start_time": "2022-12-24T17:46:47.810Z"
   },
   {
    "duration": 27,
    "start_time": "2022-12-24T18:46:11.614Z"
   },
   {
    "duration": 14,
    "start_time": "2022-12-24T18:46:32.435Z"
   },
   {
    "duration": 14,
    "start_time": "2022-12-24T18:47:12.897Z"
   },
   {
    "duration": 43,
    "start_time": "2022-12-24T18:48:55.572Z"
   },
   {
    "duration": 38,
    "start_time": "2022-12-24T18:49:17.129Z"
   },
   {
    "duration": 22,
    "start_time": "2022-12-24T18:50:11.253Z"
   },
   {
    "duration": 100,
    "start_time": "2022-12-24T18:50:16.785Z"
   },
   {
    "duration": 46,
    "start_time": "2022-12-24T18:50:53.358Z"
   },
   {
    "duration": 49,
    "start_time": "2022-12-24T18:51:13.102Z"
   },
   {
    "duration": 46,
    "start_time": "2022-12-24T18:55:21.449Z"
   },
   {
    "duration": 4,
    "start_time": "2022-12-24T18:55:42.382Z"
   },
   {
    "duration": 7,
    "start_time": "2022-12-24T18:55:42.388Z"
   },
   {
    "duration": 90,
    "start_time": "2022-12-24T18:55:42.396Z"
   },
   {
    "duration": 17,
    "start_time": "2022-12-24T18:55:42.488Z"
   },
   {
    "duration": 21,
    "start_time": "2022-12-24T18:55:42.508Z"
   },
   {
    "duration": 28,
    "start_time": "2022-12-24T18:55:42.531Z"
   },
   {
    "duration": 32,
    "start_time": "2022-12-24T18:55:42.561Z"
   },
   {
    "duration": 14,
    "start_time": "2022-12-24T18:55:42.595Z"
   },
   {
    "duration": 21,
    "start_time": "2022-12-24T18:55:42.611Z"
   },
   {
    "duration": 43,
    "start_time": "2022-12-24T18:55:42.634Z"
   },
   {
    "duration": 25,
    "start_time": "2022-12-24T18:55:42.679Z"
   },
   {
    "duration": 13,
    "start_time": "2022-12-24T18:55:42.706Z"
   },
   {
    "duration": 15,
    "start_time": "2022-12-24T18:55:42.721Z"
   },
   {
    "duration": 10,
    "start_time": "2022-12-24T18:55:42.739Z"
   },
   {
    "duration": 26,
    "start_time": "2022-12-24T18:55:42.751Z"
   },
   {
    "duration": 15,
    "start_time": "2022-12-24T18:55:42.781Z"
   },
   {
    "duration": 645,
    "start_time": "2022-12-24T18:55:42.797Z"
   },
   {
    "duration": 348,
    "start_time": "2022-12-24T18:55:43.453Z"
   },
   {
    "duration": 401,
    "start_time": "2022-12-24T18:55:43.803Z"
   },
   {
    "duration": 470,
    "start_time": "2022-12-24T18:55:44.207Z"
   },
   {
    "duration": 419,
    "start_time": "2022-12-24T18:55:44.684Z"
   },
   {
    "duration": 264,
    "start_time": "2022-12-24T18:55:45.105Z"
   },
   {
    "duration": 223,
    "start_time": "2022-12-24T18:55:45.371Z"
   },
   {
    "duration": 6,
    "start_time": "2022-12-24T18:55:45.596Z"
   },
   {
    "duration": 256,
    "start_time": "2022-12-24T18:55:45.609Z"
   },
   {
    "duration": 213,
    "start_time": "2022-12-24T18:55:45.868Z"
   },
   {
    "duration": 5,
    "start_time": "2022-12-24T18:55:46.083Z"
   },
   {
    "duration": 16,
    "start_time": "2022-12-24T18:55:46.089Z"
   },
   {
    "duration": 267,
    "start_time": "2022-12-24T18:55:46.107Z"
   },
   {
    "duration": 145,
    "start_time": "2022-12-24T18:55:46.376Z"
   },
   {
    "duration": 7,
    "start_time": "2022-12-24T18:55:46.522Z"
   },
   {
    "duration": 65,
    "start_time": "2022-12-24T18:55:46.531Z"
   },
   {
    "duration": 24,
    "start_time": "2022-12-24T18:55:46.598Z"
   },
   {
    "duration": 63,
    "start_time": "2022-12-24T18:55:46.624Z"
   },
   {
    "duration": 58,
    "start_time": "2022-12-24T18:55:46.689Z"
   },
   {
    "duration": 62,
    "start_time": "2022-12-24T18:55:46.749Z"
   },
   {
    "duration": 3,
    "start_time": "2022-12-24T18:57:33.937Z"
   },
   {
    "duration": 66,
    "start_time": "2022-12-24T18:57:33.942Z"
   },
   {
    "duration": 125,
    "start_time": "2022-12-24T18:57:34.010Z"
   },
   {
    "duration": 21,
    "start_time": "2022-12-24T18:57:34.137Z"
   },
   {
    "duration": 60,
    "start_time": "2022-12-24T18:57:34.161Z"
   },
   {
    "duration": 24,
    "start_time": "2022-12-24T18:57:34.223Z"
   },
   {
    "duration": 15,
    "start_time": "2022-12-24T18:57:34.249Z"
   },
   {
    "duration": 24,
    "start_time": "2022-12-24T18:57:34.268Z"
   },
   {
    "duration": 11,
    "start_time": "2022-12-24T18:57:34.295Z"
   },
   {
    "duration": 14,
    "start_time": "2022-12-24T18:57:34.308Z"
   },
   {
    "duration": 16,
    "start_time": "2022-12-24T18:57:34.324Z"
   },
   {
    "duration": 32,
    "start_time": "2022-12-24T18:57:34.342Z"
   },
   {
    "duration": 18,
    "start_time": "2022-12-24T18:57:34.381Z"
   },
   {
    "duration": 9,
    "start_time": "2022-12-24T18:57:34.402Z"
   },
   {
    "duration": 6,
    "start_time": "2022-12-24T18:57:34.413Z"
   },
   {
    "duration": 14,
    "start_time": "2022-12-24T18:57:34.421Z"
   },
   {
    "duration": 731,
    "start_time": "2022-12-24T18:57:34.437Z"
   },
   {
    "duration": 813,
    "start_time": "2022-12-24T18:57:35.170Z"
   },
   {
    "duration": 777,
    "start_time": "2022-12-24T18:57:35.985Z"
   },
   {
    "duration": 744,
    "start_time": "2022-12-24T18:57:36.769Z"
   },
   {
    "duration": 450,
    "start_time": "2022-12-24T18:57:37.554Z"
   },
   {
    "duration": 237,
    "start_time": "2022-12-24T18:57:38.006Z"
   },
   {
    "duration": 243,
    "start_time": "2022-12-24T18:57:38.244Z"
   },
   {
    "duration": 5,
    "start_time": "2022-12-24T18:57:38.489Z"
   },
   {
    "duration": 240,
    "start_time": "2022-12-24T18:57:38.496Z"
   },
   {
    "duration": 354,
    "start_time": "2022-12-24T18:57:38.738Z"
   },
   {
    "duration": 5,
    "start_time": "2022-12-24T18:57:39.094Z"
   },
   {
    "duration": 20,
    "start_time": "2022-12-24T18:57:39.101Z"
   },
   {
    "duration": 276,
    "start_time": "2022-12-24T18:57:39.123Z"
   },
   {
    "duration": 133,
    "start_time": "2022-12-24T18:57:39.401Z"
   },
   {
    "duration": 18,
    "start_time": "2022-12-24T18:57:39.536Z"
   },
   {
    "duration": 48,
    "start_time": "2022-12-24T18:57:39.559Z"
   },
   {
    "duration": 22,
    "start_time": "2022-12-24T18:57:39.609Z"
   },
   {
    "duration": 27,
    "start_time": "2022-12-24T18:57:39.633Z"
   },
   {
    "duration": 60,
    "start_time": "2022-12-24T18:57:39.664Z"
   },
   {
    "duration": 20,
    "start_time": "2022-12-24T18:57:39.726Z"
   },
   {
    "duration": 4,
    "start_time": "2022-12-24T19:04:30.395Z"
   },
   {
    "duration": 32,
    "start_time": "2022-12-24T19:04:30.402Z"
   },
   {
    "duration": 116,
    "start_time": "2022-12-24T19:04:30.436Z"
   },
   {
    "duration": 25,
    "start_time": "2022-12-24T19:04:30.554Z"
   },
   {
    "duration": 58,
    "start_time": "2022-12-24T19:04:30.582Z"
   },
   {
    "duration": 70,
    "start_time": "2022-12-24T19:04:30.642Z"
   },
   {
    "duration": 10,
    "start_time": "2022-12-24T19:04:30.715Z"
   },
   {
    "duration": 12,
    "start_time": "2022-12-24T19:04:30.727Z"
   },
   {
    "duration": 38,
    "start_time": "2022-12-24T19:04:30.741Z"
   },
   {
    "duration": 24,
    "start_time": "2022-12-24T19:04:30.784Z"
   },
   {
    "duration": 29,
    "start_time": "2022-12-24T19:04:30.810Z"
   },
   {
    "duration": 51,
    "start_time": "2022-12-24T19:04:30.842Z"
   },
   {
    "duration": 17,
    "start_time": "2022-12-24T19:04:30.895Z"
   },
   {
    "duration": 4,
    "start_time": "2022-12-24T19:04:30.916Z"
   },
   {
    "duration": 12,
    "start_time": "2022-12-24T19:04:30.922Z"
   },
   {
    "duration": 58,
    "start_time": "2022-12-24T19:04:30.936Z"
   },
   {
    "duration": 778,
    "start_time": "2022-12-24T19:04:30.997Z"
   },
   {
    "duration": 356,
    "start_time": "2022-12-24T19:04:31.784Z"
   },
   {
    "duration": 469,
    "start_time": "2022-12-24T19:04:32.142Z"
   },
   {
    "duration": 440,
    "start_time": "2022-12-24T19:04:32.613Z"
   },
   {
    "duration": 492,
    "start_time": "2022-12-24T19:04:33.054Z"
   },
   {
    "duration": 241,
    "start_time": "2022-12-24T19:04:33.547Z"
   },
   {
    "duration": 213,
    "start_time": "2022-12-24T19:04:33.793Z"
   },
   {
    "duration": 8,
    "start_time": "2022-12-24T19:04:34.010Z"
   },
   {
    "duration": 255,
    "start_time": "2022-12-24T19:04:34.020Z"
   },
   {
    "duration": 240,
    "start_time": "2022-12-24T19:04:34.276Z"
   },
   {
    "duration": 6,
    "start_time": "2022-12-24T19:04:34.518Z"
   },
   {
    "duration": 76,
    "start_time": "2022-12-24T19:04:34.526Z"
   },
   {
    "duration": 270,
    "start_time": "2022-12-24T19:04:34.604Z"
   },
   {
    "duration": 196,
    "start_time": "2022-12-24T19:04:34.877Z"
   },
   {
    "duration": 18,
    "start_time": "2022-12-24T19:04:35.074Z"
   },
   {
    "duration": 36,
    "start_time": "2022-12-24T19:04:35.094Z"
   },
   {
    "duration": 24,
    "start_time": "2022-12-24T19:04:35.132Z"
   },
   {
    "duration": 39,
    "start_time": "2022-12-24T19:04:35.163Z"
   },
   {
    "duration": 62,
    "start_time": "2022-12-24T19:04:35.204Z"
   },
   {
    "duration": 25,
    "start_time": "2022-12-24T19:04:35.273Z"
   },
   {
    "duration": 28,
    "start_time": "2022-12-24T19:08:32.705Z"
   },
   {
    "duration": 24,
    "start_time": "2022-12-24T19:14:50.150Z"
   },
   {
    "duration": 50,
    "start_time": "2022-12-24T19:16:37.770Z"
   },
   {
    "duration": 54,
    "start_time": "2022-12-24T19:17:09.947Z"
   },
   {
    "duration": 19,
    "start_time": "2022-12-24T19:23:49.939Z"
   },
   {
    "duration": 4,
    "start_time": "2022-12-24T19:29:04.636Z"
   },
   {
    "duration": 15,
    "start_time": "2022-12-24T19:29:04.642Z"
   },
   {
    "duration": 123,
    "start_time": "2022-12-24T19:29:04.659Z"
   },
   {
    "duration": 21,
    "start_time": "2022-12-24T19:29:04.785Z"
   },
   {
    "duration": 29,
    "start_time": "2022-12-24T19:29:04.808Z"
   },
   {
    "duration": 19,
    "start_time": "2022-12-24T19:29:04.840Z"
   },
   {
    "duration": 32,
    "start_time": "2022-12-24T19:29:04.861Z"
   },
   {
    "duration": 7,
    "start_time": "2022-12-24T19:29:04.894Z"
   },
   {
    "duration": 13,
    "start_time": "2022-12-24T19:29:04.902Z"
   },
   {
    "duration": 11,
    "start_time": "2022-12-24T19:29:04.918Z"
   },
   {
    "duration": 13,
    "start_time": "2022-12-24T19:29:04.931Z"
   },
   {
    "duration": 45,
    "start_time": "2022-12-24T19:29:04.946Z"
   },
   {
    "duration": 10,
    "start_time": "2022-12-24T19:29:04.993Z"
   },
   {
    "duration": 3,
    "start_time": "2022-12-24T19:29:05.006Z"
   },
   {
    "duration": 6,
    "start_time": "2022-12-24T19:29:05.011Z"
   },
   {
    "duration": 19,
    "start_time": "2022-12-24T19:29:05.019Z"
   },
   {
    "duration": 665,
    "start_time": "2022-12-24T19:29:05.040Z"
   },
   {
    "duration": 339,
    "start_time": "2022-12-24T19:29:05.707Z"
   },
   {
    "duration": 440,
    "start_time": "2022-12-24T19:29:06.055Z"
   },
   {
    "duration": 496,
    "start_time": "2022-12-24T19:29:06.497Z"
   },
   {
    "duration": 428,
    "start_time": "2022-12-24T19:29:06.995Z"
   },
   {
    "duration": 207,
    "start_time": "2022-12-24T19:29:07.425Z"
   },
   {
    "duration": 199,
    "start_time": "2022-12-24T19:29:07.634Z"
   },
   {
    "duration": 6,
    "start_time": "2022-12-24T19:29:07.835Z"
   },
   {
    "duration": 269,
    "start_time": "2022-12-24T19:29:07.851Z"
   },
   {
    "duration": 251,
    "start_time": "2022-12-24T19:29:08.123Z"
   },
   {
    "duration": 8,
    "start_time": "2022-12-24T19:29:08.375Z"
   },
   {
    "duration": 28,
    "start_time": "2022-12-24T19:29:08.386Z"
   },
   {
    "duration": 262,
    "start_time": "2022-12-24T19:29:08.416Z"
   },
   {
    "duration": 173,
    "start_time": "2022-12-24T19:29:08.684Z"
   },
   {
    "duration": 13,
    "start_time": "2022-12-24T19:29:08.858Z"
   },
   {
    "duration": 40,
    "start_time": "2022-12-24T19:29:08.872Z"
   },
   {
    "duration": 13,
    "start_time": "2022-12-24T19:29:08.913Z"
   },
   {
    "duration": 10,
    "start_time": "2022-12-24T19:29:08.928Z"
   },
   {
    "duration": 60,
    "start_time": "2022-12-24T19:29:08.940Z"
   },
   {
    "duration": 15,
    "start_time": "2022-12-24T19:29:09.003Z"
   }
  ],
  "kernelspec": {
   "display_name": "Python 3 (ipykernel)",
   "language": "python",
   "name": "python3"
  },
  "language_info": {
   "codemirror_mode": {
    "name": "ipython",
    "version": 3
   },
   "file_extension": ".py",
   "mimetype": "text/x-python",
   "name": "python",
   "nbconvert_exporter": "python",
   "pygments_lexer": "ipython3",
   "version": "3.9.12"
  },
  "toc": {
   "base_numbering": 1,
   "nav_menu": {},
   "number_sections": true,
   "sideBar": true,
   "skip_h1_title": true,
   "title_cell": "Table of Contents",
   "title_sidebar": "Contents",
   "toc_cell": false,
   "toc_position": {},
   "toc_section_display": true,
   "toc_window_display": false
  }
 },
 "nbformat": 4,
 "nbformat_minor": 2
}
